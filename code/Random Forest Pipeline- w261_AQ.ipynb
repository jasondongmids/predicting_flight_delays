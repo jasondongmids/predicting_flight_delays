{
 "cells": [
  {
   "cell_type": "markdown",
   "metadata": {
    "application/vnd.databricks.v1+cell": {
     "cellMetadata": {},
     "inputWidgets": {},
     "nuid": "671f3673-4631-45ce-b7ca-4a274247fa76",
     "showTitle": false,
     "tableResultSettingsMap": {},
     "title": ""
    }
   },
   "source": [
    "# Random Forest"
   ]
  },
  {
   "cell_type": "code",
   "execution_count": 0,
   "metadata": {
    "application/vnd.databricks.v1+cell": {
     "cellMetadata": {
      "byteLimit": 2048000,
      "rowLimit": 10000
     },
     "inputWidgets": {},
     "nuid": "11da32d3-252a-4ee1-bb5d-a2a42184588d",
     "showTitle": false,
     "tableResultSettingsMap": {},
     "title": ""
    }
   },
   "outputs": [
    {
     "output_type": "stream",
     "name": "stdout",
     "output_type": "stream",
     "text": [
      "Welcome to the W261 final project!\n"
     ]
    }
   ],
   "source": [
    "from pyspark.sql.functions import col, when, count\n",
    "from pyspark.sql.functions import rand, date_format, current_date, datediff\n",
    "from pyspark.sql.types import StructType, StructField, StringType, IntegerType, FloatType\n",
    "from pyspark.sql import functions as F\n",
    "from pyspark.sql import Window\n",
    "from pyspark.sql import SparkSession\n",
    "\n",
    "from pyspark.ml.classification import LogisticRegression\n",
    "from pyspark.ml.evaluation import BinaryClassificationEvaluator\n",
    "from pyspark.ml.feature import StringIndexer, VectorAssembler, Imputer\n",
    "from pyspark.ml.feature import VectorAssembler\n",
    "from pyspark.ml.feature import MinMaxScaler\n",
    "from pyspark.ml import Pipeline\n",
    "from pyspark.ml.functions import vector_to_array\n",
    "from sklearn.metrics import classification_report, precision_recall_fscore_support\n",
    "\n",
    "import matplotlib.pyplot as plt\n",
    "# import seaborn as sns\n",
    "import pandas as pd\n",
    "import numpy as np\n",
    "\n",
    "print(\"Welcome to the W261 final project!\") "
   ]
  },
  {
   "cell_type": "code",
   "execution_count": 0,
   "metadata": {
    "application/vnd.databricks.v1+cell": {
     "cellMetadata": {
      "byteLimit": 2048000,
      "rowLimit": 10000
     },
     "inputWidgets": {},
     "nuid": "a19f1c5c-1172-4196-bca5-f8c7343f1413",
     "showTitle": false,
     "tableResultSettingsMap": {},
     "title": ""
    }
   },
   "outputs": [],
   "source": [
    "from pyspark.ml.classification import RandomForestClassifier\n",
    "from pyspark.ml.evaluation import BinaryClassificationEvaluator\n",
    "from pyspark.ml import Pipeline\n",
    "\n",
    "from sklearn.metrics import classification_report, precision_recall_fscore_support"
   ]
  },
  {
   "cell_type": "markdown",
   "metadata": {
    "application/vnd.databricks.v1+cell": {
     "cellMetadata": {},
     "inputWidgets": {},
     "nuid": "9e700252-e08e-41c0-8dc7-72212f9c5c83",
     "showTitle": false,
     "tableResultSettingsMap": {},
     "title": ""
    }
   },
   "source": [
    "%md\n",
    "\n",
    "# Data Mount"
   ]
  },
  {
   "cell_type": "code",
   "execution_count": 0,
   "metadata": {
    "application/vnd.databricks.v1+cell": {
     "cellMetadata": {
      "byteLimit": 2048000,
      "rowLimit": 10000
     },
     "inputWidgets": {},
     "nuid": "bbfbadbf-cc84-4d25-aab8-5c2952c0f434",
     "showTitle": false,
     "tableResultSettingsMap": {},
     "title": ""
    },
    "jupyter": {
     "outputs_hidden": true
    }
   },
   "outputs": [],
   "source": [
    "## Place this cell in any team notebook that needs access to the team cloud storage.\n",
    "\n",
    "\n",
    "# The following blob storage is accessible to team members only (read and write)\n",
    "# access key is valid til TTL\n",
    "# after that you will need to create a new SAS key and authenticate access again via DataBrick command line\n",
    "blob_container  = \"261-final-project\"       # The name of your container created in https://portal.azure.com\n",
    "storage_account = \"ansonbquon\"  # The name of your Storage account created in https://portal.azure.com\n",
    "secret_scope    = \"final_project\"           # The name of the scope created in your local computer using the Databricks CLI\n",
    "secret_key      = \"project_key\"             # The name of the secret key created in your local computer using the Databricks CLI\n",
    "team_blob_url   = f\"wasbs://{blob_container}@{storage_account}.blob.core.windows.net\"  #points to the root of your team storage bucket\n",
    "\n",
    "\n",
    "# the 261 course blob storage is mounted here.\n",
    "mids261_mount_path      = \"/mnt/mids-w261\"\n",
    "\n",
    "# SAS Token: Grant the team limited access to Azure Storage resources\n",
    "spark.conf.set(\n",
    "  f\"fs.azure.sas.{blob_container}.{storage_account}.blob.core.windows.net\",\n",
    "  dbutils.secrets.get(scope = secret_scope, key = secret_key)\n",
    ")\n",
    "\n",
    "# Navigate back to your Storage account in https://portal.azure.com, to inspect the partitions/files.\n",
    "# df.write.parquet(f\"{team_blob_url}/TP\")\n",
    "\n",
    "\n",
    "\n",
    "# see what's in the blob storage root folder \n",
    "display(dbutils.fs.ls(f\"{team_blob_url}\"))"
   ]
  },
  {
   "cell_type": "code",
   "execution_count": 0,
   "metadata": {
    "application/vnd.databricks.v1+cell": {
     "cellMetadata": {
      "byteLimit": 2048000,
      "rowLimit": 10000
     },
     "inputWidgets": {},
     "nuid": "9a874d52-0a6e-4836-b33e-ed01d20d0d49",
     "showTitle": false,
     "tableResultSettingsMap": {},
     "title": ""
    }
   },
   "outputs": [],
   "source": [
    "#base folder\n",
    "display(dbutils.fs.ls(f\"{team_blob_url}/base\"))"
   ]
  },
  {
   "cell_type": "markdown",
   "metadata": {
    "application/vnd.databricks.v1+cell": {
     "cellMetadata": {},
     "inputWidgets": {},
     "nuid": "3fee5095-0c76-434f-9cc7-f3fd02dce2ac",
     "showTitle": false,
     "tableResultSettingsMap": {},
     "title": ""
    }
   },
   "source": [
    "## Load training and testing data"
   ]
  },
  {
   "cell_type": "code",
   "execution_count": 0,
   "metadata": {
    "application/vnd.databricks.v1+cell": {
     "cellMetadata": {
      "byteLimit": 2048000,
      "rowLimit": 10000
     },
     "inputWidgets": {},
     "nuid": "19f0801d-276c-439c-aa5d-c73494986212",
     "showTitle": false,
     "tableResultSettingsMap": {},
     "title": ""
    }
   },
   "outputs": [],
   "source": [
    "display(dbutils.fs.ls(f\"{team_blob_url}/PRD/\"))"
   ]
  },
  {
   "cell_type": "markdown",
   "metadata": {
    "application/vnd.databricks.v1+cell": {
     "cellMetadata": {},
     "inputWidgets": {},
     "nuid": "c4273571-4d8b-4649-a1c5-bee553feef1b",
     "showTitle": false,
     "tableResultSettingsMap": {},
     "title": ""
    }
   },
   "source": [
    "## Baseline features"
   ]
  },
  {
   "cell_type": "code",
   "execution_count": 0,
   "metadata": {
    "application/vnd.databricks.v1+cell": {
     "cellMetadata": {
      "byteLimit": 2048000,
      "rowLimit": 10000
     },
     "inputWidgets": {},
     "nuid": "13cfaf65-5cd6-4ead-a2c5-c95ccb4997b1",
     "showTitle": false,
     "tableResultSettingsMap": {},
     "title": ""
    }
   },
   "outputs": [],
   "source": [
    "label = 'depDel15'\n",
    "\n",
    "features_columns = [\n",
    "    'distance',\n",
    "    'quarterIndex',\n",
    "    'crsDepTimeSine',\n",
    "    'monthSine',\n",
    "    'dayOfWeekSine',\n",
    "    'originIndex',\n",
    "    'originTypeIndex',\n",
    "    'originPageRank',\n",
    "    'destPageRank',\n",
    "    'timeBtwFlightsPlanned',\n",
    "    'depDel15PrevFIndex',\n",
    "    'depDelayGroupPrevFIndex',\n",
    "    'depTimeBlkPrevFIndex',\n",
    "    'arrDel15PrevFIndex',\n",
    "    'arrDelayGroupPrevFIndex',\n",
    "    'arrTimeBlkPrevFIndex',\n",
    "    'originTypePrevFIndex',\n",
    "    'distancePrevF',\n",
    "    'daysToNearestHoliday'\n",
    "]\n",
    "\n"
   ]
  },
  {
   "cell_type": "code",
   "execution_count": 0,
   "metadata": {
    "application/vnd.databricks.v1+cell": {
     "cellMetadata": {
      "byteLimit": 2048000,
      "rowLimit": 10000
     },
     "inputWidgets": {},
     "nuid": "f795f096-eae5-47f8-af7e-01bf0373d6e7",
     "showTitle": false,
     "tableResultSettingsMap": {},
     "title": ""
    }
   },
   "outputs": [
    {
     "output_type": "execute_result",
     "data": {
      "text/plain": [
       "19"
      ]
     },
     "execution_count": 41,
     "metadata": {},
     "output_type": "execute_result"
    }
   ],
   "source": [
    "len(features_columns)"
   ]
  },
  {
   "cell_type": "markdown",
   "metadata": {
    "application/vnd.databricks.v1+cell": {
     "cellMetadata": {},
     "inputWidgets": {},
     "nuid": "d69e6167-a4ea-4ac6-85a7-16348a7b2026",
     "showTitle": false,
     "tableResultSettingsMap": {},
     "title": ""
    }
   },
   "source": [
    "## Experimental features"
   ]
  },
  {
   "cell_type": "code",
   "execution_count": 0,
   "metadata": {
    "application/vnd.databricks.v1+cell": {
     "cellMetadata": {
      "byteLimit": 2048000,
      "rowLimit": 10000
     },
     "inputWidgets": {},
     "nuid": "aecfa7c3-43b3-493b-be42-23227a1f23bb",
     "showTitle": false,
     "tableResultSettingsMap": {},
     "title": ""
    }
   },
   "outputs": [],
   "source": [
    "label = 'depDel15'\n",
    "\n",
    "features_columns = [\n",
    "    'distance',\n",
    "    #'quarterIndex',\n",
    "    'crsDepTimeSine',\n",
    "    'monthSine',\n",
    "    #'dayOfWeekSine',\n",
    "    #'dayOfMonthIndex',\n",
    "    'originIndex',\n",
    "    #'originTypeIndex',\n",
    "    'originPageRank',\n",
    "    'destPageRank',\n",
    "    #'opCarrierFlNumBinIndex1',\n",
    "    # 'hourlyAltimeterSetting',\n",
    "    # 'hourlyDewPointTemperature',\n",
    "    # 'hourlyDryBulbTemperature',\n",
    "    # 'hourlyPrecipitation',\n",
    "    # 'hourlyPressureChange',\n",
    "    # 'hourlyPressureTendency',\n",
    "    # 'hourlyRelativeHumidity',\n",
    "    # 'hourlySeaLevelPressure',\n",
    "    # 'hourlyStationPressure',\n",
    "    # 'hourlyVisibility',\n",
    "    # 'hourlyWetBulbTemperature',\n",
    "    # 'hourlyWindDirection',\n",
    "    # 'hourlyWindGustSpeed',\n",
    "    # 'hourlyWindSpeed',\n",
    "    'daysToNearestHoliday',\n",
    "    'timeBtwFlightsPlanned',\n",
    "    'depDel15PrevFIndex',\n",
    "    'depDelayGroupPrevFIndex',\n",
    "    'depTimeBlkPrevFIndex',\n",
    "    'arrDel15PrevFIndex',\n",
    "    'arrDelayGroupPrevFIndex',\n",
    "    'arrTimeBlkPrevFIndex',\n",
    "    #'originTypePrevFIndex',\n",
    "    'distancePrevF',\n",
    "    #'daysToNearestHoliday'\n",
    "]\n",
    "\n"
   ]
  },
  {
   "cell_type": "code",
   "execution_count": 0,
   "metadata": {
    "application/vnd.databricks.v1+cell": {
     "cellMetadata": {},
     "inputWidgets": {},
     "nuid": "e052eda3-0c08-428b-84df-ba5253bcbaa7",
     "showTitle": false,
     "tableResultSettingsMap": {},
     "title": ""
    }
   },
   "outputs": [],
   "source": [
    "assembler_columns = [\n",
    "    'distance',\n",
    "    'crsDepTimeSine',\n",
    "    'monthSine',\n",
    "    'originIndex',\n",
    "    'originPageRank',\n",
    "    'destPageRank',\n",
    "    'daysToNearestHoliday',\n",
    "    'timeBtwFlightsPlanned',\n",
    "    'depDel15PrevFIndex',\n",
    "    'depDelayGroupPrevFIndex',\n",
    "    'depTimeBlkPrevFIndex',\n",
    "    'arrDel15PrevFIndex',\n",
    "    'arrDelayGroupPrevFIndex',\n",
    "    'arrTimeBlkPrevFIndex',\n",
    "    'distancePrevF'\n",
    "]"
   ]
  },
  {
   "cell_type": "markdown",
   "metadata": {
    "application/vnd.databricks.v1+cell": {
     "cellMetadata": {},
     "inputWidgets": {},
     "nuid": "0a83a04c-40b5-4895-bc50-2ff97e72148a",
     "showTitle": false,
     "tableResultSettingsMap": {},
     "title": ""
    }
   },
   "source": [
    "# 2015-2019 Data"
   ]
  },
  {
   "cell_type": "code",
   "execution_count": 0,
   "metadata": {
    "application/vnd.databricks.v1+cell": {
     "cellMetadata": {},
     "inputWidgets": {},
     "nuid": "d957241e-6028-4278-96fe-5f63b1018a83",
     "showTitle": false,
     "tableResultSettingsMap": {},
     "title": ""
    }
   },
   "outputs": [],
   "source": [
    "#organize columns\n",
    "# LABEL\n",
    "label = 'depDel15'\n",
    "\n",
    "# NUMERIC COLUMNS\n",
    "# min/max scaling to be applied\n",
    "num_scale_columns = [   'distance',\n",
    "'timeBtwFlights',\n",
    "'hourlyAltimeterSetting',\n",
    "'hourlyDewPointTemperature',\n",
    "'hourlyDryBulbTemperature',\n",
    "'hourlyPrecipitation',\n",
    "'hourlyPressureChange',\n",
    "'hourlyPressureTendency',\n",
    "'hourlyRelativeHumidity',\n",
    "'hourlyVisibility',\n",
    "'hourlyWetBulbTemperature',\n",
    "'hourlyWindDirection',\n",
    "'hourlyWindGustSpeed',\n",
    "'hourlyWindSpeed',\n",
    "'daysToNearestHoliday',\n",
    "'originPageRank',\n",
    "'destPageRank',\n",
    "'predictedMeanHourlyPrecipitation',\n",
    "'predictedMeanHourlyVisibility',\n",
    "'predictedMeanHourlyDewPointTemp',\n",
    "                        ]\n",
    "\n",
    "#no change columns\n",
    "no_change_columns = [   'monthIndex',\n",
    "'dayOfWeekIndex',\n",
    "'crsDepTimeSine',\n",
    "'quarterIndex',\n",
    "'opUniqueCarrierIndex',\n",
    "'yearIndex',\n",
    "'originTypeIndex',\n",
    "'destTypeIndex',\n",
    "'depDel15PrevFIndex',\n",
    "'depDelayGroupPrevFIndex',\n",
    "'tailNumBinIndex0',\n",
    "'tailNumBinIndex1',\n",
    "'tailNumBinIndex2',\n",
    "'tailNumBinIndex3',\n",
    "'tailNumBinIndex4',\n",
    "'tailNumBinIndex5',\n",
    "'tailNumBinIndex6',\n",
    "'tailNumBinIndex7',\n",
    "'tailNumBinIndex8',\n",
    "'tailNumBinIndex9',\n",
    "'tailNumBinIndex10',\n",
    "'tailNumBinIndex11',\n",
    "'tailNumBinIndex12',\n",
    "'originBinIndex0',\n",
    "'originBinIndex1',\n",
    "'originBinIndex2',\n",
    "'originBinIndex3',\n",
    "'originBinIndex4',\n",
    "'originBinIndex5',\n",
    "'originBinIndex6',\n",
    "'originBinIndex7',\n",
    "'originBinIndex8',\n",
    "'destBinIndex0',\n",
    "'destBinIndex1',\n",
    "'destBinIndex2',\n",
    "'destBinIndex3',\n",
    "'destBinIndex4',\n",
    "'destBinIndex5',\n",
    "'destBinIndex6',\n",
    "'destBinIndex7',\n",
    "'destBinIndex8',\n",
    "'originIsoRegionBinIndex0',\n",
    "'originIsoRegionBinIndex1',\n",
    "'originIsoRegionBinIndex2',\n",
    "'originIsoRegionBinIndex3',\n",
    "'originIsoRegionBinIndex4',\n",
    "'originIsoRegionBinIndex5',\n",
    "'destIsoRegionBinIndex0',\n",
    "'destIsoRegionBinIndex1',\n",
    "'destIsoRegionBinIndex2',\n",
    "'destIsoRegionBinIndex3',\n",
    "'destIsoRegionBinIndex4',\n",
    "'destIsoRegionBinIndex5',\n",
    "                    ]\n",
    "\n",
    "# not used (currently)\n",
    "omit_columns = [    'crsDepTime',\n",
    "'crsElapsedTime',\n",
    "'crsDepTimePrevF',\n",
    "'depTimePrevF',\n",
    "'crsArrTimePrevF',\n",
    "'arrTimePrevF',\n",
    "'crsElapsedTimePrevF',\n",
    "'actualElapsedTimePrevF',\n",
    "'distancePrevF',\n",
    "'timeBtwFlightsPlanned',\n",
    "'hourlySeaLevelPressure',\n",
    "'hourlyStationPressure',\n",
    "'monthSine',\n",
    "'dayOfWeekSine',\n",
    "'dayOfMonthIndex',\n",
    "'depTimeBlkPrevFIndex',\n",
    "'arrDel15PrevFIndex',\n",
    "'arrDelayGroupPrevFIndex',\n",
    "'arrTimeBlkPrevFIndex',\n",
    "'originTypePrevFIndex',\n",
    "'tailNumIndex',\n",
    "'opCarrierFlNumIndex',\n",
    "'originIndex',\n",
    "'destIndex',\n",
    "'originIsoRegionIndex',\n",
    "'destIsoRegionIndex',\n",
    "'originPrevFIndex',\n",
    "'opCarrierFlNumBinIndex0',\n",
    "'opCarrierFlNumBinIndex1',\n",
    "'opCarrierFlNumBinIndex2',\n",
    "'opCarrierFlNumBinIndex3',\n",
    "'opCarrierFlNumBinIndex4',\n",
    "'opCarrierFlNumBinIndex5',\n",
    "'opCarrierFlNumBinIndex6',\n",
    "'opCarrierFlNumBinIndex7',\n",
    "'opCarrierFlNumBinIndex8',\n",
    "'opCarrierFlNumBinIndex9',\n",
    "'opCarrierFlNumBinIndex10',\n",
    "'opCarrierFlNumBinIndex11',\n",
    "'opCarrierFlNumBinIndex12',\n",
    "'originPrevFBinIndex0',\n",
    "'originPrevFBinIndex1',\n",
    "'originPrevFBinIndex2',\n",
    "'originPrevFBinIndex3',\n",
    "'originPrevFBinIndex4',\n",
    "'originPrevFBinIndex5',\n",
    "'originPrevFBinIndex6',\n",
    "'originPrevFBinIndex7',\n",
    "'originPrevFBinIndex8',     \n",
    "                    ]\n"
   ]
  },
  {
   "cell_type": "code",
   "execution_count": 0,
   "metadata": {
    "application/vnd.databricks.v1+cell": {
     "cellMetadata": {
      "byteLimit": 2048000,
      "rowLimit": 10000
     },
     "inputWidgets": {},
     "nuid": "bd4193e0-cac9-4173-bd88-9b3764bdfec9",
     "showTitle": false,
     "tableResultSettingsMap": {},
     "title": ""
    }
   },
   "outputs": [],
   "source": [
    "# Function to input scaled values back into original columns\n",
    "def replace_scaled_columns(df, input_cols):\n",
    "    df = df.withColumn('scaled_array', vector_to_array(col('scaled_features')))\n",
    "    for idx, input_col in enumerate(input_cols):\n",
    "        df = df.withColumn(input_col, F.col('scaled_array').getItem(idx))\n",
    "    return df"
   ]
  },
  {
   "cell_type": "code",
   "execution_count": 0,
   "metadata": {
    "application/vnd.databricks.v1+cell": {
     "cellMetadata": {
      "byteLimit": 2048000,
      "rowLimit": 10000
     },
     "inputWidgets": {},
     "nuid": "07032d8c-438a-493c-8417-3dd23c3525b0",
     "showTitle": false,
     "tableResultSettingsMap": {},
     "title": ""
    }
   },
   "outputs": [],
   "source": [
    "label = 'depDel15'\n",
    "\n",
    "baseline_features = [\n",
    "    'distance',\n",
    "    'quarterIndex',\n",
    "    'crsDepTimeSine',\n",
    "    'monthSine',\n",
    "    'dayOfWeekSine',\n",
    "    'originIndex',\n",
    "    'originTypeIndex',\n",
    "    'originPageRank',\n",
    "    'destPageRank',\n",
    "    'timeBtwFlightsPlanned',\n",
    "    'depDel15PrevFIndex',\n",
    "    'depDelayGroupPrevFIndex',\n",
    "    'depTimeBlkPrevFIndex',\n",
    "    'arrDel15PrevFIndex',\n",
    "    'arrDelayGroupPrevFIndex',\n",
    "    'arrTimeBlkPrevFIndex',\n",
    "    'originTypePrevFIndex',\n",
    "    'distancePrevF',\n",
    "    'daysToNearestHoliday'\n",
    "]\n",
    "\n"
   ]
  },
  {
   "cell_type": "code",
   "execution_count": 0,
   "metadata": {
    "application/vnd.databricks.v1+cell": {
     "cellMetadata": {
      "byteLimit": 2048000,
      "rowLimit": 10000
     },
     "inputWidgets": {},
     "nuid": "c44f21a8-003f-4ef2-b153-53d47276ae2c",
     "showTitle": false,
     "tableResultSettingsMap": {},
     "title": ""
    }
   },
   "outputs": [],
   "source": [
    "#function to fit and transform pipeline on df\n",
    "def df_fit_pipeline(df):\n",
    "\n",
    "    rf_label = StringIndexer(inputCol=label, outputCol='label')\n",
    "\n",
    "    # create a VectorAssembler to combine the feature columns into a single vector column\n",
    "    rf_features = VectorAssembler(inputCols=baseline_features, outputCol='features')\n",
    "\n",
    "    pipeline = Pipeline(stages=[rf_label, rf_features])\n",
    "\n",
    "    return pipeline.fit(df)"
   ]
  },
  {
   "cell_type": "code",
   "execution_count": 0,
   "metadata": {
    "application/vnd.databricks.v1+cell": {
     "cellMetadata": {
      "byteLimit": 2048000,
      "rowLimit": 10000
     },
     "inputWidgets": {},
     "nuid": "e0939f11-087f-4a1f-846b-39a5b1cfdb40",
     "showTitle": false,
     "tableResultSettingsMap": {},
     "title": ""
    }
   },
   "outputs": [],
   "source": [
    "#function to train model\n",
    "def train_model(df, num_trees, max_depth):\n",
    "\n",
    "    rf_classifier = RandomForestClassifier(featuresCol=\"features\", labelCol=\"label\", numTrees=num_trees, maxDepth=max_depth).setMaxBins(4745)\n",
    "\n",
    "    rf_model = rf_classifier.fit(df)\n",
    "\n",
    "    return rf_model"
   ]
  },
  {
   "cell_type": "code",
   "execution_count": 0,
   "metadata": {
    "application/vnd.databricks.v1+cell": {
     "cellMetadata": {
      "byteLimit": 2048000,
      "rowLimit": 10000
     },
     "inputWidgets": {},
     "nuid": "e6eaa009-bf55-4038-8be8-5626473b4a59",
     "showTitle": false,
     "tableResultSettingsMap": {},
     "title": ""
    }
   },
   "outputs": [],
   "source": [
    "def model_metrics(model, df):\n",
    "    #get predictions\n",
    "    predictions = model.transform(df)\n",
    "\n",
    "    y_true = predictions.select(\"label\").toPandas()\n",
    "    y_pred = predictions.select('prediction').toPandas()\n",
    "\n",
    "    prf = precision_recall_fscore_support(y_true, y_pred, beta=2.0, average='binary', pos_label=1)\n",
    "\n",
    "    return prf"
   ]
  },
  {
   "cell_type": "code",
   "execution_count": 0,
   "metadata": {
    "application/vnd.databricks.v1+cell": {
     "cellMetadata": {
      "byteLimit": 2048000,
      "rowLimit": 10000
     },
     "inputWidgets": {},
     "nuid": "a5dea34e-e9d3-4906-88ba-972f1bd73149",
     "showTitle": false,
     "tableResultSettingsMap": {},
     "title": ""
    }
   },
   "outputs": [],
   "source": [
    "df_train_names = [\"df_xval1_train_processed\", \"df_xval2_train_processed\", \"df_xval3_train_processed\"]\n",
    "df_test_names = [\"df_xval1_test_processed\", \"df_xval2_test_processed\", \"df_xval3_test_processed\"]\n",
    "data_folder = \"PRD/xval_corrected\"\n",
    "num_trees_params = [5, 10]\n",
    "max_depth_params = [5, 10]"
   ]
  },
  {
   "cell_type": "code",
   "execution_count": 0,
   "metadata": {
    "application/vnd.databricks.v1+cell": {
     "cellMetadata": {},
     "inputWidgets": {},
     "nuid": "06df27ed-9dc7-443d-822d-b7a7a18ec3f1",
     "showTitle": false,
     "tableResultSettingsMap": {},
     "title": ""
    }
   },
   "outputs": [],
   "source": []
  },
  {
   "cell_type": "code",
   "execution_count": 0,
   "metadata": {
    "application/vnd.databricks.v1+cell": {
     "cellMetadata": {
      "byteLimit": 2048000,
      "rowLimit": 10000
     },
     "inputWidgets": {},
     "nuid": "6d04ca27-2b9d-4ff1-adbc-0e7959c4f1bc",
     "showTitle": false,
     "tableResultSettingsMap": {},
     "title": ""
    }
   },
   "outputs": [],
   "source": [
    "def train_random_forest_models(df_train_names, df_test_names, data_folder, num_trees_params, max_depth_params):\n",
    "\n",
    "    #establish blank model summary dict\n",
    "    model_summary = {}\n",
    "\n",
    "    for xval in range(len(df_train_names)):\n",
    "\n",
    "        #load train data\n",
    "        df_train = spark.read.parquet(f\"{team_blob_url}/{data_folder}/{df_train_names[xval]}/\")\n",
    "\n",
    "        #load test data\n",
    "        df_test = spark.read.parquet(f\"{team_blob_url}/{data_folder}/{df_test_names[xval]}/\")\n",
    "\n",
    "        #fit and transform df's\n",
    "        pipeline = df_fit_pipeline(df_train)\n",
    "        df_fit_train = pipeline.transform(df_train).select('features', 'label')\n",
    "        df_fit_test = pipeline.transform(df_test).select('features', 'label')\n",
    "\n",
    "        #train model on each param\n",
    "        for i in num_trees_params:\n",
    "            for j in max_depth_params:\n",
    "                #establish blank dict to save run info to\n",
    "                model_dict = {}\n",
    "\n",
    "                #save model name\n",
    "                model_dict['datasplit'] = f'xval{xval+1}'\n",
    "                \n",
    "                model_dict['params'] = {\n",
    "                                        'numTrees': i,\n",
    "                                        'maxDepth': j\n",
    "                                        }\n",
    "                \n",
    "                model = train_model(df_fit_train, i, j)\n",
    "\n",
    "                #save model\n",
    "                #might not need this/get memory warning? can comment out\n",
    "                model_dict['model'] = model\n",
    "\n",
    "                #save model iterations\n",
    "                model_dict['model_its'] = model.summary.totalIterations\n",
    "\n",
    "                #save final loss\n",
    "                model_dict['loss'] = model.summary.objectiveHistory[-1]\n",
    "\n",
    "                #get train metrics\n",
    "                train_metrics = model_metrics(model, df_fit_train)\n",
    "\n",
    "                train_metrics_dict =   {'Precision': train_metrics[0],\n",
    "                                        'Recall': train_metrics[1],\n",
    "                                        'Fbeta': train_metrics[2],\n",
    "                                        }\n",
    "                model_dict['train_metrics'] = train_metrics_dict\n",
    "\n",
    "                #get test metrics\n",
    "                test_metrics = model_metrics(model, df_fit_test)\n",
    "\n",
    "                test_metrics_dict =   { 'Precision': test_metrics[0],\n",
    "                                        'Recall': test_metrics[1],\n",
    "                                        'Fbeta': test_metrics[2],\n",
    "                                        }\n",
    "                model_dict['test_metrics'] = test_metrics_dict\n",
    "\n",
    "                #save model dict\n",
    "                model_summary[f'xval{xval+1}_param_{i}_{j}'] = model_dict\n",
    "    \n",
    "    return model_summary\n",
    "\n",
    "        "
   ]
  },
  {
   "cell_type": "code",
   "execution_count": 0,
   "metadata": {
    "application/vnd.databricks.v1+cell": {
     "cellMetadata": {
      "byteLimit": 2048000,
      "rowLimit": 10000
     },
     "inputWidgets": {},
     "nuid": "2d1f49c5-a3f6-4340-9a6f-e3b6fb888eac",
     "showTitle": false,
     "tableResultSettingsMap": {},
     "title": ""
    }
   },
   "outputs": [],
   "source": [
    "def get_feature_importance(model_summary, model_name, selected_features):\n",
    "    xval1_mod_feature_importances = model_summary[model_name]['model'].featureImportances\n",
    "\n",
    "    for feature, importance in zip(selected_features, xval1_mod_feature_importances):\n",
    "        print(feature, \"{:.2f}\".format(importance))\n"
   ]
  },
  {
   "cell_type": "code",
   "execution_count": 0,
   "metadata": {
    "application/vnd.databricks.v1+cell": {
     "cellMetadata": {
      "byteLimit": 2048000,
      "rowLimit": 10000
     },
     "inputWidgets": {},
     "nuid": "267e924c-3e2a-4b86-b65e-e24eaf244e58",
     "showTitle": false,
     "tableResultSettingsMap": {},
     "title": ""
    }
   },
   "outputs": [],
   "source": [
    "#print test results\n",
    "\n",
    "#define function to get weighted average of xval models\n",
    "def weighted_average(errors, weights):\n",
    "    return sum(error * weight for error, weight in zip(errors, weights)) / sum(weights)\n",
    "\n",
    "xval_wavg_vals = [0.2, 0.3, 0.5]\n",
    "\n",
    "def get_model_metrics(model_summary, num_trees_params, max_depth_params, xval_wavg_vals):\n",
    "    #loop through param iterations and get each xval metric\n",
    "    for i in num_trees_params:\n",
    "        for j in max_depth_params:\n",
    "            print(f'Model Params: Number of Trees: {i}, Max Depth: {j}')\n",
    "            print()\n",
    "\n",
    "            #loss\n",
    "            loss_values = [model_summary[f'xval1_param_{i}_{j}']['loss'],\n",
    "                                model_summary[f'xval2_param_{i}_{j}']['loss'],\n",
    "                                model_summary[f'xval3_param_{i}_{j}']['loss'],\n",
    "                                ]\n",
    "            \n",
    "            loss_wavg = weighted_average(loss_values, xval_wavg_vals)\n",
    "            print(f'Loss Weighted Average: {loss_wavg}')\n",
    "            print()\n",
    "\n",
    "            #loop through metrics\n",
    "            metric_list = ['Fbeta', 'Recall', 'Precision']\n",
    "            for metric in metric_list:\n",
    "\n",
    "                train_metric = [model_summary[f'xval1_param_{i}_{j}']['train_metrics'][metric],\n",
    "                                model_summary[f'xval2_param_{i}_{j}']['train_metrics'][metric],\n",
    "                                model_summary[f'xval3_param_{i}_{j}']['train_metrics'][metric],\n",
    "                                ]\n",
    "                \n",
    "                test_metric = [ model_summary[f'xval1_param_{i}_{j}']['test_metrics'][metric],\n",
    "                                model_summary[f'xval2_param_{i}_{j}']['test_metrics'][metric],\n",
    "                                model_summary[f'xval3_param_{i}_{j}']['test_metrics'][metric],\n",
    "                                ]\n",
    "                \n",
    "                train_wavg = weighted_average(train_metric, xval_wavg_vals)\n",
    "                test_wavg = weighted_average(test_metric, xval_wavg_vals)\n",
    "                print(f'Train {metric} Weighted Average: {train_wavg}')\n",
    "                print(f'Test {metric} Weighted Average: {test_wavg}')\n",
    "                print()\n",
    "                print(\"*\"*50)"
   ]
  },
  {
   "cell_type": "code",
   "execution_count": 0,
   "metadata": {
    "application/vnd.databricks.v1+cell": {
     "cellMetadata": {
      "byteLimit": 2048000,
      "rowLimit": 10000
     },
     "inputWidgets": {},
     "nuid": "70068264-4089-4078-a274-5fd189a4e670",
     "showTitle": false,
     "tableResultSettingsMap": {},
     "title": ""
    }
   },
   "outputs": [],
   "source": [
    "display(dbutils.fs.ls(f\"{team_blob_url}/PRD/xval_corrected/\"))"
   ]
  },
  {
   "cell_type": "code",
   "execution_count": 0,
   "metadata": {
    "application/vnd.databricks.v1+cell": {
     "cellMetadata": {},
     "inputWidgets": {},
     "nuid": "206025e7-b272-4d43-91b1-1412837e56d4",
     "showTitle": false,
     "tableResultSettingsMap": {},
     "title": ""
    }
   },
   "outputs": [],
   "source": []
  },
  {
   "cell_type": "code",
   "execution_count": 0,
   "metadata": {
    "application/vnd.databricks.v1+cell": {
     "cellMetadata": {
      "byteLimit": 2048000,
      "rowLimit": 10000
     },
     "inputWidgets": {},
     "nuid": "823debe5-b227-4765-a3a6-4ed8058808a1",
     "showTitle": false,
     "tableResultSettingsMap": {},
     "title": ""
    }
   },
   "outputs": [],
   "source": [
    "model_summary = train_random_forest_models(df_train_names, df_test_names, data_folder, num_trees_params, max_depth_params)"
   ]
  },
  {
   "cell_type": "markdown",
   "metadata": {
    "application/vnd.databricks.v1+cell": {
     "cellMetadata": {},
     "inputWidgets": {},
     "nuid": "e8e0fd57-aea1-4ff4-a150-a57d7afa7fbb",
     "showTitle": false,
     "tableResultSettingsMap": {},
     "title": ""
    }
   },
   "source": [
    "# 2020 Predictions"
   ]
  },
  {
   "cell_type": "code",
   "execution_count": 0,
   "metadata": {
    "application/vnd.databricks.v1+cell": {
     "cellMetadata": {
      "byteLimit": 2048000,
      "rowLimit": 10000
     },
     "inputWidgets": {},
     "nuid": "c2a3f38e-e4e8-4f63-97e4-fcc9aface301",
     "showTitle": false,
     "tableResultSettingsMap": {},
     "title": ""
    }
   },
   "outputs": [],
   "source": [
    "df_train = spark.read.parquet(f'{team_blob_url}/PRD/xval_corrected/df_xval1-3_train_processed')\n",
    "df_test = spark.read.parquet(f'{team_blob_url}/PRD/xval_2020/df_final_val_processed_2015-2018/')"
   ]
  },
  {
   "cell_type": "code",
   "execution_count": 0,
   "metadata": {
    "application/vnd.databricks.v1+cell": {
     "cellMetadata": {
      "byteLimit": 2048000,
      "rowLimit": 10000
     },
     "inputWidgets": {},
     "nuid": "a27fe4cd-32c5-4dec-b7ba-fefb2b1506d9",
     "showTitle": false,
     "tableResultSettingsMap": {},
     "title": ""
    }
   },
   "outputs": [],
   "source": [
    "display(df_train)"
   ]
  },
  {
   "cell_type": "code",
   "execution_count": 0,
   "metadata": {
    "application/vnd.databricks.v1+cell": {
     "cellMetadata": {
      "byteLimit": 2048000,
      "rowLimit": 10000
     },
     "inputWidgets": {},
     "nuid": "ae5fb26c-24c1-4f37-ac6c-b218134a3e19",
     "showTitle": false,
     "tableResultSettingsMap": {},
     "title": ""
    }
   },
   "outputs": [],
   "source": [
    "display(df_test)"
   ]
  },
  {
   "cell_type": "code",
   "execution_count": 0,
   "metadata": {
    "application/vnd.databricks.v1+cell": {
     "cellMetadata": {
      "byteLimit": 2048000,
      "rowLimit": 10000
     },
     "inputWidgets": {},
     "nuid": "80c24213-a41a-48a3-b350-4fa244cbbf0b",
     "showTitle": false,
     "tableResultSettingsMap": {},
     "title": ""
    }
   },
   "outputs": [],
   "source": [
    "final_pipeline = df_fit_pipeline(df_train)\n",
    "df_train = final_pipeline.transform(df_train)\n",
    "df_test = final_pipeline.transform(df_test)"
   ]
  },
  {
   "cell_type": "code",
   "execution_count": 0,
   "metadata": {
    "application/vnd.databricks.v1+cell": {
     "cellMetadata": {
      "byteLimit": 2048000,
      "rowLimit": 10000
     },
     "inputWidgets": {},
     "nuid": "813fcb0c-edf7-4d7e-99f3-15184bfe384c",
     "showTitle": false,
     "tableResultSettingsMap": {},
     "title": ""
    }
   },
   "outputs": [],
   "source": [
    "final_rf_model = train_model(df_train, 10, 5)"
   ]
  },
  {
   "cell_type": "code",
   "execution_count": 0,
   "metadata": {
    "application/vnd.databricks.v1+cell": {
     "cellMetadata": {
      "byteLimit": 2048000,
      "rowLimit": 10000
     },
     "inputWidgets": {},
     "nuid": "0b401675-f643-4bc7-8326-eb99d93d8a33",
     "showTitle": false,
     "tableResultSettingsMap": {},
     "title": ""
    }
   },
   "outputs": [],
   "source": [
    "model_metrics(final_rf_model, df_train)"
   ]
  },
  {
   "cell_type": "code",
   "execution_count": 0,
   "metadata": {
    "application/vnd.databricks.v1+cell": {
     "cellMetadata": {
      "byteLimit": 2048000,
      "rowLimit": 10000
     },
     "inputWidgets": {},
     "nuid": "5db75c8b-6b18-484e-be08-8b964297ff45",
     "showTitle": false,
     "tableResultSettingsMap": {},
     "title": ""
    }
   },
   "outputs": [],
   "source": [
    "model_metrics(final_rf_model, df_test)"
   ]
  },
  {
   "cell_type": "code",
   "execution_count": 0,
   "metadata": {
    "application/vnd.databricks.v1+cell": {
     "cellMetadata": {
      "byteLimit": 2048000,
      "rowLimit": 10000
     },
     "inputWidgets": {},
     "nuid": "9bd7603c-7dfa-48b9-8c80-acac151485e2",
     "showTitle": false,
     "tableResultSettingsMap": {},
     "title": ""
    }
   },
   "outputs": [],
   "source": [
    "final_rf_importances = final_rf_model.featureImportances\n",
    "\n",
    "for feature, importance in zip(baseline_features, final_rf_importances):\n",
    "    print(feature, \"{:.2f}\".format(importance))"
   ]
  },
  {
   "cell_type": "code",
   "execution_count": 0,
   "metadata": {
    "application/vnd.databricks.v1+cell": {
     "cellMetadata": {
      "byteLimit": 2048000,
      "rowLimit": 10000
     },
     "inputWidgets": {},
     "nuid": "d36a007d-f693-4cd5-ab0c-2c1f8ec3488b",
     "showTitle": false,
     "tableResultSettingsMap": {},
     "title": ""
    }
   },
   "outputs": [],
   "source": [
    "final_pipeline.write().save(f'{team_blob_url}/AQ/models/dt_2015-2018_rf_pipeline')"
   ]
  },
  {
   "cell_type": "code",
   "execution_count": 0,
   "metadata": {
    "application/vnd.databricks.v1+cell": {
     "cellMetadata": {
      "byteLimit": 2048000,
      "rowLimit": 10000
     },
     "inputWidgets": {},
     "nuid": "46383424-ba63-4736-919c-ee2850f34d22",
     "showTitle": false,
     "tableResultSettingsMap": {},
     "title": ""
    }
   },
   "outputs": [],
   "source": [
    "final_rf_model.save(f'{team_blob_url}/AQ/models/dt_2015-2018_2020_rf_model')"
   ]
  },
  {
   "cell_type": "code",
   "execution_count": 0,
   "metadata": {
    "application/vnd.databricks.v1+cell": {
     "cellMetadata": {
      "byteLimit": 2048000,
      "rowLimit": 10000
     },
     "inputWidgets": {},
     "nuid": "46b5fd70-18a5-4392-a6a8-35b525a5eabc",
     "showTitle": false,
     "tableResultSettingsMap": {},
     "title": ""
    }
   },
   "outputs": [],
   "source": [
    "predictions = final_rf_model.transform(df_test)\n",
    "\n",
    "y_true = predictions.select(\"label\").toPandas()\n",
    "y_pred = predictions.select('prediction').toPandas()\n",
    "precision_recall_fscore_support(y_true, y_pred, beta=2.0, average='binary', pos_label=1)"
   ]
  },
  {
   "cell_type": "code",
   "execution_count": 0,
   "metadata": {
    "application/vnd.databricks.v1+cell": {
     "cellMetadata": {
      "byteLimit": 2048000,
      "rowLimit": 10000
     },
     "inputWidgets": {},
     "nuid": "b2b69f9d-c44a-44ee-bac4-3288e2b29b77",
     "showTitle": false,
     "tableResultSettingsMap": {},
     "title": ""
    }
   },
   "outputs": [],
   "source": [
    "predictions.write.mode('overwrite').parquet(f\"{team_blob_url}/AQ/2020_rf_predictions.parquet\")"
   ]
  },
  {
   "cell_type": "code",
   "execution_count": 0,
   "metadata": {
    "application/vnd.databricks.v1+cell": {
     "cellMetadata": {
      "byteLimit": 2048000,
      "rowLimit": 10000
     },
     "inputWidgets": {},
     "nuid": "6a513893-d414-423c-8bdc-c0b72b553013",
     "showTitle": false,
     "tableResultSettingsMap": {},
     "title": ""
    }
   },
   "outputs": [],
   "source": [
    "display(dbutils.fs.ls(f\"{team_blob_url}/AQ/\"))"
   ]
  },
  {
   "cell_type": "code",
   "execution_count": 0,
   "metadata": {
    "application/vnd.databricks.v1+cell": {
     "cellMetadata": {
      "byteLimit": 2048000,
      "rowLimit": 10000
     },
     "inputWidgets": {},
     "nuid": "e5b525a1-e448-4f0a-b17f-1c5d0106dc0c",
     "showTitle": false,
     "tableResultSettingsMap": {},
     "title": ""
    }
   },
   "outputs": [],
   "source": [
    "df_prediction_verification = spark.read.parquet(f\"{team_blob_url}/AQ/2020_rf_predictions.parquet\")\n",
    "display(df_prediction_verification)"
   ]
  },
  {
   "cell_type": "markdown",
   "metadata": {
    "application/vnd.databricks.v1+cell": {
     "cellMetadata": {},
     "inputWidgets": {},
     "nuid": "cd27ef97-b771-40db-9ad0-2dcc972a14ee",
     "showTitle": false,
     "tableResultSettingsMap": {},
     "title": ""
    }
   },
   "source": [
    "# 2019 Predictions"
   ]
  },
  {
   "cell_type": "code",
   "execution_count": 0,
   "metadata": {
    "application/vnd.databricks.v1+cell": {
     "cellMetadata": {
      "byteLimit": 2048000,
      "rowLimit": 10000
     },
     "inputWidgets": {},
     "nuid": "ace59e36-04cb-4dcb-8218-00a2dd1a0106",
     "showTitle": false,
     "tableResultSettingsMap": {},
     "title": ""
    }
   },
   "outputs": [],
   "source": [
    "df_test = spark.read.parquet(f'{team_blob_url}/PRD/xval_corrected/df_final_val_processed/')"
   ]
  },
  {
   "cell_type": "code",
   "execution_count": 0,
   "metadata": {
    "application/vnd.databricks.v1+cell": {
     "cellMetadata": {
      "byteLimit": 2048000,
      "rowLimit": 10000
     },
     "inputWidgets": {},
     "nuid": "7778fd9e-930d-4ece-b9a7-62421e43c7cb",
     "showTitle": false,
     "tableResultSettingsMap": {},
     "title": ""
    }
   },
   "outputs": [],
   "source": [
    "df_test = final_pipeline.transform(df_test)"
   ]
  },
  {
   "cell_type": "code",
   "execution_count": 0,
   "metadata": {
    "application/vnd.databricks.v1+cell": {
     "cellMetadata": {
      "byteLimit": 2048000,
      "rowLimit": 10000
     },
     "inputWidgets": {},
     "nuid": "44d7a434-d0de-478a-a58c-dc3aa1fc3e8c",
     "showTitle": false,
     "tableResultSettingsMap": {},
     "title": ""
    }
   },
   "outputs": [],
   "source": [
    "predictions = final_rf_model.transform(df_test)\n",
    "\n",
    "y_true = predictions.select(\"label\").toPandas()\n",
    "y_pred = predictions.select('prediction').toPandas()\n",
    "precision_recall_fscore_support(y_true, y_pred, beta=2.0, average='binary', pos_label=1)"
   ]
  },
  {
   "cell_type": "code",
   "execution_count": 0,
   "metadata": {
    "application/vnd.databricks.v1+cell": {
     "cellMetadata": {
      "byteLimit": 2048000,
      "rowLimit": 10000
     },
     "inputWidgets": {},
     "nuid": "8df185f2-2970-4c1a-8ffc-458876ba5b3f",
     "showTitle": false,
     "tableResultSettingsMap": {},
     "title": ""
    }
   },
   "outputs": [],
   "source": [
    "predictions.write.mode('overwrite').parquet(f\"{team_blob_url}/AQ/2019_rf_predictions.parquet\")"
   ]
  },
  {
   "cell_type": "code",
   "execution_count": 0,
   "metadata": {
    "application/vnd.databricks.v1+cell": {
     "cellMetadata": {
      "byteLimit": 2048000,
      "rowLimit": 10000
     },
     "inputWidgets": {},
     "nuid": "58318564-a225-4714-8f52-99b80c8d5afd",
     "showTitle": false,
     "tableResultSettingsMap": {},
     "title": ""
    }
   },
   "outputs": [],
   "source": [
    "display(dbutils.fs.ls(f\"{team_blob_url}/AQ/\"))"
   ]
  },
  {
   "cell_type": "markdown",
   "metadata": {
    "application/vnd.databricks.v1+cell": {
     "cellMetadata": {},
     "inputWidgets": {},
     "nuid": "7bf838bc-6a40-4c46-9444-3c81ada6c185",
     "showTitle": false,
     "tableResultSettingsMap": {},
     "title": ""
    }
   },
   "source": []
  }
 ],
 "metadata": {
  "application/vnd.databricks.v1+notebook": {
   "computePreferences": null,
   "dashboards": [],
   "environmentMetadata": {
    "base_environment": "",
    "client": "1"
   },
   "language": "python",
   "notebookMetadata": {
    "pythonIndentUnit": 4
   },
   "notebookName": "Random Forest Pipeline- w261_AQ",
   "widgets": {}
  },
  "language_info": {
   "name": "python"
  }
 },
 "nbformat": 4,
 "nbformat_minor": 0
}