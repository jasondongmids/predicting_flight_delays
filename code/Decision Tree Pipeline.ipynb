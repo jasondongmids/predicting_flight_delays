{
 "cells": [
  {
   "cell_type": "markdown",
   "metadata": {
    "application/vnd.databricks.v1+cell": {
     "cellMetadata": {},
     "inputWidgets": {},
     "nuid": "ae97dd71-1c18-4541-84d3-b5d3576d168a",
     "showTitle": false,
     "tableResultSettingsMap": {},
     "title": ""
    }
   },
   "source": [
    "# Decision Tree Classifier\n",
    "- Pipeline starts from loading data from our custom data model train/test checkpoints:\n",
    "  - Encode features for model training\n",
    "  - Cross validation pipeline\n",
    "  - Single train / test pipeline\n",
    "    - code in notebook corresponds to best model"
   ]
  },
  {
   "cell_type": "markdown",
   "metadata": {
    "application/vnd.databricks.v1+cell": {
     "cellMetadata": {},
     "inputWidgets": {},
     "nuid": "90a9aa94-6038-4654-be14-076793f56732",
     "showTitle": false,
     "tableResultSettingsMap": {},
     "title": ""
    }
   },
   "source": [
    "## Imports"
   ]
  },
  {
   "cell_type": "code",
   "execution_count": 0,
   "metadata": {
    "application/vnd.databricks.v1+cell": {
     "cellMetadata": {
      "byteLimit": 2048000,
      "rowLimit": 10000
     },
     "inputWidgets": {},
     "nuid": "7b8aed0d-b6d5-4f7e-8222-9689dcb32147",
     "showTitle": false,
     "tableResultSettingsMap": {},
     "title": ""
    }
   },
   "outputs": [],
   "source": [
    "import pyspark.pandas as ps\n",
    "from pyspark.sql.types import StructType, StructField, StringType, IntegerType, FloatType, ArrayType\n",
    "from pyspark.sql import functions as F\n",
    "from pyspark.sql.functions import col, current_date, datediff, skewness, kurtosis, max, length, coalesce\n",
    "from pyspark.ml.functions import vector_to_array\n",
    "\n",
    "from pyspark.ml.classification import DecisionTreeClassifier, DecisionTreeClassificationModel\n",
    "from pyspark.ml.linalg import Vectors\n",
    "from pyspark.ml.feature import StringIndexer, VectorAssembler, Imputer, MinMaxScaler\n",
    "from pyspark.ml.evaluation import BinaryClassificationEvaluator\n",
    "from pyspark.ml import Pipeline, PipelineModel\n",
    "\n",
    "from sklearn.metrics import classification_report, precision_recall_fscore_support"
   ]
  },
  {
   "cell_type": "code",
   "execution_count": 0,
   "metadata": {
    "application/vnd.databricks.v1+cell": {
     "cellMetadata": {
      "byteLimit": 2048000,
      "rowLimit": 10000
     },
     "inputWidgets": {},
     "nuid": "25199c52-1efd-4c49-ba6a-9ad9107c2953",
     "showTitle": false,
     "tableResultSettingsMap": {},
     "title": ""
    }
   },
   "outputs": [
    {
     "output_type": "display_data",
     "data": {
      "text/html": [
       "<style scoped>\n",
       "  .table-result-container {\n",
       "    max-height: 300px;\n",
       "    overflow: auto;\n",
       "  }\n",
       "  table, th, td {\n",
       "    border: 1px solid black;\n",
       "    border-collapse: collapse;\n",
       "  }\n",
       "  th, td {\n",
       "    padding: 5px;\n",
       "  }\n",
       "  th {\n",
       "    text-align: left;\n",
       "  }\n",
       "</style><div class='table-result-container'><table class='table-result'><thead style='background-color: white'><tr><th>path</th><th>name</th><th>size</th><th>modificationTime</th></tr></thead><tbody><tr><td>wasbs://261-final-project@ansonbquon.blob.core.windows.net/PRD/1ymodel/</td><td>1ymodel/</td><td>0</td><td>1733581182000</td></tr><tr><td>wasbs://261-final-project@ansonbquon.blob.core.windows.net/PRD/parquet_prod_data/</td><td>parquet_prod_data/</td><td>0</td><td>1734171841000</td></tr><tr><td>wasbs://261-final-project@ansonbquon.blob.core.windows.net/PRD/parquet_prod_data_1y/</td><td>parquet_prod_data_1y/</td><td>0</td><td>1733579343000</td></tr><tr><td>wasbs://261-final-project@ansonbquon.blob.core.windows.net/PRD/xval/</td><td>xval/</td><td>0</td><td>1733543026000</td></tr><tr><td>wasbs://261-final-project@ansonbquon.blob.core.windows.net/PRD/xval_2020/</td><td>xval_2020/</td><td>0</td><td>1734024312000</td></tr><tr><td>wasbs://261-final-project@ansonbquon.blob.core.windows.net/PRD/xval_corrected/</td><td>xval_corrected/</td><td>0</td><td>1733964471000</td></tr></tbody></table></div>"
      ]
     },
     "metadata": {
      "application/vnd.databricks.v1+output": {
       "addedWidgets": {},
       "aggData": [],
       "aggError": "",
       "aggOverflow": false,
       "aggSchema": [],
       "aggSeriesLimitReached": false,
       "aggType": "",
       "arguments": {},
       "columnCustomDisplayInfos": {},
       "data": [
        [
         "wasbs://261-final-project@ansonbquon.blob.core.windows.net/PRD/1ymodel/",
         "1ymodel/",
         0,
         1733581182000
        ],
        [
         "wasbs://261-final-project@ansonbquon.blob.core.windows.net/PRD/parquet_prod_data/",
         "parquet_prod_data/",
         0,
         1734171841000
        ],
        [
         "wasbs://261-final-project@ansonbquon.blob.core.windows.net/PRD/parquet_prod_data_1y/",
         "parquet_prod_data_1y/",
         0,
         1733579343000
        ],
        [
         "wasbs://261-final-project@ansonbquon.blob.core.windows.net/PRD/xval/",
         "xval/",
         0,
         1733543026000
        ],
        [
         "wasbs://261-final-project@ansonbquon.blob.core.windows.net/PRD/xval_2020/",
         "xval_2020/",
         0,
         1734024312000
        ],
        [
         "wasbs://261-final-project@ansonbquon.blob.core.windows.net/PRD/xval_corrected/",
         "xval_corrected/",
         0,
         1733964471000
        ]
       ],
       "datasetInfos": [],
       "dbfsResultPath": null,
       "isJsonSchema": true,
       "metadata": {},
       "overflow": false,
       "plotOptions": {
        "customPlotOptions": {},
        "displayType": "table",
        "pivotAggregation": null,
        "pivotColumns": null,
        "xColumns": null,
        "yColumns": null
       },
       "removedWidgets": [],
       "schema": [
        {
         "metadata": "{}",
         "name": "path",
         "type": "\"string\""
        },
        {
         "metadata": "{}",
         "name": "name",
         "type": "\"string\""
        },
        {
         "metadata": "{}",
         "name": "size",
         "type": "\"long\""
        },
        {
         "metadata": "{}",
         "name": "modificationTime",
         "type": "\"long\""
        }
       ],
       "type": "table"
      }
     },
     "output_type": "display_data"
    }
   ],
   "source": [
    "## Place this cell in any team notebook that needs access to the team cloud storage.\n",
    "blob_container  = \"261-final-project\"       # The name of your container created in https://portal.azure.com\n",
    "storage_account = \"ansonbquon\"  # The name of your Storage account created in https://portal.azure.com\n",
    "secret_scope    = \"final_project\"           # The name of the scope created in your local computer using the Databricks CLI\n",
    "secret_key      = \"project_key\"             # The name of the secret key created in your local computer using the Databricks CLI\n",
    "team_blob_url   = f\"wasbs://{blob_container}@{storage_account}.blob.core.windows.net\"  #points to the root of your team storage bucket\n",
    "\n",
    "# the 261 course blob storage is mounted here.\n",
    "mids261_mount_path      = \"dbfs:/mnt/mids-w261\"\n",
    "\n",
    "# SAS Token: Grant the team limited access to Azure Storage resources\n",
    "spark.conf.set(\n",
    "  f\"fs.azure.sas.{blob_container}.{storage_account}.blob.core.windows.net\",\n",
    "  dbutils.secrets.get(scope = secret_scope, key = secret_key)\n",
    ")\n",
    "\n",
    "# see what's in the blob storage root folder \n",
    "display(dbutils.fs.ls(f\"{team_blob_url}/PRD/\"))"
   ]
  },
  {
   "cell_type": "markdown",
   "metadata": {
    "application/vnd.databricks.v1+cell": {
     "cellMetadata": {},
     "inputWidgets": {},
     "nuid": "8e354869-254a-416f-ad78-d7b57901f5b2",
     "showTitle": false,
     "tableResultSettingsMap": {},
     "title": ""
    }
   },
   "source": [
    "## Functions"
   ]
  },
  {
   "cell_type": "code",
   "execution_count": 0,
   "metadata": {
    "application/vnd.databricks.v1+cell": {
     "cellMetadata": {
      "byteLimit": 2048000,
      "rowLimit": 10000
     },
     "inputWidgets": {},
     "nuid": "df2daea9-10ec-4f4b-9b3f-ec6bffa43fd7",
     "showTitle": false,
     "tableResultSettingsMap": {},
     "title": ""
    }
   },
   "outputs": [],
   "source": [
    "# RUN CELL - contains the subset of features to be considered in final model\n",
    "\n",
    "# LABEL\n",
    "label = 'depDel15'\n",
    "\n",
    "# NUMERIC COLUMNS\n",
    "# min/max scaling\n",
    "num_scale_columns = ['crsElapsedTime',\n",
    "                    'distance',\n",
    "                    'actualElapsedTimePrevF',\n",
    "                    'distancePrevF',\n",
    "                    'timeBtwFlights',\n",
    "                    'hourlyAltimeterSetting',\n",
    "                    'hourlyDewPointTemperature',\n",
    "                    'hourlyDryBulbTemperature',\n",
    "                    'hourlyPrecipitation',\n",
    "                    'hourlyPressureChange',\n",
    "                    'hourlyPressureTendency',\n",
    "                    'hourlyRelativeHumidity',\n",
    "                    'hourlySeaLevelPressure',\n",
    "                    'hourlyStationPressure',\n",
    "                    'hourlyVisibility',\n",
    "                    'hourlyWetBulbTemperature',\n",
    "                    'hourlyWindDirection',\n",
    "                    'hourlyWindGustSpeed',\n",
    "                    'hourlyWindSpeed',\n",
    "                    'daysToNearestHoliday',\n",
    "                    'predictedMeanHourlyPrecipitation',\n",
    "                    'predictedMeanHourlyVisibility',\n",
    "                    'predictedMeanHourlyDewPointTemp',\n",
    "                    'originPageRank',\n",
    "                    'destPageRank',\n",
    "                    ]\n",
    "\n",
    "# no min/max scaling needed\n",
    "num_columns_no_scale = ['crsDepTimeSine',\n",
    "                        'monthSine',\n",
    "                        'dayOfWeekSine',\n",
    "                        ]\n",
    "\n",
    "# CATEGORICAL COLUMNS\n",
    "# string indexer\n",
    "str_idx_columns = [ 'quarter',\n",
    "                    'month',\n",
    "                    'dayOfMonth',\n",
    "                    'dayOfWeek',\n",
    "                    'opUniqueCarrier',\n",
    "                    'year',\n",
    "                    'originType',\n",
    "                    'destType',\n",
    "                    'depDel15PrevF',\n",
    "                    'depDelayGroupPrevF',\n",
    "                    'depTimeBlkPrevF',\n",
    "                    'arrDel15PrevF',\n",
    "                    'arrDelayGroupPrevF',\n",
    "                    'arrTimeBlkPrevF',\n",
    "                    'originTypePrevF',\n",
    "                    ]\n",
    "\n",
    "# binary indexer\n",
    "bin_idx_columns = [ 'tailNum',\n",
    "                    'opCarrierFlNum',\n",
    "                    'origin',\n",
    "                    'dest',\n",
    "                    'originIsoRegion',\n",
    "                    'destIsoRegion',\n",
    "                    'originPrevF',\n",
    "                    ]\n",
    "\n",
    "\n",
    "# not used (currently)\n",
    "omit_columns = [    'crsDepTime',\n",
    "                    'crsDepTimePrevF',\n",
    "                    'depTimePrevF',\n",
    "                    'crsArrTimePrevF',\n",
    "                    'arrTimePrevF',\n",
    "                    'crsElapsedTimePrevF',\n",
    "                    'timeBtwFlightsPlanned',\n",
    "                    'monthIndex',\n",
    "                    'dayOfWeekIndex',\n",
    "                    ]"
   ]
  },
  {
   "cell_type": "code",
   "execution_count": 0,
   "metadata": {
    "application/vnd.databricks.v1+cell": {
     "cellMetadata": {
      "byteLimit": 2048000,
      "rowLimit": 10000
     },
     "inputWidgets": {},
     "nuid": "5ae3da44-4c65-4176-b625-4272fd4c624b",
     "showTitle": false,
     "tableResultSettingsMap": {},
     "title": ""
    }
   },
   "outputs": [],
   "source": [
    "# RUN CELL - functions associated with pre-processing for model training\n",
    "def replace_scaled_columns(df, input_cols):\n",
    "    \"\"\"This function takes a dataframe and list of input columns that were min/max scaled and updates the\n",
    "    scaled values into the original input columns.\n",
    "    \n",
    "    Input:\n",
    "        df: dataframe\n",
    "        input_cols: list of numerical scaled features\n",
    "    Output:\n",
    "        df: dataframe with min/max features in original source columns\n",
    "    \n",
    "    \"\"\"\n",
    "    df = df.withColumn('scaled_array', vector_to_array(col('scaled_features')))\n",
    "    for idx, input_col in enumerate(input_cols):\n",
    "        df = df.withColumn(input_col, F.col('scaled_array').getItem(idx))\n",
    "    \n",
    "    return df\n",
    "\n",
    "def BinarizationEncoder(value):\n",
    "    \"\"\"\n",
    "    Converts an integer index value to binary for binarization.\n",
    "\n",
    "    Input:\n",
    "        value: integer index value\n",
    "    Output:\n",
    "        value: binary value with 0b prefix\n",
    "    \"\"\"\n",
    "\n",
    "    value = bin(value)\n",
    "    return value\n",
    "\n",
    "def BinarizationVectorizer(value, max_length):\n",
    "    \"\"\"\n",
    "    Converts binary vector into binary array.\n",
    "\n",
    "    Input:\n",
    "        value: binary value with 0b prefix\n",
    "        max_length: max length of binary values in columns\n",
    "    Output:\n",
    "        value: array of corresponding values\n",
    "    \"\"\"\n",
    "    # removes prefix and create array for further binarization\n",
    "    value = str(value).ljust(max_length, '0')[2:]\n",
    "    value = [int(i) for i in list(value)]\n",
    "\n",
    "    return value\n",
    "\n",
    "def BinIndexer(df, input_cols):\n",
    "    \"\"\"\n",
    "    Converts array of binary into separate columns for each index in the array.\n",
    "\n",
    "    Input:\n",
    "        df: dataframe\n",
    "        input_cols: initial list of columns which require binarization\n",
    "    Output:\n",
    "        df: dataframe with binarized columns\n",
    "    \"\"\"\n",
    "\n",
    "    for input_col in input_cols:\n",
    "        # col_name = input_col[:-5]\n",
    "\n",
    "        # create binary representation of index\n",
    "        BinarizationEncoder_udf = udf(BinarizationEncoder, StringType())\n",
    "        df = df.withColumn(f'{input_col}Bin', BinarizationEncoder_udf(df[input_col].cast(IntegerType())))\n",
    "\n",
    "        # calculate max length to pad binary values\n",
    "        max_length = df.select(max(length(col(f'{input_col}Bin'))).alias(f'{input_col}MaxLength')) \\\n",
    "                        .collect()[0][f'{input_col}MaxLength']\n",
    "\n",
    "        # create binary index columns and drop intermediate columns\n",
    "        BinarizationVectorization_udf = udf(lambda value: BinarizationVectorizer(value, max_length), ArrayType(IntegerType()))\n",
    "        df = df.withColumn(f'{input_col}Vector', BinarizationVectorization_udf(df[f'{input_col}Bin']))\n",
    "        for i in range(max_length-2):\n",
    "                df = df.withColumn(f'{input_col}BinIndex{i}', col(f'{input_col}Vector').getItem(i))\n",
    "        df = df.drop(f'{input_col}Bin', f'{input_col}Vector')\n",
    "\n",
    "    return df\n",
    "\n",
    "def df_processing_pipeline(df):\n",
    "    \"\"\"\n",
    "    Pipeline to scale and string index columns; run prior to binarization.\n",
    "    \n",
    "    Input:\n",
    "        df: dataframe\n",
    "    Output:\n",
    "        pipeline: pipeline object\n",
    "    \"\"\"\n",
    "    # Assemble and scale numeric features\n",
    "    mm_assembler = VectorAssembler(inputCols=num_scale_columns, outputCol='numeric_feat_to_scale')\n",
    "    scaler = MinMaxScaler(inputCol='numeric_feat_to_scale', outputCol='scaled_features')\n",
    "\n",
    "    # String index categorical features\n",
    "    cat_idx_columns = str_idx_columns + bin_idx_columns\n",
    "    cat_idx_output = [f'{i}Index' for i in cat_idx_columns]\n",
    "    cat_indexer = StringIndexer(inputCols=cat_idx_columns, outputCols=cat_idx_output, handleInvalid='keep')\n",
    "\n",
    "    # Pipeline definition\n",
    "    pipeline_stages = [mm_assembler, scaler, cat_indexer]\n",
    "    pipeline = Pipeline(stages=pipeline_stages)\n",
    "\n",
    "    return pipeline\n",
    "\n",
    "def df_processing(df, pipeline_model):\n",
    "    \"\"\"\n",
    "    Final processing pipeline to transform df with fitted pipeline model (min/max scaling, indexing),\n",
    "    binarization, and replacing scaled values into source columns.\n",
    "\n",
    "    Input:\n",
    "        df: dataframe\n",
    "        pipeline_model: fitted pipeline model\n",
    "    Output:\n",
    "        df: dataframe with processed columns ready for training\n",
    "    \"\"\"\n",
    "    df_processed = pipeline_model.transform(df)\n",
    "    bin_idx_output = [f'{i}Index' for i in bin_idx_columns]\n",
    "    df_final = BinIndexer(df_processed, input_cols=bin_idx_output)\n",
    "\n",
    "    df_final = replace_scaled_columns(df_final, num_scale_columns)\n",
    "    df_final.drop('numeric_feat_to_scale', 'scaled_features', 'scaled_array')\n",
    "    \n",
    "    return df_final\n"
   ]
  },
  {
   "cell_type": "code",
   "execution_count": 0,
   "metadata": {
    "application/vnd.databricks.v1+cell": {
     "cellMetadata": {
      "byteLimit": 2048000,
      "rowLimit": 10000
     },
     "inputWidgets": {},
     "nuid": "d7bfed2f-cc39-4d06-9c1a-832fe0503fa7",
     "showTitle": false,
     "tableResultSettingsMap": {},
     "title": ""
    }
   },
   "outputs": [],
   "source": [
    "# RUN CELL - functions for model training\n",
    "def df_feature_assembler(df, assembler_columns):\n",
    "    \"\"\"\n",
    "    Assembles features and drops columns not used in trianing.\n",
    "    Input:\n",
    "        df: dataframe\n",
    "        assemble_columns: list of features to include in model\n",
    "    Output:\n",
    "        df: dataframe with 'features', 'labels'\n",
    "    \"\"\"\n",
    "    #drop omitted columns\n",
    "    label = 'depDel15'\n",
    "    columns = df.columns\n",
    "    omit_columns = list(set(columns).symmetric_difference(set(assembler_columns + [label])))\n",
    "    df = df.drop(*omit_columns)\n",
    "\n",
    "    # Assemble Vectors\n",
    "    label_indexer = StringIndexer(inputCol=label, outputCol='label')\n",
    "    feature_assembler = VectorAssembler(inputCols=assembler_columns, outputCol=\"features\")\n",
    "    pipeline = Pipeline(stages=[label_indexer, feature_assembler])\n",
    "\n",
    "    # Train Model\n",
    "    df_model = pipeline.fit(df).transform(df).select('features', 'label') \n",
    "\n",
    "    return df_model\n",
    "\n",
    "def train_model(df, max_depth, min_info_gain, max_bins):\n",
    "    \"\"\"\n",
    "    Function to create and train model\n",
    "    Input:\n",
    "        df: dataframe\n",
    "        max_depth:\n",
    "        min_info_gain:\n",
    "        max_bins:\n",
    "    Return:\n",
    "        dt_model: fitted decision tree model\n",
    "    \"\"\"\n",
    "    dt = DecisionTreeClassifier(maxDepth=max_depth,\n",
    "                                minInfoGain=min_info_gain,\n",
    "                                labelCol='label',\n",
    "                                featuresCol=\"features\",\n",
    "                                maxBins=max_bins)\n",
    "    dt_model = dt.fit(df)\n",
    "\n",
    "    return dt_model\n",
    "\n",
    "def print_metrics(df, model):\n",
    "    \"\"\"\n",
    "    Prints fbeta, recall, precision, and classification report.\n",
    "    Input:\n",
    "        df: dataframe\n",
    "        model: fitted mode\n",
    "    Prints:\n",
    "        fbeta, recall, precision, classification report\n",
    "    \"\"\"\n",
    "\n",
    "    predictions = model.transform(df)\n",
    "    y_true = predictions.select('label').toPandas()\n",
    "    y_pred = predictions.select('prediction').toPandas()    \n",
    "    metrics = precision_recall_fscore_support(y_true, y_pred, beta=2.0, average='binary', pos_label=1, zero_division=1)\n",
    "\n",
    "    print('F_beta:', metrics[2])\n",
    "    print('Recall:', metrics[1])\n",
    "    print(f'Precision:', metrics[0])\n",
    "    print(classification_report(y_true, y_pred, zero_division=0))\n",
    "\n",
    "def model_metrics(model, df):\n",
    "    #get predictions\n",
    "    predictions = model.transform(df)\n",
    "    y_true = predictions.select('label').toPandas()\n",
    "    y_pred = predictions.select('prediction').toPandas()\n",
    "    prf = precision_recall_fscore_support(y_true, y_pred, beta=2.0, average='binary', pos_label=1)\n",
    "\n",
    "    return prf"
   ]
  },
  {
   "cell_type": "markdown",
   "metadata": {
    "application/vnd.databricks.v1+cell": {
     "cellMetadata": {},
     "inputWidgets": {},
     "nuid": "785efd34-4c10-4277-a30c-5d5700ec82c0",
     "showTitle": false,
     "tableResultSettingsMap": {},
     "title": ""
    }
   },
   "source": [
    "# Cross Validation"
   ]
  },
  {
   "cell_type": "code",
   "execution_count": 0,
   "metadata": {
    "application/vnd.databricks.v1+cell": {
     "cellMetadata": {
      "byteLimit": 2048000,
      "rowLimit": 10000
     },
     "collapsed": true,
     "inputWidgets": {},
     "nuid": "03ae8588-e380-495f-a012-284fc8e94af1",
     "showTitle": false,
     "tableResultSettingsMap": {},
     "title": ""
    }
   },
   "outputs": [],
   "source": [
    "# RUN CELL - functions for crossvalidation and retrieving weighted averages\n",
    "def cross_validator(df_train_names, df_test_names, features, max_depth_list, min_info_gain_list, max_bins):\n",
    "    model_summary = {}\n",
    "\n",
    "    for xval, (train, test) in enumerate(zip(df_train_names, df_test_names)):\n",
    "        #load train data\n",
    "        df_train = spark.read.parquet(f\"{team_blob_url}/PRD/xval/{train}/\")\n",
    "        pipeline = df_processing_pipeline(df_train)\n",
    "        pipeline_model = pipeline.fit(df_train)\n",
    "        df_train = df_processing(df_train, pipeline_model)\n",
    "\n",
    "        #load test data\n",
    "        df_test = spark.read.parquet(f\"{team_blob_url}/PRD/xval/{test}/\")\n",
    "        df_test = df_processing(df_test, pipeline_model)\n",
    "\n",
    "        #fit and transform df's\n",
    "        df_fit_train = df_feature_assembler(df_train, features)\n",
    "        df_fit_test = df_feature_assembler(df_test, features)\n",
    "\n",
    "        #train model on each param\n",
    "        for i in max_depth_list:\n",
    "            for j in min_info_gain_list:\n",
    "                print(f'{xval}: (Max Depth: {i}, Min Info Gain: {j})')\n",
    "                # create dictionary to save run info\n",
    "                model_dict = {}\n",
    "                model_dict['datasplit'] = f'xval{xval+1}'\n",
    "                model_dict['params'] = {'max_depth': i,\n",
    "                                        'min_info_gain': j}\n",
    "\n",
    "                # train and save model\n",
    "                model = train_model(df_fit_train, i, j, max_bins)\n",
    "                model_dict['model'] = model\n",
    "\n",
    "                #get train metrics\n",
    "                train_metrics = model_metrics(model, df_fit_train)\n",
    "                train_metrics_dict =   {'Precision': train_metrics[0],\n",
    "                                        'Recall': train_metrics[1],\n",
    "                                        'Fbeta': train_metrics[2]\n",
    "                                        }\n",
    "                model_dict['train_metrics'] = train_metrics_dict\n",
    "\n",
    "                #get test metrics\n",
    "                test_metrics = model_metrics(model, df_fit_test)\n",
    "                test_metrics_dict =   { 'Precision': test_metrics[0],\n",
    "                                        'Recall': test_metrics[1],\n",
    "                                        'Fbeta': test_metrics[2]\n",
    "                                        }\n",
    "                model_dict['test_metrics'] = test_metrics_dict\n",
    "\n",
    "                #save model dict\n",
    "                model_summary[f'xval{xval+1}_param_{i}_{j}'] = model_dict\n",
    "\n",
    "    return model_summary\n",
    "\n",
    "def weighted_average(errors, weights):\n",
    "    return sum(error * weight for error, weight in zip(errors, weights)) / sum(weights)\n",
    "\n",
    "def print_weighted_averages(model_summary, max_depth_list, min_info_gain_list):\n",
    "    xval_wavg_vals = [0.2, 0.3, 0.5]\n",
    "    #loop through param iterations and get each xval metric\n",
    "    for i in max_depth_list:\n",
    "        for j in min_info_gain_list:\n",
    "                print(f'Model Params: max_depth: {i}, min_info_gain: {j}')\n",
    "                print()\n",
    "\n",
    "                #loop through metrics\n",
    "                metric_list = ['Fbeta', 'Recall', 'Precision']\n",
    "                for metric in metric_list:\n",
    "\n",
    "                    train_metric = [model_summary[f'xval1_param_{i}_{j}']['train_metrics'][metric],\n",
    "                                    model_summary[f'xval2_param_{i}_{j}']['train_metrics'][metric],\n",
    "                                    model_summary[f'xval3_param_{i}_{j}']['train_metrics'][metric],\n",
    "                                    ]\n",
    "                    \n",
    "                    test_metric = [ model_summary[f'xval1_param_{i}_{j}']['test_metrics'][metric],\n",
    "                                    model_summary[f'xval2_param_{i}_{j}']['test_metrics'][metric],\n",
    "                                    model_summary[f'xval3_param_{i}_{j}']['test_metrics'][metric],\n",
    "                                    ]\n",
    "                    \n",
    "                    train_wavg = weighted_average(train_metric, xval_wavg_vals)\n",
    "                    test_wavg = weighted_average(test_metric, xval_wavg_vals)\n",
    "                    print(f'Train {metric} Weighted Average: {train_wavg}')\n",
    "                    print(f'Test {metric} Weighted Average: {test_wavg}')\n",
    "                    print()\n",
    "                print(\"*\"*50)"
   ]
  },
  {
   "cell_type": "code",
   "execution_count": 0,
   "metadata": {
    "application/vnd.databricks.v1+cell": {
     "cellMetadata": {
      "byteLimit": 2048000,
      "rowLimit": 10000
     },
     "inputWidgets": {},
     "nuid": "905269f3-b6dd-405b-956c-15f805622772",
     "showTitle": false,
     "tableResultSettingsMap": {},
     "title": ""
    }
   },
   "outputs": [],
   "source": [
    "# Name of train, test files\n",
    "df_train_names = [\"df_xval1_train\", \"df_xval2_train\", \"df_xval3_train\"]\n",
    "df_test_names = [\"df_xval1_test\", \"df_xval2_test\", \"df_xval3_test\"]\n",
    "\n",
    "# Hyperparameters for grid search\n",
    "max_depth_list = [6, 8, 10, 12, 14]\n",
    "min_info_gain_list = [1e-2, 1e-4, 1e-6]\n",
    "max_bins=64\n",
    "\n",
    "# Best features\n",
    "assembler_columns = [\n",
    " 'timeBtwFlightsPlanned',\n",
    " 'hourlyAltimeterSetting',\n",
    " 'hourlyDewPointTemperature',\n",
    " 'hourlyDryBulbTemperature',\n",
    " 'hourlyPrecipitation',\n",
    " 'hourlyWetBulbTemperature',\n",
    " 'hourlyWindDirection',\n",
    " 'hourlyWindGustSpeed',\n",
    " 'hourlyWindSpeed',\n",
    " 'crsDepTimeSine',\n",
    " 'monthSine',\n",
    " 'dayOfWeekSine',\n",
    " 'originPageRank',\n",
    " 'destPageRank',\n",
    " 'dayOfMonthIndex',\n",
    " 'opUniqueCarrierIndex',\n",
    " 'yearIndex',\n",
    " 'originTypeIndex',\n",
    " 'destTypeIndex',\n",
    " 'depDel15PrevFIndex',\n",
    " 'arrDel15PrevFIndex',\n",
    " 'originIsoRegionIndex',\n",
    " 'destIsoRegionIndex',\n",
    " ]"
   ]
  },
  {
   "cell_type": "code",
   "execution_count": 0,
   "metadata": {
    "application/vnd.databricks.v1+cell": {
     "cellMetadata": {
      "byteLimit": 2048000,
      "rowLimit": 10000
     },
     "inputWidgets": {},
     "nuid": "9413a70d-c39d-4451-a43c-b5b9839b4e26",
     "showTitle": false,
     "tableResultSettingsMap": {},
     "title": ""
    }
   },
   "outputs": [
    {
     "output_type": "display_data",
     "data": {
      "application/vnd.jupyter.widget-view+json": {
       "model_id": "1f505122d8064ed191a4b281133c1140",
       "version_major": 2,
       "version_minor": 0
      },
      "text/plain": [
       "Downloading artifacts:   0%|          | 0/30 [00:00<?, ?it/s]"
      ]
     },
     "metadata": {},
     "output_type": "display_data"
    },
    {
     "output_type": "display_data",
     "data": {
      "application/vnd.jupyter.widget-view+json": {
       "model_id": "2f3de91503d8458493b204b98eef571d",
       "version_major": 2,
       "version_minor": 0
      },
      "text/plain": [
       "Uploading artifacts:   0%|          | 0/4 [00:00<?, ?it/s]"
      ]
     },
     "metadata": {},
     "output_type": "display_data"
    },
    {
     "output_type": "display_data",
     "data": {
      "application/vnd.jupyter.widget-view+json": {
       "model_id": "b0da49a0bc7140a9bb29c15cdbdea3f8",
       "version_major": 2,
       "version_minor": 0
      },
      "text/plain": [
       "Downloading artifacts:   0%|          | 0/20 [00:00<?, ?it/s]"
      ]
     },
     "metadata": {},
     "output_type": "display_data"
    },
    {
     "output_type": "display_data",
     "data": {
      "application/vnd.jupyter.widget-view+json": {
       "model_id": "64e7334815644fc5a1a551db9824d416",
       "version_major": 2,
       "version_minor": 0
      },
      "text/plain": [
       "Uploading artifacts:   0%|          | 0/4 [00:00<?, ?it/s]"
      ]
     },
     "metadata": {},
     "output_type": "display_data"
    },
    {
     "output_type": "display_data",
     "data": {
      "application/vnd.jupyter.widget-view+json": {
       "model_id": "c960452f9ca446048ed2e1a62a918a3f",
       "version_major": 2,
       "version_minor": 0
      },
      "text/plain": [
       "Downloading artifacts:   0%|          | 0/20 [00:00<?, ?it/s]"
      ]
     },
     "metadata": {},
     "output_type": "display_data"
    },
    {
     "output_type": "display_data",
     "data": {
      "application/vnd.jupyter.widget-view+json": {
       "model_id": "4623b61422264504a87bdaec26d523b6",
       "version_major": 2,
       "version_minor": 0
      },
      "text/plain": [
       "Uploading artifacts:   0%|          | 0/4 [00:00<?, ?it/s]"
      ]
     },
     "metadata": {},
     "output_type": "display_data"
    },
    {
     "output_type": "stream",
     "name": "stdout",
     "output_type": "stream",
     "text": [
      "0: (Max Depth: 6, Min Info Gain: 0.01)\n"
     ]
    },
    {
     "output_type": "display_data",
     "data": {
      "application/vnd.jupyter.widget-view+json": {
       "model_id": "1d13d15b1f024a81a69309c46c58566b",
       "version_major": 2,
       "version_minor": 0
      },
      "text/plain": [
       "Downloading artifacts:   0%|          | 0/15 [00:00<?, ?it/s]"
      ]
     },
     "metadata": {},
     "output_type": "display_data"
    },
    {
     "output_type": "display_data",
     "data": {
      "application/vnd.jupyter.widget-view+json": {
       "model_id": "f8305869e9ce4c7f935adb5e937f95bf",
       "version_major": 2,
       "version_minor": 0
      },
      "text/plain": [
       "Uploading artifacts:   0%|          | 0/4 [00:00<?, ?it/s]"
      ]
     },
     "metadata": {},
     "output_type": "display_data"
    },
    {
     "output_type": "display_data",
     "data": {
      "application/vnd.jupyter.widget-view+json": {
       "model_id": "eeb6a53d16aa494b9947b849c75b44b3",
       "version_major": 2,
       "version_minor": 0
      },
      "text/plain": [
       "Downloading artifacts:   0%|          | 0/30 [00:00<?, ?it/s]"
      ]
     },
     "metadata": {},
     "output_type": "display_data"
    },
    {
     "output_type": "display_data",
     "data": {
      "application/vnd.jupyter.widget-view+json": {
       "model_id": "8839fa9cba444c03896d19d95c55d203",
       "version_major": 2,
       "version_minor": 0
      },
      "text/plain": [
       "Uploading artifacts:   0%|          | 0/4 [00:00<?, ?it/s]"
      ]
     },
     "metadata": {},
     "output_type": "display_data"
    },
    {
     "output_type": "display_data",
     "data": {
      "application/vnd.jupyter.widget-view+json": {
       "model_id": "0fb5aa38cad94ed0a86bc7da05a4ce69",
       "version_major": 2,
       "version_minor": 0
      },
      "text/plain": [
       "Downloading artifacts:   0%|          | 0/20 [00:00<?, ?it/s]"
      ]
     },
     "metadata": {},
     "output_type": "display_data"
    },
    {
     "output_type": "display_data",
     "data": {
      "application/vnd.jupyter.widget-view+json": {
       "model_id": "7b85254a10b9484196fe68990e49fe1a",
       "version_major": 2,
       "version_minor": 0
      },
      "text/plain": [
       "Uploading artifacts:   0%|          | 0/4 [00:00<?, ?it/s]"
      ]
     },
     "metadata": {},
     "output_type": "display_data"
    },
    {
     "output_type": "display_data",
     "data": {
      "application/vnd.jupyter.widget-view+json": {
       "model_id": "ca62bf099c204f50b066d1e03c0331b3",
       "version_major": 2,
       "version_minor": 0
      },
      "text/plain": [
       "Downloading artifacts:   0%|          | 0/20 [00:00<?, ?it/s]"
      ]
     },
     "metadata": {},
     "output_type": "display_data"
    },
    {
     "output_type": "display_data",
     "data": {
      "application/vnd.jupyter.widget-view+json": {
       "model_id": "e144a93b3e844297abdefcf7ebd18ede",
       "version_major": 2,
       "version_minor": 0
      },
      "text/plain": [
       "Uploading artifacts:   0%|          | 0/4 [00:00<?, ?it/s]"
      ]
     },
     "metadata": {},
     "output_type": "display_data"
    },
    {
     "output_type": "stream",
     "name": "stdout",
     "output_type": "stream",
     "text": [
      "1: (Max Depth: 6, Min Info Gain: 0.01)\n"
     ]
    },
    {
     "output_type": "display_data",
     "data": {
      "application/vnd.jupyter.widget-view+json": {
       "model_id": "14ca37404d094da9a1e55f5e050ee043",
       "version_major": 2,
       "version_minor": 0
      },
      "text/plain": [
       "Downloading artifacts:   0%|          | 0/15 [00:00<?, ?it/s]"
      ]
     },
     "metadata": {},
     "output_type": "display_data"
    },
    {
     "output_type": "display_data",
     "data": {
      "application/vnd.jupyter.widget-view+json": {
       "model_id": "ec0db85ba8d644fd9faf0aab70541b14",
       "version_major": 2,
       "version_minor": 0
      },
      "text/plain": [
       "Uploading artifacts:   0%|          | 0/4 [00:00<?, ?it/s]"
      ]
     },
     "metadata": {},
     "output_type": "display_data"
    },
    {
     "output_type": "display_data",
     "data": {
      "application/vnd.jupyter.widget-view+json": {
       "model_id": "f1b804a885ff498f9b24b1fc840e0bc1",
       "version_major": 2,
       "version_minor": 0
      },
      "text/plain": [
       "Downloading artifacts:   0%|          | 0/30 [00:00<?, ?it/s]"
      ]
     },
     "metadata": {},
     "output_type": "display_data"
    },
    {
     "output_type": "display_data",
     "data": {
      "application/vnd.jupyter.widget-view+json": {
       "model_id": "5647d962540644db982cb3af6a08de53",
       "version_major": 2,
       "version_minor": 0
      },
      "text/plain": [
       "Uploading artifacts:   0%|          | 0/4 [00:00<?, ?it/s]"
      ]
     },
     "metadata": {},
     "output_type": "display_data"
    },
    {
     "output_type": "display_data",
     "data": {
      "application/vnd.jupyter.widget-view+json": {
       "model_id": "a205089698ee4add9270714f5867fce0",
       "version_major": 2,
       "version_minor": 0
      },
      "text/plain": [
       "Downloading artifacts:   0%|          | 0/20 [00:00<?, ?it/s]"
      ]
     },
     "metadata": {},
     "output_type": "display_data"
    },
    {
     "output_type": "display_data",
     "data": {
      "application/vnd.jupyter.widget-view+json": {
       "model_id": "1d0c931eef964a2fa21089ce5e1c812d",
       "version_major": 2,
       "version_minor": 0
      },
      "text/plain": [
       "Uploading artifacts:   0%|          | 0/4 [00:00<?, ?it/s]"
      ]
     },
     "metadata": {},
     "output_type": "display_data"
    },
    {
     "output_type": "display_data",
     "data": {
      "application/vnd.jupyter.widget-view+json": {
       "model_id": "d9d45dc996954da094fcee2e4e5008f7",
       "version_major": 2,
       "version_minor": 0
      },
      "text/plain": [
       "Downloading artifacts:   0%|          | 0/20 [00:00<?, ?it/s]"
      ]
     },
     "metadata": {},
     "output_type": "display_data"
    },
    {
     "output_type": "display_data",
     "data": {
      "application/vnd.jupyter.widget-view+json": {
       "model_id": "7a905204827b45ad918c96974a250757",
       "version_major": 2,
       "version_minor": 0
      },
      "text/plain": [
       "Uploading artifacts:   0%|          | 0/4 [00:00<?, ?it/s]"
      ]
     },
     "metadata": {},
     "output_type": "display_data"
    },
    {
     "output_type": "stream",
     "name": "stdout",
     "output_type": "stream",
     "text": [
      "2: (Max Depth: 6, Min Info Gain: 0.01)\n"
     ]
    },
    {
     "output_type": "display_data",
     "data": {
      "application/vnd.jupyter.widget-view+json": {
       "model_id": "8783316408594064b7b8ea7b06e21c83",
       "version_major": 2,
       "version_minor": 0
      },
      "text/plain": [
       "Downloading artifacts:   0%|          | 0/15 [00:00<?, ?it/s]"
      ]
     },
     "metadata": {},
     "output_type": "display_data"
    },
    {
     "output_type": "display_data",
     "data": {
      "application/vnd.jupyter.widget-view+json": {
       "model_id": "45e79463bc834461826fb07a9bd5b022",
       "version_major": 2,
       "version_minor": 0
      },
      "text/plain": [
       "Uploading artifacts:   0%|          | 0/4 [00:00<?, ?it/s]"
      ]
     },
     "metadata": {},
     "output_type": "display_data"
    }
   ],
   "source": [
    "model_summary = cross_validator(df_train_names,\n",
    "                                df_test_names,\n",
    "                                assembler_columns,\n",
    "                                max_depth_list,\n",
    "                                min_info_gain_list,\n",
    "                                max_bins)"
   ]
  },
  {
   "cell_type": "code",
   "execution_count": 0,
   "metadata": {
    "application/vnd.databricks.v1+cell": {
     "cellMetadata": {
      "byteLimit": 2048000,
      "rowLimit": 10000
     },
     "collapsed": true,
     "inputWidgets": {},
     "nuid": "e50062bb-ce6e-44c6-afdc-c697c213cb08",
     "showTitle": false,
     "tableResultSettingsMap": {},
     "title": ""
    }
   },
   "outputs": [
    {
     "output_type": "execute_result",
     "data": {
      "text/plain": [
       "{'xval1_param_6_0.01': {'datasplit': 'xval1',\n",
       "  'params': {'max_depth': 6, 'min_info_gain': 0.01},\n",
       "  'model': DecisionTreeClassificationModel: uid=DecisionTreeClassifier_fb686962469a, depth=6, numNodes=23, numClasses=2, numFeatures=23,\n",
       "  'train_metrics': {'Precision': 0.6155078323093742,\n",
       "   'Recall': 0.8360218692317796,\n",
       "   'Fbeta': 0.7801238754015771},\n",
       "  'test_metrics': {'Precision': 0.33952385214356035,\n",
       "   'Recall': 0.49858710652559635,\n",
       "   'Fbeta': 0.45587280986372486}},\n",
       " 'xval2_param_6_0.01': {'datasplit': 'xval2',\n",
       "  'params': {'max_depth': 6, 'min_info_gain': 0.01},\n",
       "  'model': DecisionTreeClassificationModel: uid=DecisionTreeClassifier_98203166881d, depth=6, numNodes=15, numClasses=2, numFeatures=23,\n",
       "  'train_metrics': {'Precision': 0.6195563854265542,\n",
       "   'Recall': 0.834692021281386,\n",
       "   'Fbeta': 0.78048843929446},\n",
       "  'test_metrics': {'Precision': 0.5771357286033513,\n",
       "   'Recall': 0.8303354780813146,\n",
       "   'Fbeta': 0.7633559048886881}},\n",
       " 'xval3_param_6_0.01': {'datasplit': 'xval3',\n",
       "  'params': {'max_depth': 6, 'min_info_gain': 0.01},\n",
       "  'model': DecisionTreeClassificationModel: uid=DecisionTreeClassifier_dbd7a3c1f9ac, depth=5, numNodes=11, numClasses=2, numFeatures=23,\n",
       "  'train_metrics': {'Precision': 0.6264026443574844,\n",
       "   'Recall': 0.8510472653310899,\n",
       "   'Fbeta': 0.7940908523433222},\n",
       "  'test_metrics': {'Precision': 0.36215011588518453,\n",
       "   'Recall': 0.49411678852408886,\n",
       "   'Fbeta': 0.460551971818395}}}"
      ]
     },
     "execution_count": 30,
     "metadata": {},
     "output_type": "execute_result"
    }
   ],
   "source": [
    "model_summary"
   ]
  },
  {
   "cell_type": "code",
   "execution_count": 0,
   "metadata": {
    "application/vnd.databricks.v1+cell": {
     "cellMetadata": {
      "byteLimit": 2048000,
      "rowLimit": 10000
     },
     "inputWidgets": {},
     "nuid": "086abfda-e204-462e-9bed-5cc501f94c60",
     "showTitle": false,
     "tableResultSettingsMap": {},
     "title": ""
    }
   },
   "outputs": [
    {
     "output_type": "stream",
     "name": "stdout",
     "output_type": "stream",
     "text": [
      "Model Params: max_depth: 6, min_info_gain: 0.01\n\nTrain Fbeta Weighted Average: 0.7872167330403146\nTest Fbeta Weighted Average: 0.5504573193485489\n\nTrain Recall Weighted Average: 0.8431356128963167\nTest Recall Weighted Average: 0.5958764589915581\n\nTrain Precision Weighted Average: 0.6221698042685833\nTest Precision Weighted Average: 0.4221205469523097\n\n**************************************************\n"
     ]
    }
   ],
   "source": [
    "print_weighted_averages(model_summary, max_depth_list, min_info_gain_list)"
   ]
  },
  {
   "cell_type": "markdown",
   "metadata": {
    "application/vnd.databricks.v1+cell": {
     "cellMetadata": {},
     "inputWidgets": {},
     "nuid": "204928cd-aad1-46f3-b868-7cb9cbbec2a3",
     "showTitle": false,
     "tableResultSettingsMap": {},
     "title": ""
    }
   },
   "source": [
    "# Model Training"
   ]
  },
  {
   "cell_type": "code",
   "execution_count": 0,
   "metadata": {
    "application/vnd.databricks.v1+cell": {
     "cellMetadata": {
      "byteLimit": 2048000,
      "rowLimit": 10000
     },
     "inputWidgets": {},
     "nuid": "ce586b6f-09c2-460e-8e39-99afdf4e89d7",
     "showTitle": false,
     "tableResultSettingsMap": {},
     "title": ""
    }
   },
   "outputs": [],
   "source": [
    "# best hyperparameters\n",
    "max_depth = 6\n",
    "min_info_gain = 0.01\n",
    "\n",
    "# Best features\n",
    "assembler_columns = [\n",
    " 'timeBtwFlightsPlanned',\n",
    " 'hourlyAltimeterSetting',\n",
    " 'hourlyDewPointTemperature',\n",
    " 'hourlyDryBulbTemperature',\n",
    " 'hourlyPrecipitation',\n",
    " 'hourlyWetBulbTemperature',\n",
    " 'hourlyWindDirection',\n",
    " 'hourlyWindGustSpeed',\n",
    " 'hourlyWindSpeed',\n",
    " 'crsDepTimeSine',\n",
    " 'monthSine',\n",
    " 'dayOfWeekSine',\n",
    " 'originPageRank',\n",
    " 'destPageRank',\n",
    " 'dayOfMonthIndex',\n",
    " 'opUniqueCarrierIndex',\n",
    " 'yearIndex',\n",
    " 'originTypeIndex',\n",
    " 'destTypeIndex',\n",
    " 'depDel15PrevFIndex',\n",
    " 'arrDel15PrevFIndex',\n",
    " 'originIsoRegionIndex',\n",
    " 'destIsoRegionIndex',\n",
    " ]"
   ]
  },
  {
   "cell_type": "code",
   "execution_count": 0,
   "metadata": {
    "application/vnd.databricks.v1+cell": {
     "cellMetadata": {
      "byteLimit": 2048000,
      "rowLimit": 10000
     },
     "inputWidgets": {},
     "nuid": "21be92c3-17c4-4936-8ddf-596cfc0bb010",
     "showTitle": false,
     "tableResultSettingsMap": {},
     "title": ""
    }
   },
   "outputs": [
    {
     "output_type": "display_data",
     "data": {
      "application/vnd.jupyter.widget-view+json": {
       "model_id": "1104fd6ecf604118a22b8429454dc4ab",
       "version_major": 2,
       "version_minor": 0
      },
      "text/plain": [
       "Downloading artifacts:   0%|          | 0/30 [00:00<?, ?it/s]"
      ]
     },
     "metadata": {},
     "output_type": "display_data"
    },
    {
     "output_type": "display_data",
     "data": {
      "application/vnd.jupyter.widget-view+json": {
       "model_id": "37281fdea38f416ebff7ebdaf1b8ccbb",
       "version_major": 2,
       "version_minor": 0
      },
      "text/plain": [
       "Uploading artifacts:   0%|          | 0/4 [00:00<?, ?it/s]"
      ]
     },
     "metadata": {},
     "output_type": "display_data"
    },
    {
     "output_type": "display_data",
     "data": {
      "application/vnd.jupyter.widget-view+json": {
       "model_id": "e701c931067d47ea888e6344f430631b",
       "version_major": 2,
       "version_minor": 0
      },
      "text/plain": [
       "Downloading artifacts:   0%|          | 0/20 [00:00<?, ?it/s]"
      ]
     },
     "metadata": {},
     "output_type": "display_data"
    },
    {
     "output_type": "display_data",
     "data": {
      "application/vnd.jupyter.widget-view+json": {
       "model_id": "8ef965ee3b2f4842a2129d66dc49636a",
       "version_major": 2,
       "version_minor": 0
      },
      "text/plain": [
       "Uploading artifacts:   0%|          | 0/4 [00:00<?, ?it/s]"
      ]
     },
     "metadata": {},
     "output_type": "display_data"
    },
    {
     "output_type": "display_data",
     "data": {
      "application/vnd.jupyter.widget-view+json": {
       "model_id": "75e613ea7d774959be48b6b5b2b74efc",
       "version_major": 2,
       "version_minor": 0
      },
      "text/plain": [
       "Downloading artifacts:   0%|          | 0/15 [00:00<?, ?it/s]"
      ]
     },
     "metadata": {},
     "output_type": "display_data"
    },
    {
     "output_type": "display_data",
     "data": {
      "application/vnd.jupyter.widget-view+json": {
       "model_id": "beeacd4cde084ea3ba70d791758cdc25",
       "version_major": 2,
       "version_minor": 0
      },
      "text/plain": [
       "Uploading artifacts:   0%|          | 0/4 [00:00<?, ?it/s]"
      ]
     },
     "metadata": {},
     "output_type": "display_data"
    }
   ],
   "source": [
    "# TRAIN\n",
    "# load data\n",
    "df_train = spark.read.parquet(f'{team_blob_url}/PRD/xval/df_xval1-3_train/')\n",
    "\n",
    "# prepare features\n",
    "pipeline = df_processing_pipeline(df_train)\n",
    "pipeline_model = pipeline.fit(df_train)\n",
    "df_train = df_processing(df_train, pipeline_model)\n",
    "df_fit_train = df_feature_assembler(df_train, assembler_columns)\n",
    "\n",
    "# train model\n",
    "model = train_model(df_fit_train, max_depth, min_info_gain, max_bins=64)\n",
    "\n",
    "# save parameters\n",
    "model_dict_final_train = {}\n",
    "model_dict_final_train['params'] = {\n",
    "                        'max_depth': max_depth,\n",
    "                        'min_info_gain': min_info_gain\n",
    "                        }\n",
    "\n",
    "# save metrics\n",
    "\n",
    "train_metrics = model_metrics(model, df_fit_train)\n",
    "\n",
    "train_metrics_dict =   {'Precision': train_metrics[0],\n",
    "                        'Recall': train_metrics[1],\n",
    "                        'Fbeta': train_metrics[2],\n",
    "                        }\n",
    "model_dict_final_train['train_metrics'] = train_metrics_dict\n",
    "\n",
    "# save model dict\n",
    "model_summary_final = {}\n",
    "model_summary_final[f'final_train_param_{max_depth}_{min_info_gain}'] = model_dict_final_train\n",
    "\n",
    "# save model and pipeline\n",
    "# pipeline_model.write().save(f'{team_blob_url}/JD/models/dt_2015-2018_best_model_pipeline')\n",
    "# model.save(f'{team_blob_url}/JD/models/dt_2015-2018_best_model/')"
   ]
  },
  {
   "cell_type": "markdown",
   "metadata": {
    "application/vnd.databricks.v1+cell": {
     "cellMetadata": {},
     "inputWidgets": {},
     "nuid": "5e625c56-21a9-4344-b1bd-4c89d9f869f9",
     "showTitle": false,
     "tableResultSettingsMap": {},
     "title": ""
    }
   },
   "source": [
    "## Evaluation"
   ]
  },
  {
   "cell_type": "code",
   "execution_count": 0,
   "metadata": {
    "application/vnd.databricks.v1+cell": {
     "cellMetadata": {
      "byteLimit": 2048000,
      "rowLimit": 10000
     },
     "inputWidgets": {},
     "nuid": "3928b3a8-128a-4fed-af3d-9c42664a1a12",
     "showTitle": false,
     "tableResultSettingsMap": {},
     "title": ""
    }
   },
   "outputs": [
    {
     "output_type": "display_data",
     "data": {
      "text/html": [
       "<style scoped>\n",
       "  .table-result-container {\n",
       "    max-height: 300px;\n",
       "    overflow: auto;\n",
       "  }\n",
       "  table, th, td {\n",
       "    border: 1px solid black;\n",
       "    border-collapse: collapse;\n",
       "  }\n",
       "  th, td {\n",
       "    padding: 5px;\n",
       "  }\n",
       "  th {\n",
       "    text-align: left;\n",
       "  }\n",
       "</style><div class='table-result-container'><table class='table-result'><thead style='background-color: white'><tr><th>path</th><th>name</th><th>size</th><th>modificationTime</th></tr></thead><tbody><tr><td>wasbs://261-final-project@ansonbquon.blob.core.windows.net/PRD/xval_2020/df_final_val/</td><td>df_final_val/</td><td>0</td><td>1734024624000</td></tr><tr><td>wasbs://261-final-project@ansonbquon.blob.core.windows.net/PRD/xval_2020/df_xval1_test/</td><td>df_xval1_test/</td><td>0</td><td>1734024323000</td></tr><tr><td>wasbs://261-final-project@ansonbquon.blob.core.windows.net/PRD/xval_2020/df_xval1_train/</td><td>df_xval1_train/</td><td>0</td><td>1734024376000</td></tr><tr><td>wasbs://261-final-project@ansonbquon.blob.core.windows.net/PRD/xval_2020/df_xval2_test/</td><td>df_xval2_test/</td><td>0</td><td>1734024425000</td></tr><tr><td>wasbs://261-final-project@ansonbquon.blob.core.windows.net/PRD/xval_2020/df_xval2_train/</td><td>df_xval2_train/</td><td>0</td><td>1734024477000</td></tr><tr><td>wasbs://261-final-project@ansonbquon.blob.core.windows.net/PRD/xval_2020/df_xval3_test/</td><td>df_xval3_test/</td><td>0</td><td>1734024527000</td></tr><tr><td>wasbs://261-final-project@ansonbquon.blob.core.windows.net/PRD/xval_2020/df_xval3_train/</td><td>df_xval3_train/</td><td>0</td><td>1734024586000</td></tr></tbody></table></div>"
      ]
     },
     "metadata": {
      "application/vnd.databricks.v1+output": {
       "addedWidgets": {},
       "aggData": [],
       "aggError": "",
       "aggOverflow": false,
       "aggSchema": [],
       "aggSeriesLimitReached": false,
       "aggType": "",
       "arguments": {},
       "columnCustomDisplayInfos": {},
       "data": [
        [
         "wasbs://261-final-project@ansonbquon.blob.core.windows.net/PRD/xval_2020/df_final_val/",
         "df_final_val/",
         0,
         1734024624000
        ],
        [
         "wasbs://261-final-project@ansonbquon.blob.core.windows.net/PRD/xval_2020/df_xval1_test/",
         "df_xval1_test/",
         0,
         1734024323000
        ],
        [
         "wasbs://261-final-project@ansonbquon.blob.core.windows.net/PRD/xval_2020/df_xval1_train/",
         "df_xval1_train/",
         0,
         1734024376000
        ],
        [
         "wasbs://261-final-project@ansonbquon.blob.core.windows.net/PRD/xval_2020/df_xval2_test/",
         "df_xval2_test/",
         0,
         1734024425000
        ],
        [
         "wasbs://261-final-project@ansonbquon.blob.core.windows.net/PRD/xval_2020/df_xval2_train/",
         "df_xval2_train/",
         0,
         1734024477000
        ],
        [
         "wasbs://261-final-project@ansonbquon.blob.core.windows.net/PRD/xval_2020/df_xval3_test/",
         "df_xval3_test/",
         0,
         1734024527000
        ],
        [
         "wasbs://261-final-project@ansonbquon.blob.core.windows.net/PRD/xval_2020/df_xval3_train/",
         "df_xval3_train/",
         0,
         1734024586000
        ]
       ],
       "datasetInfos": [],
       "dbfsResultPath": null,
       "isJsonSchema": true,
       "metadata": {},
       "overflow": false,
       "plotOptions": {
        "customPlotOptions": {},
        "displayType": "table",
        "pivotAggregation": null,
        "pivotColumns": null,
        "xColumns": null,
        "yColumns": null
       },
       "removedWidgets": [],
       "schema": [
        {
         "metadata": "{}",
         "name": "path",
         "type": "\"string\""
        },
        {
         "metadata": "{}",
         "name": "name",
         "type": "\"string\""
        },
        {
         "metadata": "{}",
         "name": "size",
         "type": "\"long\""
        },
        {
         "metadata": "{}",
         "name": "modificationTime",
         "type": "\"long\""
        }
       ],
       "type": "table"
      }
     },
     "output_type": "display_data"
    }
   ],
   "source": [
    "display(dbutils.fs.ls(f\"{team_blob_url}/PRD/xval_2020\"))"
   ]
  },
  {
   "cell_type": "code",
   "execution_count": 0,
   "metadata": {
    "application/vnd.databricks.v1+cell": {
     "cellMetadata": {
      "byteLimit": 2048000,
      "rowLimit": 10000
     },
     "inputWidgets": {},
     "nuid": "7286a9aa-769d-4778-8f8a-9913df5d3fa7",
     "showTitle": false,
     "tableResultSettingsMap": {},
     "title": ""
    }
   },
   "outputs": [],
   "source": [
    "# load saved model and pipeline:\n",
    "model = DecisionTreeClassificationModel.load(f'{team_blob_url}/JD/models/dt_2015-2018_best_model/')\n",
    "pipeline_model = PipelineModel.load(f'{team_blob_url}/JD/models/dt_2015-2018_best_model_pipeline')"
   ]
  },
  {
   "cell_type": "code",
   "execution_count": 0,
   "metadata": {
    "application/vnd.databricks.v1+cell": {
     "cellMetadata": {
      "byteLimit": 2048000,
      "rowLimit": 10000
     },
     "inputWidgets": {},
     "nuid": "59fdd7e7-8fab-4020-bbb7-e14fadc85e32",
     "showTitle": false,
     "tableResultSettingsMap": {},
     "title": ""
    }
   },
   "outputs": [
    {
     "output_type": "display_data",
     "data": {
      "application/vnd.jupyter.widget-view+json": {
       "model_id": "811e18df4de74de981d4ffb2b4a516c1",
       "version_major": 2,
       "version_minor": 0
      },
      "text/plain": [
       "Downloading artifacts:   0%|          | 0/30 [00:00<?, ?it/s]"
      ]
     },
     "metadata": {},
     "output_type": "display_data"
    },
    {
     "output_type": "display_data",
     "data": {
      "application/vnd.jupyter.widget-view+json": {
       "model_id": "5326c39ac345463492996efc90ab384f",
       "version_major": 2,
       "version_minor": 0
      },
      "text/plain": [
       "Uploading artifacts:   0%|          | 0/4 [00:00<?, ?it/s]"
      ]
     },
     "metadata": {},
     "output_type": "display_data"
    },
    {
     "output_type": "display_data",
     "data": {
      "application/vnd.jupyter.widget-view+json": {
       "model_id": "d6353123cdbe4a2da5a52e100c127975",
       "version_major": 2,
       "version_minor": 0
      },
      "text/plain": [
       "Downloading artifacts:   0%|          | 0/20 [00:00<?, ?it/s]"
      ]
     },
     "metadata": {},
     "output_type": "display_data"
    },
    {
     "output_type": "display_data",
     "data": {
      "application/vnd.jupyter.widget-view+json": {
       "model_id": "dcbc0d50dbf7404db12c8fa65b1fd5f5",
       "version_major": 2,
       "version_minor": 0
      },
      "text/plain": [
       "Uploading artifacts:   0%|          | 0/4 [00:00<?, ?it/s]"
      ]
     },
     "metadata": {},
     "output_type": "display_data"
    }
   ],
   "source": [
    "# TEST\n",
    "# load data\n",
    "# df_test = spark.read.parquet(f'{team_blob_url}/PRD/xval/df_final_val/') # 2019 validation\n",
    "df_test = spark.read.parquet(f'{team_blob_url}/PRD/xval_2020/df_final_val/') # 2020 validation\n",
    "\n",
    "# prepare features\n",
    "pipeline = df_processing_pipeline(df_test)\n",
    "pipeline_model = pipeline.fit(df_test)\n",
    "df_test = df_processing(df_test, pipeline_model)\n",
    "df_fit_test = df_feature_assembler(df_test, assembler_columns)\n",
    "\n",
    "# save parameters\n",
    "model_dict_final_test = {}\n",
    "model_dict_final_test['params'] = {\n",
    "                        'max_depth': max_depth,\n",
    "                        'min_info_gain': min_info_gain\n",
    "                        }\n",
    "\n",
    "# metrics\n",
    "test_metrics = model_metrics(model, df_fit_test)\n",
    "test_metrics_dict =   {'Precision': test_metrics[0],\n",
    "                        'Recall': test_metrics[1],\n",
    "                        'Fbeta': test_metrics[2],\n",
    "                        }\n",
    "model_dict_final_test['test_metrics'] = test_metrics_dict\n",
    "model_summary_final = {} # uncomment if only test\n",
    "model_summary_final[f'final_test_param_{max_depth}_{min_info_gain}'] = model_dict_final_test"
   ]
  },
  {
   "cell_type": "code",
   "execution_count": 0,
   "metadata": {
    "application/vnd.databricks.v1+cell": {
     "cellMetadata": {
      "byteLimit": 2048000,
      "rowLimit": 10000
     },
     "inputWidgets": {},
     "nuid": "6432fa30-eeaa-483e-a6ce-3873d793ee13",
     "showTitle": false,
     "tableResultSettingsMap": {},
     "title": ""
    }
   },
   "outputs": [
    {
     "output_type": "execute_result",
     "data": {
      "text/plain": [
       "{'final_test_param_6_0.01': {'params': {'max_depth': 6, 'min_info_gain': 0.01},\n",
       "  'test_metrics': {'Precision': 0.24436212617651357,\n",
       "   'Recall': 0.6166692560690765,\n",
       "   'Fbeta': 0.47264579276582414}}}"
      ]
     },
     "execution_count": 31,
     "metadata": {},
     "output_type": "execute_result"
    }
   ],
   "source": [
    "model_summary_final"
   ]
  },
  {
   "cell_type": "markdown",
   "metadata": {
    "application/vnd.databricks.v1+cell": {
     "cellMetadata": {},
     "inputWidgets": {},
     "nuid": "369b0f86-56fd-4f41-82f7-7de4f6467da5",
     "showTitle": false,
     "tableResultSettingsMap": {},
     "title": ""
    }
   },
   "source": [
    "## Decision Tree Metadata"
   ]
  },
  {
   "cell_type": "code",
   "execution_count": 0,
   "metadata": {
    "application/vnd.databricks.v1+cell": {
     "cellMetadata": {
      "byteLimit": 2048000,
      "rowLimit": 10000
     },
     "inputWidgets": {},
     "nuid": "157bdd2e-9d7f-47e0-9123-27d4b31e12b9",
     "showTitle": false,
     "tableResultSettingsMap": {},
     "title": ""
    }
   },
   "outputs": [
    {
     "output_type": "execute_result",
     "data": {
      "text/plain": [
       "{'ml_attr': {'attrs': {'numeric': [{'idx': 0, 'name': 'timeBtwFlightsPlanned'},\n",
       "    {'idx': 1, 'name': 'hourlyAltimeterSetting'},\n",
       "    {'idx': 2, 'name': 'hourlyDewPointTemperature'},\n",
       "    {'idx': 3, 'name': 'hourlyDryBulbTemperature'},\n",
       "    {'idx': 4, 'name': 'hourlyPrecipitation'},\n",
       "    {'idx': 5, 'name': 'hourlyWetBulbTemperature'},\n",
       "    {'idx': 6, 'name': 'hourlyWindDirection'},\n",
       "    {'idx': 7, 'name': 'hourlyWindGustSpeed'},\n",
       "    {'idx': 8, 'name': 'hourlyWindSpeed'},\n",
       "    {'idx': 9, 'name': 'crsDepTimeSine'},\n",
       "    {'idx': 10, 'name': 'monthSine'},\n",
       "    {'idx': 11, 'name': 'dayOfWeekSine'},\n",
       "    {'idx': 12, 'name': 'originPageRank'},\n",
       "    {'idx': 13, 'name': 'destPageRank'}],\n",
       "   'nominal': [{'vals': ['13',\n",
       "      '6',\n",
       "      '23',\n",
       "      '7',\n",
       "      '10',\n",
       "      '20',\n",
       "      '17',\n",
       "      '3',\n",
       "      '19',\n",
       "      '16',\n",
       "      '12',\n",
       "      '9',\n",
       "      '5',\n",
       "      '4',\n",
       "      '18',\n",
       "      '14',\n",
       "      '27',\n",
       "      '2',\n",
       "      '21',\n",
       "      '24',\n",
       "      '8',\n",
       "      '1',\n",
       "      '11',\n",
       "      '22',\n",
       "      '15',\n",
       "      '26',\n",
       "      '28',\n",
       "      '29',\n",
       "      '25',\n",
       "      '30',\n",
       "      '31',\n",
       "      '__unknown'],\n",
       "     'idx': 14,\n",
       "     'name': 'dayOfMonthIndex'},\n",
       "    {'vals': ['WN',\n",
       "      'OO',\n",
       "      'AA',\n",
       "      'DL',\n",
       "      'UA',\n",
       "      'MQ',\n",
       "      'YX',\n",
       "      'OH',\n",
       "      '9E',\n",
       "      'NK',\n",
       "      'AS',\n",
       "      'B6',\n",
       "      'YV',\n",
       "      'G4',\n",
       "      'F9',\n",
       "      'EV',\n",
       "      'HA',\n",
       "      '__unknown'],\n",
       "     'idx': 15,\n",
       "     'name': 'opUniqueCarrierIndex'},\n",
       "    {'vals': ['2020', '2019', '__unknown'], 'idx': 16, 'name': 'yearIndex'},\n",
       "    {'vals': ['large_airport', 'medium_airport', 'small_airport', '__unknown'],\n",
       "     'idx': 17,\n",
       "     'name': 'originTypeIndex'},\n",
       "    {'vals': ['large_airport', 'medium_airport', 'small_airport', '__unknown'],\n",
       "     'idx': 18,\n",
       "     'name': 'destTypeIndex'},\n",
       "    {'vals': ['0.0', '-999.0', '1.0', '__unknown'],\n",
       "     'idx': 19,\n",
       "     'name': 'depDel15PrevFIndex'},\n",
       "    {'vals': ['-999.0', '0.0', '1.0', '__unknown'],\n",
       "     'idx': 20,\n",
       "     'name': 'arrDel15PrevFIndex'},\n",
       "    {'vals': ['US-TX',\n",
       "      'US-CA',\n",
       "      'US-FL',\n",
       "      'US-GA',\n",
       "      'US-IL',\n",
       "      'US-NC',\n",
       "      'US-CO',\n",
       "      'US-NY',\n",
       "      'US-AZ',\n",
       "      'US-MI',\n",
       "      'US-NV',\n",
       "      'US-WA',\n",
       "      'US-PA',\n",
       "      'US-DC',\n",
       "      'US-MN',\n",
       "      'US-UT',\n",
       "      'US-TN',\n",
       "      'US-MO',\n",
       "      'US-NJ',\n",
       "      'US-MA',\n",
       "      'US-MD',\n",
       "      'US-OH',\n",
       "      'US-HI',\n",
       "      'US-LA',\n",
       "      'US-KY',\n",
       "      'US-OR',\n",
       "      'US-IN',\n",
       "      'US-SC',\n",
       "      'US-WI',\n",
       "      'US-VA',\n",
       "      'US-AK',\n",
       "      'US-OK',\n",
       "      'US-AL',\n",
       "      'US-NE',\n",
       "      'US-ID',\n",
       "      'US-IA',\n",
       "      'US-MT',\n",
       "      'US-AR',\n",
       "      'US-NM',\n",
       "      'US-CT',\n",
       "      'US-ND',\n",
       "      'US-SD',\n",
       "      'US-KS',\n",
       "      'US-MS',\n",
       "      'US-WY',\n",
       "      'US-RI',\n",
       "      'US-ME',\n",
       "      'US-NH',\n",
       "      'US-WV',\n",
       "      'VI-U-A',\n",
       "      'US-VT',\n",
       "      'PR-U-A',\n",
       "      '__unknown'],\n",
       "     'idx': 21,\n",
       "     'name': 'originIsoRegionIndex'},\n",
       "    {'vals': ['US-TX',\n",
       "      'US-CA',\n",
       "      'US-FL',\n",
       "      'US-GA',\n",
       "      'US-IL',\n",
       "      'US-NC',\n",
       "      'US-CO',\n",
       "      'US-NY',\n",
       "      'US-AZ',\n",
       "      'US-MI',\n",
       "      'US-NV',\n",
       "      'US-WA',\n",
       "      'US-PA',\n",
       "      'US-MN',\n",
       "      'US-DC',\n",
       "      'US-UT',\n",
       "      'US-TN',\n",
       "      'US-MO',\n",
       "      'US-NJ',\n",
       "      'US-MA',\n",
       "      'US-OH',\n",
       "      'US-MD',\n",
       "      'US-HI',\n",
       "      'US-LA',\n",
       "      'US-KY',\n",
       "      'US-OR',\n",
       "      'US-IN',\n",
       "      'US-SC',\n",
       "      'US-WI',\n",
       "      'US-VA',\n",
       "      'US-AK',\n",
       "      'US-OK',\n",
       "      'US-AL',\n",
       "      'US-NE',\n",
       "      'US-ID',\n",
       "      'PR-U-A',\n",
       "      'US-MT',\n",
       "      'US-IA',\n",
       "      'US-AR',\n",
       "      'US-NM',\n",
       "      'US-CT',\n",
       "      'US-ND',\n",
       "      'US-KS',\n",
       "      'US-SD',\n",
       "      'US-MS',\n",
       "      'US-RI',\n",
       "      'US-ME',\n",
       "      'US-WY',\n",
       "      'US-NH',\n",
       "      'US-WV',\n",
       "      'US-VT',\n",
       "      'VI-U-A',\n",
       "      'GU-U-A',\n",
       "      'AS-U-A',\n",
       "      '__unknown'],\n",
       "     'idx': 22,\n",
       "     'name': 'destIsoRegionIndex'}]},\n",
       "  'num_attrs': 23}}"
      ]
     },
     "execution_count": 32,
     "metadata": {},
     "output_type": "execute_result"
    }
   ],
   "source": [
    "df_fit_test.schema['features'].metadata"
   ]
  },
  {
   "cell_type": "code",
   "execution_count": 0,
   "metadata": {
    "application/vnd.databricks.v1+cell": {
     "cellMetadata": {
      "byteLimit": 2048000,
      "rowLimit": 10000
     },
     "inputWidgets": {},
     "nuid": "4fb97c38-0d41-400a-8e70-054c5b1ef041",
     "showTitle": false,
     "tableResultSettingsMap": {},
     "title": ""
    }
   },
   "outputs": [
    {
     "output_type": "stream",
     "name": "stdout",
     "output_type": "stream",
     "text": [
      "Number of Nodes: 131\nDepth of Tree: 10\nDecisionTreeClassificationModel: uid=DecisionTreeClassifier_86c063f077ec, depth=10, numNodes=131, numClasses=2, numFeatures=23\n  If (hourlyAltimeterSetting9 in {1.0,2.0})\n   If (crsDepTimeSine <= 0.585)\n    If (hourlyAltimeterSetting2 <= 0.12321908821488532)\n     If (hourlyAltimeterSetting9 in {2.0})\n      If (timeBtwFlightsPlanned <= 100.5)\n       Predict: 0.0\n      Else (timeBtwFlightsPlanned > 100.5)\n       If (hourlyDewPointTemperature0 in {0.0})\n        If (hourlyDewPointTemperature1 in {0.0,1.0,2.0,4.0,5.0,6.0,7.0,8.0,9.0,10.0,11.0,12.0,13.0,16.0,18.0,21.0,22.0,23.0,25.0,26.0,27.0,28.0,29.0,30.0,31.0,32.0,33.0,34.0,35.0,36.0,37.0,38.0,39.0,40.0,41.0,43.0,44.0,45.0,46.0,47.0,48.0})\n         If (timeBtwFlightsPlanned <= 161.5)\n          If (hourlyDewPointTemperature1 in {4.0,12.0,21.0,39.0,40.0,43.0,47.0,48.0})\n           Predict: 0.0\n          Else (hourlyDewPointTemperature1 not in {4.0,12.0,21.0,39.0,40.0,43.0,47.0,48.0})\n           If (hourlyAltimeterSetting5 in {0.0,1.0,2.0,3.0,4.0,6.0,7.0,8.0,9.0,10.0})\n            Predict: 0.0\n           Else (hourlyAltimeterSetting5 not in {0.0,1.0,2.0,3.0,4.0,6.0,7.0,8.0,9.0,10.0})\n            Predict: 1.0\n         Else (timeBtwFlightsPlanned > 161.5)\n          If (hourlyAltimeterSetting5 in {3.0,6.0,7.0,9.0,10.0,11.0})\n           If (hourlyAltimeterSetting4 in {0.0,1.0,2.0,3.0,4.0,5.0,6.0,7.0,8.0,9.0,12.0,15.0,17.0,18.0,19.0,21.0,22.0,24.0,25.0,26.0,27.0,28.0})\n            Predict: 0.0\n           Else (hourlyAltimeterSetting4 not in {0.0,1.0,2.0,3.0,4.0,5.0,6.0,7.0,8.0,9.0,12.0,15.0,17.0,18.0,19.0,21.0,22.0,24.0,25.0,26.0,27.0,28.0})\n            Predict: 1.0\n          Else (hourlyAltimeterSetting5 not in {3.0,6.0,7.0,9.0,10.0,11.0})\n           If (hourlyAltimeterSetting4 in {0.0,1.0,5.0,8.0,12.0,16.0,17.0,24.0,26.0})\n            Predict: 0.0\n           Else (hourlyAltimeterSetting4 not in {0.0,1.0,5.0,8.0,12.0,16.0,17.0,24.0,26.0})\n            Predict: 1.0\n        Else (hourlyDewPointTemperature1 not in {0.0,1.0,2.0,4.0,5.0,6.0,7.0,8.0,9.0,10.0,11.0,12.0,13.0,16.0,18.0,21.0,22.0,23.0,25.0,26.0,27.0,28.0,29.0,30.0,31.0,32.0,33.0,34.0,35.0,36.0,37.0,38.0,39.0,40.0,41.0,43.0,44.0,45.0,46.0,47.0,48.0})\n         If (hourlyAltimeterSetting8 in {1.0})\n          If (hourlyAltimeterSetting4 in {1.0,5.0,9.0,25.0,28.0})\n           Predict: 0.0\n          Else (hourlyAltimeterSetting4 not in {1.0,5.0,9.0,25.0,28.0})\n           If (hourlyDryBulbTemperature <= 0.7211538461538461)\n            Predict: 0.0\n           Else (hourlyDryBulbTemperature > 0.7211538461538461)\n            Predict: 1.0\n         Else (hourlyAltimeterSetting8 not in {1.0})\n          If (hourlyAltimeterSetting4 in {0.0,1.0,2.0,4.0,5.0,6.0,7.0,9.0,10.0,11.0,13.0,15.0,17.0,18.0,19.0,20.0,21.0,22.0,23.0,24.0,26.0,27.0,29.0,30.0})\n           Predict: 0.0\n          Else (hourlyAltimeterSetting4 not in {0.0,1.0,2.0,4.0,5.0,6.0,7.0,9.0,10.0,11.0,13.0,15.0,17.0,18.0,19.0,20.0,21.0,22.0,23.0,24.0,26.0,27.0,29.0,30.0})\n           If (hourlyAltimeterSetting3 <= 0.3835572842744863)\n            Predict: 1.0\n           Else (hourlyAltimeterSetting3 > 0.3835572842744863)\n            Predict: 0.0\n       Else (hourlyDewPointTemperature0 not in {0.0})\n        If (timeBtwFlightsPlanned <= 1259.5)\n         If (hourlyDewPointTemperature1 in {0.0,1.0,2.0,3.0,4.0,5.0,6.0,7.0,8.0,9.0,10.0,11.0,12.0,13.0,16.0,18.0,21.0,22.0,23.0,24.0,25.0,26.0,27.0,28.0,29.0,30.0,31.0,32.0,33.0,34.0,35.0,36.0,37.0,38.0,39.0,40.0,41.0,42.0,43.0,44.0,45.0,46.0,47.0,48.0,49.0})\n          If (hourlyDewPointTemperature0 in {1.0})\n           If (hourlyAltimeterSetting4 in {1.0,2.0,8.0,9.0,12.0,15.0,18.0,26.0})\n            Predict: 0.0\n           Else (hourlyAltimeterSetting4 not in {1.0,2.0,8.0,9.0,12.0,15.0,18.0,26.0})\n            Predict: 1.0\n          Else (hourlyDewPointTemperature0 not in {1.0})\n           Predict: 0.0\n         Else (hourlyDewPointTemperature1 not in {0.0,1.0,2.0,3.0,4.0,5.0,6.0,7.0,8.0,9.0,10.0,11.0,12.0,13.0,16.0,18.0,21.0,22.0,23.0,24.0,25.0,26.0,27.0,28.0,29.0,30.0,31.0,32.0,33.0,34.0,35.0,36.0,37.0,38.0,39.0,40.0,41.0,42.0,43.0,44.0,45.0,46.0,47.0,48.0,49.0})\n          If (hourlyAltimeterSetting5 in {1.0,2.0,8.0,9.0,13.0})\n           If (hourlyWindGustSpeed <= 0.20044413945597683)\n            Predict: 1.0\n           Else (hourlyWindGustSpeed > 0.20044413945597683)\n            Predict: 0.0\n          Else (hourlyAltimeterSetting5 not in {1.0,2.0,8.0,9.0,13.0})\n           If (hourlyAltimeterSetting4 in {11.0,16.0,29.0})\n            Predict: 0.0\n           Else (hourlyAltimeterSetting4 not in {11.0,16.0,29.0})\n            Predict: 1.0\n        Else (timeBtwFlightsPlanned > 1259.5)\n         If (hourlyDewPointTemperature1 in {0.0,1.0,2.0,3.0,4.0,5.0,6.0,7.0,9.0,10.0,11.0,12.0,13.0,18.0,21.0,22.0,23.0,25.0,26.0,27.0,28.0,29.0,30.0,31.0,32.0,33.0,34.0,35.0,36.0,37.0,38.0,39.0,40.0,41.0,43.0,44.0,45.0,46.0,48.0,49.0})\n          Predict: 0.0\n         Else (hourlyDewPointTemperature1 not in {0.0,1.0,2.0,3.0,4.0,5.0,6.0,7.0,9.0,10.0,11.0,12.0,13.0,18.0,21.0,22.0,23.0,25.0,26.0,27.0,28.0,29.0,30.0,31.0,32.0,33.0,34.0,35.0,36.0,37.0,38.0,39.0,40.0,41.0,43.0,44.0,45.0,46.0,48.0,49.0})\n          If (hourlyAltimeterSetting4 in {3.0,5.0,6.0,7.0,10.0,11.0,14.0,18.0,22.0,30.0})\n           If (hourlyDewPointTemperature2 in {0.0,1.0,4.0,7.0,11.0,18.0,22.0,24.0})\n            Predict: 0.0\n           Else (hourlyDewPointTemperature2 not in {0.0,1.0,4.0,7.0,11.0,18.0,22.0,24.0})\n            Predict: 1.0\n          Else (hourlyAltimeterSetting4 not in {3.0,5.0,6.0,7.0,10.0,11.0,14.0,18.0,22.0,30.0})\n           If (hourlyAltimeterSetting3 <= 0.40369392211407407)\n            Predict: 1.0\n           Else (hourlyAltimeterSetting3 > 0.40369392211407407)\n            Predict: 0.0\n     Else (hourlyAltimeterSetting9 not in {2.0})\n      If (hourlyAltimeterSetting3 <= 0.12470792442460593)\n       If (hourlyDewPointTemperature2 in {0.0,2.0,5.0,6.0,10.0,11.0,12.0,14.0,16.0,30.0,31.0,33.0,37.0,39.0,40.0,42.0,43.0,46.0,51.0})\n        If (hourlyDewPointTemperature1 in {2.0,5.0,11.0,12.0,16.0,20.0,26.0,31.0,36.0,38.0,39.0,44.0,45.0,50.0})\n         If (hourlyDewPointTemperature1 in {2.0,11.0,12.0,16.0,20.0,26.0,31.0,36.0,39.0,44.0})\n          Predict: 0.0\n         Else (hourlyDewPointTemperature1 not in {2.0,11.0,12.0,16.0,20.0,26.0,31.0,36.0,39.0,44.0})\n          If (crsDepTimeSine <= -0.405)\n           If (hourlyAltimeterSetting3 <= 0.018159765070354612)\n            Predict: 1.0\n           Else (hourlyAltimeterSetting3 > 0.018159765070354612)\n            Predict: 0.0\n          Else (crsDepTimeSine > -0.405)\n           If (hourlyAltimeterSetting4 in {2.0,8.0,16.0,17.0,21.0,22.0,26.0,29.0})\n            Predict: 0.0\n           Else (hourlyAltimeterSetting4 not in {2.0,8.0,16.0,17.0,21.0,22.0,26.0,29.0})\n            Predict: 1.0\n        Else (hourlyDewPointTemperature1 not in {2.0,5.0,11.0,12.0,16.0,20.0,26.0,31.0,36.0,38.0,39.0,44.0,45.0,50.0})\n         Predict: 0.0\n       Else (hourlyDewPointTemperature2 not in {0.0,2.0,5.0,6.0,10.0,11.0,12.0,14.0,16.0,30.0,31.0,33.0,37.0,39.0,40.0,42.0,43.0,46.0,51.0})\n        If (hourlyAltimeterSetting <= 0.5488889005241346)\n         If (hourlyAltimeterSetting <= 0.46343089860830855)\n          If (hourlyAltimeterSetting0 <= -0.685)\n           If (hourlyDewPointTemperature <= 0.8073770491803278)\n            Predict: 0.0\n           Else (hourlyDewPointTemperature > 0.8073770491803278)\n            Predict: 1.0\n          Else (hourlyAltimeterSetting0 > -0.685)\n           If (crsDepTimeSine <= 0.295)\n            Predict: 0.0\n           Else (crsDepTimeSine > 0.295)\n            Predict: 1.0\n         Else (hourlyAltimeterSetting > 0.46343089860830855)\n          Predict: 1.0\n        Else (hourlyAltimeterSetting > 0.5488889005241346)\n         Predict: 1.0\n      Else (hourlyAltimeterSetting3 > 0.12470792442460593)\n       Predict: 0.0\n    Else (hourlyAltimeterSetting2 > 0.12321908821488532)\n     Predict: 0.0\n   Else (crsDepTimeSine > 0.585)\n    If (timeBtwFlightsPlanned <= 242.5)\n     If (hourlyAltimeterSetting9 in {2.0})\n      If (timeBtwFlightsPlanned <= 89.5)\n       Predict: 0.0\n      Else (timeBtwFlightsPlanned > 89.5)\n       If (hourlyDewPointTemperature0 in {1.0})\n        If (hourlyAltimeterSetting2 <= 0.36859087319340594)\n         If (hourlyWindSpeed <= 0.19711538461538464)\n          If (hourlyDewPointTemperature2 in {13.0})\n           If (hourlyAltimeterSetting <= 0.6158542178276134)\n            Predict: 0.0\n           Else (hourlyAltimeterSetting > 0.6158542178276134)\n            Predict: 1.0\n          Else (hourlyDewPointTemperature2 not in {13.0})\n           Predict: 1.0\n         Else (hourlyWindSpeed > 0.19711538461538464)\n          Predict: 0.0\n        Else (hourlyAltimeterSetting2 > 0.36859087319340594)\n         If (hourlyAltimeterSetting4 in {8.0,9.0,10.0,13.0,16.0,19.0,28.0})\n          If (hourlyAltimeterSetting0 <= 0.935)\n           Predict: 0.0\n          Else (hourlyAltimeterSetting0 > 0.935)\n           Predict: 1.0\n         Else (hourlyAltimeterSetting4 not in {8.0,9.0,10.0,13.0,16.0,19.0,28.0})\n          If (hourlyDewPointTemperature2 in {3.0,4.0,6.0,13.0,41.0})\n           If (hourlyWindDirection <= 0.4787808641975309)\n            Predict: 1.0\n           Else (hourlyWindDirection > 0.4787808641975309)\n            Predict: 0.0\n          Else (hourlyDewPointTemperature2 not in {3.0,4.0,6.0,13.0,41.0})\n           Predict: 1.0\n       Else (hourlyDewPointTemperature0 not in {1.0})\n        Predict: 0.0\n     Else (hourlyAltimeterSetting9 not in {2.0})\n      If (hourlyAltimeterSetting2 <= 0.1350396624216654)\n       If (hourlyAltimeterSetting3 <= 0.1494493120630351)\n        If (hourlyDewPointTemperature1 in {1.0,2.0,30.0,31.0})\n         If (hourlyAltimeterSetting4 in {0.0,1.0,2.0,4.0,5.0,6.0,9.0,13.0,16.0,17.0,19.0,21.0,24.0,26.0,28.0,30.0})\n          Predict: 0.0\n         Else (hourlyAltimeterSetting4 not in {0.0,1.0,2.0,4.0,5.0,6.0,9.0,13.0,16.0,17.0,19.0,21.0,24.0,26.0,28.0,30.0})\n          If (timeBtwFlightsPlanned <= 31.5)\n           Predict: 0.0\n          Else (timeBtwFlightsPlanned > 31.5)\n           Predict: 1.0\n        Else (hourlyDewPointTemperature1 not in {1.0,2.0,30.0,31.0})\n         Predict: 1.0\n       Else (hourlyAltimeterSetting3 > 0.1494493120630351)\n        If (hourlyAltimeterSetting5 in {1.0,2.0,3.0,4.0,5.0,6.0,7.0,9.0,10.0,11.0})\n         Predict: 0.0\n        Else (hourlyAltimeterSetting5 not in {1.0,2.0,3.0,4.0,5.0,6.0,7.0,9.0,10.0,11.0})\n         Predict: 1.0\n      Else (hourlyAltimeterSetting2 > 0.1350396624216654)\n       If (crsDepTimeSine <= 0.865)\n        Predict: 0.0\n       Else (crsDepTimeSine > 0.865)\n        If (timeBtwFlightsPlanned <= 24.5)\n         If (hourlyDewPointTemperature2 in {3.0,4.0,6.0,8.0,9.0,11.0,12.0,13.0,14.0,15.0,16.0,17.0,18.0,19.0,20.0,21.0,22.0,26.0,28.0,30.0,34.0,35.0,36.0,37.0,39.0,42.0,43.0,46.0})\n          Predict: 0.0\n         Else (hourlyDewPointTemperature2 not in {3.0,4.0,6.0,8.0,9.0,11.0,12.0,13.0,14.0,15.0,16.0,17.0,18.0,19.0,20.0,21.0,22.0,26.0,28.0,30.0,34.0,35.0,36.0,37.0,39.0,42.0,43.0,46.0})\n          If (hourlyAltimeterSetting4 in {1.0,2.0,4.0,6.0,8.0,9.0,11.0,12.0,14.0,16.0,20.0,22.0,23.0,26.0,27.0,29.0,30.0})\n           Predict: 0.0\n          Else (hourlyAltimeterSetting4 not in {1.0,2.0,4.0,6.0,8.0,9.0,11.0,12.0,14.0,16.0,20.0,22.0,23.0,26.0,27.0,29.0,30.0})\n           If (hourlyAltimeterSetting <= 0.5806209144704726)\n            Predict: 1.0\n           Else (hourlyAltimeterSetting > 0.5806209144704726)\n            Predict: 0.0\n        Else (timeBtwFlightsPlanned > 24.5)\n         If (hourlyPrecipitation <= 0.002083333246219829)\n          Predict: 1.0\n         Else (hourlyPrecipitation > 0.002083333246219829)\n          Predict: 0.0\n    Else (timeBtwFlightsPlanned > 242.5)\n     Predict: 1.0\n  Else (hourlyAltimeterSetting9 not in {1.0,2.0})\n   Predict: 1.0\n\n"
     ]
    }
   ],
   "source": [
    "print('Number of Nodes:', model.numNodes)\n",
    "print('Depth of Tree:', model.depth)\n",
    "\n",
    "debug_string = model.toDebugString\n",
    "\n",
    "for i, feature_name in enumerate(assembler_columns):\n",
    "  debug_string = debug_string.replace(f'feature {i}', feature_name)\n",
    "\n",
    "print(debug_string)"
   ]
  },
  {
   "cell_type": "markdown",
   "metadata": {
    "application/vnd.databricks.v1+cell": {
     "cellMetadata": {},
     "inputWidgets": {},
     "nuid": "665d91b7-f68b-4796-b536-66d69704576f",
     "showTitle": false,
     "tableResultSettingsMap": {},
     "title": ""
    }
   },
   "source": [
    "# Save predictions for evaluation"
   ]
  },
  {
   "cell_type": "code",
   "execution_count": 0,
   "metadata": {
    "application/vnd.databricks.v1+cell": {
     "cellMetadata": {
      "byteLimit": 2048000,
      "rowLimit": 10000
     },
     "inputWidgets": {},
     "nuid": "c6af9702-9a9e-46b5-8843-54bde02395a9",
     "showTitle": false,
     "tableResultSettingsMap": {},
     "title": ""
    }
   },
   "outputs": [
    {
     "output_type": "display_data",
     "data": {
      "application/vnd.jupyter.widget-view+json": {
       "model_id": "c281354669fe42ddae76d84121247d05",
       "version_major": 2,
       "version_minor": 0
      },
      "text/plain": [
       "Downloading artifacts:   0%|          | 0/20 [00:00<?, ?it/s]"
      ]
     },
     "metadata": {},
     "output_type": "display_data"
    },
    {
     "output_type": "display_data",
     "data": {
      "application/vnd.jupyter.widget-view+json": {
       "model_id": "04b9ccca9d1b4fdaaf4d43d014bae17b",
       "version_major": 2,
       "version_minor": 0
      },
      "text/plain": [
       "Uploading artifacts:   0%|          | 0/4 [00:00<?, ?it/s]"
      ]
     },
     "metadata": {},
     "output_type": "display_data"
    },
    {
     "output_type": "display_data",
     "data": {
      "application/vnd.jupyter.widget-view+json": {
       "model_id": "3b69d270e0cd43e5b30b93f352bee06f",
       "version_major": 2,
       "version_minor": 0
      },
      "text/plain": [
       "Downloading artifacts:   0%|          | 0/20 [00:00<?, ?it/s]"
      ]
     },
     "metadata": {},
     "output_type": "display_data"
    },
    {
     "output_type": "display_data",
     "data": {
      "application/vnd.jupyter.widget-view+json": {
       "model_id": "74a66274c4a84ca886e539267e638e4d",
       "version_major": 2,
       "version_minor": 0
      },
      "text/plain": [
       "Uploading artifacts:   0%|          | 0/4 [00:00<?, ?it/s]"
      ]
     },
     "metadata": {},
     "output_type": "display_data"
    }
   ],
   "source": [
    "\n",
    "def df_evaluation_assembler(df, assembler_columns):\n",
    "    \"\"\"\n",
    "    Assembles features and drops columns not used in trianing.\n",
    "    Input:\n",
    "        df: dataframe\n",
    "        assemble_columns: list of features to include in model\n",
    "    Output:\n",
    "        df: dataframe with 'features', 'labels'\n",
    "    \"\"\"\n",
    "    #drop omitted columns\n",
    "    label = 'depDel15'\n",
    "\n",
    "    # Assemble Vectors\n",
    "    label_indexer = StringIndexer(inputCol=label, outputCol='label')\n",
    "    feature_assembler = VectorAssembler(inputCols=assembler_columns, outputCol=\"features\")\n",
    "    pipeline = Pipeline(stages=[label_indexer, feature_assembler])\n",
    "\n",
    "    # Train Model\n",
    "    df_model = pipeline.fit(df).transform(df)\n",
    "\n",
    "    return df_model\n",
    "\n",
    "df_fit_test = df_evaluation_assembler(df_test, assembler_columns)\n",
    "predictions = model.transform(df_fit_test)\n",
    "\n",
    "df_fit_test = df_evaluation_assembler(df_test, assembler_columns)\n",
    "predictions = model.transform(df_fit_test)"
   ]
  },
  {
   "cell_type": "code",
   "execution_count": 0,
   "metadata": {
    "application/vnd.databricks.v1+cell": {
     "cellMetadata": {
      "byteLimit": 2048000,
      "rowLimit": 10000
     },
     "inputWidgets": {},
     "nuid": "9892a499-e95f-44e1-97ef-3c5679d559c7",
     "showTitle": false,
     "tableResultSettingsMap": {},
     "title": ""
    }
   },
   "outputs": [
    {
     "output_type": "display_data",
     "data": {
      "text/html": [
       "<style scoped>\n",
       "  .table-result-container {\n",
       "    max-height: 300px;\n",
       "    overflow: auto;\n",
       "  }\n",
       "  table, th, td {\n",
       "    border: 1px solid black;\n",
       "    border-collapse: collapse;\n",
       "  }\n",
       "  th, td {\n",
       "    padding: 5px;\n",
       "  }\n",
       "  th {\n",
       "    text-align: left;\n",
       "  }\n",
       "</style><div class='table-result-container'><table class='table-result'><thead style='background-color: white'><tr><th>quarter</th><th>month</th><th>dayOfMonth</th><th>dayOfWeek</th><th>opUniqueCarrier</th><th>tailNum</th><th>opCarrierFlNum</th><th>origin</th><th>dest</th><th>crsDepTime</th><th>depDel15</th><th>crsElapsedTime</th><th>distance</th><th>year</th><th>originType</th><th>originIsoRegion</th><th>destType</th><th>destIsoRegion</th><th>originPrevF</th><th>crsDepTimePrevF</th><th>depTimePrevF</th><th>depDel15PrevF</th><th>depDelayGroupPrevF</th><th>depTimeBlkPrevF</th><th>crsArrTimePrevF</th><th>arrTimePrevF</th><th>arrDel15PrevF</th><th>arrDelayGroupPrevF</th><th>arrTimeBlkPrevF</th><th>crsElapsedTimePrevF</th><th>actualElapsedTimePrevF</th><th>distancePrevF</th><th>originTypePrevF</th><th>timeBtwFlights</th><th>timeBtwFlightsPlanned</th><th>hourlyAltimeterSetting</th><th>hourlyDewPointTemperature</th><th>hourlyDryBulbTemperature</th><th>hourlyPrecipitation</th><th>hourlyPressureChange</th><th>hourlyPressureTendency</th><th>hourlyRelativeHumidity</th><th>hourlySeaLevelPressure</th><th>hourlyStationPressure</th><th>hourlyVisibility</th><th>hourlyWetBulbTemperature</th><th>hourlyWindDirection</th><th>hourlyWindGustSpeed</th><th>hourlyWindSpeed</th><th>crsDepTimeSine</th><th>monthSine</th><th>dayOfWeekSine</th><th>daysToNearestHoliday</th><th>originPageRank</th><th>destPageRank</th><th>predictedMeanHourlyPrecipitation</th><th>predictedMeanHourlyVisibility</th><th>predictedMeanHourlyDewPointTemp</th><th>numeric_feat_to_scale</th><th>scaled_features</th><th>quarterIndex</th><th>monthIndex</th><th>dayOfMonthIndex</th><th>dayOfWeekIndex</th><th>opUniqueCarrierIndex</th><th>yearIndex</th><th>originTypeIndex</th><th>destTypeIndex</th><th>depDel15PrevFIndex</th><th>depDelayGroupPrevFIndex</th><th>depTimeBlkPrevFIndex</th><th>arrDel15PrevFIndex</th><th>arrDelayGroupPrevFIndex</th><th>arrTimeBlkPrevFIndex</th><th>originTypePrevFIndex</th><th>tailNumIndex</th><th>opCarrierFlNumIndex</th><th>originIndex</th><th>destIndex</th><th>originIsoRegionIndex</th><th>destIsoRegionIndex</th><th>originPrevFIndex</th><th>tailNumIndexBinIndex0</th><th>tailNumIndexBinIndex1</th><th>tailNumIndexBinIndex2</th><th>tailNumIndexBinIndex3</th><th>tailNumIndexBinIndex4</th><th>tailNumIndexBinIndex5</th><th>tailNumIndexBinIndex6</th><th>tailNumIndexBinIndex7</th><th>tailNumIndexBinIndex8</th><th>tailNumIndexBinIndex9</th><th>tailNumIndexBinIndex10</th><th>tailNumIndexBinIndex11</th><th>tailNumIndexBinIndex12</th><th>opCarrierFlNumIndexBinIndex0</th><th>opCarrierFlNumIndexBinIndex1</th><th>opCarrierFlNumIndexBinIndex2</th><th>opCarrierFlNumIndexBinIndex3</th><th>opCarrierFlNumIndexBinIndex4</th><th>opCarrierFlNumIndexBinIndex5</th><th>opCarrierFlNumIndexBinIndex6</th><th>opCarrierFlNumIndexBinIndex7</th><th>opCarrierFlNumIndexBinIndex8</th><th>opCarrierFlNumIndexBinIndex9</th><th>opCarrierFlNumIndexBinIndex10</th><th>opCarrierFlNumIndexBinIndex11</th><th>opCarrierFlNumIndexBinIndex12</th><th>originIndexBinIndex0</th><th>originIndexBinIndex1</th><th>originIndexBinIndex2</th><th>originIndexBinIndex3</th><th>originIndexBinIndex4</th><th>originIndexBinIndex5</th><th>originIndexBinIndex6</th><th>originIndexBinIndex7</th><th>originIndexBinIndex8</th><th>destIndexBinIndex0</th><th>destIndexBinIndex1</th><th>destIndexBinIndex2</th><th>destIndexBinIndex3</th><th>destIndexBinIndex4</th><th>destIndexBinIndex5</th><th>destIndexBinIndex6</th><th>destIndexBinIndex7</th><th>destIndexBinIndex8</th><th>originIsoRegionIndexBinIndex0</th><th>originIsoRegionIndexBinIndex1</th><th>originIsoRegionIndexBinIndex2</th><th>originIsoRegionIndexBinIndex3</th><th>originIsoRegionIndexBinIndex4</th><th>originIsoRegionIndexBinIndex5</th><th>destIsoRegionIndexBinIndex0</th><th>destIsoRegionIndexBinIndex1</th><th>destIsoRegionIndexBinIndex2</th><th>destIsoRegionIndexBinIndex3</th><th>destIsoRegionIndexBinIndex4</th><th>destIsoRegionIndexBinIndex5</th><th>originPrevFIndexBinIndex0</th><th>originPrevFIndexBinIndex1</th><th>originPrevFIndexBinIndex2</th><th>originPrevFIndexBinIndex3</th><th>originPrevFIndexBinIndex4</th><th>originPrevFIndexBinIndex5</th><th>originPrevFIndexBinIndex6</th><th>originPrevFIndexBinIndex7</th><th>originPrevFIndexBinIndex8</th><th>scaled_array</th><th>label</th><th>features</th><th>rawPrediction</th><th>probability</th><th>prediction</th></tr></thead><tbody><tr><td>1</td><td>2</td><td>15</td><td>6</td><td>NK</td><td>N611NK</td><td>1146</td><td>EWR</td><td>ATL</td><td>1426</td><td>0.0</td><td>0.296010296010296</td><td>0.14153178049743387</td><td>2020</td><td>large_airport</td><td>US-NJ</td><td>large_airport</td><td>US-GA</td><td>RSW</td><td>1045</td><td>1102</td><td>1.0</td><td>1</td><td>1000-1059</td><td>1335</td><td>1335</td><td>-999.0</td><td>-999</td><td>-999</td><td>170.0</td><td>0.229901269393512</td><td>0.2050927753651796</td><td>large_airport</td><td>0.009606328875494443</td><td>51.0</td><td>0.8582681718206401</td><td>0.4186602870813397</td><td>0.42857142857142855</td><td>0.0</td><td>0.6560846582121419</td><td>0.8888888888888888</td><td>0.393939393939394</td><td>0.7802616975253539</td><td>0.971590906627907</td><td>0.5</td><td>0.4961832061068702</td><td>0.6111111111111112</td><td>0.11945792120992943</td><td>0.0031291908806437194</td><td>-0.59</td><td>0.87</td><td>-0.78</td><td>0.99500998003992</td><td>0.37855794181413444</td><td>1.0</td><td>0.4166085924383306</td><td>0.6047946762285185</td><td>0.5132087908363137</td><td>Map(vectorType -> dense, length -> 25, values -> List(153.0, 746.0, 170.0, 1068.0, 51.0, 30.6200008392334, 5.0, 26.0, 0.0, -0.02666666607062022, 8.0, 40.0, 30.610000610351562, 30.59000015258789, 10.0, 21.0, 220.0, 22.40823147554826, 7.0, -2.0, 0.004858673004573397, 6.615879808463694, 35.48859550319644, 4.708322525024414, 12.103297233581543))</td><td>Map(vectorType -> dense, length -> 25, values -> List(0.296010296010296, 0.14153178049743387, 0.229901269393512, 0.2050927753651796, 0.009606328875494443, 0.8582681718206401, 0.4186602870813397, 0.42857142857142855, 0.0, 0.6560846582121419, 0.8888888888888888, 0.393939393939394, 0.7802616975253539, 0.971590906627907, 0.5, 0.4961832061068702, 0.6111111111111112, 0.11945792120992943, 0.0031291908806437194, 0.99500998003992, 0.4166085924383306, 0.6047946762285185, 0.5132087908363137, 0.37855794181413444, 1.0))</td><td>0.0</td><td>1.0</td><td>24.0</td><td>5.0</td><td>9.0</td><td>0.0</td><td>0.0</td><td>0.0</td><td>2.0</td><td>3.0</td><td>6.0</td><td>0.0</td><td>0.0</td><td>0.0</td><td>0.0</td><td>1742.0</td><td>34.0</td><td>17.0</td><td>0.0</td><td>18.0</td><td>3.0</td><td>38.0</td><td>1</td><td>1</td><td>0</td><td>1</td><td>1</td><td>0</td><td>0</td><td>1</td><td>1</td><td>1</td><td>0</td><td>0</td><td>0</td><td>1</td><td>0</td><td>0</td><td>0</td><td>1</td><td>0</td><td>0</td><td>0</td><td>0</td><td>0</td><td>0</td><td>0</td><td>0</td><td>1</td><td>0</td><td>0</td><td>0</td><td>1</td><td>0</td><td>0</td><td>0</td><td>0</td><td>0</td><td>0</td><td>0</td><td>0</td><td>0</td><td>0</td><td>0</td><td>0</td><td>0</td><td>1</td><td>0</td><td>0</td><td>1</td><td>0</td><td>0</td><td>1</td><td>1</td><td>0</td><td>0</td><td>0</td><td>0</td><td>1</td><td>0</td><td>0</td><td>1</td><td>1</td><td>0</td><td>0</td><td>0</td><td>0</td><td>List(0.296010296010296, 0.14153178049743387, 0.229901269393512, 0.2050927753651796, 0.009606328875494443, 0.8582681718206401, 0.4186602870813397, 0.42857142857142855, 0.0, 0.6560846582121419, 0.8888888888888888, 0.393939393939394, 0.7802616975253539, 0.971590906627907, 0.5, 0.4961832061068702, 0.6111111111111112, 0.11945792120992943, 0.0031291908806437194, 0.99500998003992, 0.4166085924383306, 0.6047946762285185, 0.5132087908363137, 0.37855794181413444, 1.0)</td><td>0.0</td><td>Map(vectorType -> dense, length -> 23, values -> List(51.0, 0.8582681718206401, 0.4186602870813397, 0.42857142857142855, 0.0, 0.4961832061068702, 0.6111111111111112, 0.11945792120992943, 0.0031291908806437194, -0.59, 0.87, -0.78, 0.37855794181413444, 1.0, 24.0, 9.0, 0.0, 0.0, 0.0, 2.0, 0.0, 18.0, 3.0))</td><td>Map(vectorType -> dense, length -> 2, values -> List(417399.0, 92809.0))</td><td>Map(vectorType -> dense, length -> 2, values -> List(0.818095757024586, 0.18190424297541394))</td><td>0.0</td></tr><tr><td>1</td><td>2</td><td>15</td><td>6</td><td>OO</td><td>N108SY</td><td>5492</td><td>COS</td><td>LAX</td><td>1227</td><td>1.0</td><td>0.3178893178893179</td><td>0.15870509277536518</td><td>2020</td><td>large_airport</td><td>US-CO</td><td>large_airport</td><td>US-CA</td><td>IAH</td><td>953</td><td>1111</td><td>1.0</td><td>5</td><td>0900-0959</td><td>1132</td><td>1132</td><td>-999.0</td><td>-999</td><td>-999</td><td>159.0</td><td>0.2143864598025388</td><td>0.15396762731938413</td><td>large_airport</td><td>0.010359766434356753</td><td>55.0</td><td>0.649606402686509</td><td>0.5263157894736842</td><td>0.4583333333333333</td><td>0.0</td><td>0.6349206373609864</td><td>0.0</td><td>0.6363636363636365</td><td>0.5999343909081789</td><td>0.2181816290232597</td><td>0.5</td><td>0.5419847328244275</td><td>0.47222222222222227</td><td>0.1692844677137871</td><td>0.003576218149307108</td><td>-0.12</td><td>0.87</td><td>-0.78</td><td>0.99500998003992</td><td>0.04485850446643913</td><td>0.385984486457127</td><td>0.4166085924383306</td><td>0.6662550994962397</td><td>0.5394046350839161</td><td>Map(vectorType -> dense, length -> 25, values -> List(170.0, 833.0, 159.0, 809.0, 55.0, 30.09000015258789, 20.0, 31.0, 0.0, -0.03999999910593033, 0.0, 64.0, 30.09000015258789, 23.959999084472656, 10.0, 27.0, 170.0, 27.166666666666668, 8.0, -2.0, 0.004858673004573397, 9.265577094177448, 48.038006499521586, 0.7373989820480347, 4.796696186065674))</td><td>Map(vectorType -> dense, length -> 25, values -> List(0.3178893178893179, 0.15870509277536518, 0.2143864598025388, 0.15396762731938413, 0.010359766434356753, 0.649606402686509, 0.5263157894736842, 0.4583333333333333, 0.0, 0.6349206373609864, 0.0, 0.6363636363636365, 0.5999343909081789, 0.2181816290232597, 0.5, 0.5419847328244275, 0.47222222222222227, 0.1692844677137871, 0.003576218149307108, 0.99500998003992, 0.4166085924383306, 0.6662550994962397, 0.5394046350839161, 0.04485850446643913, 0.385984486457127))</td><td>0.0</td><td>1.0</td><td>24.0</td><td>5.0</td><td>1.0</td><td>0.0</td><td>0.0</td><td>0.0</td><td>2.0</td><td>8.0</td><td>7.0</td><td>0.0</td><td>0.0</td><td>0.0</td><td>0.0</td><td>1266.0</td><td>2368.0</td><td>101.0</td><td>5.0</td><td>6.0</td><td>1.0</td><td>10.0</td><td>1</td><td>0</td><td>0</td><td>1</td><td>1</td><td>1</td><td>1</td><td>0</td><td>0</td><td>1</td><td>0</td><td>0</td><td>0</td><td>1</td><td>0</td><td>0</td><td>1</td><td>0</td><td>1</td><td>0</td><td>0</td><td>0</td><td>0</td><td>0</td><td>0</td><td>0</td><td>1</td><td>1</td><td>0</td><td>0</td><td>1</td><td>0</td><td>1</td><td>0</td><td>0</td><td>1</td><td>0</td><td>1</td><td>0</td><td>0</td><td>0</td><td>0</td><td>0</td><td>0</td><td>1</td><td>1</td><td>0</td><td>0</td><td>0</td><td>0</td><td>1</td><td>0</td><td>0</td><td>0</td><td>0</td><td>0</td><td>1</td><td>0</td><td>1</td><td>0</td><td>0</td><td>0</td><td>0</td><td>0</td><td>0</td><td>List(0.3178893178893179, 0.15870509277536518, 0.2143864598025388, 0.15396762731938413, 0.010359766434356753, 0.649606402686509, 0.5263157894736842, 0.4583333333333333, 0.0, 0.6349206373609864, 0.0, 0.6363636363636365, 0.5999343909081789, 0.2181816290232597, 0.5, 0.5419847328244275, 0.47222222222222227, 0.1692844677137871, 0.003576218149307108, 0.99500998003992, 0.4166085924383306, 0.6662550994962397, 0.5394046350839161, 0.04485850446643913, 0.385984486457127)</td><td>1.0</td><td>Map(vectorType -> dense, length -> 23, values -> List(55.0, 0.649606402686509, 0.5263157894736842, 0.4583333333333333, 0.0, 0.5419847328244275, 0.47222222222222227, 0.1692844677137871, 0.003576218149307108, -0.12, 0.87, -0.78, 0.04485850446643913, 0.385984486457127, 24.0, 1.0, 0.0, 0.0, 0.0, 2.0, 0.0, 6.0, 1.0))</td><td>Map(vectorType -> dense, length -> 2, values -> List(22815.0, 3287.0))</td><td>Map(vectorType -> dense, length -> 2, values -> List(0.8740709524174393, 0.1259290475825607))</td><td>0.0</td></tr><tr><td>1</td><td>2</td><td>15</td><td>6</td><td>MQ</td><td>N283NN</td><td>4238</td><td>AUS</td><td>ORD</td><td>1328</td><td>0.0</td><td>0.3063063063063063</td><td>0.18712988551125148</td><td>2020</td><td>large_airport</td><td>US-TX</td><td>large_airport</td><td>US-IL</td><td>ORD</td><td>945</td><td>943</td><td>0.0</td><td>-1</td><td>0900-0959</td><td>1250</td><td>1250</td><td>-999.0</td><td>-999</td><td>-999</td><td>185.0</td><td>0.25105782792665726</td><td>0.18712988551125148</td><td>large_airport</td><td>0.007157656809191938</td><td>38.0</td><td>0.7125984931939917</td><td>0.7200956937799043</td><td>0.6071428571428571</td><td>0.0</td><td>0.685185186882481</td><td>0.8888888888888888</td><td>0.7171717171717172</td><td>0.6588875234008693</td><td>0.871590776581398</td><td>0.5</td><td>0.7251908396946565</td><td>0.5</td><td>0.11518324607329844</td><td>0.0031291908806437194</td><td>-0.37</td><td>0.87</td><td>-0.78</td><td>0.99500998003992</td><td>0.18088758502094593</td><td>0.9619974478578335</td><td>0.416713039908119</td><td>0.6662550994962397</td><td>0.5182013536403316</td><td>Map(vectorType -> dense, length -> 25, values -> List(161.0, 977.0, 185.0, 977.0, 38.0, 30.25, 47.0, 56.0, 0.0, -0.008333333147068819, 8.0, 72.0, 30.260000228881836, 29.709999084472656, 10.0, 51.0, 180.0, 22.0, 7.0, -2.0, 0.00538844989164457, 9.265577094177448, 37.880338329286936, 2.3561043739318848, 11.651078224182129))</td><td>Map(vectorType -> dense, length -> 25, values -> List(0.3063063063063063, 0.18712988551125148, 0.25105782792665726, 0.18712988551125148, 0.007157656809191938, 0.7125984931939917, 0.7200956937799043, 0.6071428571428571, 0.0, 0.685185186882481, 0.8888888888888888, 0.7171717171717172, 0.6588875234008693, 0.871590776581398, 0.5, 0.7251908396946565, 0.5, 0.11518324607329844, 0.0031291908806437194, 0.99500998003992, 0.416713039908119, 0.6662550994962397, 0.5182013536403316, 0.18088758502094593, 0.9619974478578335))</td><td>0.0</td><td>1.0</td><td>24.0</td><td>5.0</td><td>5.0</td><td>0.0</td><td>0.0</td><td>0.0</td><td>0.0</td><td>0.0</td><td>7.0</td><td>0.0</td><td>0.0</td><td>0.0</td><td>0.0</td><td>1073.0</td><td>4000.0</td><td>32.0</td><td>3.0</td><td>0.0</td><td>4.0</td><td>3.0</td><td>1</td><td>0</td><td>0</td><td>0</td><td>0</td><td>1</td><td>1</td><td>0</td><td>0</td><td>0</td><td>1</td><td>0</td><td>0</td><td>1</td><td>1</td><td>1</td><td>1</td><td>1</td><td>0</td><td>1</td><td>0</td><td>0</td><td>0</td><td>0</td><td>0</td><td>0</td><td>1</td><td>0</td><td>0</td><td>0</td><td>0</td><td>0</td><td>0</td><td>0</td><td>0</td><td>1</td><td>1</td><td>0</td><td>0</td><td>0</td><td>0</td><td>0</td><td>0</td><td>0</td><td>0</td><td>0</td><td>0</td><td>0</td><td>0</td><td>0</td><td>1</td><td>0</td><td>0</td><td>0</td><td>0</td><td>0</td><td>1</td><td>1</td><td>0</td><td>0</td><td>0</td><td>0</td><td>0</td><td>0</td><td>0</td><td>List(0.3063063063063063, 0.18712988551125148, 0.25105782792665726, 0.18712988551125148, 0.007157656809191938, 0.7125984931939917, 0.7200956937799043, 0.6071428571428571, 0.0, 0.685185186882481, 0.8888888888888888, 0.7171717171717172, 0.6588875234008693, 0.871590776581398, 0.5, 0.7251908396946565, 0.5, 0.11518324607329844, 0.0031291908806437194, 0.99500998003992, 0.416713039908119, 0.6662550994962397, 0.5182013536403316, 0.18088758502094593, 0.9619974478578335)</td><td>0.0</td><td>Map(vectorType -> dense, length -> 23, values -> List(38.0, 0.7125984931939917, 0.7200956937799043, 0.6071428571428571, 0.0, 0.7251908396946565, 0.5, 0.11518324607329844, 0.0031291908806437194, -0.37, 0.87, -0.78, 0.18088758502094593, 0.9619974478578335, 24.0, 5.0, 0.0, 0.0, 0.0, 0.0, 0.0, 0.0, 4.0))</td><td>Map(vectorType -> dense, length -> 2, values -> List(483660.0, 765524.0))</td><td>Map(vectorType -> dense, length -> 2, values -> List(0.387180751594641, 0.6128192484053591))</td><td>1.0</td></tr><tr><td>1</td><td>2</td><td>15</td><td>6</td><td>YV</td><td>N921FJ</td><td>5767</td><td>VPS</td><td>DFW</td><td>1328</td><td>1.0</td><td>0.2805662805662806</td><td>0.12080536912751677</td><td>2020</td><td>large_airport</td><td>US-FL</td><td>large_airport</td><td>US-TX</td><td>DFW</td><td>1050</td><td>1044</td><td>0.0</td><td>-1</td><td>1000-1059</td><td>1248</td><td>1248</td><td>-999.0</td><td>-999</td><td>-999</td><td>118.0</td><td>0.15655853314527504</td><td>0.12080536912751677</td><td>large_airport</td><td>0.007534375588623093</td><td>40.0</td><td>0.7598429365370796</td><td>0.5980861244019139</td><td>0.6369047619047619</td><td>0.0</td><td>0.6942355905359356</td><td>0.8888888888888888</td><td>0.30303030303030304</td><td>0.7039690193371448</td><td>0.9352273017906971</td><td>0.5</td><td>0.6946564885496183</td><td>0.2777777777777778</td><td>0.0981568977993445</td><td>0.0031291908806437194</td><td>-0.37</td><td>0.87</td><td>-0.78</td><td>0.99500998003992</td><td>0.017339067382438428</td><td>0.9568083675262737</td><td>0.4166085924383306</td><td>0.6662550994962397</td><td>0.5558233893602912</td><td>Map(vectorType -> dense, length -> 25, values -> List(141.0, 641.0, 118.0, 641.0, 40.0, 30.3700008392334, 30.0, 61.0, 0.0, -0.002631578888548048, 8.0, 31.0, 30.389999389648438, 30.270000457763672, 10.0, 47.0, 100.0, 20.3739837398374, 7.0, -2.0, 0.004858673004573397, 9.265577094177448, 55.903593632899025, 0.4099259078502655, 11.589329719543457))</td><td>Map(vectorType -> dense, length -> 25, values -> List(0.2805662805662806, 0.12080536912751677, 0.15655853314527504, 0.12080536912751677, 0.007534375588623093, 0.7598429365370796, 0.5980861244019139, 0.6369047619047619, 0.0, 0.6942355905359356, 0.8888888888888888, 0.30303030303030304, 0.7039690193371448, 0.9352273017906971, 0.5, 0.6946564885496183, 0.2777777777777778, 0.0981568977993445, 0.0031291908806437194, 0.99500998003992, 0.4166085924383306, 0.6662550994962397, 0.5558233893602912, 0.017339067382438428, 0.9568083675262737))</td><td>0.0</td><td>1.0</td><td>24.0</td><td>5.0</td><td>12.0</td><td>0.0</td><td>0.0</td><td>0.0</td><td>0.0</td><td>0.0</td><td>6.0</td><td>0.0</td><td>0.0</td><td>0.0</td><td>0.0</td><td>875.0</td><td>4137.0</td><td>90.0</td><td>1.0</td><td>2.0</td><td>0.0</td><td>1.0</td><td>1</td><td>1</td><td>0</td><td>1</td><td>1</td><td>0</td><td>1</td><td>0</td><td>1</td><td>1</td><td>0</td><td>0</td><td>0</td><td>1</td><td>0</td><td>0</td><td>0</td><td>0</td><td>0</td><td>0</td><td>1</td><td>0</td><td>1</td><td>0</td><td>0</td><td>1</td><td>1</td><td>0</td><td>1</td><td>1</td><td>0</td><td>1</td><td>0</td><td>0</td><td>0</td><td>1</td><td>0</td><td>0</td><td>0</td><td>0</td><td>0</td><td>0</td><td>0</td><td>0</td><td>1</td><td>0</td><td>0</td><td>0</td><td>0</td><td>0</td><td>0</td><td>0</td><td>0</td><td>0</td><td>0</td><td>0</td><td>1</td><td>0</td><td>0</td><td>0</td><td>0</td><td>0</td><td>0</td><td>0</td><td>0</td><td>List(0.2805662805662806, 0.12080536912751677, 0.15655853314527504, 0.12080536912751677, 0.007534375588623093, 0.7598429365370796, 0.5980861244019139, 0.6369047619047619, 0.0, 0.6942355905359356, 0.8888888888888888, 0.30303030303030304, 0.7039690193371448, 0.9352273017906971, 0.5, 0.6946564885496183, 0.2777777777777778, 0.0981568977993445, 0.0031291908806437194, 0.99500998003992, 0.4166085924383306, 0.6662550994962397, 0.5558233893602912, 0.017339067382438428, 0.9568083675262737)</td><td>1.0</td><td>Map(vectorType -> dense, length -> 23, values -> List(40.0, 0.7598429365370796, 0.5980861244019139, 0.6369047619047619, 0.0, 0.6946564885496183, 0.2777777777777778, 0.0981568977993445, 0.0031291908806437194, -0.37, 0.87, -0.78, 0.017339067382438428, 0.9568083675262737, 24.0, 12.0, 0.0, 0.0, 0.0, 0.0, 0.0, 2.0, 0.0))</td><td>Map(vectorType -> dense, length -> 2, values -> List(483660.0, 765524.0))</td><td>Map(vectorType -> dense, length -> 2, values -> List(0.387180751594641, 0.6128192484053591))</td><td>1.0</td></tr><tr><td>1</td><td>2</td><td>15</td><td>6</td><td>OH</td><td>N705PS</td><td>5619</td><td>SRQ</td><td>PHL</td><td>1428</td><td>1.0</td><td>0.3075933075933076</td><td>0.18318199763126727</td><td>2020</td><td>large_airport</td><td>US-FL</td><td>large_airport</td><td>US-PA</td><td>PHL</td><td>1100</td><td>1057</td><td>0.0</td><td>-1</td><td>1100-1159</td><td>1357</td><td>1357</td><td>-999.0</td><td>-999</td><td>-999</td><td>177.0</td><td>0.2397743300423131</td><td>0.18318199763126727</td><td>large_airport</td><td>0.005839141081182897</td><td>31.0</td><td>0.7007871946269818</td><td>0.8277511961722488</td><td>0.7142857142857142</td><td>0.0</td><td>0.6666666686377197</td><td>0.8888888888888888</td><td>0.6666666666666667</td><td>0.6450158868444544</td><td>0.9261364005813947</td><td>0.5</td><td>0.8473282442748091</td><td>0.25</td><td>0.12565445026178013</td><td>0.006705409029950827</td><td>-0.6</td><td>0.87</td><td>-0.78</td><td>0.99500998003992</td><td>0.02719692903545282</td><td>0.18771317953627123</td><td>0.4166085924383306</td><td>0.6596153624572066</td><td>0.578476585555421</td><td>Map(vectorType -> dense, length -> 25, values -> List(162.0, 957.0, 177.0, 957.0, 31.0, 30.219999313354492, 62.0, 74.0, 0.0, -0.019999999552965164, 8.0, 67.0, 30.219999313354492, 30.190000534057617, 10.0, 67.0, 90.0, 23.0, 15.0, -2.0, 0.004858673004573397, 8.979323074520883, 66.7558596162369, 0.5272315144538879, 2.4373269081115723))</td><td>Map(vectorType -> dense, length -> 25, values -> List(0.3075933075933076, 0.18318199763126727, 0.2397743300423131, 0.18318199763126727, 0.005839141081182897, 0.7007871946269818, 0.8277511961722488, 0.7142857142857142, 0.0, 0.6666666686377197, 0.8888888888888888, 0.6666666666666667, 0.6450158868444544, 0.9261364005813947, 0.5, 0.8473282442748091, 0.25, 0.12565445026178013, 0.006705409029950827, 0.99500998003992, 0.4166085924383306, 0.6596153624572066, 0.578476585555421, 0.02719692903545282, 0.18771317953627123))</td><td>0.0</td><td>1.0</td><td>24.0</td><td>5.0</td><td>7.0</td><td>0.0</td><td>0.0</td><td>0.0</td><td>0.0</td><td>0.0</td><td>3.0</td><td>0.0</td><td>0.0</td><td>0.0</td><td>0.0</td><td>1176.0</td><td>1629.0</td><td>83.0</td><td>18.0</td><td>2.0</td><td>12.0</td><td>18.0</td><td>1</td><td>0</td><td>0</td><td>1</td><td>0</td><td>0</td><td>1</td><td>1</td><td>0</td><td>0</td><td>0</td><td>0</td><td>0</td><td>1</td><td>1</td><td>0</td><td>0</td><td>1</td><td>0</td><td>1</td><td>1</td><td>1</td><td>0</td><td>1</td><td>0</td><td>0</td><td>1</td><td>0</td><td>1</td><td>0</td><td>0</td><td>1</td><td>1</td><td>0</td><td>0</td><td>1</td><td>0</td><td>0</td><td>1</td><td>0</td><td>0</td><td>0</td><td>0</td><td>0</td><td>1</td><td>0</td><td>0</td><td>0</td><td>0</td><td>0</td><td>1</td><td>1</td><td>0</td><td>0</td><td>0</td><td>0</td><td>1</td><td>0</td><td>0</td><td>1</td><td>0</td><td>0</td><td>0</td><td>0</td><td>0</td><td>List(0.3075933075933076, 0.18318199763126727, 0.2397743300423131, 0.18318199763126727, 0.005839141081182897, 0.7007871946269818, 0.8277511961722488, 0.7142857142857142, 0.0, 0.6666666686377197, 0.8888888888888888, 0.6666666666666667, 0.6450158868444544, 0.9261364005813947, 0.5, 0.8473282442748091, 0.25, 0.12565445026178013, 0.006705409029950827, 0.99500998003992, 0.4166085924383306, 0.6596153624572066, 0.578476585555421, 0.02719692903545282, 0.18771317953627123)</td><td>1.0</td><td>Map(vectorType -> dense, length -> 23, values -> List(31.0, 0.7007871946269818, 0.8277511961722488, 0.7142857142857142, 0.0, 0.8473282442748091, 0.25, 0.12565445026178013, 0.006705409029950827, -0.6, 0.87, -0.78, 0.02719692903545282, 0.18771317953627123, 24.0, 7.0, 0.0, 0.0, 0.0, 0.0, 0.0, 2.0, 12.0))</td><td>Map(vectorType -> dense, length -> 2, values -> List(483660.0, 765524.0))</td><td>Map(vectorType -> dense, length -> 2, values -> List(0.387180751594641, 0.6128192484053591))</td><td>1.0</td></tr></tbody></table></div>"
      ]
     },
     "metadata": {
      "application/vnd.databricks.v1+output": {
       "addedWidgets": {},
       "aggData": [],
       "aggError": "",
       "aggOverflow": false,
       "aggSchema": [],
       "aggSeriesLimitReached": false,
       "aggType": "",
       "arguments": {},
       "columnCustomDisplayInfos": {},
       "data": [
        [
         1,
         2,
         15,
         6,
         "NK",
         "N611NK",
         1146,
         "EWR",
         "ATL",
         1426,
         0.0,
         0.296010296010296,
         0.14153178049743387,
         2020,
         "large_airport",
         "US-NJ",
         "large_airport",
         "US-GA",
         "RSW",
         1045,
         1102,
         1.0,
         1,
         "1000-1059",
         1335,
         1335,
         -999.0,
         -999,
         "-999",
         170.0,
         0.229901269393512,
         0.2050927753651796,
         "large_airport",
         0.009606328875494443,
         51.0,
         0.8582681718206401,
         0.4186602870813397,
         0.42857142857142855,
         0.0,
         0.6560846582121419,
         0.8888888888888888,
         0.393939393939394,
         0.7802616975253539,
         0.971590906627907,
         0.5,
         0.4961832061068702,
         0.6111111111111112,
         0.11945792120992943,
         0.0031291908806437194,
         -0.59,
         0.87,
         -0.78,
         0.99500998003992,
         0.37855794181413444,
         1.0,
         0.4166085924383306,
         0.6047946762285185,
         0.5132087908363137,
         {
          "length": 25,
          "values": [
           153.0,
           746.0,
           170.0,
           1068.0,
           51.0,
           30.6200008392334,
           5.0,
           26.0,
           0.0,
           -0.02666666607062022,
           8.0,
           40.0,
           30.610000610351562,
           30.59000015258789,
           10.0,
           21.0,
           220.0,
           22.40823147554826,
           7.0,
           -2.0,
           0.004858673004573397,
           6.615879808463694,
           35.48859550319644,
           4.708322525024414,
           12.103297233581543
          ],
          "vectorType": "dense"
         },
         {
          "length": 25,
          "values": [
           0.296010296010296,
           0.14153178049743387,
           0.229901269393512,
           0.2050927753651796,
           0.009606328875494443,
           0.8582681718206401,
           0.4186602870813397,
           0.42857142857142855,
           0.0,
           0.6560846582121419,
           0.8888888888888888,
           0.393939393939394,
           0.7802616975253539,
           0.971590906627907,
           0.5,
           0.4961832061068702,
           0.6111111111111112,
           0.11945792120992943,
           0.0031291908806437194,
           0.99500998003992,
           0.4166085924383306,
           0.6047946762285185,
           0.5132087908363137,
           0.37855794181413444,
           1.0
          ],
          "vectorType": "dense"
         },
         0.0,
         1.0,
         24.0,
         5.0,
         9.0,
         0.0,
         0.0,
         0.0,
         2.0,
         3.0,
         6.0,
         0.0,
         0.0,
         0.0,
         0.0,
         1742.0,
         34.0,
         17.0,
         0.0,
         18.0,
         3.0,
         38.0,
         1,
         1,
         0,
         1,
         1,
         0,
         0,
         1,
         1,
         1,
         0,
         0,
         0,
         1,
         0,
         0,
         0,
         1,
         0,
         0,
         0,
         0,
         0,
         0,
         0,
         0,
         1,
         0,
         0,
         0,
         1,
         0,
         0,
         0,
         0,
         0,
         0,
         0,
         0,
         0,
         0,
         0,
         0,
         0,
         1,
         0,
         0,
         1,
         0,
         0,
         1,
         1,
         0,
         0,
         0,
         0,
         1,
         0,
         0,
         1,
         1,
         0,
         0,
         0,
         0,
         [
          0.296010296010296,
          0.14153178049743387,
          0.229901269393512,
          0.2050927753651796,
          0.009606328875494443,
          0.8582681718206401,
          0.4186602870813397,
          0.42857142857142855,
          0.0,
          0.6560846582121419,
          0.8888888888888888,
          0.393939393939394,
          0.7802616975253539,
          0.971590906627907,
          0.5,
          0.4961832061068702,
          0.6111111111111112,
          0.11945792120992943,
          0.0031291908806437194,
          0.99500998003992,
          0.4166085924383306,
          0.6047946762285185,
          0.5132087908363137,
          0.37855794181413444,
          1.0
         ],
         0.0,
         {
          "length": 23,
          "values": [
           51.0,
           0.8582681718206401,
           0.4186602870813397,
           0.42857142857142855,
           0.0,
           0.4961832061068702,
           0.6111111111111112,
           0.11945792120992943,
           0.0031291908806437194,
           -0.59,
           0.87,
           -0.78,
           0.37855794181413444,
           1.0,
           24.0,
           9.0,
           0.0,
           0.0,
           0.0,
           2.0,
           0.0,
           18.0,
           3.0
          ],
          "vectorType": "dense"
         },
         {
          "length": 2,
          "values": [
           417399.0,
           92809.0
          ],
          "vectorType": "dense"
         },
         {
          "length": 2,
          "values": [
           0.818095757024586,
           0.18190424297541394
          ],
          "vectorType": "dense"
         },
         0.0
        ],
        [
         1,
         2,
         15,
         6,
         "OO",
         "N108SY",
         5492,
         "COS",
         "LAX",
         1227,
         1.0,
         0.3178893178893179,
         0.15870509277536518,
         2020,
         "large_airport",
         "US-CO",
         "large_airport",
         "US-CA",
         "IAH",
         953,
         1111,
         1.0,
         5,
         "0900-0959",
         1132,
         1132,
         -999.0,
         -999,
         "-999",
         159.0,
         0.2143864598025388,
         0.15396762731938413,
         "large_airport",
         0.010359766434356753,
         55.0,
         0.649606402686509,
         0.5263157894736842,
         0.4583333333333333,
         0.0,
         0.6349206373609864,
         0.0,
         0.6363636363636365,
         0.5999343909081789,
         0.2181816290232597,
         0.5,
         0.5419847328244275,
         0.47222222222222227,
         0.1692844677137871,
         0.003576218149307108,
         -0.12,
         0.87,
         -0.78,
         0.99500998003992,
         0.04485850446643913,
         0.385984486457127,
         0.4166085924383306,
         0.6662550994962397,
         0.5394046350839161,
         {
          "length": 25,
          "values": [
           170.0,
           833.0,
           159.0,
           809.0,
           55.0,
           30.09000015258789,
           20.0,
           31.0,
           0.0,
           -0.03999999910593033,
           0.0,
           64.0,
           30.09000015258789,
           23.959999084472656,
           10.0,
           27.0,
           170.0,
           27.166666666666668,
           8.0,
           -2.0,
           0.004858673004573397,
           9.265577094177448,
           48.038006499521586,
           0.7373989820480347,
           4.796696186065674
          ],
          "vectorType": "dense"
         },
         {
          "length": 25,
          "values": [
           0.3178893178893179,
           0.15870509277536518,
           0.2143864598025388,
           0.15396762731938413,
           0.010359766434356753,
           0.649606402686509,
           0.5263157894736842,
           0.4583333333333333,
           0.0,
           0.6349206373609864,
           0.0,
           0.6363636363636365,
           0.5999343909081789,
           0.2181816290232597,
           0.5,
           0.5419847328244275,
           0.47222222222222227,
           0.1692844677137871,
           0.003576218149307108,
           0.99500998003992,
           0.4166085924383306,
           0.6662550994962397,
           0.5394046350839161,
           0.04485850446643913,
           0.385984486457127
          ],
          "vectorType": "dense"
         },
         0.0,
         1.0,
         24.0,
         5.0,
         1.0,
         0.0,
         0.0,
         0.0,
         2.0,
         8.0,
         7.0,
         0.0,
         0.0,
         0.0,
         0.0,
         1266.0,
         2368.0,
         101.0,
         5.0,
         6.0,
         1.0,
         10.0,
         1,
         0,
         0,
         1,
         1,
         1,
         1,
         0,
         0,
         1,
         0,
         0,
         0,
         1,
         0,
         0,
         1,
         0,
         1,
         0,
         0,
         0,
         0,
         0,
         0,
         0,
         1,
         1,
         0,
         0,
         1,
         0,
         1,
         0,
         0,
         1,
         0,
         1,
         0,
         0,
         0,
         0,
         0,
         0,
         1,
         1,
         0,
         0,
         0,
         0,
         1,
         0,
         0,
         0,
         0,
         0,
         1,
         0,
         1,
         0,
         0,
         0,
         0,
         0,
         0,
         [
          0.3178893178893179,
          0.15870509277536518,
          0.2143864598025388,
          0.15396762731938413,
          0.010359766434356753,
          0.649606402686509,
          0.5263157894736842,
          0.4583333333333333,
          0.0,
          0.6349206373609864,
          0.0,
          0.6363636363636365,
          0.5999343909081789,
          0.2181816290232597,
          0.5,
          0.5419847328244275,
          0.47222222222222227,
          0.1692844677137871,
          0.003576218149307108,
          0.99500998003992,
          0.4166085924383306,
          0.6662550994962397,
          0.5394046350839161,
          0.04485850446643913,
          0.385984486457127
         ],
         1.0,
         {
          "length": 23,
          "values": [
           55.0,
           0.649606402686509,
           0.5263157894736842,
           0.4583333333333333,
           0.0,
           0.5419847328244275,
           0.47222222222222227,
           0.1692844677137871,
           0.003576218149307108,
           -0.12,
           0.87,
           -0.78,
           0.04485850446643913,
           0.385984486457127,
           24.0,
           1.0,
           0.0,
           0.0,
           0.0,
           2.0,
           0.0,
           6.0,
           1.0
          ],
          "vectorType": "dense"
         },
         {
          "length": 2,
          "values": [
           22815.0,
           3287.0
          ],
          "vectorType": "dense"
         },
         {
          "length": 2,
          "values": [
           0.8740709524174393,
           0.1259290475825607
          ],
          "vectorType": "dense"
         },
         0.0
        ],
        [
         1,
         2,
         15,
         6,
         "MQ",
         "N283NN",
         4238,
         "AUS",
         "ORD",
         1328,
         0.0,
         0.3063063063063063,
         0.18712988551125148,
         2020,
         "large_airport",
         "US-TX",
         "large_airport",
         "US-IL",
         "ORD",
         945,
         943,
         0.0,
         -1,
         "0900-0959",
         1250,
         1250,
         -999.0,
         -999,
         "-999",
         185.0,
         0.25105782792665726,
         0.18712988551125148,
         "large_airport",
         0.007157656809191938,
         38.0,
         0.7125984931939917,
         0.7200956937799043,
         0.6071428571428571,
         0.0,
         0.685185186882481,
         0.8888888888888888,
         0.7171717171717172,
         0.6588875234008693,
         0.871590776581398,
         0.5,
         0.7251908396946565,
         0.5,
         0.11518324607329844,
         0.0031291908806437194,
         -0.37,
         0.87,
         -0.78,
         0.99500998003992,
         0.18088758502094593,
         0.9619974478578335,
         0.416713039908119,
         0.6662550994962397,
         0.5182013536403316,
         {
          "length": 25,
          "values": [
           161.0,
           977.0,
           185.0,
           977.0,
           38.0,
           30.25,
           47.0,
           56.0,
           0.0,
           -0.008333333147068819,
           8.0,
           72.0,
           30.260000228881836,
           29.709999084472656,
           10.0,
           51.0,
           180.0,
           22.0,
           7.0,
           -2.0,
           0.00538844989164457,
           9.265577094177448,
           37.880338329286936,
           2.3561043739318848,
           11.651078224182129
          ],
          "vectorType": "dense"
         },
         {
          "length": 25,
          "values": [
           0.3063063063063063,
           0.18712988551125148,
           0.25105782792665726,
           0.18712988551125148,
           0.007157656809191938,
           0.7125984931939917,
           0.7200956937799043,
           0.6071428571428571,
           0.0,
           0.685185186882481,
           0.8888888888888888,
           0.7171717171717172,
           0.6588875234008693,
           0.871590776581398,
           0.5,
           0.7251908396946565,
           0.5,
           0.11518324607329844,
           0.0031291908806437194,
           0.99500998003992,
           0.416713039908119,
           0.6662550994962397,
           0.5182013536403316,
           0.18088758502094593,
           0.9619974478578335
          ],
          "vectorType": "dense"
         },
         0.0,
         1.0,
         24.0,
         5.0,
         5.0,
         0.0,
         0.0,
         0.0,
         0.0,
         0.0,
         7.0,
         0.0,
         0.0,
         0.0,
         0.0,
         1073.0,
         4000.0,
         32.0,
         3.0,
         0.0,
         4.0,
         3.0,
         1,
         0,
         0,
         0,
         0,
         1,
         1,
         0,
         0,
         0,
         1,
         0,
         0,
         1,
         1,
         1,
         1,
         1,
         0,
         1,
         0,
         0,
         0,
         0,
         0,
         0,
         1,
         0,
         0,
         0,
         0,
         0,
         0,
         0,
         0,
         1,
         1,
         0,
         0,
         0,
         0,
         0,
         0,
         0,
         0,
         0,
         0,
         0,
         0,
         0,
         1,
         0,
         0,
         0,
         0,
         0,
         1,
         1,
         0,
         0,
         0,
         0,
         0,
         0,
         0,
         [
          0.3063063063063063,
          0.18712988551125148,
          0.25105782792665726,
          0.18712988551125148,
          0.007157656809191938,
          0.7125984931939917,
          0.7200956937799043,
          0.6071428571428571,
          0.0,
          0.685185186882481,
          0.8888888888888888,
          0.7171717171717172,
          0.6588875234008693,
          0.871590776581398,
          0.5,
          0.7251908396946565,
          0.5,
          0.11518324607329844,
          0.0031291908806437194,
          0.99500998003992,
          0.416713039908119,
          0.6662550994962397,
          0.5182013536403316,
          0.18088758502094593,
          0.9619974478578335
         ],
         0.0,
         {
          "length": 23,
          "values": [
           38.0,
           0.7125984931939917,
           0.7200956937799043,
           0.6071428571428571,
           0.0,
           0.7251908396946565,
           0.5,
           0.11518324607329844,
           0.0031291908806437194,
           -0.37,
           0.87,
           -0.78,
           0.18088758502094593,
           0.9619974478578335,
           24.0,
           5.0,
           0.0,
           0.0,
           0.0,
           0.0,
           0.0,
           0.0,
           4.0
          ],
          "vectorType": "dense"
         },
         {
          "length": 2,
          "values": [
           483660.0,
           765524.0
          ],
          "vectorType": "dense"
         },
         {
          "length": 2,
          "values": [
           0.387180751594641,
           0.6128192484053591
          ],
          "vectorType": "dense"
         },
         1.0
        ],
        [
         1,
         2,
         15,
         6,
         "YV",
         "N921FJ",
         5767,
         "VPS",
         "DFW",
         1328,
         1.0,
         0.2805662805662806,
         0.12080536912751677,
         2020,
         "large_airport",
         "US-FL",
         "large_airport",
         "US-TX",
         "DFW",
         1050,
         1044,
         0.0,
         -1,
         "1000-1059",
         1248,
         1248,
         -999.0,
         -999,
         "-999",
         118.0,
         0.15655853314527504,
         0.12080536912751677,
         "large_airport",
         0.007534375588623093,
         40.0,
         0.7598429365370796,
         0.5980861244019139,
         0.6369047619047619,
         0.0,
         0.6942355905359356,
         0.8888888888888888,
         0.30303030303030304,
         0.7039690193371448,
         0.9352273017906971,
         0.5,
         0.6946564885496183,
         0.2777777777777778,
         0.0981568977993445,
         0.0031291908806437194,
         -0.37,
         0.87,
         -0.78,
         0.99500998003992,
         0.017339067382438428,
         0.9568083675262737,
         0.4166085924383306,
         0.6662550994962397,
         0.5558233893602912,
         {
          "length": 25,
          "values": [
           141.0,
           641.0,
           118.0,
           641.0,
           40.0,
           30.3700008392334,
           30.0,
           61.0,
           0.0,
           -0.002631578888548048,
           8.0,
           31.0,
           30.389999389648438,
           30.270000457763672,
           10.0,
           47.0,
           100.0,
           20.3739837398374,
           7.0,
           -2.0,
           0.004858673004573397,
           9.265577094177448,
           55.903593632899025,
           0.4099259078502655,
           11.589329719543457
          ],
          "vectorType": "dense"
         },
         {
          "length": 25,
          "values": [
           0.2805662805662806,
           0.12080536912751677,
           0.15655853314527504,
           0.12080536912751677,
           0.007534375588623093,
           0.7598429365370796,
           0.5980861244019139,
           0.6369047619047619,
           0.0,
           0.6942355905359356,
           0.8888888888888888,
           0.30303030303030304,
           0.7039690193371448,
           0.9352273017906971,
           0.5,
           0.6946564885496183,
           0.2777777777777778,
           0.0981568977993445,
           0.0031291908806437194,
           0.99500998003992,
           0.4166085924383306,
           0.6662550994962397,
           0.5558233893602912,
           0.017339067382438428,
           0.9568083675262737
          ],
          "vectorType": "dense"
         },
         0.0,
         1.0,
         24.0,
         5.0,
         12.0,
         0.0,
         0.0,
         0.0,
         0.0,
         0.0,
         6.0,
         0.0,
         0.0,
         0.0,
         0.0,
         875.0,
         4137.0,
         90.0,
         1.0,
         2.0,
         0.0,
         1.0,
         1,
         1,
         0,
         1,
         1,
         0,
         1,
         0,
         1,
         1,
         0,
         0,
         0,
         1,
         0,
         0,
         0,
         0,
         0,
         0,
         1,
         0,
         1,
         0,
         0,
         1,
         1,
         0,
         1,
         1,
         0,
         1,
         0,
         0,
         0,
         1,
         0,
         0,
         0,
         0,
         0,
         0,
         0,
         0,
         1,
         0,
         0,
         0,
         0,
         0,
         0,
         0,
         0,
         0,
         0,
         0,
         1,
         0,
         0,
         0,
         0,
         0,
         0,
         0,
         0,
         [
          0.2805662805662806,
          0.12080536912751677,
          0.15655853314527504,
          0.12080536912751677,
          0.007534375588623093,
          0.7598429365370796,
          0.5980861244019139,
          0.6369047619047619,
          0.0,
          0.6942355905359356,
          0.8888888888888888,
          0.30303030303030304,
          0.7039690193371448,
          0.9352273017906971,
          0.5,
          0.6946564885496183,
          0.2777777777777778,
          0.0981568977993445,
          0.0031291908806437194,
          0.99500998003992,
          0.4166085924383306,
          0.6662550994962397,
          0.5558233893602912,
          0.017339067382438428,
          0.9568083675262737
         ],
         1.0,
         {
          "length": 23,
          "values": [
           40.0,
           0.7598429365370796,
           0.5980861244019139,
           0.6369047619047619,
           0.0,
           0.6946564885496183,
           0.2777777777777778,
           0.0981568977993445,
           0.0031291908806437194,
           -0.37,
           0.87,
           -0.78,
           0.017339067382438428,
           0.9568083675262737,
           24.0,
           12.0,
           0.0,
           0.0,
           0.0,
           0.0,
           0.0,
           2.0,
           0.0
          ],
          "vectorType": "dense"
         },
         {
          "length": 2,
          "values": [
           483660.0,
           765524.0
          ],
          "vectorType": "dense"
         },
         {
          "length": 2,
          "values": [
           0.387180751594641,
           0.6128192484053591
          ],
          "vectorType": "dense"
         },
         1.0
        ],
        [
         1,
         2,
         15,
         6,
         "OH",
         "N705PS",
         5619,
         "SRQ",
         "PHL",
         1428,
         1.0,
         0.3075933075933076,
         0.18318199763126727,
         2020,
         "large_airport",
         "US-FL",
         "large_airport",
         "US-PA",
         "PHL",
         1100,
         1057,
         0.0,
         -1,
         "1100-1159",
         1357,
         1357,
         -999.0,
         -999,
         "-999",
         177.0,
         0.2397743300423131,
         0.18318199763126727,
         "large_airport",
         0.005839141081182897,
         31.0,
         0.7007871946269818,
         0.8277511961722488,
         0.7142857142857142,
         0.0,
         0.6666666686377197,
         0.8888888888888888,
         0.6666666666666667,
         0.6450158868444544,
         0.9261364005813947,
         0.5,
         0.8473282442748091,
         0.25,
         0.12565445026178013,
         0.006705409029950827,
         -0.6,
         0.87,
         -0.78,
         0.99500998003992,
         0.02719692903545282,
         0.18771317953627123,
         0.4166085924383306,
         0.6596153624572066,
         0.578476585555421,
         {
          "length": 25,
          "values": [
           162.0,
           957.0,
           177.0,
           957.0,
           31.0,
           30.219999313354492,
           62.0,
           74.0,
           0.0,
           -0.019999999552965164,
           8.0,
           67.0,
           30.219999313354492,
           30.190000534057617,
           10.0,
           67.0,
           90.0,
           23.0,
           15.0,
           -2.0,
           0.004858673004573397,
           8.979323074520883,
           66.7558596162369,
           0.5272315144538879,
           2.4373269081115723
          ],
          "vectorType": "dense"
         },
         {
          "length": 25,
          "values": [
           0.3075933075933076,
           0.18318199763126727,
           0.2397743300423131,
           0.18318199763126727,
           0.005839141081182897,
           0.7007871946269818,
           0.8277511961722488,
           0.7142857142857142,
           0.0,
           0.6666666686377197,
           0.8888888888888888,
           0.6666666666666667,
           0.6450158868444544,
           0.9261364005813947,
           0.5,
           0.8473282442748091,
           0.25,
           0.12565445026178013,
           0.006705409029950827,
           0.99500998003992,
           0.4166085924383306,
           0.6596153624572066,
           0.578476585555421,
           0.02719692903545282,
           0.18771317953627123
          ],
          "vectorType": "dense"
         },
         0.0,
         1.0,
         24.0,
         5.0,
         7.0,
         0.0,
         0.0,
         0.0,
         0.0,
         0.0,
         3.0,
         0.0,
         0.0,
         0.0,
         0.0,
         1176.0,
         1629.0,
         83.0,
         18.0,
         2.0,
         12.0,
         18.0,
         1,
         0,
         0,
         1,
         0,
         0,
         1,
         1,
         0,
         0,
         0,
         0,
         0,
         1,
         1,
         0,
         0,
         1,
         0,
         1,
         1,
         1,
         0,
         1,
         0,
         0,
         1,
         0,
         1,
         0,
         0,
         1,
         1,
         0,
         0,
         1,
         0,
         0,
         1,
         0,
         0,
         0,
         0,
         0,
         1,
         0,
         0,
         0,
         0,
         0,
         1,
         1,
         0,
         0,
         0,
         0,
         1,
         0,
         0,
         1,
         0,
         0,
         0,
         0,
         0,
         [
          0.3075933075933076,
          0.18318199763126727,
          0.2397743300423131,
          0.18318199763126727,
          0.005839141081182897,
          0.7007871946269818,
          0.8277511961722488,
          0.7142857142857142,
          0.0,
          0.6666666686377197,
          0.8888888888888888,
          0.6666666666666667,
          0.6450158868444544,
          0.9261364005813947,
          0.5,
          0.8473282442748091,
          0.25,
          0.12565445026178013,
          0.006705409029950827,
          0.99500998003992,
          0.4166085924383306,
          0.6596153624572066,
          0.578476585555421,
          0.02719692903545282,
          0.18771317953627123
         ],
         1.0,
         {
          "length": 23,
          "values": [
           31.0,
           0.7007871946269818,
           0.8277511961722488,
           0.7142857142857142,
           0.0,
           0.8473282442748091,
           0.25,
           0.12565445026178013,
           0.006705409029950827,
           -0.6,
           0.87,
           -0.78,
           0.02719692903545282,
           0.18771317953627123,
           24.0,
           7.0,
           0.0,
           0.0,
           0.0,
           0.0,
           0.0,
           2.0,
           12.0
          ],
          "vectorType": "dense"
         },
         {
          "length": 2,
          "values": [
           483660.0,
           765524.0
          ],
          "vectorType": "dense"
         },
         {
          "length": 2,
          "values": [
           0.387180751594641,
           0.6128192484053591
          ],
          "vectorType": "dense"
         },
         1.0
        ]
       ],
       "datasetInfos": [],
       "dbfsResultPath": null,
       "isJsonSchema": true,
       "metadata": {},
       "overflow": false,
       "plotOptions": {
        "customPlotOptions": {},
        "displayType": "table",
        "pivotAggregation": null,
        "pivotColumns": null,
        "xColumns": null,
        "yColumns": null
       },
       "removedWidgets": [],
       "schema": [
        {
         "metadata": "{}",
         "name": "quarter",
         "type": "\"integer\""
        },
        {
         "metadata": "{}",
         "name": "month",
         "type": "\"integer\""
        },
        {
         "metadata": "{}",
         "name": "dayOfMonth",
         "type": "\"integer\""
        },
        {
         "metadata": "{}",
         "name": "dayOfWeek",
         "type": "\"integer\""
        },
        {
         "metadata": "{}",
         "name": "opUniqueCarrier",
         "type": "\"string\""
        },
        {
         "metadata": "{}",
         "name": "tailNum",
         "type": "\"string\""
        },
        {
         "metadata": "{}",
         "name": "opCarrierFlNum",
         "type": "\"integer\""
        },
        {
         "metadata": "{}",
         "name": "origin",
         "type": "\"string\""
        },
        {
         "metadata": "{}",
         "name": "dest",
         "type": "\"string\""
        },
        {
         "metadata": "{}",
         "name": "crsDepTime",
         "type": "\"integer\""
        },
        {
         "metadata": "{}",
         "name": "depDel15",
         "type": "\"double\""
        },
        {
         "metadata": "{}",
         "name": "crsElapsedTime",
         "type": "\"double\""
        },
        {
         "metadata": "{}",
         "name": "distance",
         "type": "\"double\""
        },
        {
         "metadata": "{}",
         "name": "year",
         "type": "\"integer\""
        },
        {
         "metadata": "{}",
         "name": "originType",
         "type": "\"string\""
        },
        {
         "metadata": "{}",
         "name": "originIsoRegion",
         "type": "\"string\""
        },
        {
         "metadata": "{}",
         "name": "destType",
         "type": "\"string\""
        },
        {
         "metadata": "{}",
         "name": "destIsoRegion",
         "type": "\"string\""
        },
        {
         "metadata": "{}",
         "name": "originPrevF",
         "type": "\"string\""
        },
        {
         "metadata": "{}",
         "name": "crsDepTimePrevF",
         "type": "\"integer\""
        },
        {
         "metadata": "{}",
         "name": "depTimePrevF",
         "type": "\"integer\""
        },
        {
         "metadata": "{}",
         "name": "depDel15PrevF",
         "type": "\"double\""
        },
        {
         "metadata": "{}",
         "name": "depDelayGroupPrevF",
         "type": "\"integer\""
        },
        {
         "metadata": "{}",
         "name": "depTimeBlkPrevF",
         "type": "\"string\""
        },
        {
         "metadata": "{}",
         "name": "crsArrTimePrevF",
         "type": "\"integer\""
        },
        {
         "metadata": "{}",
         "name": "arrTimePrevF",
         "type": "\"integer\""
        },
        {
         "metadata": "{}",
         "name": "arrDel15PrevF",
         "type": "\"double\""
        },
        {
         "metadata": "{}",
         "name": "arrDelayGroupPrevF",
         "type": "\"integer\""
        },
        {
         "metadata": "{}",
         "name": "arrTimeBlkPrevF",
         "type": "\"string\""
        },
        {
         "metadata": "{}",
         "name": "crsElapsedTimePrevF",
         "type": "\"double\""
        },
        {
         "metadata": "{}",
         "name": "actualElapsedTimePrevF",
         "type": "\"double\""
        },
        {
         "metadata": "{}",
         "name": "distancePrevF",
         "type": "\"double\""
        },
        {
         "metadata": "{}",
         "name": "originTypePrevF",
         "type": "\"string\""
        },
        {
         "metadata": "{}",
         "name": "timeBtwFlights",
         "type": "\"double\""
        },
        {
         "metadata": "{}",
         "name": "timeBtwFlightsPlanned",
         "type": "\"double\""
        },
        {
         "metadata": "{}",
         "name": "hourlyAltimeterSetting",
         "type": "\"double\""
        },
        {
         "metadata": "{}",
         "name": "hourlyDewPointTemperature",
         "type": "\"double\""
        },
        {
         "metadata": "{}",
         "name": "hourlyDryBulbTemperature",
         "type": "\"double\""
        },
        {
         "metadata": "{}",
         "name": "hourlyPrecipitation",
         "type": "\"double\""
        },
        {
         "metadata": "{}",
         "name": "hourlyPressureChange",
         "type": "\"double\""
        },
        {
         "metadata": "{}",
         "name": "hourlyPressureTendency",
         "type": "\"double\""
        },
        {
         "metadata": "{}",
         "name": "hourlyRelativeHumidity",
         "type": "\"double\""
        },
        {
         "metadata": "{}",
         "name": "hourlySeaLevelPressure",
         "type": "\"double\""
        },
        {
         "metadata": "{}",
         "name": "hourlyStationPressure",
         "type": "\"double\""
        },
        {
         "metadata": "{}",
         "name": "hourlyVisibility",
         "type": "\"double\""
        },
        {
         "metadata": "{}",
         "name": "hourlyWetBulbTemperature",
         "type": "\"double\""
        },
        {
         "metadata": "{}",
         "name": "hourlyWindDirection",
         "type": "\"double\""
        },
        {
         "metadata": "{}",
         "name": "hourlyWindGustSpeed",
         "type": "\"double\""
        },
        {
         "metadata": "{}",
         "name": "hourlyWindSpeed",
         "type": "\"double\""
        },
        {
         "metadata": "{}",
         "name": "crsDepTimeSine",
         "type": "\"double\""
        },
        {
         "metadata": "{}",
         "name": "monthSine",
         "type": "\"double\""
        },
        {
         "metadata": "{}",
         "name": "dayOfWeekSine",
         "type": "\"double\""
        },
        {
         "metadata": "{}",
         "name": "daysToNearestHoliday",
         "type": "\"double\""
        },
        {
         "metadata": "{}",
         "name": "originPageRank",
         "type": "\"double\""
        },
        {
         "metadata": "{}",
         "name": "destPageRank",
         "type": "\"double\""
        },
        {
         "metadata": "{}",
         "name": "predictedMeanHourlyPrecipitation",
         "type": "\"double\""
        },
        {
         "metadata": "{}",
         "name": "predictedMeanHourlyVisibility",
         "type": "\"double\""
        },
        {
         "metadata": "{}",
         "name": "predictedMeanHourlyDewPointTemp",
         "type": "\"double\""
        },
        {
         "metadata": "{\"ml_attr\":{\"attrs\":{\"numeric\":[{\"idx\":0,\"name\":\"crsElapsedTime\"},{\"idx\":1,\"name\":\"distance\"},{\"idx\":2,\"name\":\"actualElapsedTimePrevF\"},{\"idx\":3,\"name\":\"distancePrevF\"},{\"idx\":4,\"name\":\"timeBtwFlights\"},{\"idx\":5,\"name\":\"hourlyAltimeterSetting\"},{\"idx\":6,\"name\":\"hourlyDewPointTemperature\"},{\"idx\":7,\"name\":\"hourlyDryBulbTemperature\"},{\"idx\":8,\"name\":\"hourlyPrecipitation\"},{\"idx\":9,\"name\":\"hourlyPressureChange\"},{\"idx\":10,\"name\":\"hourlyPressureTendency\"},{\"idx\":11,\"name\":\"hourlyRelativeHumidity\"},{\"idx\":12,\"name\":\"hourlySeaLevelPressure\"},{\"idx\":13,\"name\":\"hourlyStationPressure\"},{\"idx\":14,\"name\":\"hourlyVisibility\"},{\"idx\":15,\"name\":\"hourlyWetBulbTemperature\"},{\"idx\":16,\"name\":\"hourlyWindDirection\"},{\"idx\":17,\"name\":\"hourlyWindGustSpeed\"},{\"idx\":18,\"name\":\"hourlyWindSpeed\"},{\"idx\":19,\"name\":\"daysToNearestHoliday\"},{\"idx\":20,\"name\":\"predictedMeanHourlyPrecipitation\"},{\"idx\":21,\"name\":\"predictedMeanHourlyVisibility\"},{\"idx\":22,\"name\":\"predictedMeanHourlyDewPointTemp\"},{\"idx\":23,\"name\":\"originPageRank\"},{\"idx\":24,\"name\":\"destPageRank\"}]},\"num_attrs\":25}}",
         "name": "numeric_feat_to_scale",
         "type": "{\"type\":\"udt\",\"class\":\"org.apache.spark.ml.linalg.VectorUDT\",\"pyClass\":\"pyspark.ml.linalg.VectorUDT\",\"sqlType\":{\"type\":\"struct\",\"fields\":[{\"name\":\"type\",\"type\":\"byte\",\"nullable\":false,\"metadata\":{}},{\"name\":\"size\",\"type\":\"integer\",\"nullable\":true,\"metadata\":{}},{\"name\":\"indices\",\"type\":{\"type\":\"array\",\"elementType\":\"integer\",\"containsNull\":false},\"nullable\":true,\"metadata\":{}},{\"name\":\"values\",\"type\":{\"type\":\"array\",\"elementType\":\"double\",\"containsNull\":false},\"nullable\":true,\"metadata\":{}}]}}"
        },
        {
         "metadata": "{\"ml_attr\":{\"num_attrs\":25}}",
         "name": "scaled_features",
         "type": "{\"type\":\"udt\",\"class\":\"org.apache.spark.ml.linalg.VectorUDT\",\"pyClass\":\"pyspark.ml.linalg.VectorUDT\",\"sqlType\":{\"type\":\"struct\",\"fields\":[{\"name\":\"type\",\"type\":\"byte\",\"nullable\":false,\"metadata\":{}},{\"name\":\"size\",\"type\":\"integer\",\"nullable\":true,\"metadata\":{}},{\"name\":\"indices\",\"type\":{\"type\":\"array\",\"elementType\":\"integer\",\"containsNull\":false},\"nullable\":true,\"metadata\":{}},{\"name\":\"values\",\"type\":{\"type\":\"array\",\"elementType\":\"double\",\"containsNull\":false},\"nullable\":true,\"metadata\":{}}]}}"
        },
        {
         "metadata": "{\"ml_attr\":{\"vals\":[\"1\",\"4\",\"3\",\"2\",\"__unknown\"],\"type\":\"nominal\",\"name\":\"quarterIndex\"}}",
         "name": "quarterIndex",
         "type": "\"double\""
        },
        {
         "metadata": "{\"ml_attr\":{\"vals\":[\"1\",\"2\",\"3\",\"12\",\"8\",\"7\",\"11\",\"10\",\"9\",\"6\",\"4\",\"5\",\"__unknown\"],\"type\":\"nominal\",\"name\":\"monthIndex\"}}",
         "name": "monthIndex",
         "type": "\"double\""
        },
        {
         "metadata": "{\"ml_attr\":{\"vals\":[\"13\",\"6\",\"23\",\"7\",\"10\",\"20\",\"17\",\"3\",\"19\",\"16\",\"12\",\"9\",\"5\",\"4\",\"18\",\"14\",\"27\",\"2\",\"21\",\"24\",\"8\",\"1\",\"11\",\"22\",\"15\",\"26\",\"28\",\"29\",\"25\",\"30\",\"31\",\"__unknown\"],\"type\":\"nominal\",\"name\":\"dayOfMonthIndex\"}}",
         "name": "dayOfMonthIndex",
         "type": "\"double\""
        },
        {
         "metadata": "{\"ml_attr\":{\"vals\":[\"5\",\"4\",\"7\",\"1\",\"3\",\"6\",\"2\",\"__unknown\"],\"type\":\"nominal\",\"name\":\"dayOfWeekIndex\"}}",
         "name": "dayOfWeekIndex",
         "type": "\"double\""
        },
        {
         "metadata": "{\"ml_attr\":{\"vals\":[\"WN\",\"OO\",\"AA\",\"DL\",\"UA\",\"MQ\",\"YX\",\"OH\",\"9E\",\"NK\",\"AS\",\"B6\",\"YV\",\"G4\",\"F9\",\"EV\",\"HA\",\"__unknown\"],\"type\":\"nominal\",\"name\":\"opUniqueCarrierIndex\"}}",
         "name": "opUniqueCarrierIndex",
         "type": "\"double\""
        },
        {
         "metadata": "{\"ml_attr\":{\"vals\":[\"2020\",\"2019\",\"__unknown\"],\"type\":\"nominal\",\"name\":\"yearIndex\"}}",
         "name": "yearIndex",
         "type": "\"double\""
        },
        {
         "metadata": "{\"ml_attr\":{\"vals\":[\"large_airport\",\"medium_airport\",\"small_airport\",\"__unknown\"],\"type\":\"nominal\",\"name\":\"originTypeIndex\"}}",
         "name": "originTypeIndex",
         "type": "\"double\""
        },
        {
         "metadata": "{\"ml_attr\":{\"vals\":[\"large_airport\",\"medium_airport\",\"small_airport\",\"__unknown\"],\"type\":\"nominal\",\"name\":\"destTypeIndex\"}}",
         "name": "destTypeIndex",
         "type": "\"double\""
        },
        {
         "metadata": "{\"ml_attr\":{\"vals\":[\"0.0\",\"-999.0\",\"1.0\",\"__unknown\"],\"type\":\"nominal\",\"name\":\"depDel15PrevFIndex\"}}",
         "name": "depDel15PrevFIndex",
         "type": "\"double\""
        },
        {
         "metadata": "{\"ml_attr\":{\"vals\":[\"-1\",\"0\",\"-999\",\"1\",\"2\",\"3\",\"-2\",\"4\",\"5\",\"12\",\"6\",\"7\",\"8\",\"9\",\"10\",\"11\",\"__unknown\"],\"type\":\"nominal\",\"name\":\"depDelayGroupPrevFIndex\"}}",
         "name": "depDelayGroupPrevFIndex",
         "type": "\"double\""
        },
        {
         "metadata": "{\"ml_attr\":{\"vals\":[\"-999\",\"0700-0759\",\"0800-0859\",\"1100-1159\",\"1700-1759\",\"0600-0659\",\"1000-1059\",\"0900-0959\",\"1500-1559\",\"1200-1259\",\"1400-1459\",\"1300-1359\",\"1800-1859\",\"1600-1659\",\"1900-1959\",\"2000-2059\",\"2100-2159\",\"0001-0559\",\"2200-2259\",\"2300-2359\",\"__unknown\"],\"type\":\"nominal\",\"name\":\"depTimeBlkPrevFIndex\"}}",
         "name": "depTimeBlkPrevFIndex",
         "type": "\"double\""
        },
        {
         "metadata": "{\"ml_attr\":{\"vals\":[\"-999.0\",\"0.0\",\"1.0\",\"__unknown\"],\"type\":\"nominal\",\"name\":\"arrDel15PrevFIndex\"}}",
         "name": "arrDel15PrevFIndex",
         "type": "\"double\""
        },
        {
         "metadata": "{\"ml_attr\":{\"vals\":[\"-999\",\"-1\",\"-2\",\"0\",\"1\",\"2\",\"3\",\"12\",\"4\",\"5\",\"6\",\"7\",\"8\",\"9\",\"10\",\"11\",\"__unknown\"],\"type\":\"nominal\",\"name\":\"arrDelayGroupPrevFIndex\"}}",
         "name": "arrDelayGroupPrevFIndex",
         "type": "\"double\""
        },
        {
         "metadata": "{\"ml_attr\":{\"vals\":[\"-999\",\"2100-2159\",\"2200-2259\",\"2000-2059\",\"2300-2359\",\"1900-1959\",\"1800-1859\",\"1700-1759\",\"1600-1659\",\"0900-0959\",\"1300-1359\",\"1200-1259\",\"1500-1559\",\"0001-0559\",\"0800-0859\",\"1400-1459\",\"1100-1159\",\"1000-1059\",\"0700-0759\",\"0600-0659\",\"__unknown\"],\"type\":\"nominal\",\"name\":\"arrTimeBlkPrevFIndex\"}}",
         "name": "arrTimeBlkPrevFIndex",
         "type": "\"double\""
        },
        {
         "metadata": "{\"ml_attr\":{\"vals\":[\"large_airport\",\"medium_airport\",\"small_airport\",\"__unknown\"],\"type\":\"nominal\",\"name\":\"originTypePrevFIndex\"}}",
         "name": "originTypePrevFIndex",
         "type": "\"double\""
        },
        {
         "metadata": "{\"ml_attr\":{\"vals\":[\"N644AS\",\"N551NN\",\"N615AS\",\"N588NN\",\"N600NN\",\"N603NN\",\"N591NN\",\"N557NN\",\"N592NN\",\"N601EN\",\"N604NN\",\"N611AS\",\"N593NN\",\"N571NN\",\"N599NN\",\"N555NN\",\"N685AE\",\"N278SY\",\"N614AS\",\"N596NN\",\"N589NN\",\"N619AS\",\"N552NN\",\"N605NN\",\"N597NN\",\"N606NN\",\"N568NN\",\"N575NN\",\"N548NN\",\"N935AE\",\"N957WN\",\"N554NN\",\"N598NN\",\"N271SY\",\"N400SY\",\"N550NN\",\"N565NN\",\"N573NN\",\"N506AE\",\"N609NN\",\"N909AE\",\"N421LV\",\"N618AS\",\"N288SY\",\"N267SY\",\"N7844A\",\"N559NN\",\"N602NN\",\"N275SY\",\"N284SY\",\"N294WN\",\"N587NN\",\"N239WN\",\"N567NN\",\"N289SY\",\"N584NN\",\"N286SY\",\"N594NN\",\"N677AE\",\"N709PS\",\"N8894A\",\"N264SY\",\"N527EA\",\"N663AR\",\"N950LR\",\"251NV\",\"N292SY\",\"N611NN\",\"N607NN\",\"N892AT\",\"246NV\",\"N179SY\",\"N298SY\",\"N414WN\",\"N519AE\",\"N582NN\",\"N8580Z\",\"N279SY\",\"N590NN\",\"N733SA\",\"N7867A\",\"N941LT\",\"N265SY\",\"N413WN\",\"N751SW\",\"N563NN\",\"N283SY\",\"N295SY\",\"N422WN\",\"N472CA\",\"N566NN\",\"N586NN\",\"N336PQ\",\"N570NN\",\"N585NN\",\"N697AB\",\"N8511K\",\"N961WN\",\"N137EV\",\"N580NN\",\"N613AS\",\"N990AT\",\"N192SY\",\"N272WN\",\"N173SY\",\"N273SY\",\"N681AE\",\"N734SA\",\"N7849A\",\"N270SY\",\"N287WN\",\"N549NN\",\"N572NN\",\"N583NN\",\"N755SA\",\"N7825A\",\"N978AT\",\"N479WN\",\"N8513F\",\"N8522P\",\"N177SY\",\"N277SY\",\"N290SY\",\"N460SW\",\"N522AE\",\"N577NN\",\"N608NN\",\"N679AE\",\"N8612K\",\"N276SY\",\"N661JA\",\"N939AE\",\"N276WN\",\"N410WN\",\"N467WN\",\"N556NN\",\"N710SW\",\"N995AT\",\"N341PQ\",\"N457SW\",\"N831AE\",\"N835AY\",\"N908AE\",\"N917SW\",\"N964WN\",\"N484HA\",\"N687JS\",\"N935WN\",\"N191SY\",\"N201LV\",\"N578NN\",\"N8544Z\",\"N429SW\",\"N582CA\",\"N595NN\",\"N7836A\",\"N854AE\",\"N928AT\",\"N250WN\",\"N262SY\",\"N302SY\",\"N673AE\",\"N7742B\",\"N8615E\",\"N908FJ\",\"N293PQ\",\"N560NN\",\"N731SA\",\"N739GB\",\"N843AE\",\"N936WN\",\"N956WN\",\"N222WN\",\"N479HA\",\"N529EA\",\"N553NN\",\"N607LR\",\"N822AE\",\"N844AE\",\"N220WN\",\"N441WN\",\"N537EA\",\"N566WN\",\"N8518R\",\"N176SY\",\"N900WN\",\"N920SW\",\"N942LL\",\"N269SY\",\"N274WN\",\"N662EH\",\"N754SW\",\"N7846A\",\"N7853B\",\"N7888A\",\"N8531Q\",\"N8644C\",\"N300SY\",\"N494HA\",\"N525AE\",\"N8533S\",\"N8660A\",\"N8896A\",\"N973SW\",\"N178SY\",\"N193SY\",\"N236WN\",\"N257SY\",\"N282SY\",\"N493HA\",\"N8558Z\",\"N8575Z\",\"N8609A\",\"N942WN\",\"N997AT\",\"N259WN\",\"N407WN\",\"N439WN\",\"N490HA\",\"N7721E\",\"N8543Z\",\"N909WN\",\"N924EV\",\"N959WN\",\"248NV\",\"N402SY\",\"N508AE\",\"N7881A\",\"N8510E\",\"N895AT\",\"N944WN\",\"N952WN\",\"N223WN\",\"N254SY\",\"N254WN\",\"N277WN\",\"N349PQ\",\"N502AE\",\"N533AE\",\"N544EA\",\"N7863A\",\"N8572X\",\"N8611F\",\"N8652B\",\"N923AE\",\"N949WN\",\"N969WN\",\"N977AT\",\"N274SY\",\"N280SY\",\"N287SY\",\"N295PQ\",\"N337PQ\",\"N891AT\",\"N925AT\",\"N196SY\",\"N267WN\",\"N473WN\",\"N518AE\",\"N531EG\",\"N532EA\",\"N546FF\",\"N612NN\",\"N797SK\",\"N8616C\",\"N949AT\",\"N968WN\",\"N292PQ\",\"N608AT\",\"N703PS\",\"N759EV\",\"N8668A\",\"N8680C\",\"N913WN\",\"N232WN\",\"N245WN\",\"N269WN\",\"N516AE\",\"N526EA\",\"N593ML\",\"N600LR\",\"N732SW\",\"N750SA\",\"N7738A\",\"N8662F\",\"N8664J\",\"N8689C\",\"N966WN\",\"N243WN\",\"N244LR\",\"N279WN\",\"N612AE\",\"N7830A\",\"N790SK\",\"N8526W\",\"N945AT\",\"N950WN\",\"N982SW\",\"N181SY\",\"N199SY\",\"N330PQ\",\"N403SY\",\"N444WN\",\"N562NN\",\"N781WN\",\"N8508W\",\"N8618N\",\"N903XJ\",\"N934WN\",\"N946WN\",\"N981AT\",\"N235WN\",\"N700GS\",\"N718SK\",\"N7852A\",\"N8537Z\",\"N856AS\",\"N926AT\",\"N939WN\",\"N944AT\",\"N958WN\",\"N273WN\",\"N416WN\",\"N695CA\",\"N715SK\",\"N757LV\",\"N8545V\",\"N8620H\",\"N932AT\",\"250NV\",\"N278WN\",\"N285SY\",\"N404WN\",\"N438WN\",\"N523AE\",\"N574NN\",\"N8569Z\",\"N8584Z\",\"N8645A\",\"N8670A\",\"N8980A\",\"N928AE\",\"N940WN\",\"N989AT\",\"N463WN\",\"N832AY\",\"N8501V\",\"N8525S\",\"N8567Z\",\"N8648A\",\"N943WN\",\"N947AT\",\"254NV\",\"N229WN\",\"N405WN\",\"N688AE\",\"N725SW\",\"N738CB\",\"N8692F\",\"N933JN\",\"N938AT\",\"N938WN\",\"N942AT\",\"N243SY\",\"N290WN\",\"N297WN\",\"N452WN\",\"N664MS\",\"N671AE\",\"N752EV\",\"N8520Q\",\"N8538V\",\"N926WN\",\"N931AE\",\"N979AT\",\"N998AT\",\"N184SY\",\"N293SY\",\"N415WN\",\"N449WN\",\"N483WN\",\"N510AE\",\"N581NN\",\"N8610A\",\"N8614M\",\"N8693A\",\"N207JQ\",\"N219WN\",\"N227WN\",\"N246LV\",\"N249WN\",\"N275WN\",\"N281WN\",\"N404SY\",\"N420WN\",\"N480HA\",\"N521AE\",\"N528EG\",\"N536EA\",\"N538EG\",\"N735SA\",\"N8515X\",\"N8579Z\",\"N8604K\",\"N8619F\",\"N967WN\",\"N197SY\",\"N297SY\",\"N299SY\",\"N576NN\",\"N8566Z\",\"N941WN\",\"N210WN\",\"N272SY\",\"N285WN\",\"N289CT\",\"N291WN\",\"N449SW\",\"N558NN\",\"N567WN\",\"N7715E\",\"N7818L\",\"N8628A\",\"N8635F\",\"N8653A\",\"N8661A\",\"N8918B\",\"N907FJ\",\"N166PQ\",\"N171SY\",\"N175SY\",\"N183SY\",\"N217JC\",\"N281SY\",\"N417SW\",\"N653AE\",\"N791SK\",\"N795SK\",\"N8577Z\",\"N8582Z\",\"N8617E\",\"N8656B\",\"N937WN\",\"N970SW\",\"N212WN\",\"N255SY\",\"N268SY\",\"N454WN\",\"N487WN\",\"N7735A\",\"N779SK\",\"N7842A\",\"N842AE\",\"N8507C\",\"N8527Q\",\"N8578Q\",\"N8627B\",\"N8646B\",\"N8699A\",\"N914WN\",\"N964SW\",\"N294SY\",\"N305PQ\",\"N401WN\",\"N443WN\",\"N479CA\",\"N481WN\",\"N486WN\",\"N504AE\",\"N730EV\",\"N796SK\",\"N852AE\",\"N916WN\",\"N917WN\",\"N991AT\",\"N284WN\",\"N417WN\",\"N564NN\",\"N794SK\",\"N8524Z\",\"N8613K\",\"N8674B\",\"N8681M\",\"N8682B\",\"N896AT\",\"N952AT\",\"N960WN\",\"N963SW\",\"N170SY\",\"N215WN\",\"N240WN\",\"N246SY\",\"N261SY\",\"N272PQ\",\"N457WN\",\"N7732A\",\"N7739A\",\"N7862A\",\"N8512U\",\"N8678E\",\"N934FJ\",\"N264LV\",\"N265WN\",\"N437WN\",\"N507AE\",\"N693BR\",\"N696AE\",\"N767SK\",\"N8629A\",\"N8657B\",\"N8675A\",\"N905SW\",\"N930XJ\",\"N967SW\",\"N246LR\",\"N247WN\",\"N513AE\",\"N704SW\",\"N785SK\",\"N7886A\",\"N793SK\",\"N8608N\",\"N8697C\",\"253NV\",\"N200WN\",\"N241SY\",\"N261WN\",\"N268WN\",\"N440LV\",\"N7880D\",\"N8553W\",\"N8684F\",\"N8775A\",\"N927AT\",\"N960SW\",\"N994AT\",\"N214WN\",\"N461WN\",\"N462WN\",\"N492SW\",\"N579NN\",\"N674RJ\",\"N901XJ\",\"N945WN\",\"N963WN\",\"N186SY\",\"N203WN\",\"N213WN\",\"N244WN\",\"N252WN\",\"N288WN\",\"N429WN\",\"N476WN\",\"N712PS\",\"N8326F\",\"N8571Z\",\"N8574Z\",\"N8630B\",\"N8679A\",\"N987DN\",\"257NV\",\"N176PQ\",\"N205WN\",\"N296WN\",\"N482WN\",\"N491HA\",\"N503AE\",\"N718PS\",\"N789SK\",\"N8539V\",\"N8541W\",\"N8621A\",\"N8685B\",\"N8691A\",\"N903WN\",\"N908WN\",\"N927EV\",\"N948WN\",\"N955WN\",\"N185SY\",\"N209WN\",\"N294PQ\",\"N477WN\",\"N497WN\",\"N616AE\",\"N813AE\",\"N8640D\",\"N8687A\",\"N922WN\",\"N930LR\",\"N253WN\",\"N301SY\",\"N335PQ\",\"N409WN\",\"N474WN\",\"N610NN\",\"N706SK\",\"N725PS\",\"N729SW\",\"N755EV\",\"N7704B\",\"N854AS\",\"N8560Z\",\"N8570W\",\"N902FJ\",\"N932WN\",\"N947WN\",\"N971AT\",\"N125HQ\",\"N231WN\",\"N282WN\",\"N325PQ\",\"N427WN\",\"N524AE\",\"N717JL\",\"N8519R\",\"N8546V\",\"N8625A\",\"N8642E\",\"N8974C\",\"N914XJ\",\"N923SW\",\"N937XJ\",\"N947LR\",\"N194SY\",\"N204WN\",\"N252SY\",\"N286WN\",\"N434WN\",\"N496WN\",\"N517AE\",\"N594SW\",\"N749SW\",\"N792SW\",\"N8523W\",\"N8542Z\",\"N8633A\",\"N8667D\",\"N912EV\",\"N927SW\",\"N256SY\",\"N299WN\",\"N561NN\",\"N670AE\",\"N8573Z\",\"N8600F\",\"N8698B\",\"N8928A\",\"N912WN\",\"N916SW\",\"N943AT\",\"N944LR\",\"N982AT\",\"N181PQ\",\"N242WN\",\"N266WN\",\"N295WN\",\"N348PQ\",\"N478WN\",\"N511AE\",\"N547NN\",\"N607AE\",\"N678CA\",\"N713SW\",\"N7816B\",\"N801AY\",\"N840AY\",\"N8649A\",\"N8658A\",\"N902XJ\",\"N903SW\",\"N922FJ\",\"N923WN\",\"N929WN\",\"N965WN\",\"N996AT\",\"N241NN\",\"N241WN\",\"N279PQ\",\"N291SY\",\"N296SY\",\"N329MS\",\"N412WN\",\"N496CA\",\"N500WR\",\"N724SW\",\"N730SW\",\"N7865A\",\"N8550Q\",\"N8622A\",\"N904EV\",\"N925AE\",\"N993AT\",\"N242SY\",\"N248NN\",\"N253SY\",\"N255WN\",\"N292WN\",\"N405SY\",\"N448SW\",\"N556WN\",\"N745SK\",\"N769SW\",\"N778SK\",\"N819AY\",\"N8302F\",\"N8555Z\",\"N8690A\",\"N930AT\",\"247NV\",\"274NV\",\"N198SY\",\"N218WN\",\"N243NN\",\"N505AE\",\"N569WN\",\"N710PS\",\"N8514F\",\"N8548P\",\"N8561Z\",\"N8583Z\",\"N8651A\",\"N914EV\",\"N917EV\",\"N925SW\",\"N962SW\",\"N979SW\",\"N980AT\",\"N297PQ\",\"N298WN\",\"N411WN\",\"N458WN\",\"N724SK\",\"N752SW\",\"N7856A\",\"N8556Z\",\"N8626B\",\"N8654B\",\"N8659D\",\"N8677A\",\"N8683D\",\"N886AS\",\"N905JH\",\"N920FJ\",\"N954AT\",\"249NV\",\"N123HQ\",\"N251SY\",\"N251WN\",\"N283WN\",\"N408WN\",\"N475HA\",\"N711HK\",\"N744SW\",\"N760SW\",\"N8529Z\",\"N8551Q\",\"N8554X\",\"N8559Q\",\"N8562Z\",\"N8671D\",\"N8683B\",\"N8688J\",\"N904XJ\",\"N907XJ\",\"N969SW\",\"N187SY\",\"N326MS\",\"N604SK\",\"N743SK\",\"N744EV\",\"N7726A\",\"N8576Z\",\"N8672F\",\"N8976E\",\"N939LR\",\"N263SY\",\"N272NN\",\"N288NN\",\"N470WN\",\"N727SW\",\"N766SK\",\"N804SK\",\"N8565Z\",\"N857AE\",\"N8602F\",\"N951WN\",\"223NV\",\"N174SY\",\"N182SY\",\"N230WN\",\"N247NN\",\"N298PQ\",\"N406WN\",\"N431WN\",\"N486HA\",\"N520DC\",\"N535EA\",\"N7835A\",\"N792SK\",\"N8318F\",\"N837AW\",\"N8581Z\",\"N8673F\",\"N8686A\",\"N874AS\",\"N910WN\",\"N923FJ\",\"N926SW\",\"N926XJ\",\"N962WN\",\"N980EV\",\"242NV\",\"N226WN\",\"N280WN\",\"N475WN\",\"N606SK\",\"N8313F\",\"N8509U\",\"N8534Z\",\"N8552Z\",\"N8663A\",\"N8669B\",\"N905XJ\",\"N915XJ\",\"N931WN\",\"N701GS\",\"N8320J\",\"N906WN\",\"N929AT\",\"N958SW\",\"N959SW\",\"N225WN\",\"N248WN\",\"N326PQ\",\"N606AE\",\"N7734H\",\"N8503A\",\"N851AE\",\"N913FJ\",\"N915WN\",\"N919XJ\",\"N930SW\",\"N953WN\",\"N955LR\",\"N188SY\",\"N224WN\",\"N250SY\",\"N7718B\",\"N7877H\",\"N8303R\",\"N8504G\",\"N8603F\",\"N902BC\",\"N908EV\",\"N909FJ\",\"N911FJ\",\"N956LR\",\"N195SY\",\"N244SY\",\"N250NN\",\"N256WN\",\"N324PQ\",\"N423WN\",\"N432WN\",\"N452SW\",\"N742SW\",\"N748SW\",\"N7854B\",\"N823AE\",\"N8502Z\",\"N8536Z\",\"N8607M\",\"N8908D\",\"N920WN\",\"N921FJ\",\"230NV\",\"N237WN\",\"N258WN\",\"N432SW\",\"N435SW\",\"N480WN\",\"N484WN\",\"N495WN\",\"N8549Z\",\"N8694E\",\"N907SW\",\"N925WN\",\"N929SW\",\"316NV\",\"N215JQ\",\"N270NN\",\"N293WN\",\"N8310C\",\"N8639B\",\"N8655D\",\"N8694A\",\"N8695D\",\"N8877A\",\"N923EV\",\"N929EV\",\"N931EV\",\"N957LR\",\"N189SY\",\"N260WN\",\"N506CA\",\"N534AE\",\"N629NK\",\"N718SW\",\"N858AE\",\"N8676A\",\"N922EV\",\"N952LR\",\"N240NN\",\"N319PQ\",\"N436WN\",\"N564WN\",\"N565WN\",\"N7866A\",\"N800AY\",\"N8643A\",\"N918SW\",\"N944SW\",\"N108HQ\",\"N133EV\",\"N273NN\",\"N430SW\",\"N490WN\",\"N492WN\",\"N495HA\",\"N693AE\",\"N702PS\",\"N7733B\",\"N905J\",\"N279MQ\",\"N442WN\",\"N479PX\",\"N499WN\",\"N557WN\",\"N702BR\",\"N726SK\",\"N760SK\",\"N762SW\",\"N776SK\",\"N816AW\",\"N8530W\",\"N8547V\",\"N8568Z\",\"N8650F\",\"N904WN\",\"N919SW\",\"N922XJ\",\"N932EV\",\"N258SY\",\"N287NN\",\"N631NK\",\"N686BR\",\"N747SA\",\"N7751A\",\"N786SK\",\"N834AY\",\"N8557Q\",\"N8563Z\",\"N8564Z\",\"N8638A\",\"N8665D\",\"N866AS\",\"N924WN\",\"N929LR\",\"N946AT\",\"N989DN\",\"215NV\",\"240NV\",\"N119SY\",\"N204JQ\",\"N206JQ\",\"N209JQ\",\"N296PQ\",\"N8305E\",\"N8311Q\",\"N8329B\",\"N8631A\",\"N908XJ\",\"N928WN\",\"N146PQ\",\"N202WN\",\"N226NN\",\"N260SY\",\"N418WN\",\"N437SW\",\"N459SW\",\"N758SW\",\"N788SK\",\"N8315C\",\"N840AE\",\"N8605E\",\"231NV\",\"N111HQ\",\"N129HQ\",\"N170PQ\",\"N221WN\",\"N259SY\",\"N551WN\",\"N7702A\",\"235NV\",\"N262WN\",\"N271NN\",\"N316PQ\",\"N435WN\",\"N7736A\",\"N7868K\",\"N900AE\",\"N932LR\",\"276NV\",\"N116DU\",\"N303PQ\",\"N478PX\",\"N555LV\",\"N667GB\",\"N7730A\",\"N837AE\",\"N8517F\",\"N8540V\",\"N912SW\",\"N930EV\",\"259NV\",\"N108DQ\",\"N116HQ\",\"N153PQ\",\"N257WN\",\"N300PQ\",\"N485WN\",\"N498CA\",\"N501BG\",\"N539EA\",\"N668HH\",\"N719SK\",\"N736SA\",\"N7879A\",\"N8696E\",\"N983SW\",\"N132EV\",\"N315PQ\",\"N438SW\",\"N720PS\",\"N728SK\",\"N7720F\",\"N841AE\",\"N8839E\",\"N928XJ\",\"N930WN\",\"N933EV\",\"N936EV\",\"N138HQ\",\"N247SY\",\"N301PQ\",\"N464WN\",\"N494WN\",\"N765SK\",\"N8535S\",\"N8624J\",\"N8634A\",\"N894AT\",\"N913EV\",\"N946SW\",\"N953LR\",\"N954WN\",\"N957SW\",\"226NV\",\"N240SY\",\"N261NN\",\"N267NN\",\"N271LV\",\"N283NN\",\"N440YX\",\"N622AE\",\"N702SK\",\"N712SW\",\"N724UW\",\"N725YX\",\"N7829B\",\"N782SK\",\"N7845A\",\"N824SK\",\"N951SW\",\"N955AT\",\"N981EV\",\"N131HQ\",\"N232NN\",\"N281NN\",\"N430WN\",\"N478HA\",\"N679SA\",\"N698CB\",\"N863AS\",\"N906FJ\",\"N133HQ\",\"N211WN\",\"N213JQ\",\"N216JQ\",\"N228NN\",\"N236NN\",\"N255NN\",\"N269NN\",\"N618AE\",\"N680AE\",\"N716SK\",\"N7741C\",\"N785SW\",\"N8325D\",\"N8637A\",\"N876AS\",\"N8986B\",\"N948AT\",\"N955SW\",\"N498WN\",\"N709SK\",\"N7745A\",\"N820AY\",\"N8528Q\",\"N8886A\",\"N893AT\",\"N917XJ\",\"275NV\",\"N331PQ\",\"N352FR\",\"N469WN\",\"N684JW\",\"N751SK\",\"N760US\",\"N8306H\",\"N8647A\",\"N923XJ\",\"N228WN\",\"N264NN\",\"N284JN\",\"N488HA\",\"N758SK\",\"N8309C\",\"N832SK\",\"N113HQ\",\"N115HQ\",\"N117SY\",\"N210JQ\",\"N242NN\",\"N251NN\",\"N453SW\",\"N569NN\",\"N623AE\",\"N750UW\",\"N761ND\",\"N7724A\",\"N774SK\",\"N8601C\",\"N8946A\",\"N951AT\",\"N954SW\",\"N205JQ\",\"N231AN\",\"N274NN\",\"N347FR\",\"N428WN\",\"N444YX\",\"N545PB\",\"N7747C\",\"N7864B\",\"N7875A\",\"N115DU\",\"N164SY\",\"N266NN\",\"N323FR\",\"N425LV\",\"N607SK\",\"N611AE\",\"N656NK\",\"N676AE\",\"N705PS\",\"N7820L\",\"N783SK\",\"N8323C\",\"N8327A\",\"N8641B\",\"N885AS\",\"N902WN\",\"N909EV\",\"N910SW\",\"N919FJ\",\"N919WN\",\"N936AT\",\"N320PQ\",\"N425YX\",\"N675AE\",\"N7833A\",\"N8308K\",\"N8532S\",\"N8606C\",\"N879AS\",\"241NV\",\"255NV\",\"N162SY\",\"N223NN\",\"N225NN\",\"N238WN\",\"N299PQ\",\"N427SW\",\"N437YX\",\"N549CA\",\"N730YX\",\"N770SK\",\"N7717D\",\"N7869A\",\"N836AY\",\"N915SW\",\"N959LR\",\"262NV\",\"271NV\",\"N118SY\",\"N136EV\",\"N162PQ\",\"N207SY\",\"N609NK\",\"N706PS\",\"N719PS\",\"N733YX\",\"N741UW\",\"N7740A\",\"N8623F\",\"N953SW\",\"N119HQ\",\"N120HQ\",\"N156SY\",\"N235FR\",\"N304FR\",\"N321DH\",\"N355NB\",\"N376DN\",\"N724YX\",\"N746SW\",\"N751UW\",\"N752SK\",\"N772SK\",\"N779CA\",\"N831SK\",\"N907WN\",\"N105UW\",\"N201JQ\",\"N234JW\",\"N403WN\",\"N431SW\",\"N542EA\",\"N741SA\",\"N747YX\",\"N7878A\",\"N787SK\",\"N113SY\",\"N118US\",\"N131EV\",\"N265NN\",\"N445SW\",\"N562WN\",\"N731YX\",\"N7723E\",\"N8317M\",\"N913XJ\",\"N947SW\",\"245NV\",\"N108SY\",\"N118DU\",\"N206SY\",\"N244NN\",\"N311FR\",\"N317NB\",\"N609AS\",\"N620NK\",\"N642NK\",\"N712SK\",\"N712US\",\"N729YX\",\"N740EV\",\"N743YX\",\"N774XF\",\"N932AE\",\"N938LR\",\"252NV\",\"261NV\",\"280NV\",\"N136SY\",\"N160SY\",\"N253NN\",\"N282NN\",\"N395DZ\",\"N617NK\",\"N625NK\",\"N716PS\",\"N763SW\",\"N7876A\",\"N8324A\",\"N8936A\",\"N8969A\",\"N119DU\",\"N122HQ\",\"N227NN\",\"N268NN\",\"N328FR\",\"N530EA\",\"N723SW\",\"N741EV\",\"N751YX\",\"N7729A\",\"N956SW\",\"N130HQ\",\"N130SY\",\"N132HQ\",\"N202JQ\",\"N319NB\",\"N375DN\",\"N443YX\",\"N636NK\",\"N709BR\",\"N740SK\",\"N751EV\",\"N901WN\",\"N943SW\",\"N153SY\",\"N276NN\",\"N327DN\",\"N434YX\",\"N610AE\",\"N619NK\",\"N7728D\",\"N799SW\",\"N834SK\",\"N8869B\",\"N902NK\",\"N927XJ\",\"233NV\",\"N146SY\",\"N233LV\",\"N252NN\",\"N257NN\",\"N289MW\",\"N326FR\",\"N361FR\",\"N454SW\",\"N465WN\",\"N510MJ\",\"N7834A\",\"N8301J\",\"N103HQ\",\"N121DU\",\"N128HQ\",\"N205SY\",\"N230NN\",\"N234WN\",\"N349NB\",\"N360NB\",\"N401YX\",\"N471CA\",\"N699BR\",\"N748SK\",\"N767SW\",\"N7719A\",\"N825AE\",\"N8312C\",\"N865RW\",\"N920XJ\",\"N921EV\",\"N971SW\",\"N109UW\",\"N152SY\",\"N277NN\",\"N326DN\",\"N364FR\",\"N621NK\",\"N651NK\",\"N723YX\",\"N732SK\",\"N736YX\",\"N742SK\",\"N749US\",\"N756SK\",\"N769US\",\"N809AW\",\"N813SK\",\"N905WN\",\"N912XJ\",\"243NV\",\"N104HQ\",\"N111NG\",\"N123DQ\",\"N131SY\",\"N203SY\",\"N336NB\",\"N381DZ\",\"N678AE\",\"N776XF\",\"N7883A\",\"N8836A\",\"N925FJ\",\"244NV\",\"N101HQ\",\"N104UW\",\"N107US\",\"N135HQ\",\"N165SY\",\"N208JQ\",\"N278NN\",\"N313FR\",\"N333NB\",\"N393DN\",\"N623NK\",\"N654NK\",\"N744YX\",\"N7858A\",\"N823SK\",\"N910EV\",\"N942LR\",\"218NV\",\"N106HQ\",\"N118HQ\",\"N210FR\",\"N220NN\",\"N350FR\",\"N351FR\",\"N432YX\",\"N433SW\",\"N605KS\",\"N625CA\",\"N642RW\",\"N643NK\",\"N703SK\",\"N709UW\",\"N771SK\",\"N7748A\",\"N7811F\",\"N848AE\",\"N903FJ\",\"N906XJ\",\"256NV\",\"282NV\",\"N121HQ\",\"N126HQ\",\"N127UW\",\"N208SY\",\"N275NN\",\"N356FR\",\"N357NB\",\"N624NK\",\"N645NK\",\"N691NK\",\"N701UW\",\"N706SW\",\"N738SK\",\"N745VJ\",\"N750EV\",\"N768SK\",\"N7716A\",\"N7722B\",\"N817AW\",\"N8307K\",\"N8632A\",\"N927WN\",\"N980SW\",\"N102HQ\",\"N147PQ\",\"N307PQ\",\"N337NB\",\"N388DN\",\"N616NK\",\"N637NK\",\"N640NK\",\"N652BR\",\"N694AE\",\"N710SK\",\"N739YX\",\"N746YX\",\"N762SK\",\"N765SW\",\"N7727A\",\"N7749B\",\"N7841A\",\"N878AS\",\"326NV\",\"N168SY\",\"N187PQ\",\"N202SY\",\"N311PQ\",\"N336DX\",\"N519LR\",\"N554CA\",\"N604AW\",\"N676CA\",\"N728SW\",\"N8319F\",\"N936XJ\",\"N951LR\",\"N961SW\",\"330NV\",\"N106SY\",\"N107HQ\",\"N125SY\",\"N209SY\",\"N237NN\",\"N280NN\",\"N303DN\",\"N604LR\",\"N611SK\",\"N742PS\",\"N750YX\",\"N767UW\",\"N7737E\",\"N7743B\",\"N918XJ\",\"N934SW\",\"232NV\",\"313NV\",\"N109SY\",\"N125DU\",\"N320DN\",\"N354FR\",\"N612AS\",\"N622NK\",\"N647NK\",\"N721YX\",\"N764SK\",\"N7713A\",\"N808AE\",\"N906SW\",\"N921XJ\",\"222NV\",\"N120SY\",\"N166SY\",\"N245NN\",\"N303FR\",\"N316FR\",\"N317FR\",\"N318FR\",\"N324FR\",\"N331FR\",\"N353NB\",\"N416YX\",\"N608SK\",\"N708UW\",\"N714US\",\"N726YX\",\"N758EV\",\"N7843A\",\"N825SK\",\"312NV\",\"N110HQ\",\"N114SY\",\"N200SY\",\"N204SY\",\"N211JQ\",\"N214JQ\",\"N455SW\",\"N553WN\",\"N638NK\",\"N737JW\",\"N7859B\",\"277NV\",\"N128SY\",\"N148SY\",\"N167SY\",\"N224NN\",\"N316NB\",\"N330FR\",\"N354NB\",\"N373DX\",\"N603CZ\",\"N7832A\",\"N8891A\",\"N112HQ\",\"N134EV\",\"N238NN\",\"N390DN\",\"N442SW\",\"N489HA\",\"N613NK\",\"N627NK\",\"N725UW\",\"N732YX\",\"N754SK\",\"N7744A\",\"N7746C\",\"N837SK\",\"N914FJ\",\"N928EV\",\"N933WN\",\"N137HQ\",\"N312FR\",\"N339FR\",\"N340DN\",\"N341DN\",\"N601LR\",\"N750SK\",\"N752US\",\"N762US\",\"N778XF\",\"N784SK\",\"N804AW\",\"N817SK\",\"N8316H\",\"N8970D\",\"N904FJ\",\"N910XJ\",\"N254NN\",\"N309FR\",\"N339DN\",\"N370NB\",\"N439SW\",\"N447YX\",\"N466WN\",\"N538CA\",\"N635RW\",\"N639RW\",\"N661AW\",\"N701SK\",\"N705SK\",\"N755US\",\"N7840A\",\"N945SW\",\"N116SY\",\"N128UW\",\"N221NN\",\"N229NN\",\"N286NN\",\"N330DX\",\"N338FR\",\"N396DN\",\"N641NK\",\"N655RW\",\"N709SW\",\"N728YX\",\"N740UW\",\"N756US\",\"N780SK\",\"N877AS\",\"N906EV\",\"N909XJ\",\"N935XJ\",\"N163SY\",\"N347NB\",\"N411YX\",\"N435YX\",\"N512AE\",\"N514AE\",\"N541EA\",\"N704FR\",\"N713SK\",\"N7725A\",\"N8321D\",\"N8322X\",\"N833AY\",\"N114UW\",\"N127DU\",\"N127SY\",\"N258NN\",\"N334FR\",\"N343FR\",\"N380DN\",\"N382DN\",\"N386DN\",\"N456WN\",\"N483HA\",\"N601AW\",\"N612UX\",\"N619UX\",\"N8314L\",\"N862RW\",\"N978SW\",\"258NV\",\"N119US\",\"N138EV\",\"N142SY\",\"N239NN\",\"N321NB\",\"N332FR\",\"N335FR\",\"N427YX\",\"N605UX\",\"N615NK\",\"N646RW\",\"N652RW\",\"N7819A\",\"N334NW\",\"N335DN\",\"N337FR\",\"N346DN\",\"N384DN\",\"N419WN\",\"N548CA\",\"N559WN\",\"N692NK\",\"N709FR\",\"N723UW\",\"N745YX\",\"N7731A\",\"N80348\",\"N924XJ\",\"273NV\",\"N111US\",\"N346FR\",\"N365FR\",\"N500AE\",\"N602UX\",\"N748EV\",\"N765US\",\"N812AE\",\"N910FJ\",\"N109DU\",\"N246PS\",\"N378DN\",\"N379DN\",\"N383DZ\",\"N480PX\",\"N742YX\",\"N755SK\",\"N820SK\",\"N904NK\",\"N937EV\",\"N954LR\",\"310NV\",\"N233NN\",\"N307FR\",\"N308FR\",\"N363NW\",\"N506MJ\",\"N633NK\",\"N717UW\",\"N753US\",\"N808AW\",\"N84307\",\"N948LR\",\"272NV\",\"281NV\",\"N249NN\",\"N334DN\",\"N348NB\",\"N3750D\",\"N552WN\",\"N604NK\",\"N611NK\",\"N660AW\",\"N696NK\",\"N722YX\",\"N7828A\",\"N802AW\",\"N834AW\",\"N838SK\",\"N875AS\",\"N922AE\",\"N122SY\",\"N150SY\",\"N161SY\",\"N203JQ\",\"N329FR\",\"N353FR\",\"N363FR\",\"N424WN\",\"N424YX\",\"N431YX\",\"N445YX\",\"N518LR\",\"N612NK\",\"N639NK\",\"N772XF\",\"N7813P\",\"N7851A\",\"N798SW\",\"N801UA\",\"N812AW\",\"N814AW\",\"N924SW\",\"N117UW\",\"N125UW\",\"N274JB\",\"N310FR\",\"N322FR\",\"N336FR\",\"N442YX\",\"N472WN\",\"N611UX\",\"N638RW\",\"N657RW\",\"N662AW\",\"N663NK\",\"N698NK\",\"N753EV\",\"N8943A\",\"N907NK\",\"260NV\",\"279NV\",\"N151SY\",\"N205FR\",\"N228PQ\",\"N364NW\",\"N3731T\",\"N404YX\",\"N439YX\",\"N632NK\",\"N647RW\",\"N711UW\",\"N748UW\",\"N7822A\",\"N900EV\",\"N924FJ\",\"N110SY\",\"N126DU\",\"N428YX\",\"N628NK\",\"N631RW\",\"N683NK\",\"N716UW\",\"N752YX\",\"N7752B\",\"N803SK\",\"N817AE\",\"N8328A\",\"321NV\",\"N110DU\",\"N144SY\",\"N154SY\",\"N200PQ\",\"N318NB\",\"N360FR\",\"N3759\",\"N501MJ\",\"N603NK\",\"N669AW\",\"N676NK\",\"N822AW\",\"N824AW\",\"N855RW\",\"N135SY\",\"N220FR\",\"N235NN\",\"N263NN\",\"N304DN\",\"N429YX\",\"N515AE\",\"N607AS\",\"N658NK\",\"N669NK\",\"N7850B\",\"N905EV\",\"N921NK\",\"283NV\",\"N114HQ\",\"N157SY\",\"N329PQ\",\"N331DN\",\"N359FR\",\"N407YX\",\"N426YX\",\"N603SK\",\"N606NK\",\"N649NK\",\"N667NK\",\"N7823A\",\"N7857B\",\"N800SK\",\"N833SK\",\"N335NB\",\"N403YX\",\"N504MJ\",\"N604UX\",\"N654RW\",\"N656RW\",\"N692CA\",\"N708SK\",\"N732US\",\"N744P\",\"N7887A\",\"N821AE\",\"305NV\",\"N109HQ\",\"N138SY\",\"N211FR\",\"N213FR\",\"N256NN\",\"N304PQ\",\"N348FR\",\"N352NB\",\"N466SW\",\"N508MJ\",\"N614SK\",\"N644NK\",\"N646NK\",\"N723PS\",\"N802SK\",\"N8847A\",\"N915EV\",\"N339NB\",\"N343NB\",\"N607UX\",\"N613UX\",\"N717SA\",\"N771XF\",\"216NV\",\"N211SY\",\"N338DN\",\"N441YX\",\"N492HA\",\"N695NK\",\"N727SK\",\"N733UW\",\"N748YX\",\"N760EV\",\"N773SK\",\"N7815L\",\"N845UA\",\"N918AE\",\"N133SY\",\"N216WR\",\"N236FR\",\"N345DN\",\"N353NW\",\"N615AE\",\"N643RW\",\"N740YX\",\"N820DX\",\"N826SK\",\"N835AW\",\"N836AW\",\"N839AW\",\"N863RW\",\"323NV\",\"N104DU\",\"N232PQ\",\"N242LR\",\"N322NB\",\"N349FR\",\"N349NW\",\"N355NW\",\"N622AS\",\"N640RW\",\"N655NK\",\"N754UW\",\"N773XF\",\"N7839A\",\"N820AW\",\"N919EV\",\"227NV\",\"N107SY\",\"N123UW\",\"N145SY\",\"N455WN\",\"N522LR\",\"N615UX\",\"N618NK\",\"N649RW\",\"N652NK\",\"N702UW\",\"N768US\",\"N7827A\",\"N830AW\",\"308NV\",\"N102UW\",\"N328DN\",\"N340NB\",\"N350NA\",\"N362FR\",\"N3734B\",\"N374DX\",\"N3766\",\"N3771K\",\"N421YX\",\"N451WN\",\"N468CA\",\"N620UX\",\"N650NK\",\"N708FR\",\"N720WN\",\"N958LR\",\"331NV\",\"N149SY\",\"N222NS\",\"N330NB\",\"N365NB\",\"N365NW\",\"N368CA\",\"N3756\",\"N3765\",\"N3773D\",\"N422YX\",\"N436YX\",\"N606UX\",\"N607NK\",\"N608NK\",\"N616UX\",\"N672NK\",\"N714CB\",\"N776DE\",\"N869AS\",\"N927UW\",\"N931LR\",\"N126UW\",\"N134SY\",\"N231JQ\",\"N317CA\",\"N358FR\",\"N394DX\",\"N657NK\",\"N680NK\",\"N700UW\",\"N708PS\",\"N746UW\",\"N764US\",\"N920NK\",\"N965SW\",\"N103SY\",\"N103US\",\"N107DU\",\"N112DU\",\"N319DN\",\"N323DN\",\"N325DN\",\"N344DN\",\"N3744F\",\"N387DN\",\"N391DN\",\"N487HA\",\"N626NK\",\"N727YX\",\"N738US\",\"N7837A\",\"N868AS\",\"N3772H\",\"N618UX\",\"N706FR\",\"N715UW\",\"N763SK\",\"N766US\",\"N805AW\",\"329NV\",\"N110UW\",\"N122US\",\"N290NN\",\"N302DN\",\"N342FR\",\"N747UW\",\"N819AW\",\"N823DX\",\"234NV\",\"N227FR\",\"N260NN\",\"N313PQ\",\"N331NW\",\"N344NB\",\"N345NB\",\"N359NW\",\"N412YX\",\"N443SW\",\"N607CZ\",\"N614NK\",\"N686NK\",\"N721UW\",\"N813AW\",\"319NV\",\"N105HQ\",\"N112US\",\"N136HQ\",\"N212JQ\",\"N235JQ\",\"N329DN\",\"N392DN\",\"N414YX\",\"N430YX\",\"N604CZ\",\"N630NK\",\"N671NK\",\"N702FR\",\"N722EV\",\"N763US\",\"229NV\",\"N117HQ\",\"N372DN\",\"N377DN\",\"N408YX\",\"N446YX\",\"N561UW\",\"N562UW\",\"N653RW\",\"N690NK\",\"N773SA\",\"N838AW\",\"N916EV\",\"N925XJ\",\"N132SY\",\"N324DX\",\"N361NW\",\"N366NB\",\"N438YX\",\"N468WN\",\"N601NK\",\"N851UA\",\"N859RW\",\"N922NK\",\"N127HQ\",\"N141SY\",\"N318DX\",\"N320NB\",\"N339JB\",\"N3751B\",\"N375DA\",\"N398DN\",\"N608UX\",\"N660NK\",\"N674NK\",\"N677NK\",\"N7874B\",\"N833UA\",\"N933XJ\",\"N986SW\",\"N106DU\",\"N124HQ\",\"N177XF\",\"N326NB\",\"N3740C\",\"N410YX\",\"N478AS\",\"N550WN\",\"N563WN\",\"N613NN\",\"N614NN\",\"N635NK\",\"N6714Q\",\"N712FR\",\"N722US\",\"N86347\",\"315NV\",\"N105SY\",\"N246NN\",\"N314PQ\",\"N333NW\",\"N464SW\",\"N602NK\",\"N634RW\",\"N693NK\",\"N753SK\",\"N758US\",\"N815AW\",\"N822SK\",\"N135EV\",\"N186US\",\"N315NB\",\"N354NW\",\"N358PW\",\"N372DA\",\"N402YX\",\"N477HA\",\"N488WN\",\"N606LR\",\"N610UX\",\"N613SK\",\"N650RW\",\"N661NK\",\"N716SW\",\"N770UW\",\"N831UA\",\"N878UA\",\"N905NK\",\"N918FJ\",\"N977UY\",\"N294JB\",\"N358NW\",\"N3749D\",\"N406YX\",\"N722FR\",\"N730SK\",\"N744SK\",\"N746SK\",\"N818AW\",\"N857RW\",\"N923NK\",\"N931XJ\",\"N117DU\",\"N206FR\",\"N230FR\",\"N262NN\",\"N329NB\",\"N333DX\",\"N348DN\",\"N352NW\",\"N354PT\",\"N459WN\",\"N493WN\",\"N534UW\",\"N647AW\",\"N678NK\",\"N687NK\",\"N693CA\",\"N705UW\",\"N801AW\",\"N87319\",\"N88335\",\"N910NN\",\"N912NK\",\"N102DU\",\"N124US\",\"N161PQ\",\"N241LR\",\"N248LR\",\"N314PD\",\"N341NB\",\"N344FR\",\"N444UA\",\"N631SK\",\"N670NK\",\"N673NK\",\"N715FR\",\"N7712G\",\"N7812G\",\"N840AW\",\"N103DU\",\"N121SY\",\"N305FR\",\"N368DN\",\"N494CA\",\"N614UX\",\"N667DN\",\"N705FR\",\"N741YX\",\"N822UA\",\"N85356\",\"N87360\",\"N903NK\",\"N994NN\",\"N996NN\",\"N122DU\",\"N167US\",\"N185UW\",\"N332DN\",\"N332NW\",\"N3755D\",\"N433YX\",\"N490UA\",\"N617UX\",\"N630SK\",\"N651RW\",\"N703UW\",\"N704US\",\"N749YX\",\"N754EV\",\"N913NK\",\"N322DN\",\"N344NW\",\"N469UA\",\"N605NK\",\"N687DL\",\"N805SK\",\"N832AW\",\"N846UA\",\"N861RW\",\"N931NN\",\"N982VJ\",\"301NV\",\"N121UW\",\"N385DZ\",\"N445WN\",\"N461SW\",\"N558WN\",\"N634NK\",\"N644RW\",\"N653NK\",\"N673AW\",\"N719FR\",\"N807AW\",\"N979RP\",\"N113DQ\",\"N321US\",\"N377DE\",\"N409YX\",\"N423YX\",\"N476HA\",\"N524UW\",\"N828AW\",\"N87345\",\"N918NK\",\"N932XJ\",\"N941NN\",\"N360NW\",\"N366NW\",\"N419YX\",\"N460WN\",\"N465SW\",\"N486AS\",\"N652AW\",\"N659AW\",\"N691CA\",\"N774DE\",\"N7855A\",\"N809SK\",\"N810AW\",\"N821DX\",\"N849UA\",\"N87302\",\"N88359\",\"N179UW\",\"N347NW\",\"N350DN\",\"N410UA\",\"N609UX\",\"N641RW\",\"N659NK\",\"N695DL\",\"N922US\",\"N977NN\",\"320NV\",\"N309PC\",\"N337DN\",\"N482PX\",\"N560WN\",\"N594NW\",\"N619AE\",\"N675NK\",\"N821UA\",\"N82338\",\"N89317\",\"N919NK\",\"N923DZ\",\"N305DN\",\"N334JB\",\"N342DN\",\"N342NB\",\"N368NB\",\"N405YX\",\"N446SW\",\"N551UW\",\"N601UX\",\"N632SK\",\"N651AW\",\"N653AW\",\"N730US\",\"N827AW\",\"N830UA\",\"N85323\",\"N86344\",\"N915DU\",\"N915US\",\"N916NK\",\"N924NK\",\"N932NN\",\"306NV\",\"N108UW\",\"N120DU\",\"N207FR\",\"N233FR\",\"N351NB\",\"N645RW\",\"N662NK\",\"N689CA\",\"N808UA\",\"N826AW\",\"N858RW\",\"N87303\",\"N88325\",\"N88346\",\"N89313\",\"N895UA\",\"N923US\",\"N124SY\",\"N315DN\",\"N354CA\",\"N366DX\",\"N370DN\",\"N3754A\",\"N375NC\",\"N523UW\",\"N603UX\",\"N621UX\",\"N664AW\",\"N683DA\",\"N713FR\",\"N88310\",\"N964NN\",\"N980NN\",\"309NV\",\"N124DU\",\"N223JS\",\"N344PP\",\"N369NB\",\"N376DA\",\"N388DA\",\"N390DA\",\"N391CA\",\"N556UW\",\"N680AW\",\"N804AE\",\"N810AE\",\"N856RW\",\"N86334\",\"334NV\",\"N301FR\",\"N3763D\",\"N37700\",\"N418YX\",\"N447WN\",\"N664NK\",\"N816AE\",\"N829SK\",\"N918WN\",\"N936SW\",\"328NV\",\"N246JQ\",\"N314DN\",\"N364DX\",\"N391DA\",\"N394DA\",\"N420YX\",\"N507MJ\",\"N537AS\",\"N544UW\",\"N816SK\",\"N86311\",\"N87306\",\"N89349\",\"N9015D\",\"N995NN\",\"221NV\",\"338NV\",\"N259NN\",\"N369DN\",\"N3743H\",\"N545UW\",\"N689EC\",\"N757UW\",\"N844UA\",\"N85320\",\"N905DN\",\"N920NN\",\"217NV\",\"N114DU\",\"N178US\",\"N341FR\",\"N357PV\",\"N446WN\",\"N465UA\",\"N648RW\",\"N665NK\",\"N697NK\",\"N809UA\",\"N87318\",\"N88330\",\"N898UA\",\"N902DN\",\"N908DN\",\"N921WN\",\"N928LR\",\"N974UY\",\"311NV\",\"N151AN\",\"N155NN\",\"N161UW\",\"N182GJ\",\"N182UW\",\"N307JB\",\"N339PL\",\"N468UA\",\"N535UW\",\"N650AW\",\"N657AW\",\"N668NK\",\"N6707A\",\"N682NK\",\"N694NK\",\"N871DN\",\"236NV\",\"N154AA\",\"N16559\",\"N393DA\",\"N417YX\",\"N557UW\",\"N579UW\",\"N710UW\",\"N7750A\",\"N83329\",\"N861NN\",\"N86324\",\"N88332\",\"N89321\",\"N925NK\",\"327NV\",\"N143AN\",\"N200NV\",\"N359NB\",\"N371DN\",\"N371NB\",\"N448WN\",\"N543EA\",\"N7824A\",\"N7847A\",\"N7889A\",\"N824UA\",\"N85355\",\"N87339\",\"N88341\",\"N89342\",\"N934NN\",\"324NV\",\"N221PS\",\"N284AK\",\"N356NW\",\"N3739P\",\"N3748Y\",\"N415YX\",\"N602LR\",\"N82314\",\"N829UA\",\"N870DN\",\"N88328\",\"N896NN\",\"N904AA\",\"225NV\",\"317NV\",\"N296AK\",\"N308PQ\",\"N346NB\",\"N3767\",\"N464AS\",\"N467UA\",\"N596NW\",\"N641CA\",\"N6715C\",\"N833AW\",\"N937NN\",\"N938NN\",\"N975SW\",\"N998NN\",\"314NV\",\"N180US\",\"N367CA\",\"N3757D\",\"N398CA\",\"N4005X\",\"N413YX\",\"N515MJ\",\"N658AW\",\"N86309\",\"N907NN\",\"N926EV\",\"N989AU\",\"333NV\",\"N151UW\",\"N176UW\",\"N192JB\",\"N215AK\",\"N232FR\",\"N3014R\",\"N301PA\",\"N3732J\",\"N474AS\",\"N519UW\",\"N6710E\",\"N821AW\",\"N871UA\",\"N874DN\",\"N973UY\",\"322NV\",\"N139SY\",\"N145AN\",\"N196UW\",\"N291NN\",\"N301NW\",\"N376CA\",\"N397DN\",\"N648NK\",\"N834DN\",\"N848UA\",\"N850UA\",\"N852UA\",\"N905AU\",\"N912UY\",\"N952SW\",\"N971NN\",\"N993NN\",\"N997NN\",\"237NV\",\"N11544\",\"N150UW\",\"N216FR\",\"N226JS\",\"N3745B\",\"N554UW\",\"N821SK\",\"N82333\",\"N945LR\",\"N976SW\",\"N183GJ\",\"N281JB\",\"N342PM\",\"N450WN\",\"N477CA\",\"N525NK\",\"N559UW\",\"N633RW\",\"N775XF\",\"N829AW\",\"N832UA\",\"N849DN\",\"N88326\",\"N910DU\",\"N925UY\",\"N975UY\",\"N172US\",\"N174US\",\"N301DV\",\"N502NK\",\"N572UW\",\"N681NK\",\"N805DN\",\"N813DN\",\"N838VA\",\"N864RW\",\"N87337\",\"N895NN\",\"N928NN\",\"N993AN\",\"N278AK\",\"N283AK\",\"N306NY\",\"N317DN\",\"N3752\",\"N516LR\",\"N605LR\",\"N636RW\",\"N707SK\",\"N713UW\",\"N830SK\",\"N844VA\",\"N894UA\",\"N899DN\",\"N9006\",\"N9013A\",\"N915NK\",\"N929XJ\",\"N978NN\",\"N105DU\",\"N184US\",\"N310PQ\",\"N3736C\",\"N387DA\",\"N460UA\",\"N637RW\",\"N676DL\",\"N806AW\",\"N811DZ\",\"N86336\",\"N875NN\",\"N88327\",\"N8933B\",\"N905NN\",\"N915FJ\",\"N986NN\",\"N161AA\",\"N183UW\",\"N260AK\",\"N338PK\",\"N366FR\",\"N3738B\",\"N395DN\",\"N434AS\",\"N453WN\",\"N487AS\",\"N6706Q\",\"N809CA\",\"N86316\",\"N877NN\",\"N88301\",\"N904DN\",\"N933AM\",\"N939NN\",\"N950NN\",\"N976UY\",\"332NV\",\"N11547\",\"N144AN\",\"N171US\",\"N248AK\",\"N292AK\",\"N293AK\",\"N298AK\",\"N305NX\",\"N552JB\",\"N586UW\",\"N615NN\",\"N632RW\",\"N712JB\",\"N850DN\",\"N906NK\",\"N907AA\",\"N907DN\",\"N908SW\",\"N940NN\",\"N955NN\",\"N987AM\",\"N149AN\",\"N309PQ\",\"N312US\",\"N316PF\",\"N331CA\",\"N355PU\",\"N399DA\",\"N4032T\",\"N822DX\",\"N823UA\",\"N825UA\",\"N904NN\",\"N924US\",\"N926VA\",\"N979UY\",\"N983NN\",\"318NV\",\"N166NN\",\"N315PE\",\"N316DN\",\"N459UA\",\"N655CA\",\"N685NK\",\"N80343\",\"N819DX\",\"N839DN\",\"N906NN\",\"N956NN\",\"N979NN\",\"N982NN\",\"N101DQ\",\"N129DU\",\"N165US\",\"N193JB\",\"N288AK\",\"N318JB\",\"N428AS\",\"N497UA\",\"N503MJ\",\"N585UW\",\"N623UX\",\"N856DN\",\"N87353\",\"N88331\",\"N893NN\",\"N916NN\",\"N916US\",\"N946LR\",\"N966NN\",\"336NV\",\"N140SY\",\"N373NW\",\"N3747D\",\"N453UA\",\"N461AS\",\"N516NK\",\"N527NK\",\"N538AS\",\"N581UW\",\"N853UA\",\"N855VA\",\"N890UA\",\"N892UA\",\"N89357\",\"N9011P\",\"N9017P\",\"N932SW\",\"N984NN\",\"N134AN\",\"N137AA\",\"N140AN\",\"N150NN\",\"N244PS\",\"N285AK\",\"N304SY\",\"N329JB\",\"N337PJ\",\"N343PN\",\"N392DA\",\"N397DA\",\"N426UA\",\"N737US\",\"N7884G\",\"N811UA\",\"N823AW\",\"N868DN\",\"N876UA\",\"N8932C\",\"N911DQ\",\"N912FJ\",\"N916DU\",\"N946NN\",\"N980UY\",\"N16987\",\"N218JQ\",\"N239JQ\",\"N668AW\",\"N802UA\",\"N89315\",\"N9012\",\"N903AA\",\"N906DN\",\"N929AA\",\"N970UY\",\"N134HQ\",\"N228PS\",\"N265AK\",\"N290AK\",\"N855DN\",\"N86322\",\"N86350\",\"N89304\",\"N995AN\",\"N152AA\",\"N364VA\",\"N413UA\",\"N426WN\",\"N471AS\",\"N485HA\",\"N540UW\",\"N824NN\",\"N826NN\",\"N852DN\",\"N879UA\",\"N896SK\",\"N9023N\",\"N908NN\",\"N912DU\",\"N920DU\",\"N922NN\",\"N928DU\",\"N934AA\",\"N971AN\",\"N367DN\",\"N405AN\",\"N439UA\",\"N442AS\",\"N481AS\",\"N523NK\",\"N696DL\",\"N7826B\",\"N837DN\",\"N854UA\",\"N925NN\",\"N947NN\",\"N981UY\",\"307NV\",\"N12028\",\"N141NN\",\"N143SY\",\"N157AA\",\"N186PQ\",\"N199UW\",\"N260JS\",\"N297AK\",\"N431AS\",\"N435AS\",\"N481HA\",\"N491AS\",\"N507AY\",\"N549UW\",\"N552UW\",\"N580UW\",\"N593NW\",\"N659DL\",\"N85354\",\"N926NN\",\"N927DZ\",\"N973NN\",\"325NV\",\"N165NN\",\"N181UW\",\"N214AK\",\"N509AY\",\"N6712B\",\"N9026C\",\"N917NK\",\"N925DZ\",\"N929NK\",\"N935NN\",\"N944NN\",\"N985NN\",\"N992AU\",\"N101DU\",\"N13903\",\"N15983\",\"N274AK\",\"N292JB\",\"N433AS\",\"N483UA\",\"N488UA\",\"N508AY\",\"N6705Y\",\"N8009T\",\"N807UA\",\"N827SK\",\"N834NN\",\"N879NN\",\"N889AS\",\"N893UA\",\"N908AA\",\"N918DU\",\"N923NN\",\"N936NN\",\"N945NN\",\"N960NN\",\"N963NN\",\"N213SY\",\"N249LR\",\"N337NW\",\"N398DA\",\"N463SW\",\"N519NK\",\"N592NW\",\"N606JB\",\"N694DL\",\"N745SW\",\"N853VA\",\"N8982A\",\"N906AA\",\"N924DZ\",\"N978UY\",\"N994AN\",\"N163US\",\"N173US\",\"N195UW\",\"N323JB\",\"N377DA\",\"N437UA\",\"N528NK\",\"N958NN\",\"N976NN\",\"N998AN\",\"N102DN\",\"N493AS\",\"N517NK\",\"N804UA\",\"N808DN\",\"N819DN\",\"N830NN\",\"N862DN\",\"N877UA\",\"N881NN\",\"N899NN\",\"N9010R\",\"N903EV\",\"N913NN\",\"N926UW\",\"N930AU\",\"N968NN\",\"N969NN\",\"N988NN\",\"N989NN\",\"N128DU\",\"N139AN\",\"N163AA\",\"N164NN\",\"N177US\",\"N184GJ\",\"N236JQ\",\"N273JB\",\"N593AS\",\"N701BR\",\"N826UA\",\"N835VA\",\"N838NN\",\"N843UA\",\"N887NN\",\"N889UA\",\"N8968E\",\"N902NN\",\"N909SW\",\"N93003\",\"N952NN\",\"N136AN\",\"N188US\",\"N280AK\",\"N3769L\",\"N423SW\",\"N467AS\",\"N495AS\",\"N510UW\",\"N585AS\",\"N851DN\",\"N857DZ\",\"N930VA\",\"N992NN\",\"N123NN\",\"N159AN\",\"N250PS\",\"N253PS\",\"N287AK\",\"N317PG\",\"N320AS\",\"N363NB\",\"N390CA\",\"N452UA\",\"N482UA\",\"N576UW\",\"N651JB\",\"N890NN\",\"N898DN\",\"N901NN\",\"N917FJ\",\"N920EV\",\"N959NN\",\"N131NN\",\"N195PQ\",\"N237AK\",\"N542UW\",\"N803DN\",\"N85351\",\"N85358\",\"N913US\",\"N951NN\",\"N972NN\",\"337NV\",\"N162AA\",\"N292NN\",\"N302DQ\",\"N323NB\",\"N371DA\",\"N440SW\",\"N532NK\",\"N583JB\",\"N679CA\",\"N796JB\",\"N818DA\",\"N846DN\",\"N873DN\",\"N8942A\",\"N919NN\",\"N921NN\",\"N925VA\",\"N933NN\",\"N949NN\",\"N131DU\",\"N147AA\",\"N167AN\",\"N198UW\",\"N245JQ\",\"N251AK\",\"N313DN\",\"N376NW\",\"N587UW\",\"N812DN\",\"N848NN\",\"N859NN\",\"N923VA\",\"N986AN\",\"N179JB\",\"N453AS\",\"N529NK\",\"N530NK\",\"N580JB\",\"N582UW\",\"N624UX\",\"N663AW\",\"N692DL\",\"N831NN\",\"N844DN\",\"N845DN\",\"N860DN\",\"N86312\",\"N896UA\",\"N926NK\",\"N927LR\",\"N930DZ\",\"N191UW\",\"N230PS\",\"N253AK\",\"N254PS\",\"N264AK\",\"N294AK\",\"N302PQ\",\"N371CA\",\"N492AS\",\"N557NW\",\"N805NN\",\"N820DN\",\"N839SK\",\"N912NN\",\"N914UY\",\"N921VA\",\"N924VA\",\"N926DZ\",\"N957NN\",\"N961NN\",\"N988AL\",\"N990AU\",\"N209PS\",\"N306PB\",\"N319AS\",\"N355JB\",\"N3730B\",\"N3735D\",\"N3758Y\",\"N57857\",\"N817DN\",\"N836SK\",\"N9004F\",\"N909AM\",\"N927NN\",\"N954NN\",\"N12900\",\"N277AK\",\"N348NW\",\"N3741S\",\"N468AS\",\"N652JB\",\"N823NN\",\"N862NN\",\"N901AA\",\"N924NN\",\"N928AM\",\"N930NN\",\"N972UY\",\"N130DU\",\"N218PS\",\"N29917\",\"N3768\",\"N418UA\",\"N494UA\",\"N561JB\",\"N62889\",\"N69824\",\"N853NN\",\"N868NN\",\"N870AS\",\"N891NN\",\"N892NN\",\"N894NN\",\"N900DU\",\"N900UW\",\"N902AA\",\"N929VA\",\"N940AN\",\"N948AN\",\"N990NN\",\"N991AN\",\"N298JB\",\"N373DA\",\"N458UA\",\"N462UA\",\"N483AS\",\"N595NW\",\"N827UA\",\"N9002U\",\"N903NN\",\"N922DZ\",\"N132AN\",\"N17984\",\"N440AS\",\"N493UA\",\"N531NK\",\"N570AS\",\"N74856\",\"N775JB\",\"N806DN\",\"N9008U\",\"N947AN\",\"N119NN\",\"N12563\",\"N213PS\",\"N241JQ\",\"N263AK\",\"N309US\",\"N335PH\",\"N5007E\",\"N656AW\",\"N66808\",\"N813NN\",\"N821DN\",\"N834UA\",\"N929DZ\",\"N965NN\",\"N970NN\",\"N15912\",\"N189UW\",\"N359PX\",\"N374NW\",\"N438UA\",\"N485UA\",\"N632JB\",\"N66828\",\"N8027D\",\"N843NN\",\"N867NN\",\"N869RW\",\"N899UA\",\"N142AN\",\"N178JB\",\"N217JQ\",\"N238AK\",\"N268AK\",\"N464UA\",\"N471UA\",\"N494AS\",\"N536AS\",\"N554WN\",\"N779JB\",\"N812NN\",\"N848VA\",\"N861DN\",\"N942NN\",\"N996AN\",\"N146AA\",\"N14993\",\"N152UW\",\"N306PQ\",\"N337JB\",\"N361VA\",\"N469AS\",\"N492UA\",\"N542US\",\"N698DL\",\"N763JB\",\"N803AE\",\"N845VA\",\"N852NN\",\"N854NN\",\"N855NN\",\"N874RW\",\"N897NN\",\"N918NN\",\"N148AN\",\"N153AN\",\"N198JB\",\"N3760C\",\"N57855\",\"N582NW\",\"N583UW\",\"N847UA\",\"N864DN\",\"N866DN\",\"N872DN\",\"N872NN\",\"N889NN\",\"N903DN\",\"N910AU\",\"N917DU\",\"N967AN\",\"N127AA\",\"N181GJ\",\"N242JQ\",\"N463UA\",\"N543UW\",\"N679NK\",\"N697DL\",\"N806SK\",\"N815MD\",\"N823MD\",\"N844NN\",\"N856NN\",\"N886NN\",\"N898SK\",\"N914NN\",\"N928VA\",\"N968AN\",\"N13913\",\"N239JB\",\"N27733\",\"N345NW\",\"N3753\",\"N412UW\",\"N534AS\",\"N622UX\",\"N62896\",\"N682DA\",\"N829NN\",\"N854DN\",\"N858NN\",\"N875DN\",\"N882NN\",\"N907EV\",\"N927VA\",\"N939SW\",\"239NV\",\"N135NN\",\"N346JB\",\"N457UA\",\"N509AE\",\"N526NK\",\"N556NW\",\"N584AS\",\"N66893\",\"N67171\",\"N69804\",\"N760JB\",\"N77430\",\"N863DN\",\"N865NN\",\"N878NN\",\"N991AU\",\"N237PS\",\"N308DE\",\"N378NW\",\"N424UA\",\"N515NK\",\"N521LR\",\"N565AS\",\"N648JB\",\"N672DL\",\"N681DA\",\"N77871\",\"N8031M\",\"N805AE\",\"N840DN\",\"N876NN\",\"N8923A\",\"N913DU\",\"N243JQ\",\"N249JB\",\"N352PS\",\"N3746H\",\"N3761R\",\"N408UA\",\"N653JB\",\"N658DL\",\"N684DA\",\"N819UA\",\"N825AW\",\"N842NN\",\"N85352\",\"N867RW\",\"N909NN\",\"N916XJ\",\"N917DL\",\"N919DU\",\"N932AM\",\"N937AN\",\"N973AN\",\"N121AN\",\"N129AA\",\"N228JB\",\"N275AK\",\"N353DN\",\"N354JB\",\"N37456\",\"N404AN\",\"N426SW\",\"N535JB\",\"N564AS\",\"N583NW\",\"N6716C\",\"N715JB\",\"N815NN\",\"N841NN\",\"N841VA\",\"N9016\",\"N9018E\",\"N987NN\",\"N138AN\",\"N13992\",\"N207AN\",\"N216JB\",\"N270AK\",\"N358JB\",\"N370FR\",\"N535NK\",\"N557AS\",\"N590NW\",\"N804NN\",\"N809DN\",\"N858DZ\",\"N9022G\",\"N962NN\",\"N978AN\",\"N979AN\",\"N153UW\",\"N303SY\",\"N400AN\",\"N462AS\",\"N601XJ\",\"N70020\",\"N789SW\",\"N814DN\",\"N915NN\",\"N922VA\",\"N948NN\",\"N955AN\",\"N971UY\",\"N991NN\",\"N995DL\",\"N118NN\",\"N187JB\",\"N187US\",\"N354DN\",\"N37466\",\"N386DA\",\"N613AE\",\"N655JB\",\"N684NK\",\"N73445\",\"N75425\",\"N810DN\",\"N810NN\",\"N821NN\",\"N832NN\",\"N851NN\",\"N871RW\",\"N884NN\",\"N9019F\",\"N935LR\",\"N938AN\",\"N943NN\",\"N983AN\",\"N220PS\",\"N340NW\",\"N411UA\",\"N506AS\",\"N560AS\",\"N816DN\",\"N819NN\",\"N902EV\",\"N927NK\",\"N929NN\",\"N970AN\",\"N982AN\",\"N233JQ\",\"N37474\",\"N38451\",\"N39461\",\"N403AS\",\"N414UA\",\"N416UA\",\"N555NW\",\"N57870\",\"N75858\",\"N801DZ\",\"N807NN\",\"N825NN\",\"N881UA\",\"N954AN\",\"N967NN\",\"N976DL\",\"N979EV\",\"304NV\",\"N160AN\",\"N203JB\",\"N27421\",\"N281AK\",\"N301DQ\",\"N343DN\",\"N459AS\",\"N558UW\",\"N568UW\",\"N643JB\",\"N76533\",\"N78509\",\"N870NN\",\"N949AN\",\"N952AA\",\"N282AK\",\"N346PR\",\"N466UA\",\"N524NK\",\"N602XJ\",\"N625UX\",\"N646JB\",\"N766JB\",\"N802DN\",\"N8030F\",\"N842DN\",\"N848DN\",\"N853DN\",\"N899SK\",\"N9021H\",\"N908NK\",\"N909DN\",\"N963AN\",\"N133AN\",\"N158AN\",\"N203NN\",\"N236JB\",\"N244JQ\",\"N247JB\",\"N29906\",\"N306DN\",\"N38458\",\"N473UA\",\"N65832\",\"N68823\",\"N800AE\",\"N871AS\",\"N880NN\",\"N9025B\",\"N917NN\",\"N928SW\",\"N962AN\",\"N966AN\",\"N974AN\",\"N285NN\",\"N320US\",\"N362DN\",\"N39423\",\"N401AN\",\"N506JB\",\"N508NK\",\"N613JB\",\"N62892\",\"N699DL\",\"N708JB\",\"N729JB\",\"N851VA\",\"N857NN\",\"N9029F\",\"N126AN\",\"N240JQ\",\"N243LR\",\"N247AK\",\"N272AK\",\"N367FR\",\"N37470\",\"N406AN\",\"N428UA\",\"N536NK\",\"N578UW\",\"N586JB\",\"N6709\",\"N68821\",\"N8001N\",\"N837NN\",\"N840NN\",\"N845NN\",\"N872RW\",\"N896DN\",\"N964AN\",\"N965AT\",\"N967JT\",\"N983JT\",\"N130AN\",\"N183JB\",\"N247LR\",\"N374DA\",\"N522NK\",\"N621JB\",\"N634JB\",\"N63820\",\"N641JB\",\"N66837\",\"N685DA\",\"N818NN\",\"N833NN\",\"N852VA\",\"N860RW\",\"N864NN\",\"N917UY\",\"N951AA\",\"N953NN\",\"N975AN\",\"N976AN\",\"N361DN\",\"N489UA\",\"N507NK\",\"N534JB\",\"N573UW\",\"N595JB\",\"N633SK\",\"N815DN\",\"N869DN\",\"N986JB\",\"N124AA\",\"N156AN\",\"N21723\",\"N324JB\",\"N33266\",\"N36447\",\"N37419\",\"N385DN\",\"N512MJ\",\"N513MJ\",\"N543US\",\"N66897\",\"N803NN\",\"N811NN\",\"N865DN\",\"N906DE\",\"N910DE\",\"N939AN\",\"N971DL\",\"N162UW\",\"N265JB\",\"N27200\",\"N33203\",\"N403AN\",\"N413AS\",\"N503NK\",\"N524JB\",\"N531JL\",\"N575UW\",\"N633JB\",\"N768JB\",\"N832DN\",\"N860NN\",\"N862AS\",\"N873RW\",\"N901EV\",\"N928NK\",\"N306JB\",\"N479UA\",\"N518AS\",\"N519JB\",\"N57863\",\"N668CA\",\"N670DN\",\"N704X\",\"N801NN\",\"N814NN\",\"N814UA\",\"N835UA\",\"N874NN\",\"N87512\",\"N880AS\",\"N937SW\",\"N981NN\",\"N13720\",\"N14158\",\"N245LR\",\"N247JS\",\"N38727\",\"N407AN\",\"N407AS\",\"N412UA\",\"N472AS\",\"N516AS\",\"N558JB\",\"N73283\",\"N75432\",\"N802NN\",\"N804DN\",\"N807DN\",\"N820NN\",\"N841DN\",\"N849VA\",\"N864AS\",\"N868CA\",\"N938SW\",\"N978JB\",\"N979JT\",\"N128AN\",\"N17229\",\"N37273\",\"N3742C\",\"N37471\",\"N402AN\",\"N419AS\",\"N514NK\",\"N588NW\",\"N659JB\",\"N822NN\",\"N839NN\",\"N846NN\",\"N847DN\",\"N871NN\",\"N873AS\",\"N873NN\",\"N928AN\",\"N944AN\",\"N204NN\",\"N35204\",\"N352DN\",\"N365DN\",\"N540EA\",\"N598JB\",\"N61898\",\"N624VA\",\"N660DL\",\"N665DN\",\"N6708D\",\"N69806\",\"N76519\",\"N850NN\",\"N8688C\",\"N870RW\",\"N881AS\",\"N934AT\",\"N970DL\",\"N976JT\",\"N234JQ\",\"N317JB\",\"N33209\",\"N38459\",\"N447SW\",\"N508JL\",\"N562JB\",\"N564JB\",\"N584UW\",\"N66803\",\"N68452\",\"N685BR\",\"N702TW\",\"N76269\",\"N76526\",\"N7711N\",\"N810MD\",\"N838AE\",\"N27734\",\"N28478\",\"N303DQ\",\"N441SW\",\"N512NK\",\"N535US\",\"N567UW\",\"N591NW\",\"N63899\",\"N688DL\",\"N722TW\",\"N836AE\",\"N859DN\",\"N90024\",\"N230JQ\",\"N24715\",\"N360DN\",\"N367NW\",\"N511MJ\",\"N562AS\",\"N566AS\",\"N585NW\",\"N627JB\",\"N68802\",\"N73276\",\"N75851\",\"N77431\",\"N782SA\",\"N78866\",\"N806JB\",\"N843DN\",\"N883NN\",\"N931NK\",\"N953AN\",\"N966DL\",\"N969JT\",\"N970AT\",\"N15986\",\"N16541\",\"N205NN\",\"N357FC\",\"N359DN\",\"N553UW\",\"N569AS\",\"N61882\",\"N645JB\",\"N69810\",\"N705SW\",\"N803AW\",\"N816NN\",\"N827NN\",\"N903DE\",\"N912DE\",\"N956AN\",\"N16234\",\"N534NK\",\"N559JB\",\"N589NW\",\"N68822\",\"N809MD\",\"N866NN\",\"N916FJ\",\"N11184\",\"N194UW\",\"N38443\",\"N440UA\",\"N533AS\",\"N623JB\",\"N675BR\",\"N67812\",\"N820UA\",\"N831AW\",\"N836NN\",\"N977JE\",\"N17752\",\"N358DN\",\"N461UA\",\"N607JB\",\"N800NN\",\"N838DN\",\"N853AE\",\"N890DN\",\"N943LR\",\"N968DL\",\"N988AT\",\"N989AN\",\"N356DN\",\"N523JB\",\"N539US\",\"N556JB\",\"N57864\",\"N639JB\",\"N68843\",\"N710TW\",\"N746JB\",\"N75435\",\"N7860A\",\"N787SA\",\"N788SA\",\"N806NN\",\"N828UA\",\"N922AT\",\"N931AM\",\"N961AN\",\"N969AN\",\"N980AN\",\"N984JB\",\"N992AN\",\"N125AA\",\"N14231\",\"N1902U\",\"N208AN\",\"N410AN\",\"N476UA\",\"N540EG\",\"N584NW\",\"N625JB\",\"N64809\",\"N75861\",\"N768SW\",\"N770SA\",\"N780SW\",\"N847NN\",\"N875UA\",\"N894DN\",\"N918AN\",\"N920AT\",\"N926LR\",\"N11165\",\"N14237\",\"N24729\",\"N266JB\",\"N351JB\",\"N355DN\",\"N422UA\",\"N510JB\",\"N589JB\",\"N635JB\",\"N727TW\",\"N7882B\",\"N817UA\",\"N833AE\",\"N885NN\",\"N897DN\",\"N965AN\",\"N980JT\",\"N12125\",\"N23721\",\"N263WN\",\"N348JB\",\"N357DN\",\"N402UA\",\"N445UA\",\"N470UA\",\"N503JB\",\"N61886\",\"N629BR\",\"N659BR\",\"N69830\",\"N784JB\",\"N78506\",\"N795SW\",\"N806AE\",\"N836UA\",\"N857AS\",\"N8828D\",\"N901DN\",\"N908DE\",\"N911DE\",\"N919US\",\"N940AT\",\"N942AN\",\"N987AN\",\"N219YX\",\"N27205\",\"N38473\",\"N400WN\",\"N457AS\",\"N505MJ\",\"N637JB\",\"N68807\",\"N77538\",\"N823DN\",\"N826AE\",\"N839VA\",\"N846VA\",\"N891DN\",\"N997AA\",\"238NV\",\"N27722\",\"N491WN\",\"N502MJ\",\"N517JB\",\"N521NK\",\"N639VA\",\"N76502\",\"N778SW\",\"N783SW\",\"N913JB\",\"N916DL\",\"N13978\",\"N17560\",\"N215UA\",\"N24224\",\"N351DN\",\"N353JB\",\"N368NW\",\"N61881\",\"N62895\",\"N6711M\",\"N67815\",\"N77520\",\"N784SW\",\"N817NN\",\"N849NN\",\"N86534\",\"N898NN\",\"N917AN\",\"N923AT\",\"N968JT\",\"N982JB\",\"N988DN\",\"N197JB\",\"N25134\",\"N408AN\",\"N509JB\",\"N519AS\",\"N536US\",\"N615JB\",\"N62884\",\"N62894\",\"N635VA\",\"N75433\",\"N76532\",\"N77542\",\"N937AT\",\"N945JT\",\"N957AN\",\"N236AK\",\"N238JB\",\"N36272\",\"N39728\",\"N554JB\",\"N624JB\",\"N630JB\",\"N630VA\",\"N658JB\",\"N67846\",\"N68801\",\"N7709A\",\"N77535\",\"N818AE\",\"N834AE\",\"N840VA\",\"N892DN\",\"N895DN\",\"N997JL\",\"N11164\",\"N122NN\",\"N13718\",\"N17719\",\"N197UW\",\"N27239\",\"N38479\",\"N568JB\",\"N568WN\",\"N581NW\",\"N586NW\",\"N61887\",\"N656JB\",\"N674DL\",\"N705TW\",\"N75429\",\"N794SW\",\"N902DE\",\"N905DL\",\"N933LR\",\"N936AN\",\"N974AT\",\"N987SW\",\"220NV\",\"335NV\",\"N11206\",\"N334NB\",\"N36207\",\"N373JB\",\"N374JB\",\"N533NK\",\"N579JB\",\"N69818\",\"N720FR\",\"N77518\",\"N827JB\",\"N835AE\",\"N835NN\",\"N836DN\",\"N912DL\",\"N941SW\",\"N945AN\",\"N965UW\",\"N998DL\",\"N17730\",\"N208WN\",\"N258JB\",\"N26208\",\"N296JB\",\"N341NW\",\"N349DX\",\"N363DN\",\"N532AS\",\"N571JB\",\"N6704Z\",\"N77525\",\"N77865\",\"N7817J\",\"N78511\",\"N807JB\",\"N925EV\",\"N939FR\",\"N961JT\",\"N985AT\",\"N989JT\",\"N12238\",\"N14228\",\"N259PS\",\"N304JB\",\"N315AS\",\"N547US\",\"N565JB\",\"N597JB\",\"N607AT\",\"N67845\",\"N69816\",\"N701FR\",\"N76265\",\"N76503\",\"N77510\",\"N808NN\",\"N824MD\",\"N869NN\",\"N87507\",\"N918DH\",\"N953AT\",\"N983AT\",\"N14704\",\"N17245\",\"N202NN\",\"N206WN\",\"N33294\",\"N402WN\",\"N559AS\",\"N609SK\",\"N690DL\",\"N75426\",\"N776WN\",\"N801AE\",\"N809AE\",\"N845AE\",\"N900DE\",\"N946JL\",\"N14188\",\"N231JB\",\"N23708\",\"N279JB\",\"N28457\",\"N328JB\",\"N382DA\",\"N402AS\",\"N541US\",\"N861AS\",\"N949FR\",\"N985JT\",\"N12201\",\"N13750\",\"N13979\",\"N16709\",\"N201NN\",\"N309AS\",\"N37464\",\"N409AA\",\"N540US\",\"N594JB\",\"N6702\",\"N703JB\",\"N707SA\",\"N710FR\",\"N76516\",\"N771SA\",\"N77537\",\"N790SW\",\"N794JB\",\"N797MX\",\"N81449\",\"N958UW\",\"N959AN\",\"N994JL\",\"N262PS\",\"N273AK\",\"N35271\",\"N487CA\",\"N527JL\",\"N53442\",\"N640JB\",\"N661JB\",\"N73275\",\"N809NN\",\"N830AE\",\"N843VA\",\"N934XJ\",\"N946AN\",\"N957JB\",\"N963DL\",\"N990AN\",\"N12109\",\"N36444\",\"N37263\",\"N433LV\",\"N489WN\",\"N520JB\",\"N592JB\",\"N593JB\",\"N68811\",\"N775SW\",\"N779SW\",\"N7861J\",\"N789JB\",\"N863NN\",\"N907DE\",\"N981AN\",\"N992JB\",\"N120EE\",\"N261PS\",\"N347DN\",\"N405UA\",\"N448AS\",\"N508AS\",\"N509MJ\",\"N599JB\",\"N612JB\",\"N644JB\",\"N707TW\",\"N723TW\",\"N75428\",\"N791SW\",\"N818MD\",\"N827AE\",\"N846AE\",\"N876DN\",\"N913DL\",\"N925AN\",\"N926DH\",\"N935AN\",\"N13248\",\"N17244\",\"N316JB\",\"N38257\",\"N38424\",\"N57439\",\"N640VA\",\"N7831B\",\"N8783E\",\"N959AT\",\"N981JT\",\"N987JT\",\"N184JB\",\"N38446\",\"N39415\",\"N414AL\",\"N472UA\",\"N933AN\",\"N935AT\",\"N941FR\",\"N961UW\",\"N974DL\",\"N974JT\",\"N12221\",\"N169UW\",\"N170US\",\"N24202\",\"N26232\",\"N309JB\",\"N369NW\",\"N37252\",\"N37253\",\"N38467\",\"N516JB\",\"N776UA\",\"N78285\",\"N809JB\",\"N891UA\",\"N950JT\",\"N227JQ\",\"N24706\",\"N37277\",\"N504NK\",\"N510NK\",\"N537JT\",\"N590AS\",\"N608JB\",\"N711ZX\",\"N76505\",\"N78524\",\"N860AS\",\"N905DE\",\"N916DN\",\"N935SW\",\"N972DL\",\"N16571\",\"N304DQ\",\"N709JB\",\"N76508\",\"N76514\",\"N76529\",\"N77536\",\"N777QC\",\"N901DE\",\"N918US\",\"N932AN\",\"N973JT\",\"N15712\",\"N37420\",\"N37437\",\"N560UW\",\"N77261\",\"N78540\",\"N907AN\",\"N909DE\",\"N913DN\",\"N934AN\",\"N950AT\",\"N960AT\",\"N999DN\",\"N200NN\",\"N283JB\",\"N36476\",\"N570JB\",\"N76517\",\"N804JB\",\"N847VA\",\"N855AE\",\"N914DU\",\"N923DN\",\"N924AN\",\"N948UW\",\"N972AN\",\"N12216\",\"N14230\",\"N210UA\",\"N212HA\",\"N217HA\",\"N224AK\",\"N368JB\",\"N507JT\",\"N603AT\",\"N628VA\",\"N719SW\",\"N721FR\",\"N796SW\",\"N821MD\",\"N828JB\",\"N882AS\",\"N893DN\",\"N897SK\",\"N915DE\",\"N992AT\",\"N15751\",\"N202FR\",\"N209NN\",\"N307DQ\",\"N34222\",\"N37462\",\"N415AN\",\"N514AS\",\"N514MJ\",\"N523VA\",\"N563UW\",\"N665JB\",\"N705JB\",\"N75854\",\"N77539\",\"N793SA\",\"N907JB\",\"N967UW\",\"N994DL\",\"N999JQ\",\"N11189\",\"N12114\",\"N14731\",\"N238FR\",\"N25705\",\"N343NW\",\"N35260\",\"N456UA\",\"N638JB\",\"N693DL\",\"N777UA\",\"N903JB\",\"N920US\",\"N934DN\",\"N943AN\",\"N944UW\",\"N960AN\",\"N14562\",\"N15572\",\"N2029J\",\"N206NN\",\"N284VA\",\"N403UA\",\"N442UA\",\"N546UW\",\"N715SW\",\"N815AE\",\"N824AE\",\"N8903A\",\"N910FR\",\"N921AT\",\"N961AT\",\"N997DL\",\"N14203\",\"N371FR\",\"N37422\",\"N509NK\",\"N62883\",\"N649JB\",\"N79541\",\"N849AE\",\"N906AT\",\"N951UW\",\"N956UW\",\"N957AT\",\"N958AN\",\"N993JE\",\"N14735\",\"N229FR\",\"N370NW\",\"N407UA\",\"N429UA\",\"N45440\",\"N535AS\",\"N713TW\",\"N76515\",\"N774SW\",\"N774UA\",\"N78448\",\"N879RW\",\"N8837B\",\"N930AN\",\"N947JB\",\"N956AT\",\"N962DN\",\"N964JT\",\"N967AT\",\"N967DL\",\"N986AT\",\"N988JT\",\"N16561\",\"N338NW\",\"N375JB\",\"N563AS\",\"N579AS\",\"N629JB\",\"N76522\",\"N781UA\",\"N868RW\",\"N924AT\",\"N930NK\",\"N933AT\",\"N978DL\",\"N226HA\",\"N338NB\",\"N406UA\",\"N418SW\",\"N53441\",\"N561WN\",\"N636JB\",\"N909AN\",\"N946UW\",\"N955UW\",\"N964AT\",\"N991JT\",\"N558AS\",\"N605JB\",\"N769UA\",\"N7708E\",\"N912DN\",\"N917DN\",\"N925DN\",\"N932NK\",\"N963UW\",\"N990JL\",\"N998JE\",\"N14106\",\"N16703\",\"N197PQ\",\"N323AS\",\"N380DA\",\"N536UW\",\"N577AS\",\"N626VA\",\"N68891\",\"N717TW\",\"N73256\",\"N878RW\",\"N882RW\",\"N8965E\",\"N915AN\",\"N920DE\",\"N921AN\",\"N944JT\",\"N950AN\",\"N965JT\",\"N968AT\",\"N108NN\",\"N14240\",\"N154UW\",\"N16217\",\"N192UW\",\"N209HA\",\"N284JB\",\"N36472\",\"N37255\",\"N408AS\",\"N411AN\",\"N421UA\",\"N481UA\",\"N632VA\",\"N73251\",\"N931AN\",\"N14573\",\"N14977\",\"N193UW\",\"N211UA\",\"N24736\",\"N267JB\",\"N38454\",\"N417AN\",\"N47414\",\"N477AS\",\"N477UA\",\"N539UW\",\"N78438\",\"N786SW\",\"N7885A\",\"N899AT\",\"N13138\",\"N267AK\",\"N409AS\",\"N455CA\",\"N48127\",\"N525VA\",\"N570WN\",\"N842UA\",\"N913SW\",\"N914DN\",\"N921US\",\"N922DX\",\"N923AN\",\"N950UW\",\"N972AT\",\"N232JQ\",\"N270WN\",\"N340CA\",\"N423AS\",\"N526JL\",\"N57862\",\"N69847\",\"N716FR\",\"N836VA\",\"N11536\",\"N33284\",\"N37427\",\"N479AS\",\"N538UW\",\"N642VA\",\"N654AW\",\"N69888\",\"N75436\",\"N76528\",\"N7821L\",\"N812UA\",\"N825DN\",\"N878DN\",\"N966AT\",\"N11539\",\"N17233\",\"N18556\",\"N229JB\",\"N326US\",\"N37290\",\"N377NW\",\"N39418\",\"N588JB\",\"N711FR\",\"N723FR\",\"N75853\",\"N76523\",\"N904DE\",\"N919AT\",\"N935JB\",\"N963AT\",\"N975JT\",\"N995JL\",\"N17105\",\"N207WN\",\"N228FR\",\"N303AS\",\"N368FR\",\"N371NW\",\"N504JB\",\"N549US\",\"N597AS\",\"N655AW\",\"N7707C\",\"N87513\",\"N879DN\",\"N947UW\",\"N970JB\",\"N990DL\",\"N16732\",\"N409UA\",\"N441UA\",\"N505NK\",\"N521UW\",\"N548US\",\"N77258\",\"N79521\",\"N841UA\",\"N87527\",\"N875RW\",\"N89308\",\"N928DN\",\"N954JB\",\"N957UW\",\"N965DL\",\"N13227\",\"N27213\",\"N526VA\",\"N775DE\",\"N13110\",\"N2002J\",\"N22909\",\"N325US\",\"N524VA\",\"N585JB\",\"N590JB\",\"N714FR\",\"N76504\",\"N7710A\",\"N7814B\",\"N960DL\",\"N996JL\",\"N13908\",\"N14542\",\"N14907\",\"N201FR\",\"N215HA\",\"N220HA\",\"N302AS\",\"N307AS\",\"N329NW\",\"N365VA\",\"N417UA\",\"N649AW\",\"N718FR\",\"N7848A\",\"N827DN\",\"N840UA\",\"N884DN\",\"N901NK\",\"N910NK\",\"N941AN\",\"N943JT\",\"N949UW\",\"N959JB\",\"N324NB\",\"N484UA\",\"N76254\",\"N1200K\",\"N14107\",\"N17122\",\"N190UW\",\"N19554\",\"N362NW\",\"N478UA\",\"N506NK\",\"N73270\",\"N810UA\",\"N945UW\",\"N958DL\",\"N972JT\",\"219NV\",\"N13975\",\"N15555\",\"N26226\",\"N342NW\",\"N41135\",\"N517AS\",\"N68453\",\"N68805\",\"N717FR\",\"N816UA\",\"N897UA\",\"N903AN\",\"N918DE\",\"N921DU\",\"N266AK\",\"N314NB\",\"N522VA\",\"N537US\",\"N592AS\",\"N621VA\",\"N78501\",\"N842VA\",\"N855UA\",\"N939AT\",\"N969DL\",\"N14242\",\"N17139\",\"N206JB\",\"N323US\",\"N328NB\",\"N33714\",\"N404UA\",\"N420UA\",\"N443UA\",\"N454UA\",\"N529JB\",\"N589AS\",\"N66848\",\"N803UA\",\"N867DN\",\"N912AN\",\"N937JB\",\"N14249\",\"N281VA\",\"N307DX\",\"N311DN\",\"N335NW\",\"N39463\",\"N486UA\",\"N591JB\",\"N66831\",\"N773UA\",\"N780UA\",\"N915DN\",\"N916AN\",\"N922AN\",\"N14115\",\"N286VA\",\"N327NW\",\"N38268\",\"N475UA\",\"N529VA\",\"N54711\",\"N627VA\",\"N63890\",\"N778UA\",\"N919DN\",\"N929AN\",\"N958JB\",\"N971JT\",\"N113AN\",\"N17159\",\"N33262\",\"N351NW\",\"N358NB\",\"N36247\",\"N586AS\",\"N622VA\",\"N633VA\",\"N902AN\",\"N923JB\",\"N959UW\",\"N24103\",\"N282VA\",\"N308DN\",\"N317AS\",\"N36469\",\"N596AS\",\"N924DN\",\"N933NK\",\"N101NN\",\"N13988\",\"N14235\",\"N208HA\",\"N302NB\",\"N318AS\",\"N39475\",\"N433UA\",\"N4901U\",\"N521VA\",\"N637VA\",\"N726SW\",\"N880DN\",\"N901AN\",\"N910AT\",\"N93305\",\"N996DL\",\"N105NN\",\"N11107\",\"N227HA\",\"N325NB\",\"N33264\",\"N423UA\",\"N520AS\",\"N537UW\",\"N538US\",\"N638VA\",\"N908AN\",\"N910AN\",\"N935DN\",\"224NV\",\"N12218\",\"N12564\",\"N14902\",\"N14916\",\"N33289\",\"N54241\",\"N76288\",\"N821JB\",\"N929JB\",\"N952UW\",\"292NV\",\"N102NN\",\"N12225\",\"N13118\",\"N15574\",\"N18243\",\"N327NB\",\"N331NB\",\"N357NW\",\"N36915\",\"N37267\",\"N372NW\",\"N419UA\",\"N547JB\",\"N552NW\",\"N62849\",\"N629VA\",\"N68842\",\"N818UA\",\"N13538\",\"N14904\",\"N181DN\",\"N306AS\",\"N425UA\",\"N64844\",\"N68817\",\"N69826\",\"N772UA\",\"N805JB\",\"N921DN\",\"N949JT\",\"N960DN\",\"N966JT\",\"N103NN\",\"N12166\",\"N14558\",\"N14568\",\"N17753\",\"N455UA\",\"N563JB\",\"N669CA\",\"N67827\",\"N679AW\",\"N69819\",\"N87531\",\"N905JB\",\"N920DN\",\"294NV\",\"N17196\",\"N18557\",\"N369FR\",\"N416AN\",\"N427UA\",\"N436UA\",\"N553AS\",\"N587AS\",\"N587NW\",\"N66841\",\"N69835\",\"N706JB\",\"N77530\",\"N919AN\",\"N973DL\",\"N993DL\",\"295NV\",\"N13989\",\"N16546\",\"N190JB\",\"N324US\",\"N34455\",\"N37287\",\"N37465\",\"N536JB\",\"N568AS\",\"N69829\",\"N85340\",\"N104NN\",\"N11106\",\"N13995\",\"N155UW\",\"N21537\",\"N228HA\",\"N372FR\",\"N39450\",\"N480UA\",\"N485PX\",\"N491UA\",\"N495UA\",\"N529AS\",\"N68836\",\"N73860\",\"N881DN\",\"N979DL\",\"N115NN\",\"N16981\",\"N216HA\",\"N301NB\",\"N451UA\",\"N524AS\",\"N662JB\",\"N686DA\",\"N68834\",\"N793JB\",\"N805UA\",\"N927AN\",\"N927DN\",\"N107NN\",\"N14214\",\"N309DN\",\"N363VA\",\"N39416\",\"N806UA\",\"N829DN\",\"N880RW\",\"N103DY\",\"N12142\",\"N16976\",\"N175DN\",\"N2017J\",\"N214HA\",\"N215PS\",\"N309DE\",\"N37274\",\"N386HA\",\"N4888U\",\"N48901\",\"N531AS\",\"N587JB\",\"N813UA\",\"N822DN\",\"N926AN\",\"N952JB\",\"N27477\",\"N305AS\",\"N37468\",\"N435UA\",\"N66814\",\"N678DL\",\"N854VA\",\"N915AT\",\"N339NW\",\"N584JB\",\"N669DN\",\"N6700\",\"N69839\",\"N837UA\",\"N920AN\",\"N955JB\",\"N15910\",\"N201UU\",\"N202HA\",\"N317US\",\"N336NW\",\"N474UA\",\"N521JB\",\"N57869\",\"N583AS\",\"N7706A\",\"N77295\",\"N900PC\",\"N948JB\",\"228NV\",\"302NV\",\"N1604R\",\"N173DZ\",\"N257PS\",\"N332NB\",\"N362NB\",\"N545US\",\"N548AS\",\"N553NW\",\"N625VA\",\"N69885\",\"N958AT\",\"N11551\",\"N12754\",\"N14570\",\"N157UW\",\"N198AA\",\"N310DE\",\"N370HA\",\"N487UA\",\"N498UA\",\"N623VA\",\"N668DN\",\"N671DN\",\"N675DL\",\"N69838\",\"N828DN\",\"N914AN\",\"N931DN\",\"N991DL\",\"N13553\",\"N33286\",\"N401UA\",\"N490PX\",\"N526AS\",\"N527AS\",\"N603JB\",\"N838UA\",\"N913AN\",\"N2038J\",\"N30401\",\"N434UA\",\"N449UA\",\"N833DN\",\"N834JB\",\"N956JT\",\"N12540\",\"N1603\",\"N17115\",\"N199AN\",\"N210NN\",\"N328NW\",\"N379DA\",\"N383DN\",\"N513AS\",\"N691AA\",\"N815UA\",\"N911DA\",\"N943FR\",\"N962JT\",\"N156UW\",\"N175DZ\",\"N204HA\",\"N310DN\",\"N312DN\",\"N361NB\",\"N362VA\",\"N432UA\",\"N530AS\",\"N554NW\",\"N57852\",\"N7838A\",\"N905AN\",\"N105DX\",\"N111ZM\",\"N172DZ\",\"N177DZ\",\"N200UU\",\"N213HA\",\"N27724\",\"N285VA\",\"N330NW\",\"N413AN\",\"N415UA\",\"N446UA\",\"N525AS\",\"N618JB\",\"N665AW\",\"N77867\",\"N104DN\",\"N1201P\",\"N174DZ\",\"N19136\",\"N204UW\",\"N374HA\",\"N56859\",\"N69833\",\"N193AN\",\"N213UA\",\"N223HA\",\"N34460\",\"N364NB\",\"N569JB\",\"N66825\",\"N679DA\",\"N963DN\",\"N184DN\",\"N185AN\",\"N2027J\",\"N305DQ\",\"N306DQ\",\"N322US\",\"N361HA\",\"N37298\",\"N373HA\",\"N37413\",\"N706TW\",\"N835MH\",\"N837VA\",\"N934JB\",\"N11535\",\"N13113\",\"N15710\",\"N190AA\",\"N191AN\",\"N191DN\",\"N379HA\",\"N528AS\",\"N594AS\",\"N657JB\",\"N657UA\",\"N663JB\",\"N667AW\",\"N7873A\",\"303NV\",\"N14991\",\"N378DA\",\"N505JB\",\"N721TW\",\"N830DN\",\"N904AN\",\"N106NN\",\"N117AN\",\"N197AN\",\"N2016J\",\"N32404\",\"N37409\",\"N551AS\",\"N831DN\",\"N106DN\",\"N13716\",\"N15980\",\"N192DN\",\"N194AA\",\"N203UW\",\"N26215\",\"N391HA\",\"N396HA\",\"N448UA\",\"N58101\",\"N72405\",\"N826DN\",\"N906AN\",\"N17104\",\"N18220\",\"N199DN\",\"N2047J\",\"N418AN\",\"N523AS\",\"N624AG\",\"N6703D\",\"N6713Y\",\"N680DA\",\"N824DN\",\"N11548\",\"N17128\",\"N18223\",\"N2048J\",\"N21108\",\"N29129\",\"N33292\",\"N34137\",\"N35407\",\"N383HA\",\"N424AN\",\"N544US\",\"N581AS\",\"N73406\",\"N834MH\",\"N835DN\",\"N839UA\",\"N883DN\",\"N14180\",\"N17185\",\"N176AA\",\"N18119\",\"N195AN\",\"N196AA\",\"N37434\",\"N38403\",\"N384DA\",\"N389HA\",\"N399HA\",\"N588AS\",\"N6701\",\"N673DL\",\"N68880\",\"N71411\",\"N743SW\",\"N935NK\",\"N10575\",\"N14121\",\"N17126\",\"N186AN\",\"N19130\",\"N230HA\",\"N298FR\",\"N319US\",\"N3737C\",\"N566JB\",\"N656UA\",\"N658UA\",\"N109NN\",\"N16701\",\"N184AN\",\"N26545\",\"N31412\",\"N39297\",\"N551NW\",\"N692AA\",\"N69813\",\"N73259\",\"N73299\",\"N888DU\",\"N938UW\",\"N12569\",\"N3733Z\",\"N552AS\",\"N57868\",\"N636VA\",\"N643UA\",\"N69840\",\"N939UW\",\"N14219\",\"N14250\",\"N205UW\",\"N214UA\",\"N381DN\",\"N116AN\",\"N420AN\",\"N491PX\",\"N546US\",\"N550NW\",\"N655UA\",\"N110AN\",\"N14105\",\"N17133\",\"N25201\",\"N67134\",\"N703TW\",\"N73291\",\"N886DN\",\"N910DN\",\"N178DZ\",\"N189AN\",\"N37293\",\"N38417\",\"N709TW\",\"N718TW\",\"N934NK\",\"N187AN\",\"N212UA\",\"N389DA\",\"N419AN\",\"N656CA\",\"N77296\",\"N815AA\",\"N882DN\",\"N33103\",\"N388HA\",\"N556AS\",\"N689DL\",\"N79402\",\"N837MH\",\"N12167\",\"N205HA\",\"N34110\",\"N34131\",\"N37408\",\"N382HA\",\"N396DA\",\"N530VA\",\"N75410\",\"N12135\",\"N496UA\",\"N546AS\",\"N833MH\",\"N877DN\",\"N112AN\",\"N186GJ\",\"N211NN\",\"N24702\",\"N885DN\",\"N887DN\",\"N964DL\",\"N12116\",\"N222UA\",\"N381HA\",\"N447UA\",\"N712TW\",\"N889DN\",\"N188AN\",\"N23707\",\"N33132\",\"N378HA\",\"N589UA\",\"N836MH\",\"N19141\",\"N549AS\",\"N596UA\",\"N647UA\",\"N779UA\",\"N14118\",\"N174DN\",\"N183AN\",\"N202UW\",\"N24211\",\"N392HA\",\"N512UA\",\"N760AN\",\"N175AN\",\"N29124\",\"N512AS\",\"N527VA\",\"N651UA\",\"N761AJ\",\"N192AN\",\"N283VA\",\"N380HA\",\"N588UA\",\"N590UA\",\"N154DL\",\"N24212\",\"N26210\",\"N375HA\",\"N953UW\",\"N14102\",\"N14905\",\"N17108\",\"N171DZ\",\"N18112\",\"N183DN\",\"N360HA\",\"N587UA\",\"N831MH\",\"N14120\",\"N1602\",\"N179DN\",\"N185DN\",\"N198DN\",\"N502UA\",\"N597UA\",\"N16009\",\"N27903\",\"N528VA\",\"N768UA\",\"N107DN\",\"N218HA\",\"N390HA\",\"N391AA\",\"N393HA\",\"N779AN\",\"N87365\",\"N87367\",\"N8884E\",\"N89362\",\"N14001\",\"N384HA\",\"N390AA\",\"N795AN\",\"N797AN\",\"N82366\",\"N828MH\",\"N85363\",\"N87368\",\"N775UA\",\"N803AL\",\"N816AA\",\"N942JB\",\"N152DL\",\"N19117\",\"N299JJ\",\"N767AJ\",\"N78361\",\"N788AN\",\"N85369\",\"N169DZ\",\"N196DN\",\"N27246\",\"N45905\",\"N799AN\",\"N85370\",\"N14011\",\"N16008\",\"N302DU\",\"N385HA\",\"N510UA\",\"N783AN\",\"N819AN\",\"N87364\",\"N11192\",\"N12006\",\"N16170\",\"N178DN\",\"N197DN\",\"N289AY\",\"N300LK\",\"N343AN\",\"N776AN\",\"N812AA\",\"N11109\",\"N17002\",\"N172DN\",\"N176DN\",\"N2043J\",\"N26909\",\"N342AN\",\"N349AN\",\"N774AN\",\"N780AN\",\"N172AJ\",\"N20904\",\"N27901\",\"N29907\",\"N344AN\",\"N398AN\",\"N57111\",\"N771UA\",\"N808AN\",\"N813AN\",\"N826MH\",\"N133DU\",\"N283AY\",\"N396AN\",\"N595UA\",\"N652UA\",\"N750AN\",\"N814AA\",\"N827MH\",\"N12005\",\"N12012\",\"N156DL\",\"N182DN\",\"N223FR\",\"N271AY\",\"N346AN\",\"N348AN\",\"N388AA\",\"N794AN\",\"N811AB\",\"N818AL\",\"N132DU\",\"N2039J\",\"N347AN\",\"N350AN\",\"N399AN\",\"N753AN\",\"N786UA\",\"N787AL\",\"N798AN\",\"N809AA\",\"N823AN\",\"N825MH\",\"N840AN\",\"N908DA\",\"N12004\",\"N173AN\",\"N397AN\",\"N771AN\",\"N829MH\",\"N840MH\",\"N12003\",\"N177DN\",\"N28912\",\"N35236\",\"N376FR\",\"N758AN\",\"N793AN\",\"N802AN\",\"N804AN\",\"N810AN\",\"N190DN\",\"N2086J\",\"N26902\",\"N26910\",\"N276AY\",\"N27908\",\"N751AN\",\"N765AN\",\"N796AN\",\"N829AN\",\"N832AA\",\"N841AN\",\"N187GJ\",\"N188DN\",\"N220JQ\",\"N26906\",\"N277AY\",\"N303DU\",\"N393AN\",\"N778AN\",\"N800AN\",\"N177AN\",\"N204UA\",\"N212NN\",\"N286AY\",\"N292AY\",\"N302RN\",\"N772AN\",\"N801AC\",\"N811NW\",\"N821AN\",\"N828AA\",\"N12010\",\"N281AY\",\"N293AY\",\"N786AN\",\"N808NW\",\"N817AN\",\"N820AL\",\"N827AN\",\"N838AA\",\"N2084J\",\"N287AY\",\"N288AY\",\"N293NN\",\"N641VA\",\"N719AN\",\"N762AN\",\"N838MH\",\"N91007\",\"N278AY\",\"N422AN\",\"N425AN\",\"N59053\",\"N805AN\",\"N807AA\",\"N832MH\",\"N833AA\",\"N836AA\",\"N207PS\",\"N395HA\",\"N759AN\",\"N795UA\",\"N821NW\",\"N839MH\",\"N290AY\",\"N660UA\",\"N730AN\",\"N766AN\",\"N791AN\",\"N814NW\",\"N872AN\",\"N195DN\",\"N274AY\",\"N285AY\",\"N727AN\",\"N78013\",\"N806AA\",\"N806NW\",\"N825AA\",\"N86372\",\"285NV\",\"N138DU\",\"N187DN\",\"N280AY\",\"N284AY\",\"N770AN\",\"N816NW\",\"N822AN\",\"N826AN\",\"N837AN\",\"N16911\",\"N275AY\",\"N30913\",\"N568UA\",\"N57016\",\"N705DN\",\"N722AN\",\"N728AN\",\"N729AN\",\"N7705A\",\"N791UA\",\"N134DU\",\"N207UW\",\"N223UA\",\"N270AY\",\"N3764D\",\"N702DN\",\"N789AN\",\"N803NW\",\"N810NW\",\"N824AN\",\"N839AA\",\"N1610D\",\"N41140\",\"N427AN\",\"N507JB\",\"N546UA\",\"N646UA\",\"N649UA\",\"N653UA\",\"N781AN\",\"N804NW\",\"N807NW\",\"N830MH\",\"N860NW\",\"N996JB\",\"N206UW\",\"N27958\",\"N35953\",\"N642UA\",\"N66057\",\"N717AN\",\"N734AR\",\"N76065\",\"N773AN\",\"N78001\",\"N823NW\",\"N880UA\",\"N027JB\",\"N101NK\",\"N291AY\",\"N38955\",\"N598UA\",\"N67052\",\"N701DN\",\"N706DN\",\"N707DN\",\"N74007\",\"N755AN\",\"N757AN\",\"N77066\",\"N788UA\",\"N815NW\",\"N819NW\",\"N85373\",\"N2140U\",\"N279AY\",\"N29977\",\"N37018\",\"N526JB\",\"N644UA\",\"N654UA\",\"N659UA\",\"N677UA\",\"N69059\",\"N710DN\",\"N720AN\",\"N736AT\",\"N796UA\",\"N805NW\",\"N812NW\",\"N818NW\",\"N825NW\",\"N861NW\",\"N995JB\",\"284NV\",\"N13013\",\"N155DL\",\"N1605\",\"N1613B\",\"N180DN\",\"N19951\",\"N228UA\",\"N2333U\",\"N26966\",\"N273AY\",\"N375FR\",\"N662UA\",\"N663UA\",\"N674UA\",\"N703DN\",\"N704DK\",\"N724AN\",\"N756AM\",\"N792AN\",\"N822NW\",\"N827NW\",\"N828NW\",\"N835AN\",\"N874UA\",\"N974JB\",\"N985JB\",\"N998JB\",\"286NV\",\"N16065\",\"N2251U\",\"N24974\",\"N24976\",\"N2644U\",\"N272AY\",\"N27959\",\"N38950\",\"N508JB\",\"N66051\",\"N78003\",\"N78004\",\"N78060\",\"N817NW\",\"N831AA\",\"N834AA\",\"N870AX\",\"N964JB\",\"N976JB\",\"N987JB\",\"N13954\",\"N17963\",\"N186DN\",\"N2044J\",\"N2332U\",\"N24972\",\"N26960\",\"N26967\",\"N26970\",\"N27957\",\"N29961\",\"N29971\",\"N29975\",\"N658CA\",\"N665UA\",\"N709DN\",\"N733AR\",\"N76010\",\"N76054\",\"N79011\",\"N799UA\",\"N801NW\",\"N824NW\",\"N829NW\",\"N871AY\",\"N971JB\",\"N975JB\",\"N977JB\",\"N979JB\",\"N999JB\",\"N135DQ\",\"N15969\",\"N226UA\",\"N229UA\",\"N2352U\",\"N24973\",\"N27965\",\"N282AY\",\"N29968\",\"N29981\",\"N29984\",\"N45956\",\"N670UA\",\"N731AN\",\"N735AT\",\"N76064\",\"N775AN\",\"N78002\",\"N782UA\",\"N831NW\",\"N844MH\",\"N967JB\",\"N994JB\",\"N1607B\",\"N1609\",\"N1611B\",\"N193DN\",\"N2243U\",\"N225UA\",\"N2331U\",\"N2534U\",\"N66056\",\"N67058\",\"N68061\",\"N708DN\",\"N721AN\",\"N732AN\",\"N76055\",\"N76062\",\"N768AA\",\"N77014\",\"N77022\",\"N784AN\",\"N785AN\",\"N787UA\",\"N826NW\",\"N989JB\",\"N997JB\",\"N016JB\",\"N038JB\",\"N189DN\",\"N216UA\",\"N219UA\",\"N23983\",\"N2645U\",\"N27015\",\"N2748U\",\"N2846U\",\"N641UA\",\"N668UA\",\"N69063\",\"N723AN\",\"N726AN\",\"N752AN\",\"N78009\",\"N783UA\",\"N792UA\",\"N968JB\",\"N973JB\",\"N991JB\",\"N993JB\",\"N029JB\",\"N1608\",\"N176DZ\",\"N194DN\",\"N206UA\",\"N2136U\",\"N2142U\",\"N217UA\",\"N221UA\",\"N2250U\",\"N2341U\",\"N24979\",\"N25982\",\"N2639U\",\"N2737U\",\"N2747U\",\"N27964\",\"N29978\",\"N385AM\",\"N648UA\",\"N661UA\",\"N686UA\",\"N69020\",\"N77006\",\"N78017\",\"N790AN\",\"N793UA\",\"N794UA\",\"N798UA\",\"N802NW\",\"N809NW\",\"N820NW\",\"N830AN\",\"N854NW\",\"N950JB\",\"N965JB\",\"N969JB\",\"N972JB\",\"N988JB\",\"N990JB\",\"N017JB\",\"N209UA\",\"N2135U\",\"N218UA\",\"N220UA\",\"N224UA\",\"N24980\",\"N2749U\",\"N314RH\",\"N36962\",\"N407SW\",\"N501DN\",\"N503DN\",\"N537JB\",\"N669UA\",\"N673UA\",\"N725AN\",\"N754AN\",\"N77012\",\"N777AN\",\"N782AN\",\"N784UA\",\"N797UA\",\"N813NW\",\"N842MH\",\"N851NW\",\"N863DA\",\"N983JB\",\"__unknown\"],\"type\":\"nominal\",\"name\":\"tailNumIndex\"}}",
         "name": "tailNumIndex",
         "type": "\"double\""
        },
        {
         "metadata": "{\"ml_attr\":{\"vals\":[\"64\",\"65\",\"1095\",\"478\",\"61\",\"416\",\"404\",\"403\",\"706\",\"777\",\"770\",\"546\",\"358\",\"678\",\"665\",\"802\",\"320\",\"486\",\"311\",\"5102\",\"1767\",\"1211\",\"323\",\"347\",\"417\",\"753\",\"696\",\"442\",\"483\",\"466\",\"410\",\"66\",\"635\",\"1078\",\"1146\",\"1006\",\"352\",\"415\",\"443\",\"701\",\"522\",\"1002\",\"748\",\"647\",\"1094\",\"1198\",\"679\",\"339\",\"1590\",\"20\",\"1165\",\"538\",\"375\",\"419\",\"512\",\"813\",\"201\",\"1572\",\"428\",\"955\",\"1401\",\"2074\",\"648\",\"261\",\"712\",\"396\",\"754\",\"426\",\"971\",\"35\",\"433\",\"534\",\"461\",\"834\",\"423\",\"677\",\"456\",\"326\",\"469\",\"801\",\"12\",\"2002\",\"574\",\"824\",\"333\",\"1102\",\"3\",\"539\",\"791\",\"312\",\"1009\",\"364\",\"1012\",\"154\",\"501\",\"671\",\"1045\",\"1075\",\"334\",\"1261\",\"653\",\"313\",\"372\",\"762\",\"1243\",\"498\",\"523\",\"1202\",\"573\",\"600\",\"780\",\"1448\",\"1580\",\"327\",\"400\",\"615\",\"927\",\"1152\",\"116\",\"1011\",\"315\",\"537\",\"760\",\"9\",\"1670\",\"301\",\"667\",\"792\",\"1044\",\"1475\",\"356\",\"1103\",\"401\",\"406\",\"676\",\"2086\",\"425\",\"892\",\"1069\",\"1199\",\"510\",\"536\",\"606\",\"1316\",\"2001\",\"106\",\"1924\",\"438\",\"745\",\"2269\",\"5\",\"1326\",\"751\",\"2135\",\"487\",\"681\",\"711\",\"1364\",\"465\",\"657\",\"1223\",\"1282\",\"1166\",\"724\",\"1403\",\"170\",\"422\",\"103\",\"1584\",\"504\",\"571\",\"976\",\"331\",\"563\",\"6\",\"663\",\"734\",\"750\",\"778\",\"669\",\"794\",\"972\",\"332\",\"418\",\"460\",\"572\",\"752\",\"552\",\"737\",\"1168\",\"190\",\"4\",\"570\",\"623\",\"5141\",\"586\",\"896\",\"314\",\"496\",\"683\",\"1630\",\"2080\",\"251\",\"1554\",\"178\",\"609\",\"773\",\"1423\",\"688\",\"1260\",\"1641\",\"719\",\"1242\",\"1259\",\"1294\",\"371\",\"430\",\"464\",\"830\",\"223\",\"380\",\"682\",\"713\",\"775\",\"1177\",\"310\",\"411\",\"505\",\"1070\",\"1201\",\"1209\",\"1754\",\"1184\",\"284\",\"383\",\"40\",\"412\",\"710\",\"788\",\"793\",\"1018\",\"490\",\"519\",\"626\",\"698\",\"771\",\"979\",\"1097\",\"1251\",\"2314\",\"244\",\"516\",\"561\",\"1148\",\"140\",\"330\",\"354\",\"517\",\"652\",\"8\",\"1180\",\"413\",\"1704\",\"459\",\"548\",\"705\",\"1107\",\"291\",\"362\",\"365\",\"374\",\"807\",\"1462\",\"163\",\"2014\",\"264\",\"28\",\"302\",\"1196\",\"2016\",\"500\",\"636\",\"1005\",\"1895\",\"265\",\"348\",\"690\",\"790\",\"1013\",\"257\",\"420\",\"5382\",\"772\",\"1207\",\"379\",\"595\",\"1003\",\"1845\",\"397\",\"424\",\"928\",\"1041\",\"2183\",\"451\",\"553\",\"1159\",\"1486\",\"359\",\"527\",\"664\",\"796\",\"1537\",\"1293\",\"1524\",\"435\",\"633\",\"764\",\"1\",\"1133\",\"1404\",\"2015\",\"350\",\"656\",\"795\",\"894\",\"102\",\"1736\",\"324\",\"346\",\"5283\",\"699\",\"1228\",\"373\",\"402\",\"434\",\"493\",\"507\",\"555\",\"640\",\"1064\",\"1359\",\"184\",\"2377\",\"370\",\"565\",\"779\",\"952\",\"1076\",\"1235\",\"2130\",\"258\",\"267\",\"495\",\"577\",\"729\",\"746\",\"783\",\"1073\",\"1101\",\"1660\",\"470\",\"627\",\"639\",\"1520\",\"392\",\"432\",\"475\",\"789\",\"1109\",\"1226\",\"1422\",\"1728\",\"2\",\"250\",\"360\",\"43\",\"776\",\"1096\",\"1552\",\"1743\",\"2100\",\"550\",\"562\",\"568\",\"691\",\"733\",\"1534\",\"1806\",\"305\",\"367\",\"578\",\"644\",\"2006\",\"2240\",\"494\",\"533\",\"680\",\"806\",\"884\",\"1287\",\"1650\",\"255\",\"468\",\"1218\",\"1418\",\"1599\",\"1807\",\"3504\",\"531\",\"756\",\"1092\",\"122\",\"1318\",\"2101\",\"445\",\"658\",\"726\",\"920\",\"1381\",\"1424\",\"1430\",\"1472\",\"1672\",\"2195\",\"336\",\"421\",\"508\",\"697\",\"199\",\"283\",\"32\",\"335\",\"1310\",\"1593\",\"2023\",\"2075\",\"388\",\"819\",\"1246\",\"1421\",\"2004\",\"31\",\"407\",\"503\",\"506\",\"765\",\"1155\",\"2030\",\"369\",\"5094\",\"781\",\"1729\",\"179\",\"1987\",\"329\",\"559\",\"670\",\"947\",\"1062\",\"2078\",\"262\",\"5089\",\"525\",\"619\",\"1338\",\"1648\",\"1668\",\"405\",\"452\",\"457\",\"511\",\"826\",\"1426\",\"1505\",\"467\",\"845\",\"1039\",\"1171\",\"1492\",\"381\",\"431\",\"458\",\"544\",\"641\",\"769\",\"815\",\"899\",\"1104\",\"376\",\"556\",\"720\",\"993\",\"1114\",\"2038\",\"2230\",\"386\",\"805\",\"1229\",\"1415\",\"1567\",\"1786\",\"322\",\"447\",\"614\",\"730\",\"782\",\"1106\",\"1312\",\"1506\",\"1927\",\"222\",\"296\",\"5039\",\"5214\",\"576\",\"591\",\"661\",\"803\",\"1500\",\"1700\",\"340\",\"463\",\"616\",\"744\",\"862\",\"878\",\"1387\",\"1532\",\"1705\",\"1929\",\"492\",\"55\",\"575\",\"868\",\"969\",\"1478\",\"1523\",\"1551\",\"1961\",\"363\",\"655\",\"662\",\"736\",\"761\",\"866\",\"1071\",\"1598\",\"1688\",\"1928\",\"395\",\"784\",\"1241\",\"1431\",\"1822\",\"2019\",\"454\",\"774\",\"849\",\"1174\",\"1210\",\"1219\",\"1499\",\"1790\",\"188\",\"260\",\"391\",\"566\",\"943\",\"1561\",\"2021\",\"5044\",\"5224\",\"808\",\"1017\",\"1645\",\"357\",\"5347\",\"5358\",\"5421\",\"607\",\"867\",\"877\",\"1232\",\"1286\",\"159\",\"1839\",\"1989\",\"275\",\"300\",\"532\",\"117\",\"1193\",\"1262\",\"1274\",\"1541\",\"1827\",\"1887\",\"1956\",\"2124\",\"3570\",\"3614\",\"384\",\"482\",\"5037\",\"535\",\"5441\",\"569\",\"1275\",\"1323\",\"169\",\"2148\",\"2420\",\"687\",\"138\",\"152\",\"303\",\"5100\",\"5644\",\"1074\",\"171\",\"518\",\"798\",\"851\",\"1674\",\"2165\",\"5106\",\"810\",\"854\",\"858\",\"123\",\"1463\",\"187\",\"2170\",\"2434\",\"321\",\"5101\",\"797\",\"812\",\"124\",\"143\",\"1646\",\"2046\",\"5393\",\"700\",\"839\",\"1480\",\"1635\",\"1676\",\"2067\",\"2251\",\"282\",\"480\",\"1793\",\"2116\",\"2470\",\"309\",\"1194\",\"1266\",\"1391\",\"1414\",\"1628\",\"183\",\"1906\",\"3409\",\"3587\",\"368\",\"437\",\"558\",\"1033\",\"1373\",\"2362\",\"5124\",\"643\",\"1153\",\"1564\",\"1611\",\"1742\",\"1865\",\"2103\",\"393\",\"448\",\"481\",\"484\",\"5293\",\"567\",\"935\",\"1347\",\"1350\",\"1382\",\"1417\",\"1625\",\"1693\",\"1974\",\"2308\",\"440\",\"5352\",\"1183\",\"1671\",\"215\",\"549\",\"551\",\"598\",\"735\",\"1142\",\"1511\",\"1578\",\"1733\",\"182\",\"2079\",\"2143\",\"343\",\"398\",\"590\",\"628\",\"702\",\"757\",\"1185\",\"1566\",\"1659\",\"2182\",\"2215\",\"3420\",\"597\",\"1744\",\"274\",\"297\",\"596\",\"932\",\"101\",\"1130\",\"1314\",\"1675\",\"1768\",\"1837\",\"1973\",\"2127\",\"246\",\"540\",\"727\",\"1231\",\"1766\",\"2399\",\"254\",\"3405\",\"3510\",\"5099\",\"1292\",\"1460\",\"1533\",\"1653\",\"1685\",\"1923\",\"1975\",\"2205\",\"277\",\"3547\",\"631\",\"818\",\"1163\",\"1289\",\"153\",\"1563\",\"1770\",\"2356\",\"502\",\"5212\",\"832\",\"1110\",\"1175\",\"139\",\"1714\",\"1979\",\"2235\",\"5155\",\"605\",\"668\",\"70\",\"716\",\"833\",\"1043\",\"1291\",\"1626\",\"2236\",\"2358\",\"2425\",\"245\",\"3450\",\"446\",\"599\",\"694\",\"709\",\"1079\",\"1108\",\"1308\",\"1360\",\"1555\",\"2122\",\"2225\",\"34\",\"620\",\"1631\",\"205\",\"5061\",\"703\",\"725\",\"755\",\"822\",\"1022\",\"1151\",\"1197\",\"1483\",\"1489\",\"1538\",\"224\",\"233\",\"5072\",\"564\",\"608\",\"758\",\"841\",\"901\",\"958\",\"1411\",\"1438\",\"1701\",\"1885\",\"2463\",\"390\",\"436\",\"476\",\"488\",\"5036\",\"1214\",\"1433\",\"1613\",\"1788\",\"189\",\"1950\",\"342\",\"5125\",\"650\",\"800\",\"1056\",\"1200\",\"1205\",\"1295\",\"1320\",\"1614\",\"1623\",\"1933\",\"2357\",\"2374\",\"259\",\"3508\",\"351\",\"3516\",\"5310\",\"5621\",\"930\",\"1050\",\"1160\",\"1162\",\"1271\",\"1398\",\"1512\",\"1644\",\"1826\",\"1874\",\"1939\",\"2104\",\"212\",\"268\",\"836\",\"1357\",\"1581\",\"2085\",\"239\",\"36\",\"5130\",\"5213\",\"1038\",\"1077\",\"1535\",\"1622\",\"1636\",\"1731\",\"1801\",\"2469\",\"306\",\"3707\",\"5312\",\"835\",\"855\",\"1083\",\"1638\",\"1775\",\"1944\",\"2063\",\"214\",\"2146\",\"3566\",\"5043\",\"513\",\"5161\",\"5239\",\"707\",\"814\",\"840\",\"864\",\"1063\",\"1342\",\"1400\",\"1457\",\"1474\",\"2232\",\"2319\",\"27\",\"280\",\"472\",\"5298\",\"5342\",\"5784\",\"629\",\"645\",\"692\",\"1099\",\"1164\",\"1195\",\"1601\",\"1821\",\"1935\",\"3544\",\"5110\",\"528\",\"5280\",\"642\",\"847\",\"883\",\"1115\",\"1383\",\"176\",\"1771\",\"1833\",\"2029\",\"2177\",\"2216\",\"2224\",\"5046\",\"5340\",\"54\",\"5814\",\"651\",\"675\",\"865\",\"1270\",\"1498\",\"1783\",\"185\",\"2323\",\"278\",\"337\",\"3400\",\"3500\",\"3555\",\"3664\",\"5060\",\"5075\",\"5131\",\"5218\",\"799\",\"1577\",\"1725\",\"1820\",\"2363\",\"2375\",\"266\",\"3542\",\"5349\",\"715\",\"970\",\"1004\",\"1031\",\"1173\",\"1188\",\"1220\",\"144\",\"1464\",\"147\",\"1510\",\"1530\",\"1568\",\"2076\",\"2167\",\"2186\",\"2198\",\"226\",\"3537\",\"3568\",\"5073\",\"5332\",\"5425\",\"584\",\"1204\",\"1354\",\"186\",\"2044\",\"2339\",\"249\",\"338\",\"5220\",\"5300\",\"5357\",\"904\",\"119\",\"1365\",\"1501\",\"16\",\"1640\",\"1957\",\"202\",\"2300\",\"5080\",\"617\",\"816\",\"965\",\"1225\",\"126\",\"1272\",\"1446\",\"1735\",\"1781\",\"1922\",\"2003\",\"2094\",\"3523\",\"3674\",\"767\",\"811\",\"1313\",\"156\",\"160\",\"1647\",\"1680\",\"1749\",\"1758\",\"2202\",\"3501\",\"3602\",\"5111\",\"5158\",\"542\",\"944\",\"1247\",\"1309\",\"135\",\"136\",\"1368\",\"1379\",\"1757\",\"1925\",\"1954\",\"3452\",\"3606\",\"3655\",\"5033\",\"5662\",\"5666\",\"1157\",\"1224\",\"1252\",\"1384\",\"1402\",\"1456\",\"155\",\"1591\",\"1919\",\"1959\",\"2033\",\"2429\",\"3612\",\"366\",\"408\",\"5053\",\"514\",\"820\",\"1352\",\"1399\",\"1412\",\"1708\",\"1840\",\"1942\",\"2378\",\"341\",\"3578\",\"389\",\"455\",\"489\",\"5081\",\"5261\",\"766\",\"956\",\"1124\",\"177\",\"1966\",\"2287\",\"2385\",\"293\",\"3539\",\"427\",\"5038\",\"521\",\"5215\",\"990\",\"1055\",\"1059\",\"1061\",\"15\",\"1740\",\"1748\",\"1958\",\"1994\",\"2139\",\"3545\",\"382\",\"4252\",\"520\",\"524\",\"684\",\"823\",\"888\",\"1116\",\"1121\",\"1284\",\"1366\",\"1594\",\"1694\",\"1810\",\"1851\",\"1911\",\"2058\",\"429\",\"530\",\"541\",\"5413\",\"69\",\"828\",\"914\",\"1010\",\"1439\",\"149\",\"1696\",\"1779\",\"2031\",\"210\",\"2123\",\"2131\",\"2149\",\"2334\",\"2502\",\"44\",\"1131\",\"1140\",\"1167\",\"1179\",\"1279\",\"1476\",\"1509\",\"1651\",\"1762\",\"19\",\"1905\",\"204\",\"2065\",\"207\",\"2077\",\"2212\",\"2280\",\"414\",\"5315\",\"557\",\"689\",\"846\",\"942\",\"959\",\"1008\",\"1046\",\"1111\",\"1158\",\"1192\",\"1215\",\"1227\",\"1503\",\"1588\",\"1715\",\"1732\",\"1797\",\"1861\",\"1926\",\"2013\",\"2055\",\"3556\",\"3643\",\"3770\",\"385\",\"444\",\"5035\",\"5074\",\"5319\",\"708\",\"721\",\"921\",\"1150\",\"1190\",\"1331\",\"1332\",\"1339\",\"198\",\"21\",\"227\",\"234\",\"2459\",\"294\",\"3421\",\"387\",\"5048\",\"5118\",\"5320\",\"646\",\"738\",\"1149\",\"1255\",\"1600\",\"1712\",\"1800\",\"1811\",\"1899\",\"1946\",\"2105\",\"2188\",\"2193\",\"2257\",\"2360\",\"2402\",\"349\",\"5167\",\"630\",\"768\",\"1042\",\"1263\",\"1273\",\"1470\",\"165\",\"1699\",\"2008\",\"2081\",\"2315\",\"2340\",\"2379\",\"3519\",\"361\",\"449\",\"5049\",\"526\",\"1298\",\"1302\",\"1380\",\"1419\",\"1649\",\"2017\",\"2134\",\"2172\",\"2178\",\"2210\",\"2635\",\"319\",\"479\",\"5304\",\"5324\",\"543\",\"588\",\"743\",\"939\",\"1301\",\"1317\",\"1504\",\"1543\",\"1583\",\"1687\",\"1719\",\"1724\",\"1798\",\"1829\",\"2121\",\"2133\",\"2330\",\"5045\",\"5065\",\"5116\",\"5230\",\"5307\",\"5626\",\"992\",\"1060\",\"1118\",\"1267\",\"1702\",\"1808\",\"2049\",\"2229\",\"2355\",\"2504\",\"317\",\"3415\",\"3518\",\"3571\",\"3689\",\"5339\",\"763\",\"1058\",\"1178\",\"1221\",\"129\",\"1328\",\"1353\",\"1494\",\"1774\",\"1782\",\"1796\",\"3536\",\"3668\",\"4234\",\"5029\",\"5040\",\"5050\",\"5222\",\"5237\",\"739\",\"809\",\"827\",\"831\",\"887\",\"967\",\"977\",\"1105\",\"1281\",\"1322\",\"1336\",\"1982\",\"2276\",\"2945\",\"299\",\"5108\",\"5233\",\"5444\",\"975\",\"104\",\"1496\",\"1983\",\"2053\",\"208\",\"3533\",\"399\",\"473\",\"5082\",\"897\",\"1057\",\"1276\",\"1427\",\"1739\",\"1909\",\"2213\",\"225\",\"2260\",\"3406\",\"3454\",\"4024\",\"5314\",\"5325\",\"863\",\"1001\",\"1090\",\"1189\",\"1370\",\"1410\",\"1690\",\"1853\",\"2072\",\"2073\",\"211\",\"2132\",\"2238\",\"2368\",\"4047\",\"4244\",\"5114\",\"5172\",\"5221\",\"5301\",\"5490\",\"1034\",\"1440\",\"1451\",\"2052\",\"2128\",\"2204\",\"2239\",\"2264\",\"230\",\"3572\",\"3648\",\"497\",\"5129\",\"5500\",\"654\",\"785\",\"940\",\"1139\",\"1437\",\"1515\",\"1553\",\"164\",\"17\",\"1713\",\"2304\",\"2322\",\"2472\",\"3509\",\"474\",\"5381\",\"861\",\"1208\",\"1239\",\"1300\",\"1447\",\"1477\",\"1529\",\"1763\",\"1877\",\"1891\",\"2034\",\"2106\",\"2255\",\"2307\",\"26\",\"2624\",\"263\",\"3489\",\"5132\",\"52\",\"5210\",\"5260\",\"5267\",\"5327\",\"5602\",\"5704\",\"60\",\"622\",\"1216\",\"1254\",\"1586\",\"1716\",\"1802\",\"1813\",\"1902\",\"1991\",\"2011\",\"2071\",\"2190\",\"22\",\"2266\",\"2430\",\"3339\",\"3512\",\"5091\",\"51\",\"659\",\"926\",\"1186\",\"1682\",\"1695\",\"1849\",\"1883\",\"1992\",\"2301\",\"240\",\"256\",\"3629\",\"3647\",\"5030\",\"5139\",\"5297\",\"5398\",\"560\",\"968\",\"1296\",\"1491\",\"1612\",\"1756\",\"1838\",\"1952\",\"2113\",\"2138\",\"2367\",\"3553\",\"3573\",\"4228\",\"4300\",\"5766\",\"759\",\"821\",\"1023\",\"1355\",\"1435\",\"180\",\"5068\",\"5078\",\"5086\",\"5151\",\"5159\",\"5435\",\"869\",\"951\",\"1021\",\"1072\",\"1203\",\"1485\",\"1697\",\"1848\",\"2341\",\"3403\",\"3413\",\"3427\",\"3520\",\"3679\",\"5057\",\"5062\",\"5092\",\"5309\",\"5323\",\"856\",\"938\",\"966\",\"1169\",\"174\",\"1890\",\"2009\",\"2163\",\"2203\",\"231\",\"2465\",\"3610\",\"3746\",\"5145\",\"5311\",\"5754\",\"594\",\"843\",\"1306\",\"1482\",\"1539\",\"1794\",\"1819\",\"1886\",\"2061\",\"2214\",\"243\",\"2634\",\"3557\",\"3642\",\"5042\",\"5066\",\"5069\",\"5394\",\"672\",\"695\",\"714\",\"747\",\"1029\",\"1138\",\"1187\",\"1217\",\"1330\",\"1698\",\"1747\",\"175\",\"1776\",\"2175\",\"281\",\"3402\",\"3408\",\"3449\",\"4152\",\"5299\",\"5420\",\"602\",\"624\",\"7\",\"1442\",\"1666\",\"1709\",\"1750\",\"1759\",\"1967\",\"2064\",\"2180\",\"2222\",\"2275\",\"2318\",\"235\",\"2400\",\"2414\",\"353\",\"4274\",\"5149\",\"5200\",\"612\",\"1040\",\"1049\",\"1361\",\"1393\",\"1579\",\"2347\",\"238\",\"2403\",\"3486\",\"491\",\"509\",\"5113\",\"5450\",\"5619\",\"996\",\"1156\",\"1222\",\"1268\",\"1652\",\"1746\",\"1997\",\"2050\",\"2068\",\"2142\",\"2274\",\"247\",\"2783\",\"3434\",\"3663\",\"3665\",\"462\",\"5052\",\"5259\",\"5439\",\"5445\",\"5502\",\"554\",\"859\",\"1176\",\"1257\",\"1432\",\"1444\",\"1445\",\"1469\",\"151\",\"1795\",\"2042\",\"2092\",\"2288\",\"2329\",\"2383\",\"2607\",\"3480\",\"3481\",\"3660\",\"477\",\"5096\",\"5344\",\"5392\",\"686\",\"693\",\"740\",\"1119\",\"115\",\"1374\",\"1595\",\"1718\",\"1828\",\"1936\",\"2091\",\"2117\",\"276\",\"285\",\"2934\",\"5136\",\"5768\",\"59\",\"603\",\"610\",\"749\",\"844\",\"1154\",\"1236\",\"1389\",\"1544\",\"1727\",\"1962\",\"2221\",\"2436\",\"2626\",\"286\",\"3613\",\"3714\",\"4275\",\"5104\",\"5197\",\"5616\",\"613\",\"673\",\"1258\",\"127\",\"1334\",\"1344\",\"1358\",\"1585\",\"1692\",\"1932\",\"2141\",\"2169\",\"2223\",\"304\",\"4240\",\"621\",\"625\",\"660\",\"1081\",\"1127\",\"1141\",\"1206\",\"1240\",\"1280\",\"146\",\"1605\",\"1760\",\"2024\",\"206\",\"2093\",\"2095\",\"2237\",\"241\",\"273\",\"3341\",\"3498\",\"3640\",\"4270\",\"5250\",\"5446\",\"5764\",\"5937\",\"731\",\"889\",\"1321\",\"1519\",\"1528\",\"1547\",\"1616\",\"1661\",\"1730\",\"1843\",\"2090\",\"2483\",\"252\",\"3549\",\"3621\",\"3624\",\"5054\",\"5245\",\"5257\",\"5652\",\"1434\",\"1667\",\"1751\",\"2039\",\"2098\",\"2154\",\"228\",\"2372\",\"248\",\"3416\",\"345\",\"3589\",\"3626\",\"3662\",\"3675\",\"5231\",\"5326\",\"604\",\"898\",\"1054\",\"1495\",\"1497\",\"1548\",\"1862\",\"1901\",\"192\",\"1953\",\"1984\",\"2025\",\"2056\",\"2159\",\"2234\",\"2309\",\"288\",\"325\",\"3317\",\"3565\",\"3658\",\"4146\",\"499\",\"5624\",\"5800\",\"919\",\"960\",\"1052\",\"1128\",\"1233\",\"1245\",\"128\",\"1362\",\"1371\",\"1596\",\"1673\",\"172\",\"1726\",\"2097\",\"2184\",\"2248\",\"290\",\"3435\",\"3541\",\"3554\",\"5064\",\"5123\",\"5277\",\"581\",\"982\",\"1093\",\"1212\",\"1335\",\"1420\",\"1621\",\"1717\",\"1764\",\"1816\",\"2022\",\"2187\",\"2201\",\"2755\",\"318\",\"3463\",\"3483\",\"3517\",\"3645\",\"377\",\"5138\",\"5180\",\"5228\",\"649\",\"1369\",\"1459\",\"1686\",\"1785\",\"2069\",\"2185\",\"2219\",\"2380\",\"2404\",\"2976\",\"33\",\"5126\",\"529\",\"5452\",\"5638\",\"634\",\"922\",\"1089\",\"118\",\"133\",\"1871\",\"2028\",\"3474\",\"3535\",\"3540\",\"3608\",\"3840\",\"4305\",\"47\",\"5120\",\"5176\",\"5345\",\"5359\",\"5379\",\"63\",\"825\",\"872\",\"100\",\"1027\",\"1035\",\"1375\",\"1450\",\"1557\",\"1780\",\"193\",\"2087\",\"2147\",\"2199\",\"2208\",\"2290\",\"2376\",\"3600\",\"3607\",\"3869\",\"4262\",\"5117\",\"5235\",\"5317\",\"5355\",\"5409\",\"5651\",\"885\",\"1562\",\"1597\",\"1908\",\"197\",\"1978\",\"2082\",\"218\",\"229\",\"2460\",\"2609\",\"292\",\"3412\",\"3561\",\"4008\",\"4166\",\"5372\",\"5809\",\"1453\",\"1576\",\"1633\",\"1784\",\"1903\",\"2102\",\"2112\",\"2207\",\"221\",\"2303\",\"3410\",\"3538\",\"3558\",\"5041\",\"5071\",\"5192\",\"5316\",\"5676\",\"817\",\"875\",\"936\",\"945\",\"1363\",\"1488\",\"1738\",\"1765\",\"2062\",\"2129\",\"2305\",\"2398\",\"269\",\"270\",\"3506\",\"3706\",\"3777\",\"5076\",\"5169\",\"5219\",\"925\",\"961\",\"986\",\"1087\",\"1213\",\"1230\",\"1345\",\"1592\",\"1769\",\"1881\",\"1972\",\"2164\",\"2294\",\"2346\",\"2490\",\"3440\",\"3492\",\"3636\",\"3767\",\"3984\",\"4052\",\"5058\",\"5084\",\"5229\",\"5410\",\"5591\",\"5731\",\"732\",\"991\",\"1047\",\"1066\",\"1068\",\"1136\",\"1425\",\"1455\",\"1473\",\"150\",\"1689\",\"195\",\"2166\",\"2254\",\"2353\",\"3404\",\"3460\",\"3603\",\"4004\",\"5059\",\"5142\",\"5262\",\"804\",\"1085\",\"1278\",\"1290\",\"1428\",\"1481\",\"1721\",\"1969\",\"2189\",\"2244\",\"2271\",\"24\",\"295\",\"2960\",\"3401\",\"3768\",\"50\",\"5134\",\"5268\",\"5360\",\"5383\",\"5642\",\"742\",\"130\",\"1575\",\"1587\",\"1642\",\"1684\",\"1872\",\"2084\",\"2155\",\"2196\",\"2441\",\"2823\",\"3461\",\"3465\",\"3503\",\"3575\",\"3579\",\"5025\",\"5103\",\"5119\",\"5370\",\"582\",\"984\",\"1145\",\"1250\",\"1452\",\"1617\",\"1627\",\"1761\",\"1884\",\"2037\",\"2401\",\"2958\",\"3366\",\"3414\",\"3436\",\"3469\",\"3487\",\"3676\",\"3717\",\"38\",\"4245\",\"4289\",\"450\",\"5047\",\"5144\",\"5296\",\"853\",\"1249\",\"1340\",\"14\",\"1441\",\"1449\",\"1521\",\"1624\",\"2020\",\"2083\",\"2137\",\"2153\",\"2161\",\"2227\",\"2326\",\"2354\",\"2552\",\"279\",\"2800\",\"3525\",\"3635\",\"3677\",\"3795\",\"4062\",\"4173\",\"439\",\"5242\",\"5282\",\"5437\",\"5495\",\"592\",\"722\",\"891\",\"1126\",\"1772\",\"2273\",\"2406\",\"2538\",\"328\",\"3439\",\"3529\",\"3580\",\"3595\",\"48\",\"5055\",\"5128\",\"5225\",\"5279\",\"5378\",\"5463\",\"5735\",\"5742\",\"674\",\"879\",\"913\",\"934\",\"1283\",\"1408\",\"1468\",\"167\",\"1815\",\"1823\",\"1918\",\"2261\",\"2415\",\"2493\",\"25\",\"2617\",\"3448\",\"3585\",\"3588\",\"3628\",\"3810\",\"471\",\"5154\",\"5270\",\"5330\",\"5346\",\"5988\",\"1015\",\"1065\",\"1086\",\"1120\",\"1367\",\"145\",\"1558\",\"1669\",\"1818\",\"1857\",\"2040\",\"2054\",\"2191\",\"2336\",\"2338\",\"2554\",\"42\",\"453\",\"5022\",\"5027\",\"5067\",\"5181\",\"5322\",\"5368\",\"5540\",\"579\",\"601\",\"637\",\"704\",\"964\",\"1305\",\"1458\",\"1526\",\"1632\",\"1841\",\"1894\",\"1960\",\"1980\",\"2265\",\"2345\",\"2388\",\"2509\",\"2577\",\"2830\",\"287\",\"3473\",\"3550\",\"4138\",\"4232\",\"4273\",\"5085\",\"5112\",\"5122\",\"5137\",\"5255\",\"545\",\"5757\",\"107\",\"1170\",\"1277\",\"1405\",\"1582\",\"166\",\"1870\",\"2120\",\"2220\",\"2451\",\"2495\",\"3355\",\"3375\",\"3546\",\"3576\",\"3813\",\"5135\",\"5274\",\"5337\",\"5429\",\"929\",\"1608\",\"1745\",\"1799\",\"1912\",\"2007\",\"2168\",\"2279\",\"3426\",\"4233\",\"4249\",\"441\",\"5034\",\"5088\",\"5236\",\"5430\",\"5566\",\"950\",\"158\",\"2036\",\"2114\",\"2194\",\"2246\",\"2316\",\"2559\",\"2602\",\"3455\",\"3462\",\"3472\",\"3530\",\"3548\",\"3980\",\"4306\",\"5148\",\"5162\",\"5209\",\"5423\",\"73\",\"910\",\"1113\",\"1161\",\"1655\",\"1855\",\"1915\",\"1938\",\"2110\",\"2136\",\"2158\",\"2231\",\"2289\",\"2344\",\"2535\",\"3453\",\"355\",\"3562\",\"39\",\"3976\",\"4133\",\"5175\",\"5371\",\"547\",\"5615\",\"5634\",\"583\",\"1091\",\"1327\",\"1569\",\"1722\",\"2032\",\"2051\",\"2057\",\"2088\",\"2242\",\"242\",\"2448\",\"271\",\"2963\",\"3653\",\"3699\",\"4023\",\"4266\",\"5171\",\"5195\",\"5196\",\"5252\",\"5269\",\"917\",\"108\",\"1182\",\"1269\",\"1546\",\"1571\",\"1734\",\"1778\",\"1846\",\"1898\",\"1943\",\"2047\",\"2200\",\"2435\",\"2486\",\"2579\",\"2610\",\"2967\",\"3418\",\"3490\",\"3559\",\"3618\",\"3659\",\"3913\",\"4114\",\"5140\",\"5433\",\"5492\",\"5498\",\"5736\",\"842\",\"1351\",\"1386\",\"1603\",\"1910\",\"1996\",\"2059\",\"2335\",\"2630\",\"5156\",\"5178\",\"5286\",\"5321\",\"5343\",\"5356\",\"5406\",\"5487\",\"5693\",\"5753\",\"5778\",\"850\",\"998\",\"1137\",\"1191\",\"132\",\"1413\",\"1710\",\"2285\",\"3338\",\"3429\",\"3468\",\"3496\",\"3574\",\"3591\",\"3605\",\"3615\",\"4699\",\"5023\",\"53\",\"5313\",\"5405\",\"5678\",\"632\",\"994\",\"995\",\"999\",\"1014\",\"1098\",\"1385\",\"1409\",\"1461\",\"1516\",\"1752\",\"1850\",\"2151\",\"2256\",\"236\",\"2381\",\"2437\",\"2601\",\"2966\",\"3998\",\"4318\",\"4641\",\"5249\",\"5287\",\"5341\",\"5397\",\"838\",\"1518\",\"2412\",\"2566\",\"3458\",\"3467\",\"3482\",\"3507\",\"3735\",\"3826\",\"3956\",\"485\",\"5021\",\"5207\",\"5292\",\"5338\",\"5354\",\"5513\",\"111\",\"1237\",\"1248\",\"1609\",\"2211\",\"2297\",\"2361\",\"2445\",\"2622\",\"2793\",\"2818\",\"3337\",\"3424\",\"3476\",\"3495\",\"3567\",\"409\",\"4130\",\"4230\",\"5166\",\"5253\",\"5305\",\"5484\",\"5582\",\"1429\",\"1436\",\"1882\",\"2026\",\"2250\",\"2302\",\"2558\",\"2962\",\"2986\",\"307\",\"316\",\"3319\",\"3392\",\"3667\",\"4149\",\"45\",\"5051\",\"5223\",\"5232\",\"5240\",\"685\",\"728\",\"954\",\"1067\",\"1234\",\"1311\",\"1356\",\"1407\",\"1678\",\"1723\",\"1880\",\"2115\",\"2171\",\"2228\",\"2422\",\"2585\",\"3592\",\"3599\",\"3616\",\"3790\",\"5334\",\"5959\",\"5968\",\"1172\",\"1396\",\"1484\",\"1559\",\"1602\",\"1634\",\"168\",\"1720\",\"1852\",\"1981\",\"2382\",\"2397\",\"2424\",\"2825\",\"3315\",\"3378\",\"3488\",\"3631\",\"3784\",\"3907\",\"3954\",\"4283\",\"5273\",\"5640\",\"5854\",\"62\",\"871\",\"1479\",\"1508\",\"1514\",\"1844\",\"2066\",\"2197\",\"2418\",\"2444\",\"2466\",\"2471\",\"2507\",\"3594\",\"4231\",\"5121\",\"5127\",\"5133\",\"5281\",\"5628\",\"5739\",\"5812\",\"852\",\"860\",\"1654\",\"1656\",\"1856\",\"2389\",\"2531\",\"3430\",\"3479\",\"3625\",\"3649\",\"3694\",\"3721\",\"3927\",\"3967\",\"5031\",\"5032\",\"5227\",\"5251\",\"5302\",\"5318\",\"5418\",\"5519\",\"5592\",\"5629\",\"5632\",\"848\",\"915\",\"11\",\"1147\",\"1755\",\"2109\",\"2176\",\"2497\",\"3441\",\"3513\",\"3584\",\"3644\",\"3727\",\"3926\",\"4203\",\"5090\",\"5093\",\"5098\",\"5377\",\"67\",\"1100\",\"1324\",\"1390\",\"1615\",\"1639\",\"2342\",\"2349\",\"3314\",\"3619\",\"3623\",\"3769\",\"5016\",\"5095\",\"5168\",\"5187\",\"5272\",\"5276\",\"5335\",\"5336\",\"5387\",\"5465\",\"5977\",\"787\",\"946\",\"1253\",\"148\",\"1487\",\"1665\",\"1869\",\"2089\",\"2369\",\"2457\",\"2503\",\"2553\",\"2751\",\"3682\",\"3936\",\"4042\",\"4303\",\"46\",\"5328\",\"5438\",\"5751\",\"5759\",\"717\",\"988\",\"1030\",\"110\",\"1406\",\"1574\",\"1619\",\"1904\",\"194\",\"2474\",\"2591\",\"3334\",\"3656\",\"3995\",\"4686\",\"5146\",\"5291\",\"5657\",\"5765\",\"5815\",\"873\",\"973\",\"1536\",\"1570\",\"1777\",\"1971\",\"1995\",\"2801\",\"3446\",\"3505\",\"3511\",\"3532\",\"5083\",\"5198\",\"5373\",\"5422\",\"1307\",\"1416\",\"1540\",\"1707\",\"1753\",\"1964\",\"1968\",\"2270\",\"2291\",\"2421\",\"2467\",\"2633\",\"3311\",\"3422\",\"3639\",\"3718\",\"3782\",\"3843\",\"4113\",\"4211\",\"5595\",\"5761\",\"981\",\"997\",\"1143\",\"1502\",\"1542\",\"1803\",\"1949\",\"2226\",\"2627\",\"3002\",\"3419\",\"3442\",\"3524\",\"3632\",\"3637\",\"3725\",\"3785\",\"3915\",\"4268\",\"4278\",\"4798\",\"5246\",\"5440\",\"5609\",\"5798\",\"1084\",\"1319\",\"1377\",\"1471\",\"173\",\"1791\",\"1963\",\"2041\",\"2070\",\"2174\",\"2252\",\"237\",\"2438\",\"2456\",\"2512\",\"2524\",\"2545\",\"2707\",\"3361\",\"3437\",\"3471\",\"4034\",\"5157\",\"5390\",\"5401\",\"5648\",\"5789\",\"611\",\"912\",\"137\",\"1550\",\"181\",\"1900\",\"203\",\"2060\",\"2126\",\"2324\",\"2333\",\"2449\",\"2680\",\"3514\",\"3534\",\"3620\",\"3854\",\"4194\",\"4248\",\"5087\",\"5152\",\"5184\",\"5364\",\"5416\",\"5426\",\"5442\",\"5533\",\"5630\",\"5745\",\"5758\",\"893\",\"931\",\"97\",\"1129\",\"1388\",\"1560\",\"157\",\"1711\",\"1947\",\"2488\",\"2594\",\"3485\",\"3596\",\"3678\",\"4054\",\"4070\",\"5077\",\"5333\",\"5396\",\"5516\",\"5645\",\"5683\",\"882\",\"957\",\"1088\",\"1265\",\"1493\",\"2005\",\"2119\",\"2125\",\"2325\",\"2439\",\"2656\",\"3310\",\"3445\",\"3670\",\"4112\",\"4179\",\"4452\",\"5026\",\"5147\",\"5190\",\"5353\",\"5374\",\"5447\",\"5610\",\"5623\",\"5847\",\"5916\",\"618\",\"1522\",\"1679\",\"1842\",\"2118\",\"2567\",\"2615\",\"3022\",\"3333\",\"3362\",\"3369\",\"3564\",\"3771\",\"3910\",\"4236\",\"4670\",\"5105\",\"5241\",\"5263\",\"5434\",\"5454\",\"5672\",\"5772\",\"900\",\"985\",\"1051\",\"1303\",\"1914\",\"2452\",\"2621\",\"2710\",\"3303\",\"3715\",\"3758\",\"4035\",\"5070\",\"5290\",\"5431\",\"5933\",\"5966\",\"983\",\"1117\",\"1125\",\"1333\",\"1527\",\"1681\",\"1706\",\"1866\",\"1990\",\"1999\",\"216\",\"2162\",\"2267\",\"2286\",\"2413\",\"2722\",\"2842\",\"2978\",\"3349\",\"3551\",\"3601\",\"3617\",\"3872\",\"3898\",\"394\",\"4041\",\"4160\",\"4272\",\"5476\",\"5671\",\"585\",\"723\",\"829\",\"1863\",\"1920\",\"2010\",\"2018\",\"2035\",\"2206\",\"2364\",\"2536\",\"2764\",\"2994\",\"308\",\"3425\",\"3477\",\"3604\",\"3634\",\"3966\",\"3977\",\"4267\",\"5234\",\"5385\",\"5529\",\"5593\",\"5643\",\"1297\",\"131\",\"162\",\"1888\",\"213\",\"3484\",\"3716\",\"3738\",\"3757\",\"3833\",\"5404\",\"5590\",\"5625\",\"580\",\"5876\",\"5909\",\"593\",\"876\",\"1285\",\"1325\",\"1341\",\"1372\",\"1657\",\"1858\",\"1879\",\"209\",\"2761\",\"2959\",\"2961\",\"3444\",\"3451\",\"3690\",\"3733\",\"4156\",\"5109\",\"5477\",\"5528\",\"5549\",\"1589\",\"1897\",\"2359\",\"2366\",\"2395\",\"2705\",\"3521\",\"3654\",\"3794\",\"4636\",\"4666\",\"5107\",\"5256\",\"5303\",\"5400\",\"5475\",\"5654\",\"5811\",\"963\",\"112\",\"1573\",\"1643\",\"1907\",\"2108\",\"2387\",\"2431\",\"2475\",\"289\",\"3335\",\"3411\",\"3627\",\"3646\",\"3886\",\"4148\",\"5289\",\"5927\",\"980\",\"989\",\"1378\",\"142\",\"1531\",\"18\",\"2321\",\"2498\",\"2597\",\"2620\",\"2988\",\"3003\",\"3342\",\"3502\",\"3755\",\"4229\",\"4441\",\"4504\",\"5407\",\"5574\",\"5822\",\"5939\",\"5981\",\"1082\",\"1264\",\"1789\",\"1824\",\"2245\",\"2396\",\"2426\",\"2822\",\"2935\",\"2955\",\"3986\",\"4111\",\"4677\",\"5367\",\"5460\",\"5597\",\"5617\",\"5636\",\"5667\",\"5732\",\"5782\",\"5848\",\"1007\",\"1737\",\"1970\",\"1988\",\"1993\",\"23\",\"3522\",\"5264\",\"5284\",\"5603\",\"5718\",\"58\",\"113\",\"114\",\"1397\",\"1637\",\"1896\",\"2152\",\"30\",\"3438\",\"3528\",\"3593\",\"3641\",\"3964\",\"4137\",\"4786\",\"5097\",\"5115\",\"5217\",\"5486\",\"5488\",\"5494\",\"5694\",\"5749\",\"5771\",\"1454\",\"2027\",\"2343\",\"2365\",\"2410\",\"2480\",\"2525\",\"2810\",\"2873\",\"3301\",\"3332\",\"3499\",\"3590\",\"3702\",\"3719\",\"3802\",\"3820\",\"3947\",\"4053\",\"4246\",\"5164\",\"5216\",\"5238\",\"5699\",\"5741\",\"5755\",\"587\",\"937\",\"1792\",\"1859\",\"1876\",\"1948\",\"2259\",\"2543\",\"3031\",\"3432\",\"3457\",\"3569\",\"3581\",\"3681\",\"3849\",\"4040\",\"5020\",\"5063\",\"5143\",\"5248\",\"5271\",\"5369\",\"5386\",\"5436\",\"5473\",\"5627\",\"5756\",\"1112\",\"1556\",\"1809\",\"1831\",\"2140\",\"2390\",\"2416\",\"2587\",\"29\",\"3552\",\"3859\",\"5056\",\"5226\",\"5258\",\"5361\",\"5384\",\"5395\",\"5622\",\"5688\",\"5719\",\"786\",\"1020\",\"1238\",\"1443\",\"1610\",\"1741\",\"1873\",\"1916\",\"1940\",\"2521\",\"2604\",\"2933\",\"3730\",\"3831\",\"3837\",\"3951\",\"5329\",\"5348\",\"5769\",\"978\",\"1607\",\"1703\",\"1875\",\"2407\",\"2550\",\"2600\",\"2625\",\"3345\",\"3352\",\"3494\",\"3577\",\"3651\",\"3752\",\"3978\",\"4290\",\"4330\",\"5265\",\"5737\",\"5795\",\"5801\",\"5834\",\"5925\",\"638\",\"895\",\"120\",\"1951\",\"2278\",\"2352\",\"2371\",\"2506\",\"2674\",\"2947\",\"3032\",\"3367\",\"3671\",\"3745\",\"3765\",\"4175\",\"4269\",\"4451\",\"4752\",\"5211\",\"5243\",\"5294\",\"5464\",\"906\",\"1395\",\"1629\",\"1854\",\"2157\",\"2192\",\"2299\",\"2454\",\"2529\",\"2970\",\"3306\",\"344\",\"3582\",\"3609\",\"3922\",\"3996\",\"4116\",\"4118\",\"4849\",\"5174\",\"5185\",\"5189\",\"5275\",\"5362\",\"5399\",\"5679\",\"5697\",\"5862\",\"6029\",\"1123\",\"1304\",\"1337\",\"141\",\"1814\",\"2179\",\"2249\",\"2711\",\"2828\",\"3423\",\"3466\",\"3586\",\"3809\",\"4174\",\"4237\",\"4809\",\"4937\",\"5278\",\"5351\",\"5363\",\"5523\",\"5534\",\"589\",\"161\",\"1691\",\"1817\",\"1830\",\"1921\",\"2145\",\"2173\",\"2181\",\"2282\",\"253\",\"2580\",\"2950\",\"3109\",\"3305\",\"3377\",\"3793\",\"4085\",\"4685\",\"5389\",\"5945\",\"1134\",\"1683\",\"1836\",\"1986\",\"3066\",\"3475\",\"4059\",\"4177\",\"4212\",\"4284\",\"4297\",\"4648\",\"5028\",\"57\",\"1604\",\"1913\",\"1934\",\"2528\",\"2666\",\"2719\",\"3309\",\"3322\",\"3417\",\"3431\",\"3611\",\"3630\",\"3852\",\"3887\",\"4048\",\"4072\",\"4176\",\"4247\",\"4325\",\"5183\",\"5266\",\"5331\",\"5443\",\"5633\",\"5677\",\"5720\",\"5762\",\"5779\",\"5863\",\"1349\",\"2048\",\"3336\",\"3526\",\"3531\",\"3817\",\"3943\",\"4015\",\"4084\",\"4119\",\"4239\",\"4261\",\"4276\",\"4311\",\"4672\",\"5288\",\"5524\",\"5709\",\"5714\",\"5828\",\"5967\",\"5999\",\"89\",\"1945\",\"2150\",\"2612\",\"2708\",\"2923\",\"3597\",\"3673\",\"3760\",\"3804\",\"4060\",\"4219\",\"4226\",\"5201\",\"5391\",\"5606\",\"5614\",\"5635\",\"5675\",\"5790\",\"1024\",\"1376\",\"1606\",\"1663\",\"2408\",\"2578\",\"2590\",\"2946\",\"3324\",\"3857\",\"4150\",\"4282\",\"4295\",\"49\",\"5375\",\"5403\",\"5411\",\"5448\",\"5572\",\"5596\",\"5813\",\"232\",\"2583\",\"2747\",\"2979\",\"3079\",\"3374\",\"3683\",\"3732\",\"378\",\"4264\",\"4320\",\"4687\",\"5188\",\"5729\",\"5743\",\"5808\",\"718\",\"1348\",\"1490\",\"2107\",\"2217\",\"2447\",\"3050\",\"3497\",\"3712\",\"4097\",\"4254\",\"5254\",\"5637\",\"5660\",\"5670\",\"5846\",\"5948\",\"1048\",\"1860\",\"2096\",\"220\",\"2481\",\"2561\",\"2807\",\"2995\",\"3043\",\"3321\",\"3329\",\"3357\",\"3687\",\"3696\",\"3866\",\"4155\",\"4164\",\"4242\",\"4708\",\"4715\",\"4913\",\"5402\",\"5482\",\"5518\",\"5554\",\"5611\",\"5912\",\"1525\",\"1664\",\"1847\",\"2160\",\"2258\",\"2477\",\"3015\",\"3030\",\"3232\",\"3382\",\"3387\",\"3389\",\"3527\",\"3622\",\"3779\",\"3861\",\"4014\",\"4165\",\"4291\",\"4710\",\"4785\",\"4922\",\"5306\",\"5507\",\"5710\",\"5740\",\"987\",\"105\",\"1825\",\"2518\",\"2551\",\"2631\",\"2964\",\"2971\",\"3005\",\"3320\",\"3323\",\"3456\",\"3796\",\"4022\",\"4172\",\"4693\",\"5376\",\"5432\",\"5449\",\"5457\",\"5537\",\"5690\",\"5730\",\"5733\",\"880\",\"948\",\"1343\",\"1917\",\"1931\",\"2298\",\"2317\",\"2373\",\"2489\",\"2516\",\"3340\",\"3347\",\"3633\",\"3672\",\"3737\",\"4050\",\"4115\",\"4310\",\"4646\",\"4650\",\"4663\",\"4780\",\"5003\",\"5024\",\"5208\",\"5244\",\"5531\",\"5576\",\"5618\",\"5668\",\"1467\",\"1893\",\"2241\",\"2306\",\"2957\",\"2972\",\"3443\",\"3825\",\"3880\",\"3963\",\"4036\",\"4091\",\"4181\",\"4440\",\"4633\",\"4773\",\"5165\",\"5365\",\"5479\",\"5480\",\"5553\",\"5656\",\"5935\",\"837\",\"85\",\"924\",\"974\",\"1025\",\"1998\",\"2411\",\"2510\",\"2640\",\"2907\",\"3360\",\"3380\",\"3751\",\"3920\",\"3924\",\"4073\",\"4277\",\"4492\",\"4771\",\"5380\",\"5388\",\"5478\",\"5489\",\"5599\",\"890\",\"125\",\"134\",\"1937\",\"2277\",\"2310\",\"2327\",\"2954\",\"3040\",\"3493\",\"3711\",\"3753\",\"3788\",\"4454\",\"5539\",\"5983\",\"6110\",\"857\",\"1053\",\"1930\",\"2337\",\"2386\",\"2423\",\"2453\",\"2570\",\"2712\",\"3029\",\"3312\",\"3346\",\"3739\",\"4101\",\"4322\",\"4444\",\"4941\",\"5350\",\"5417\",\"5419\",\"5594\",\"5608\",\"5810\",\"121\",\"1565\",\"1867\",\"1892\",\"2099\",\"2455\",\"2981\",\"2984\",\"3004\",\"3012\",\"3041\",\"3118\",\"3350\",\"3563\",\"3669\",\"3873\",\"4208\",\"4353\",\"4867\",\"4969\",\"5199\",\"5647\",\"5773\",\"5938\",\"5993\",\"1019\",\"1122\",\"1329\",\"1941\",\"2479\",\"2534\",\"2539\",\"3182\",\"3356\",\"3638\",\"3688\",\"3792\",\"4065\",\"4162\",\"4163\",\"4170\",\"5170\",\"56\",\"83\",\"1662\",\"2144\",\"219\",\"2491\",\"2522\",\"2582\",\"2608\",\"2647\",\"2673\",\"2683\",\"2975\",\"3138\",\"3183\",\"3583\",\"3710\",\"3750\",\"3972\",\"4123\",\"4188\",\"4705\",\"4852\",\"5414\",\"5639\",\"5703\",\"5716\",\"5906\",\"74\",\"90\",\"941\",\"2268\",\"2433\",\"2511\",\"2533\",\"2636\",\"2665\",\"2671\",\"2718\",\"2740\",\"2831\",\"2884\",\"3047\",\"3373\",\"3705\",\"3862\",\"3896\",\"4081\",\"4106\",\"4168\",\"4210\",\"4874\",\"4934\",\"5163\",\"5177\",\"5497\",\"5504\",\"5687\",\"5715\",\"5805\",\"5943\",\"76\",\"953\",\"2332\",\"2653\",\"2802\",\"2824\",\"3013\",\"3741\",\"3776\",\"4002\",\"4109\",\"4144\",\"4767\",\"4925\",\"5204\",\"5308\",\"5472\",\"5570\",\"5646\",\"5696\",\"5734\",\"5763\",\"5780\",\"5856\",\"886\",\"196\",\"2012\",\"2218\",\"2293\",\"2500\",\"2508\",\"2564\",\"2752\",\"2901\",\"3313\",\"3399\",\"3731\",\"3815\",\"3932\",\"3971\",\"4147\",\"4251\",\"4323\",\"4524\",\"4797\",\"4838\",\"4884\",\"5002\",\"5203\",\"5247\",\"5295\",\"5641\",\"10\",\"1037\",\"1256\",\"1315\",\"2209\",\"2417\",\"2520\",\"2613\",\"2743\",\"2992\",\"3201\",\"3318\",\"3491\",\"3729\",\"3946\",\"4100\",\"4766\",\"4784\",\"4802\",\"5150\",\"5173\",\"5408\",\"5499\",\"5508\",\"5601\",\"5613\",\"5653\",\"5738\",\"5788\",\"5875\",\"1144\",\"2272\",\"2458\",\"2527\",\"2649\",\"3084\",\"3351\",\"3372\",\"3680\",\"3791\",\"3895\",\"3988\",\"4296\",\"4703\",\"4790\",\"4829\",\"4997\",\"5536\",\"5620\",\"5880\",\"1773\",\"1832\",\"2247\",\"2253\",\"2505\",\"2603\",\"2709\",\"2921\",\"2969\",\"2982\",\"3092\",\"3202\",\"3230\",\"3247\",\"3302\",\"3370\",\"4056\",\"4066\",\"4075\",\"4087\",\"4145\",\"4265\",\"4280\",\"4683\",\"4696\",\"4825\",\"1026\",\"2384\",\"2581\",\"2599\",\"2723\",\"2999\",\"3368\",\"3652\",\"3666\",\"3726\",\"3747\",\"3748\",\"3764\",\"4069\",\"4259\",\"4490\",\"4631\",\"4772\",\"4781\",\"4793\",\"4853\",\"4878\",\"5285\",\"5451\",\"5565\",\"5579\",\"5878\",\"6010\",\"1016\",\"1135\",\"1346\",\"1465\",\"1513\",\"2392\",\"2419\",\"2487\",\"2643\",\"2806\",\"3026\",\"3384\",\"3407\",\"3433\",\"3598\",\"3657\",\"3740\",\"3858\",\"3982\",\"3994\",\"4216\",\"4241\",\"4321\",\"4468\",\"4558\",\"4791\",\"4843\",\"5427\",\"5545\",\"5556\",\"5585\",\"5631\",\"5750\",\"5907\",\"75\",\"1466\",\"2045\",\"2517\",\"2606\",\"2989\",\"3383\",\"3724\",\"3756\",\"4043\",\"4405\",\"4634\",\"4783\",\"4805\",\"5581\",\"5792\",\"5851\",\"918\",\"2281\",\"272\",\"2875\",\"2877\",\"2980\",\"3014\",\"3686\",\"3704\",\"3744\",\"3801\",\"3845\",\"3989\",\"3992\",\"4068\",\"4151\",\"4178\",\"4279\",\"4635\",\"4659\",\"4706\",\"4799\",\"4869\",\"5453\",\"5560\",\"5793\",\"5879\",\"5918\",\"6116\",\"88\",\"1299\",\"2391\",\"2432\",\"2548\",\"2555\",\"2563\",\"2835\",\"2874\",\"2985\",\"3223\",\"3299\",\"3300\",\"3459\",\"3759\",\"4007\",\"4067\",\"4105\",\"4238\",\"4821\",\"4908\",\"5179\",\"5470\",\"1032\",\"1812\",\"2233\",\"2468\",\"2642\",\"2767\",\"2779\",\"2795\",\"2900\",\"298\",\"2997\",\"3017\",\"3023\",\"3044\",\"3218\",\"3386\",\"3661\",\"3827\",\"3867\",\"4017\",\"4102\",\"4121\",\"4125\",\"4126\",\"4271\",\"4822\",\"4898\",\"5428\",\"5469\",\"5520\",\"5544\",\"5796\",\"5970\",\"1517\",\"2409\",\"2629\",\"2784\",\"2932\",\"3685\",\"3900\",\"3928\",\"4018\",\"4209\",\"4257\",\"4417\",\"4707\",\"4788\",\"5548\",\"5874\",\"5961\",\"6017\",\"84\",\"933\",\"2348\",\"2515\",\"2530\",\"2737\",\"2745\",\"2833\",\"2922\",\"2952\",\"3130\",\"3214\",\"3762\",\"3914\",\"4094\",\"4131\",\"4314\",\"4327\",\"4381\",\"4653\",\"4654\",\"4660\",\"4704\",\"4865\",\"5001\",\"5503\",\"5510\",\"5589\",\"5722\",\"5841\",\"5903\",\"5984\",\"1080\",\"1507\",\"1977\",\"2556\",\"2662\",\"2794\",\"2799\",\"3010\",\"3024\",\"3447\",\"3781\",\"3830\",\"4003\",\"4031\",\"41\",\"4213\",\"4258\",\"4839\",\"4859\",\"5206\",\"5515\",\"5723\",\"5799\",\"5804\",\"5868\",\"5919\",\"5950\",\"6015\",\"6099\",\"1620\",\"2501\",\"2758\",\"3089\",\"3100\",\"3199\",\"3650\",\"3749\",\"3789\",\"3894\",\"3973\",\"3990\",\"4108\",\"4453\",\"4674\",\"4684\",\"4688\",\"4945\",\"5459\",\"5747\",\"5767\",\"962\",\"1889\",\"200\",\"2243\",\"2721\",\"2724\",\"2749\",\"2789\",\"2791\",\"2803\",\"3234\",\"3695\",\"3754\",\"3761\",\"3948\",\"3983\",\"3997\",\"4001\",\"4227\",\"4775\",\"4824\",\"4958\",\"5015\",\"5205\",\"5412\",\"5474\",\"5483\",\"5530\",\"5607\",\"5695\",\"2283\",\"2311\",\"2461\",\"2484\",\"2562\",\"2686\",\"2834\",\"2951\",\"3478\",\"3829\",\"3919\",\"3941\",\"4692\",\"4711\",\"5018\",\"5505\",\"5527\",\"5604\",\"5820\",\"881\",\"903\",\"923\",\"1244\",\"1549\",\"1868\",\"2736\",\"2785\",\"2798\",\"2847\",\"2878\",\"2903\",\"3385\",\"3470\",\"3560\",\"37\",\"3918\",\"4250\",\"4316\",\"4629\",\"4630\",\"4812\",\"4885\",\"5079\",\"5538\",\"5541\",\"5686\",\"5957\",\"6028\",\"6043\",\"1545\",\"2738\",\"3364\",\"3797\",\"3805\",\"3929\",\"4197\",\"4529\",\"4628\",\"4694\",\"4795\",\"4915\",\"4970\",\"5462\",\"5471\",\"5509\",\"5584\",\"5612\",\"5685\",\"5712\",\"5752\",\"5783\",\"5786\",\"5953\",\"741\",\"1804\",\"2320\",\"2574\",\"2632\",\"2658\",\"2856\",\"2973\",\"3007\",\"3515\",\"3543\",\"3693\",\"3766\",\"3993\",\"4078\",\"4186\",\"4206\",\"4695\",\"4709\",\"4721\",\"4926\",\"4963\",\"5598\",\"5898\",\"5997\",\"6012\",\"6070\",\"1835\",\"1864\",\"2295\",\"2312\",\"2428\",\"2442\",\"2688\",\"2929\",\"3008\",\"3692\",\"3775\",\"3904\",\"4124\",\"4153\",\"4157\",\"4183\",\"4292\",\"4317\",\"4319\",\"4483\",\"4803\",\"4861\",\"5559\",\"5861\",\"2111\",\"2292\",\"2313\",\"2351\",\"2639\",\"2855\",\"2990\",\"3028\",\"3074\",\"3083\",\"3194\",\"3330\",\"3353\",\"3708\",\"3774\",\"3812\",\"3850\",\"3906\",\"3934\",\"4107\",\"4649\",\"4697\",\"4735\",\"4743\",\"4774\",\"4868\",\"5182\",\"5424\",\"5501\",\"5512\",\"5514\",\"5561\",\"5669\",\"5713\",\"5770\",\"5777\",\"5816\",\"5821\",\"5842\",\"5940\",\"902\",\"2262\",\"2331\",\"2499\",\"2655\",\"2717\",\"2792\",\"2974\",\"3216\",\"3281\",\"3316\",\"3394\",\"3684\",\"3844\",\"3968\",\"4182\",\"4315\",\"4664\",\"4751\",\"4879\",\"4900\",\"5586\",\"5587\",\"5889\",\"5901\",\"5954\",\"5964\",\"6066\",\"1288\",\"2595\",\"2854\",\"2862\",\"2968\",\"3021\",\"3053\",\"3075\",\"3249\",\"3291\",\"3331\",\"3396\",\"3700\",\"3720\",\"3949\",\"3961\",\"4057\",\"4243\",\"4863\",\"5466\",\"5485\",\"5583\",\"5728\",\"5994\",\"5995\",\"6021\",\"6072\",\"91\",\"217\",\"2659\",\"2757\",\"2778\",\"2796\",\"3111\",\"3246\",\"3985\",\"4025\",\"4063\",\"4154\",\"4301\",\"4450\",\"5829\",\"6019\",\"1181\",\"2296\",\"2637\",\"2660\",\"2728\",\"2899\",\"3006\",\"3868\",\"4032\",\"4395\",\"4727\",\"4768\",\"4777\",\"4833\",\"4836\",\"4870\",\"4943\",\"5153\",\"5458\",\"5564\",\"5577\",\"5580\",\"5748\",\"5802\",\"5825\",\"5982\",\"6044\",\"6061\",\"1878\",\"2572\",\"2716\",\"2788\",\"2812\",\"2879\",\"2882\",\"2944\",\"3062\",\"3217\",\"3955\",\"4117\",\"4255\",\"4260\",\"4337\",\"4765\",\"4846\",\"4990\",\"5942\",\"5985\",\"6014\",\"6056\",\"86\",\"2370\",\"2394\",\"2575\",\"2691\",\"2931\",\"3359\",\"3728\",\"3892\",\"4064\",\"4235\",\"4304\",\"4392\",\"4399\",\"4484\",\"4568\",\"4644\",\"4651\",\"4675\",\"4691\",\"4702\",\"4792\",\"4820\",\"4886\",\"4956\",\"5017\",\"5456\",\"5844\",\"5883\",\"5885\",\"5926\",\"6030\",\"1132\",\"1955\",\"2523\",\"2532\",\"2593\",\"2619\",\"2917\",\"2977\",\"3042\",\"3057\",\"3076\",\"3144\",\"3388\",\"3428\",\"3464\",\"3783\",\"3803\",\"4045\",\"4088\",\"4122\",\"4253\",\"4342\",\"4343\",\"4679\",\"4680\",\"4714\",\"4763\",\"4830\",\"4902\",\"4978\",\"4995\",\"5366\",\"5461\",\"5467\",\"5535\",\"5721\",\"5980\",\"5998\",\"6057\",\"949\",\"2043\",\"2263\",\"2614\",\"2657\",\"2700\",\"2714\",\"3016\",\"3051\",\"3248\",\"3273\",\"3697\",\"3736\",\"3824\",\"4143\",\"4217\",\"4647\",\"4818\",\"4860\",\"4904\",\"4918\",\"4920\",\"5193\",\"5711\",\"5775\",\"5794\",\"5839\",\"5891\",\"94\",\"2473\",\"2611\",\"2654\",\"2679\",\"2849\",\"3120\",\"3128\",\"3365\",\"3975\",\"4012\",\"4061\",\"4205\",\"4263\",\"4368\",\"4461\",\"4514\",\"4949\",\"5543\",\"5744\",\"5830\",\"5867\",\"5958\",\"98\",\"1036\",\"1394\",\"2464\",\"2519\",\"2628\",\"2675\",\"2817\",\"2876\",\"2902\",\"3069\",\"3103\",\"3245\",\"3289\",\"3974\",\"4187\",\"4355\",\"4637\",\"4642\",\"4700\",\"4826\",\"4835\",\"4876\",\"4924\",\"5555\",\"5691\",\"5785\",\"5803\",\"6036\",\"909\",\"2427\",\"2832\",\"3846\",\"3945\",\"4013\",\"4110\",\"4256\",\"4344\",\"4516\",\"4734\",\"4815\",\"4988\",\"4998\",\"515\",\"5649\",\"5819\",\"6022\",\"6068\",\"6096\",\"1834\",\"2731\",\"2741\",\"2863\",\"2885\",\"2953\",\"2983\",\"3065\",\"3122\",\"3308\",\"3348\",\"3734\",\"3799\",\"3842\",\"3870\",\"3959\",\"4038\",\"4204\",\"4225\",\"4439\",\"4807\",\"4811\",\"4871\",\"4917\",\"4962\",\"5481\",\"5522\",\"5600\",\"5797\",\"5849\",\"5870\",\"5884\",\"5934\",\"5944\",\"5992\",\"6092\",\"874\",\"2694\",\"2765\",\"2840\",\"2858\",\"3326\",\"4158\",\"4281\",\"4307\",\"4396\",\"4424\",\"4470\",\"4577\",\"4579\",\"4701\",\"4880\",\"4896\",\"4944\",\"5532\",\"5658\",\"5659\",\"5746\",\"5887\",\"5897\",\"6081\",\"6131\",\"1787\",\"2156\",\"2573\",\"2576\",\"2648\",\"2670\",\"2689\",\"2715\",\"2850\",\"2859\",\"2860\",\"2895\",\"2927\",\"2965\",\"2998\",\"3056\",\"3200\",\"3325\",\"3395\",\"4016\",\"4129\",\"4140\",\"4199\",\"4333\",\"4404\",\"4421\",\"4476\",\"4678\",\"4689\",\"4800\",\"4827\",\"4845\",\"4850\",\"4901\",\"4953\",\"4984\",\"5194\",\"5491\",\"5568\",\"5655\",\"5717\",\"5869\",\"5896\",\"6046\",\"6084\",\"6103\",\"1618\",\"2753\",\"2811\",\"2814\",\"2872\",\"2886\",\"3723\",\"3821\",\"3905\",\"4402\",\"4413\",\"4543\",\"4652\",\"4658\",\"4669\",\"4671\",\"4754\",\"4794\",\"4796\",\"5506\",\"5551\",\"5972\",\"6011\",\"6089\",\"80\",\"2713\",\"2790\",\"3001\",\"3009\",\"3054\",\"3077\",\"3307\",\"3698\",\"3763\",\"3902\",\"3908\",\"4037\",\"4086\",\"4098\",\"4293\",\"4331\",\"4410\",\"4419\",\"4513\",\"4545\",\"4561\",\"4638\",\"4698\",\"4857\",\"4858\",\"4905\",\"4967\",\"4986\",\"4994\",\"5468\",\"5562\",\"5605\",\"5692\",\"6023\",\"6039\",\"6088\",\"6127\",\"907\",\"1658\",\"2586\",\"2819\",\"2942\",\"3061\",\"3179\",\"3203\",\"3713\",\"3823\",\"3882\",\"4076\",\"4390\",\"4665\",\"4756\",\"4828\",\"4842\",\"4971\",\"5006\",\"5664\",\"5665\",\"5724\",\"5726\",\"5969\",\"5989\",\"6032\",\"6038\",\"68\",\"1677\",\"2000\",\"2776\",\"2909\",\"2993\",\"3127\",\"3304\",\"3354\",\"3703\",\"3901\",\"3931\",\"4201\",\"4287\",\"4299\",\"4302\",\"4397\",\"4422\",\"4488\",\"4567\",\"4808\",\"4831\",\"4938\",\"4954\",\"5567\",\"5832\",\"5833\",\"5971\",\"5979\",\"6027\",\"93\",\"2284\",\"2350\",\"2462\",\"2494\",\"2748\",\"2754\",\"2938\",\"3143\",\"3742\",\"4071\",\"4169\",\"4750\",\"4759\",\"4816\",\"4851\",\"4887\",\"4899\",\"4903\",\"5575\",\"5760\",\"5840\",\"6100\",\"2440\",\"2446\",\"2669\",\"2883\",\"2911\",\"3256\",\"3328\",\"3743\",\"3806\",\"3816\",\"3925\",\"4074\",\"4202\",\"4363\",\"4498\",\"4722\",\"4875\",\"4892\",\"4942\",\"4968\",\"4979\",\"5455\",\"5674\",\"5684\",\"5708\",\"905\",\"95\",\"2328\",\"2513\",\"2540\",\"2588\",\"3276\",\"3381\",\"3848\",\"3865\",\"3875\",\"4011\",\"4286\",\"4475\",\"4712\",\"4757\",\"4782\",\"4848\",\"4873\",\"4895\",\"5004\",\"5160\",\"5824\",\"5949\",\"5962\",\"5976\",\"908\",\"2485\",\"2541\",\"2759\",\"2763\",\"2809\",\"2869\",\"2996\",\"3099\",\"3219\",\"3237\",\"3856\",\"4099\",\"4200\",\"4285\",\"4308\",\"4313\",\"4340\",\"4357\",\"4469\",\"4478\",\"4770\",\"4882\",\"4919\",\"4999\",\"5496\",\"5894\",\"6025\",\"2443\",\"2450\",\"2641\",\"2924\",\"2928\",\"2937\",\"2991\",\"3221\",\"3798\",\"3855\",\"3912\",\"4503\",\"4640\",\"4668\",\"4676\",\"4733\",\"4762\",\"4789\",\"4819\",\"5661\",\"5705\",\"5845\",\"5900\",\"5902\",\"6031\",\"6119\",\"6120\",\"6125\",\"6139\",\"71\",\"870\",\"1985\",\"2557\",\"2652\",\"2880\",\"3213\",\"3930\",\"3942\",\"4215\",\"4632\",\"4810\",\"4856\",\"4864\",\"4923\",\"4992\",\"5013\",\"5415\",\"5787\",\"5818\",\"5963\",\"6054\",\"6071\",\"6107\",\"6133\",\"2537\",\"2549\",\"2605\",\"2644\",\"2690\",\"2697\",\"2760\",\"2853\",\"2891\",\"2926\",\"3136\",\"3151\",\"3172\",\"3267\",\"3787\",\"3839\",\"4135\",\"4136\",\"4309\",\"4324\",\"4445\",\"4760\",\"4862\",\"4951\",\"4974\",\"4991\",\"5007\",\"5893\",\"6064\",\"6076\",\"2638\",\"2695\",\"2699\",\"2706\",\"3104\",\"3271\",\"3288\",\"3363\",\"3376\",\"3390\",\"3722\",\"3952\",\"4039\",\"4288\",\"4443\",\"4643\",\"4855\",\"4877\",\"4960\",\"5573\",\"5682\",\"5725\",\"5774\",\"6026\",\"6079\",\"6201\",\"2677\",\"2780\",\"2837\",\"2930\",\"3025\",\"3045\",\"3052\",\"3058\",\"3176\",\"3188\",\"3204\",\"3211\",\"3358\",\"3393\",\"3701\",\"3818\",\"3965\",\"3991\",\"4083\",\"4195\",\"4407\",\"4416\",\"4434\",\"4744\",\"4817\",\"5008\",\"5673\",\"5681\",\"5817\",\"5859\",\"6055\",\"6087\",\"6114\",\"87\",\"2405\",\"2482\",\"2596\",\"2618\",\"2864\",\"3020\",\"3175\",\"3238\",\"3250\",\"3294\",\"3343\",\"3786\",\"3883\",\"3888\",\"4009\",\"4058\",\"4192\",\"4373\",\"4423\",\"4456\",\"4464\",\"4489\",\"4526\",\"4571\",\"4657\",\"4778\",\"4883\",\"4911\",\"4975\",\"5552\",\"5571\",\"5791\",\"5892\",\"5928\",\"6049\",\"6050\",\"6155\",\"2584\",\"2623\",\"2667\",\"2936\",\"3027\",\"3112\",\"3178\",\"3212\",\"3293\",\"3773\",\"3981\",\"4010\",\"4049\",\"4104\",\"4167\",\"4218\",\"4312\",\"4362\",\"4426\",\"4455\",\"4493\",\"4522\",\"4538\",\"4655\",\"4681\",\"4725\",\"4726\",\"4728\",\"4729\",\"4731\",\"4906\",\"4912\",\"5511\",\"6013\",\"6048\",\"6078\",\"6128\",\"2687\",\"2742\",\"2829\",\"2844\",\"2846\",\"2915\",\"2943\",\"2949\",\"3091\",\"3110\",\"3113\",\"3124\",\"3149\",\"3164\",\"3957\",\"4394\",\"4531\",\"4549\",\"4755\",\"4787\",\"4889\",\"5550\",\"5973\",\"6033\",\"6063\",\"6090\",\"6101\",\"2492\",\"2808\",\"2848\",\"2851\",\"2904\",\"2925\",\"3086\",\"3261\",\"3269\",\"3841\",\"3879\",\"4021\",\"4189\",\"4448\",\"4474\",\"4496\",\"4753\",\"4804\",\"4872\",\"4933\",\"4939\",\"4957\",\"5186\",\"5202\",\"5857\",\"5955\",\"5965\",\"6037\",\"6069\",\"6142\",\"2476\",\"2646\",\"2676\",\"2692\",\"2698\",\"2916\",\"3082\",\"3160\",\"3224\",\"3227\",\"3780\",\"3853\",\"3876\",\"4329\",\"4401\",\"4432\",\"4467\",\"4575\",\"4673\",\"4718\",\"4747\",\"4834\",\"4894\",\"4947\",\"4948\",\"4955\",\"4964\",\"4965\",\"5563\",\"5578\",\"5588\",\"5831\",\"6093\",\"2514\",\"2770\",\"2773\",\"3254\",\"3709\",\"3838\",\"4019\",\"4185\",\"4223\",\"4385\",\"4508\",\"4736\",\"4746\",\"4881\",\"5521\",\"5650\",\"5700\",\"5826\",\"5866\",\"5996\",\"6062\",\"6086\",\"6132\",\"6149\",\"6165\",\"81\",\"916\",\"2560\",\"2821\",\"2889\",\"2918\",\"3133\",\"3145\",\"3344\",\"4005\",\"4171\",\"4372\",\"4376\",\"4430\",\"4435\",\"4495\",\"4738\",\"4776\",\"4814\",\"4832\",\"4891\",\"4930\",\"4989\",\"4993\",\"5546\",\"5882\",\"5941\",\"5946\",\"6016\",\"6082\",\"6130\",\"6151\",\"96\",\"2787\",\"2881\",\"2892\",\"3260\",\"3397\",\"3772\",\"3832\",\"3979\",\"4198\",\"4332\",\"4356\",\"4366\",\"4564\",\"4573\",\"4713\",\"4723\",\"4940\",\"5557\",\"5836\",\"5922\",\"6005\",\"6024\",\"6058\",\"6085\",\"6095\",\"6105\",\"99\",\"2663\",\"2948\",\"3125\",\"3163\",\"3192\",\"3944\",\"3958\",\"4090\",\"4482\",\"4509\",\"4748\",\"4806\",\"4916\",\"5558\",\"5888\",\"5899\",\"5978\",\"2668\",\"2766\",\"2870\",\"3165\",\"3208\",\"3295\",\"4103\",\"4128\",\"4572\",\"4591\",\"4888\",\"4890\",\"4893\",\"4977\",\"5517\",\"5877\",\"5931\",\"6009\",\"6020\",\"72\",\"2568\",\"2820\",\"3036\",\"3088\",\"3123\",\"3139\",\"3161\",\"3239\",\"3252\",\"3257\",\"3284\",\"3808\",\"3939\",\"3999\",\"4077\",\"4386\",\"4388\",\"4447\",\"4486\",\"4501\",\"4505\",\"4506\",\"4588\",\"4837\",\"4840\",\"4907\",\"5547\",\"5776\",\"5855\",\"5895\",\"5905\",\"5990\",\"6112\",\"82\",\"2393\",\"2542\",\"2565\",\"2701\",\"2769\",\"2805\",\"3049\",\"3078\",\"3087\",\"3156\",\"3187\",\"3950\",\"4161\",\"4411\",\"4487\",\"4510\",\"4523\",\"4823\",\"4844\",\"4914\",\"4935\",\"4936\",\"4959\",\"4981\",\"5680\",\"5852\",\"6053\",\"6077\",\"2685\",\"2871\",\"2912\",\"3060\",\"3114\",\"3129\",\"3167\",\"3231\",\"3240\",\"3286\",\"3398\",\"3851\",\"3911\",\"3933\",\"3962\",\"4051\",\"4221\",\"4379\",\"4414\",\"4537\",\"4544\",\"4897\",\"4976\",\"5011\",\"5663\",\"5911\",\"5951\",\"6008\",\"6074\",\"2645\",\"2839\",\"2906\",\"2987\",\"3067\",\"3148\",\"3174\",\"3181\",\"3197\",\"3819\",\"3923\",\"3937\",\"4079\",\"4080\",\"4389\",\"4425\",\"4449\",\"4491\",\"4547\",\"4720\",\"4847\",\"5807\",\"5890\",\"5921\",\"6065\",\"6123\",\"6135\",\"6184\",\"2547\",\"2684\",\"2727\",\"3285\",\"3327\",\"3890\",\"4082\",\"4380\",\"4412\",\"4477\",\"4582\",\"4639\",\"4645\",\"4745\",\"5542\",\"5843\",\"6035\",\"6067\",\"6340\",\"1028\",\"2775\",\"2786\",\"2898\",\"2910\",\"3093\",\"3196\",\"3251\",\"3258\",\"3811\",\"4298\",\"4375\",\"4556\",\"4576\",\"4716\",\"4801\",\"4932\",\"4946\",\"4980\",\"5005\",\"5010\",\"5701\",\"5837\",\"5838\",\"5915\",\"5991\",\"6295\",\"2782\",\"2941\",\"3018\",\"3134\",\"3155\",\"3191\",\"3205\",\"3215\",\"3835\",\"3847\",\"3921\",\"3970\",\"4359\",\"4391\",\"4471\",\"4481\",\"4656\",\"4717\",\"5929\",\"5960\",\"6113\",\"2544\",\"2774\",\"3034\",\"3180\",\"3210\",\"3220\",\"3236\",\"3881\",\"3884\",\"4370\",\"4428\",\"4431\",\"4601\",\"4758\",\"4866\",\"4909\",\"4928\",\"4972\",\"5986\",\"6104\",\"6148\",\"2616\",\"2826\",\"3094\",\"3173\",\"3226\",\"3262\",\"4326\",\"4341\",\"4354\",\"4377\",\"4383\",\"4418\",\"4462\",\"4463\",\"4528\",\"4536\",\"4927\",\"4987\",\"5493\",\"5881\",\"6034\",\"6040\",\"6047\",\"6162\",\"6310\",\"2592\",\"2664\",\"2866\",\"3097\",\"3265\",\"3778\",\"3860\",\"3874\",\"4294\",\"4345\",\"4365\",\"4446\",\"4460\",\"4511\",\"4662\",\"4764\",\"4769\",\"4961\",\"4973\",\"4983\",\"5191\",\"5914\",\"6299\",\"1392\",\"191\",\"2571\",\"2598\",\"2682\",\"2744\",\"2746\",\"2852\",\"3807\",\"3878\",\"4020\",\"4120\",\"4141\",\"4193\",\"4398\",\"4429\",\"4472\",\"4737\",\"4741\",\"4761\",\"4910\",\"4952\",\"5014\",\"5827\",\"5835\",\"5865\",\"6102\",\"6129\",\"6171\",\"2939\",\"2940\",\"3081\",\"3119\",\"3177\",\"4006\",\"4132\",\"4191\",\"5689\",\"5850\",\"5886\",\"5987\",\"6059\",\"1805\",\"2496\",\"2678\",\"2838\",\"3108\",\"3275\",\"3814\",\"3828\",\"4029\",\"4207\",\"4415\",\"4512\",\"4921\",\"4966\",\"5698\",\"5706\",\"5806\",\"5873\",\"6158\",\"2729\",\"2756\",\"3147\",\"3170\",\"3287\",\"3953\",\"3987\",\"4033\",\"4092\",\"4196\",\"4214\",\"4466\",\"4517\",\"4627\",\"4813\",\"5526\",\"6152\",\"2651\",\"2704\",\"2720\",\"2730\",\"2733\",\"2905\",\"3266\",\"3296\",\"3940\",\"3969\",\"4351\",\"4742\",\"4929\",\"5908\",\"6006\",\"6007\",\"6018\",\"6075\",\"6083\",\"6137\",\"1976\",\"2813\",\"3070\",\"3146\",\"3235\",\"3259\",\"3297\",\"3371\",\"3379\",\"3893\",\"3938\",\"4159\",\"4334\",\"4520\",\"4719\",\"5019\",\"5525\",\"5923\",\"5936\",\"5974\",\"6060\",\"6073\",\"2478\",\"2681\",\"2804\",\"2815\",\"2816\",\"2894\",\"3035\",\"3039\",\"3142\",\"3162\",\"3864\",\"4134\",\"4338\",\"4533\",\"4587\",\"5930\",\"5975\",\"79\",\"2696\",\"2908\",\"2913\",\"3064\",\"3105\",\"3131\",\"3168\",\"3228\",\"3909\",\"4346\",\"4349\",\"4371\",\"4400\",\"4442\",\"4521\",\"4551\",\"5012\",\"5860\",\"5917\",\"6052\",\"6080\",\"6097\",\"6177\",\"2526\",\"2693\",\"2897\",\"3059\",\"3068\",\"3090\",\"3096\",\"3800\",\"3836\",\"4046\",\"4089\",\"4222\",\"4382\",\"4574\",\"4749\",\"4841\",\"6115\",\"6122\",\"6153\",\"2672\",\"2861\",\"2867\",\"2920\",\"3038\",\"3132\",\"3222\",\"3279\",\"4328\",\"4408\",\"4479\",\"5920\",\"6041\",\"6051\",\"6126\",\"6189\",\"6224\",\"6260\",\"2546\",\"2890\",\"3037\",\"3055\",\"3209\",\"3292\",\"3391\",\"4420\",\"4690\",\"6124\",\"6134\",\"6147\",\"6263\",\"2857\",\"3264\",\"3272\",\"3834\",\"3916\",\"4055\",\"4565\",\"4580\",\"4592\",\"4724\",\"4854\",\"5727\",\"5871\",\"6045\",\"6098\",\"6156\",\"6212\",\"6252\",\"6281\",\"2735\",\"2956\",\"3184\",\"3268\",\"3822\",\"4361\",\"4480\",\"4515\",\"4539\",\"6091\",\"6117\",\"6138\",\"6140\",\"6172\",\"2914\",\"3011\",\"3019\",\"3085\",\"3863\",\"4369\",\"4519\",\"4527\",\"4603\",\"4612\",\"4624\",\"4682\",\"6094\",\"6108\",\"3189\",\"3274\",\"4026\",\"4550\",\"4779\",\"5009\",\"5702\",\"5858\",\"6109\",\"6146\",\"2703\",\"2726\",\"2771\",\"3071\",\"4190\",\"4347\",\"4393\",\"4433\",\"5910\",\"6150\",\"2750\",\"2762\",\"3033\",\"3169\",\"3263\",\"3298\",\"3871\",\"3877\",\"4436\",\"4525\",\"4553\",\"4586\",\"4732\",\"5913\",\"6192\",\"6213\",\"3166\",\"4028\",\"4139\",\"4406\",\"4546\",\"4570\",\"4621\",\"4740\",\"6160\",\"6279\",\"6355\",\"1965\",\"2739\",\"3048\",\"3198\",\"3229\",\"3280\",\"3691\",\"4220\",\"4457\",\"4458\",\"4559\",\"4594\",\"4619\",\"4996\",\"6144\",\"6200\",\"6267\",\"6302\",\"3046\",\"3135\",\"3152\",\"4352\",\"4358\",\"4497\",\"4578\",\"4581\",\"6136\",\"6161\",\"6183\",\"77\",\"2569\",\"2843\",\"2868\",\"3063\",\"3116\",\"3207\",\"4127\",\"4360\",\"4499\",\"6111\",\"6328\",\"2661\",\"2841\",\"3126\",\"3153\",\"3282\",\"3917\",\"4535\",\"4548\",\"4562\",\"5823\",\"6170\",\"6194\",\"6211\",\"6228\",\"3080\",\"4438\",\"4485\",\"4604\",\"6190\",\"6204\",\"6208\",\"6232\",\"92\",\"3241\",\"4555\",\"5924\",\"6154\",\"6245\",\"6292\",\"3159\",\"4044\",\"6042\",\"6179\",\"6225\",\"3253\",\"3278\",\"3889\",\"3891\",\"3899\",\"4142\",\"4378\",\"4437\",\"4557\",\"4617\",\"4931\",\"5707\",\"6188\",\"6336\",\"2777\",\"2865\",\"3171\",\"4532\",\"4534\",\"4585\",\"4600\",\"5781\",\"6270\",\"2589\",\"2650\",\"2827\",\"3225\",\"4027\",\"4367\",\"4403\",\"4599\",\"4985\",\"5864\",\"6106\",\"6187\",\"2734\",\"3115\",\"3150\",\"3233\",\"3243\",\"4364\",\"4500\",\"4530\",\"4618\",\"4950\",\"5904\",\"5947\",\"6203\",\"2772\",\"2887\",\"3141\",\"3195\",\"3255\",\"4224\",\"4336\",\"4459\",\"4554\",\"4583\",\"6167\",\"6185\",\"6272\",\"6379\",\"2888\",\"2893\",\"3073\",\"4348\",\"4384\",\"4541\",\"6001\",\"6003\",\"6166\",\"6266\",\"6331\",\"6347\",\"109\",\"2781\",\"3270\",\"4030\",\"4374\",\"4409\",\"4473\",\"4661\",\"4730\",\"6240\",\"6369\",\"6566\",\"2725\",\"2845\",\"2919\",\"3106\",\"3290\",\"4518\",\"4552\",\"4622\",\"4982\",\"6230\",\"6330\",\"2702\",\"3101\",\"3137\",\"3277\",\"3897\",\"4540\",\"4566\",\"5853\",\"6207\",\"6209\",\"6261\",\"6265\",\"6268\",\"6314\",\"3072\",\"3140\",\"3186\",\"3960\",\"4095\",\"4096\",\"6121\",\"6159\",\"6186\",\"6271\",\"6273\",\"6313\",\"2732\",\"2797\",\"3193\",\"4335\",\"4350\",\"4502\",\"6210\",\"6215\",\"6235\",\"3157\",\"3190\",\"3903\",\"4180\",\"6241\",\"6300\",\"6301\",\"6321\",\"6359\",\"3098\",\"4563\",\"4667\",\"6217\",\"6269\",\"6341\",\"6342\",\"6363\",\"3283\",\"4584\",\"4625\",\"5952\",\"6169\",\"6191\",\"6296\",\"6565\",\"6808\",\"4000\",\"4542\",\"5872\",\"6264\",\"6304\",\"6312\",\"6334\",\"6362\",\"3154\",\"4093\",\"4598\",\"4602\",\"6002\",\"6339\",\"6454\",\"3095\",\"3117\",\"3185\",\"3242\",\"4465\",\"4615\",\"6220\",\"6233\",\"6234\",\"3244\",\"4494\",\"4569\",\"4593\",\"4739\",\"6168\",\"6216\",\"6378\",\"6145\",\"6249\",\"6257\",\"6323\",\"6325\",\"6358\",\"6545\",\"4614\",\"6173\",\"6178\",\"6193\",\"6218\",\"6344\",\"6803\",\"3206\",\"4339\",\"4596\",\"4597\",\"6141\",\"6157\",\"6175\",\"6237\",\"6251\",\"6329\",\"6371\",\"6373\",\"6546\",\"4589\",\"4616\",\"5932\",\"6004\",\"6255\",\"6262\",\"6654\",\"6806\",\"2896\",\"3885\",\"4595\",\"4623\",\"5956\",\"6195\",\"6219\",\"6317\",\"6349\",\"6366\",\"6573\",\"3935\",\"4184\",\"4427\",\"4609\",\"6199\",\"6293\",\"6322\",\"6350\",\"6555\",\"6807\",\"6874\",\"6176\",\"6222\",\"6246\",\"6259\",\"6276\",\"6324\",\"6552\",\"6859\",\"6861\",\"6881\",\"2768\",\"4608\",\"6118\",\"6248\",\"6305\",\"6333\",\"6365\",\"6377\",\"6550\",\"6800\",\"3121\",\"6174\",\"6231\",\"6253\",\"6291\",\"6326\",\"6337\",\"6523\",\"6548\",\"6570\",\"6571\",\"6809\",\"6856\",\"6863\",\"6910\",\"78\",\"3107\",\"4613\",\"6143\",\"6197\",\"6202\",\"6280\",\"6332\",\"6368\",\"6370\",\"6374\",\"6383\",\"6880\",\"6198\",\"6254\",\"6287\",\"6338\",\"6354\",\"6602\",\"6655\",\"6805\",\"6888\",\"4387\",\"6180\",\"6221\",\"6828\",\"6871\",\"6904\",\"6941\",\"2836\",\"6182\",\"6223\",\"6242\",\"6277\",\"6303\",\"6710\",\"6802\",\"6855\",\"6862\",\"6873\",\"911\",\"4620\",\"4626\",\"6238\",\"6258\",\"6288\",\"6308\",\"6353\",\"6364\",\"6384\",\"6396\",\"6547\",\"6549\",\"6801\",\"6811\",\"6822\",\"6840\",\"6846\",\"6865\",\"6164\",\"6236\",\"6320\",\"6361\",\"6367\",\"6553\",\"6810\",\"6814\",\"6829\",\"6854\",\"6942\",\"6976\",\"6196\",\"6348\",\"6557\",\"6572\",\"6702\",\"6816\",\"6818\",\"6827\",\"6838\",\"6870\",\"6900\",\"6905\",\"6909\",\"6914\",\"6920\",\"6994\",\"6995\",\"4507\",\"6226\",\"6247\",\"6250\",\"6352\",\"6516\",\"6562\",\"6599\",\"6747\",\"6812\",\"6815\",\"6817\",\"6823\",\"6824\",\"6834\",\"6835\",\"6844\",\"6848\",\"6938\",\"6971\",\"4607\",\"6294\",\"6298\",\"6360\",\"6551\",\"6576\",\"6600\",\"6607\",\"6640\",\"6665\",\"6712\",\"6736\",\"6754\",\"6821\",\"6836\",\"6853\",\"6878\",\"6879\",\"6887\",\"6901\",\"6902\",\"6903\",\"6908\",\"6181\",\"6214\",\"6274\",\"6357\",\"6558\",\"6575\",\"6595\",\"6605\",\"6737\",\"6745\",\"6768\",\"6789\",\"6804\",\"6819\",\"6826\",\"6830\",\"6837\",\"6852\",\"6864\",\"6866\",\"6872\",\"6913\",\"6916\",\"6917\",\"6918\",\"6919\",\"6933\",\"6955\",\"6960\",\"6990\",\"6206\",\"6376\",\"6511\",\"6563\",\"6568\",\"6653\",\"6659\",\"6727\",\"6850\",\"6858\",\"6889\",\"6899\",\"6906\",\"6912\",\"6950\",\"6987\",\"6998\",\"3102\",\"4560\",\"6309\",\"6533\",\"6544\",\"6567\",\"6578\",\"6601\",\"6633\",\"6701\",\"6707\",\"6722\",\"6738\",\"6820\",\"6839\",\"6842\",\"6843\",\"6847\",\"6849\",\"6851\",\"6860\",\"6876\",\"6882\",\"6907\",\"6937\",\"6951\",\"6975\",\"6982\",\"3158\",\"4605\",\"6205\",\"6714\",\"6749\",\"6764\",\"6813\",\"6875\",\"6896\",\"6898\",\"6911\",\"6915\",\"6922\",\"6931\",\"6935\",\"6958\",\"6969\",\"6973\",\"6974\",\"6275\",\"6286\",\"6289\",\"6556\",\"6564\",\"6608\",\"6638\",\"6656\",\"6726\",\"6729\",\"6739\",\"6741\",\"6743\",\"6746\",\"6750\",\"6759\",\"6766\",\"6799\",\"6825\",\"6841\",\"6867\",\"6868\",\"6884\",\"6892\",\"6921\",\"6925\",\"6934\",\"6948\",\"6956\",\"6988\",\"6989\",\"6991\",\"6315\",\"6319\",\"6343\",\"6356\",\"6519\",\"6524\",\"6560\",\"6613\",\"6630\",\"6632\",\"6657\",\"6700\",\"6706\",\"6708\",\"6713\",\"6715\",\"6725\",\"6731\",\"6751\",\"6767\",\"6782\",\"6787\",\"6833\",\"6845\",\"6885\",\"6895\",\"6930\",\"6936\",\"6940\",\"6966\",\"6985\",\"6000\",\"6282\",\"6500\",\"6559\",\"6569\",\"6603\",\"6636\",\"6641\",\"666\",\"6711\",\"6718\",\"6730\",\"6733\",\"6757\",\"6772\",\"6785\",\"6831\",\"6832\",\"6857\",\"6897\",\"6923\",\"6926\",\"6939\",\"6944\",\"6952\",\"6957\",\"6972\",\"6999\",\"8792\",\"4590\",\"6227\",\"6229\",\"6514\",\"6520\",\"6521\",\"6522\",\"6539\",\"6582\",\"6610\",\"6614\",\"6618\",\"6623\",\"6678\",\"6703\",\"6720\",\"6723\",\"6734\",\"6760\",\"6763\",\"6771\",\"6775\",\"6776\",\"6777\",\"6877\",\"6886\",\"6893\",\"6894\",\"6932\",\"6943\",\"6945\",\"6953\",\"6954\",\"6962\",\"6977\",\"6981\",\"6986\",\"6993\",\"6996\",\"8783\",\"4611\",\"6239\",\"6278\",\"6345\",\"6503\",\"6512\",\"6518\",\"6561\",\"6631\",\"6639\",\"6645\",\"6646\",\"6652\",\"6716\",\"6719\",\"6721\",\"6724\",\"6740\",\"6742\",\"6748\",\"6753\",\"6756\",\"6769\",\"6791\",\"6869\",\"6891\",\"6924\",\"6947\",\"6978\",\"6980\",\"6984\",\"6297\",\"6464\",\"6531\",\"6584\",\"6597\",\"6604\",\"6611\",\"6616\",\"6620\",\"6621\",\"6624\",\"6626\",\"6634\",\"6635\",\"6637\",\"6642\",\"6677\",\"6699\",\"6704\",\"6705\",\"6709\",\"6728\",\"6744\",\"6752\",\"6755\",\"6758\",\"6770\",\"6778\",\"6786\",\"6792\",\"6794\",\"6883\",\"6929\",\"6946\",\"6968\",\"6970\",\"6992\",\"3000\",\"4610\",\"6311\",\"6318\",\"6382\",\"6399\",\"6400\",\"6401\",\"6495\",\"6502\",\"6507\",\"6513\",\"6515\",\"6526\",\"6589\",\"6628\",\"6643\",\"6644\",\"6658\",\"6668\",\"6670\",\"6681\",\"6694\",\"6717\",\"6735\",\"6774\",\"6779\",\"6780\",\"6784\",\"6788\",\"6796\",\"6798\",\"6959\",\"6979\",\"8785\",\"1000\",\"4606\",\"5569\",\"6306\",\"6351\",\"6456\",\"6501\",\"6529\",\"6532\",\"6537\",\"6540\",\"6541\",\"6580\",\"6593\",\"6596\",\"6609\",\"6612\",\"6627\",\"6629\",\"6647\",\"6673\",\"6683\",\"6686\",\"6698\",\"6732\",\"6762\",\"6783\",\"6890\",\"6927\",\"6928\",\"6961\",\"6983\",\"6997\",\"6244\",\"6285\",\"6335\",\"6380\",\"6385\",\"6403\",\"6457\",\"6465\",\"6505\",\"6508\",\"6525\",\"6530\",\"6534\",\"6536\",\"6542\",\"6577\",\"6583\",\"6586\",\"6591\",\"6615\",\"6617\",\"6619\",\"6648\",\"6650\",\"6651\",\"6664\",\"6666\",\"6671\",\"6672\",\"6684\",\"6687\",\"6688\",\"6761\",\"6765\",\"6781\",\"6790\",\"6793\",\"6797\",\"6949\",\"6967\",\"6307\",\"6417\",\"6418\",\"6419\",\"6433\",\"6442\",\"6446\",\"6453\",\"6458\",\"6463\",\"6509\",\"6510\",\"6527\",\"6528\",\"6554\",\"6581\",\"6590\",\"6592\",\"6606\",\"6622\",\"6625\",\"6661\",\"6663\",\"6667\",\"6674\",\"6675\",\"6676\",\"6679\",\"6689\",\"6690\",\"6691\",\"6693\",\"6773\",\"6963\",\"8800\",\"8803\",\"6243\",\"6256\",\"6283\",\"6284\",\"6290\",\"6327\",\"6346\",\"6395\",\"6402\",\"6404\",\"6408\",\"6411\",\"6412\",\"6414\",\"6425\",\"6443\",\"6447\",\"6449\",\"6455\",\"6475\",\"6481\",\"6498\",\"6504\",\"6517\",\"6535\",\"6538\",\"6543\",\"6574\",\"6579\",\"6649\",\"6662\",\"6680\",\"6682\",\"6685\",\"6692\",\"6697\",\"6795\",\"6964\",\"6965\",\"8786\",\"8789\",\"8793\",\"8795\",\"8801\",\"6316\",\"6375\",\"6381\",\"6387\",\"6390\",\"6391\",\"6393\",\"6394\",\"6405\",\"6409\",\"6421\",\"6424\",\"6427\",\"6430\",\"6434\",\"6436\",\"6438\",\"6448\",\"6450\",\"6451\",\"6460\",\"6461\",\"6466\",\"6468\",\"6473\",\"6486\",\"6488\",\"6492\",\"6493\",\"6499\",\"6585\",\"6587\",\"6588\",\"6594\",\"6669\",\"6695\",\"6696\",\"8787\",\"8790\",\"8791\",\"8796\",\"8797\",\"8798\",\"8799\",\"8805\",\"8806\",\"8811\",\"8816\",\"8817\",\"6163\",\"6372\",\"6386\",\"6388\",\"6389\",\"6392\",\"6397\",\"6398\",\"6406\",\"6413\",\"6415\",\"6420\",\"6422\",\"6423\",\"6426\",\"6428\",\"6431\",\"6432\",\"6441\",\"6462\",\"6467\",\"6469\",\"6471\",\"6472\",\"6478\",\"6480\",\"6483\",\"6484\",\"6489\",\"6490\",\"6506\",\"6660\",\"7127\",\"7662\",\"7665\",\"7671\",\"7946\",\"8770\",\"8784\",\"8788\",\"8802\",\"8804\",\"8810\",\"8815\",\"__unknown\"],\"type\":\"nominal\",\"name\":\"opCarrierFlNumIndex\"}}",
         "name": "opCarrierFlNumIndex",
         "type": "\"double\""
        },
        {
         "metadata": "{\"ml_attr\":{\"vals\":[\"ATL\",\"DFW\",\"DEN\",\"ORD\",\"CLT\",\"LAX\",\"PHX\",\"LAS\",\"DTW\",\"SEA\",\"IAH\",\"MCO\",\"MSP\",\"SLC\",\"SFO\",\"BWI\",\"BOS\",\"EWR\",\"LGA\",\"PHL\",\"FLL\",\"DCA\",\"MDW\",\"BNA\",\"MIA\",\"JFK\",\"TPA\",\"DAL\",\"SAN\",\"STL\",\"HOU\",\"IAD\",\"AUS\",\"PDX\",\"MSY\",\"RDU\",\"SMF\",\"MCI\",\"RSW\",\"SJC\",\"IND\",\"OAK\",\"HNL\",\"CVG\",\"PIT\",\"CLE\",\"CMH\",\"SAT\",\"SNA\",\"MKE\",\"JAX\",\"PBI\",\"OMA\",\"MEM\",\"BUR\",\"BDL\",\"OKC\",\"ONT\",\"CHS\",\"SDF\",\"ABQ\",\"ORF\",\"BOI\",\"GRR\",\"OGG\",\"TUS\",\"RIC\",\"ANC\",\"RNO\",\"BUF\",\"BHM\",\"DSM\",\"SAV\",\"GEG\",\"TYS\",\"TUL\",\"ELP\",\"GSP\",\"PNS\",\"PSP\",\"PVD\",\"SFB\",\"LIT\",\"SRQ\",\"LGB\",\"MYR\",\"XNA\",\"MSN\",\"FAT\",\"KOA\",\"VPS\",\"DAY\",\"ROC\",\"GSO\",\"ALB\",\"PIE\",\"ICT\",\"ECP\",\"AVL\",\"PWM\",\"SYR\",\"COS\",\"CID\",\"SGF\",\"LIH\",\"MAF\",\"AZA\",\"ASE\",\"PGD\",\"EYW\",\"BZN\",\"LEX\",\"HSV\",\"FSD\",\"FWA\",\"CHA\",\"FAR\",\"MHT\",\"LBB\",\"CAE\",\"JAN\",\"SBN\",\"SHV\",\"EUG\",\"BTR\",\"HPN\",\"ILM\",\"TLH\",\"JAC\",\"RAP\",\"SBA\",\"SBP\",\"MFR\",\"RDM\",\"BTV\",\"MDT\",\"JNU\",\"ABE\",\"ITO\",\"AMA\",\"BIL\",\"AGS\",\"BIS\",\"CRP\",\"MFE\",\"GJT\",\"GNV\",\"MOB\",\"GPT\",\"ATW\",\"STT\",\"CHO\",\"GRB\",\"TVC\",\"LFT\",\"ISP\",\"FCA\",\"PIA\",\"MSO\",\"FAY\",\"PSC\",\"MLI\",\"HRL\",\"CAK\",\"FNT\",\"CRW\",\"OAJ\",\"DRO\",\"FAI\",\"MGM\",\"EVV\",\"MRY\",\"SGU\",\"DAB\",\"EGE\",\"AEX\",\"MOT\",\"TRI\",\"GRK\",\"IDA\",\"BMI\",\"MLB\",\"MLU\",\"MTJ\",\"AVP\",\"BGR\",\"RST\",\"STS\",\"BFL\",\"HHH\",\"ACY\",\"GTF\",\"AZO\",\"KTN\",\"LAN\",\"ROA\",\"FLG\",\"BRO\",\"DLH\",\"ABI\",\"HDN\",\"EWN\",\"LRD\",\"CMI\",\"MBS\",\"LSE\",\"CWA\",\"CLL\",\"COU\",\"SAF\",\"SJT\",\"CPR\",\"BLV\",\"FSM\",\"YUM\",\"ACV\",\"LCK\",\"TTN\",\"GFK\",\"LNK\",\"SUN\",\"USA\",\"ACT\",\"PHF\",\"TOL\",\"ELM\",\"MQT\",\"LCH\",\"TYR\",\"SPI\",\"PBG\",\"SCE\",\"DHN\",\"GRI\",\"PLN\",\"HLN\",\"JLN\",\"HYS\",\"GTR\",\"LYH\",\"VLD\",\"MHK\",\"SIT\",\"JMS\",\"LAW\",\"RFD\",\"STX\",\"TXK\",\"CSG\",\"PSG\",\"WRG\",\"BET\",\"IMT\",\"SWF\",\"CKB\",\"PVU\",\"SPS\",\"YAK\",\"SCK\",\"CDV\",\"CIU\",\"PUB\",\"TWF\",\"EAR\",\"PIH\",\"ROW\",\"SUX\",\"BQN\",\"BQK\",\"LBF\",\"SHD\",\"BFF\",\"GCK\",\"ABR\",\"PRC\",\"LBE\",\"APN\",\"EAU\",\"MEI\",\"RDD\",\"ABY\",\"BJI\",\"CMX\",\"IAG\",\"LWS\",\"BLI\",\"GGG\",\"SCC\",\"SLN\",\"ATY\",\"HTS\",\"BPT\",\"CNY\",\"PIB\",\"CGI\",\"ERI\",\"MKG\",\"ESC\",\"PIR\",\"VEL\",\"PAE\",\"DVL\",\"PAH\",\"RHI\",\"EKO\",\"GCC\",\"LWB\",\"INL\",\"LBL\",\"BTM\",\"ORH\",\"HIB\",\"RKS\",\"RIW\",\"SWO\",\"LAR\",\"COD\",\"BRW\",\"ITH\",\"GUC\",\"ADQ\",\"DDC\",\"BRD\",\"DBQ\",\"SHR\",\"OTZ\",\"ALO\",\"BGM\",\"DEC\",\"HOB\",\"DRT\",\"OME\",\"ACK\",\"PSM\",\"MMH\",\"CDB\",\"CDC\",\"HVN\",\"MVY\",\"OTH\",\"DIK\",\"WYS\",\"AKN\",\"HGR\",\"ADK\",\"CYS\",\"STC\",\"DLG\",\"SMX\",\"OGD\",\"GST\",\"ALS\",\"OWB\",\"VCT\",\"BFM\",\"IPT\",\"JST\",\"HYA\",\"UIN\",\"__unknown\"],\"type\":\"nominal\",\"name\":\"originIndex\"}}",
         "name": "originIndex",
         "type": "\"double\""
        },
        {
         "metadata": "{\"ml_attr\":{\"vals\":[\"ATL\",\"DFW\",\"DEN\",\"ORD\",\"CLT\",\"LAX\",\"PHX\",\"LAS\",\"DTW\",\"SEA\",\"IAH\",\"MSP\",\"MCO\",\"SLC\",\"SFO\",\"BOS\",\"EWR\",\"LGA\",\"PHL\",\"BWI\",\"DCA\",\"FLL\",\"BNA\",\"JFK\",\"MIA\",\"MDW\",\"TPA\",\"SAN\",\"DAL\",\"STL\",\"HOU\",\"IAD\",\"AUS\",\"PDX\",\"RDU\",\"MSY\",\"SMF\",\"MCI\",\"IND\",\"SJC\",\"RSW\",\"PIT\",\"OAK\",\"CVG\",\"HNL\",\"CMH\",\"CLE\",\"SAT\",\"SNA\",\"MKE\",\"SJU\",\"JAX\",\"PBI\",\"OMA\",\"BDL\",\"BUR\",\"OKC\",\"ONT\",\"MEM\",\"CHS\",\"BOI\",\"SDF\",\"ABQ\",\"ORF\",\"GRR\",\"ANC\",\"RIC\",\"TUS\",\"BUF\",\"RNO\",\"BHM\",\"OGG\",\"DSM\",\"TYS\",\"TUL\",\"SAV\",\"GEG\",\"ELP\",\"PNS\",\"GSP\",\"SFB\",\"PVD\",\"PSP\",\"LIT\",\"MSN\",\"MYR\",\"FAT\",\"LGB\",\"XNA\",\"SRQ\",\"VPS\",\"DAY\",\"GSO\",\"PIE\",\"KOA\",\"ALB\",\"ROC\",\"ICT\",\"PWM\",\"COS\",\"AZA\",\"ECP\",\"AVL\",\"PGD\",\"SYR\",\"SGF\",\"MAF\",\"LIH\",\"CID\",\"BZN\",\"LEX\",\"ASE\",\"HSV\",\"MHT\",\"FSD\",\"FWA\",\"SBN\",\"LBB\",\"FAR\",\"CHA\",\"CAE\",\"EUG\",\"EYW\",\"JAN\",\"SHV\",\"ILM\",\"BTR\",\"HPN\",\"TLH\",\"MFR\",\"BTV\",\"SBA\",\"SBP\",\"RAP\",\"JAC\",\"RDM\",\"MDT\",\"ITO\",\"JNU\",\"ABE\",\"CRP\",\"AMA\",\"BIL\",\"BIS\",\"GPT\",\"MFE\",\"AGS\",\"GJT\",\"GNV\",\"ISP\",\"GRB\",\"MSO\",\"MLI\",\"PIA\",\"ATW\",\"MOB\",\"CAK\",\"LFT\",\"CHO\",\"TVC\",\"FCA\",\"PSC\",\"FAY\",\"HRL\",\"STT\",\"CRW\",\"FNT\",\"DRO\",\"OAJ\",\"MRY\",\"FAI\",\"SGU\",\"EVV\",\"DAB\",\"MGM\",\"AEX\",\"EGE\",\"BGR\",\"ACY\",\"GRK\",\"AVP\",\"BMI\",\"TRI\",\"BFL\",\"MLU\",\"MTJ\",\"IDA\",\"RST\",\"MOT\",\"HHH\",\"MLB\",\"STS\",\"AZO\",\"GTF\",\"LAN\",\"ABI\",\"DLH\",\"KTN\",\"ROA\",\"BRO\",\"CMI\",\"EWN\",\"FLG\",\"LSE\",\"MBS\",\"YUM\",\"CWA\",\"HDN\",\"LRD\",\"SAF\",\"TTN\",\"CPR\",\"FSM\",\"PHF\",\"GFK\",\"ACV\",\"COU\",\"CLL\",\"ELM\",\"SJT\",\"MQT\",\"LNK\",\"LCK\",\"SUN\",\"TOL\",\"TYR\",\"PBG\",\"SPI\",\"BLV\",\"LCH\",\"MHK\",\"ACT\",\"HLN\",\"DHN\",\"JLN\",\"USA\",\"GTR\",\"LYH\",\"SCE\",\"CSG\",\"HYS\",\"SIT\",\"TWF\",\"JMS\",\"VLD\",\"PLN\",\"STX\",\"WRG\",\"PSG\",\"RDD\",\"PIH\",\"LAW\",\"CKB\",\"LBE\",\"TXK\",\"YAK\",\"CMX\",\"EAR\",\"EAU\",\"GRI\",\"IMT\",\"SPS\",\"SUX\",\"CDV\",\"GGG\",\"SLN\",\"RFD\",\"BQK\",\"BQN\",\"OGS\",\"BLI\",\"ABY\",\"ERI\",\"SHD\",\"SCK\",\"ABR\",\"CIU\",\"PAE\",\"SWF\",\"BPT\",\"APN\",\"LBF\",\"PVU\",\"SCC\",\"ROW\",\"BJI\",\"PUB\",\"BFF\",\"PRC\",\"GCK\",\"LWS\",\"RHI\",\"XWA\",\"CNY\",\"LAR\",\"MKG\",\"PIB\",\"BTM\",\"ESC\",\"MEI\",\"PIR\",\"EKO\",\"ATY\",\"GUC\",\"VEL\",\"HIB\",\"LBL\",\"PAH\",\"COD\",\"LWB\",\"CGI\",\"SHR\",\"ORH\",\"BRD\",\"GCC\",\"BET\",\"RIW\",\"SWO\",\"INL\",\"DVL\",\"ADQ\",\"BRW\",\"ITH\",\"RKS\",\"DBQ\",\"DEC\",\"HOB\",\"IAG\",\"HTS\",\"BGM\",\"CDC\",\"DRT\",\"ACK\",\"OME\",\"ALO\",\"DDC\",\"OTZ\",\"OTH\",\"GUM\",\"HVN\",\"MMH\",\"DIK\",\"MVY\",\"PSM\",\"WYS\",\"AKN\",\"CDB\",\"ADK\",\"PSE\",\"HGR\",\"STC\",\"SMX\",\"CYS\",\"OWB\",\"DLG\",\"VCT\",\"ALS\",\"GST\",\"BKG\",\"OGD\",\"BFM\",\"JST\",\"IPT\",\"PPG\",\"HYA\",\"UIN\",\"__unknown\"],\"type\":\"nominal\",\"name\":\"destIndex\"}}",
         "name": "destIndex",
         "type": "\"double\""
        },
        {
         "metadata": "{\"ml_attr\":{\"vals\":[\"US-TX\",\"US-CA\",\"US-FL\",\"US-GA\",\"US-IL\",\"US-NC\",\"US-CO\",\"US-NY\",\"US-AZ\",\"US-MI\",\"US-NV\",\"US-WA\",\"US-PA\",\"US-DC\",\"US-MN\",\"US-UT\",\"US-TN\",\"US-MO\",\"US-NJ\",\"US-MA\",\"US-MD\",\"US-OH\",\"US-HI\",\"US-LA\",\"US-KY\",\"US-OR\",\"US-IN\",\"US-SC\",\"US-WI\",\"US-VA\",\"US-AK\",\"US-OK\",\"US-AL\",\"US-NE\",\"US-ID\",\"US-IA\",\"US-MT\",\"US-AR\",\"US-NM\",\"US-CT\",\"US-ND\",\"US-SD\",\"US-KS\",\"US-MS\",\"US-WY\",\"US-RI\",\"US-ME\",\"US-NH\",\"US-WV\",\"VI-U-A\",\"US-VT\",\"PR-U-A\",\"__unknown\"],\"type\":\"nominal\",\"name\":\"originIsoRegionIndex\"}}",
         "name": "originIsoRegionIndex",
         "type": "\"double\""
        },
        {
         "metadata": "{\"ml_attr\":{\"vals\":[\"US-TX\",\"US-CA\",\"US-FL\",\"US-GA\",\"US-IL\",\"US-NC\",\"US-CO\",\"US-NY\",\"US-AZ\",\"US-MI\",\"US-NV\",\"US-WA\",\"US-PA\",\"US-MN\",\"US-DC\",\"US-UT\",\"US-TN\",\"US-MO\",\"US-NJ\",\"US-MA\",\"US-OH\",\"US-MD\",\"US-HI\",\"US-LA\",\"US-KY\",\"US-OR\",\"US-IN\",\"US-SC\",\"US-WI\",\"US-VA\",\"US-AK\",\"US-OK\",\"US-AL\",\"US-NE\",\"US-ID\",\"PR-U-A\",\"US-MT\",\"US-IA\",\"US-AR\",\"US-NM\",\"US-CT\",\"US-ND\",\"US-KS\",\"US-SD\",\"US-MS\",\"US-RI\",\"US-ME\",\"US-WY\",\"US-NH\",\"US-WV\",\"US-VT\",\"VI-U-A\",\"GU-U-A\",\"AS-U-A\",\"__unknown\"],\"type\":\"nominal\",\"name\":\"destIsoRegionIndex\"}}",
         "name": "destIsoRegionIndex",
         "type": "\"double\""
        },
        {
         "metadata": "{\"ml_attr\":{\"vals\":[\"ATL\",\"DFW\",\"DEN\",\"ORD\",\"CLT\",\"LAX\",\"PHX\",\"DTW\",\"LAS\",\"SEA\",\"IAH\",\"MSP\",\"MCO\",\"SLC\",\"SFO\",\"BOS\",\"EWR\",\"LGA\",\"PHL\",\"BWI\",\"DCA\",\"FLL\",\"BNA\",\"JFK\",\"MDW\",\"MIA\",\"TPA\",\"SAN\",\"DAL\",\"STL\",\"HOU\",\"IAD\",\"AUS\",\"PDX\",\"RDU\",\"MSY\",\"MCI\",\"SMF\",\"RSW\",\"SJC\",\"IND\",\"PIT\",\"CLE\",\"OAK\",\"CVG\",\"HNL\",\"CMH\",\"SAT\",\"SNA\",\"MKE\",\"PBI\",\"JAX\",\"OMA\",\"BUR\",\"BDL\",\"MEM\",\"OKC\",\"CHS\",\"ONT\",\"SDF\",\"ABQ\",\"BOI\",\"ORF\",\"GRR\",\"TUS\",\"RIC\",\"ANC\",\"RNO\",\"BUF\",\"OGG\",\"BHM\",\"DSM\",\"SAV\",\"TUL\",\"GEG\",\"TYS\",\"ELP\",\"PNS\",\"GSP\",\"PVD\",\"SFB\",\"PSP\",\"LIT\",\"SRQ\",\"MSN\",\"MYR\",\"LGB\",\"XNA\",\"FAT\",\"VPS\",\"DAY\",\"GSO\",\"ALB\",\"ROC\",\"PIE\",\"ICT\",\"KOA\",\"SYR\",\"PWM\",\"AZA\",\"ECP\",\"COS\",\"PGD\",\"SGF\",\"AVL\",\"MAF\",\"CID\",\"BZN\",\"LIH\",\"HSV\",\"ASE\",\"FWA\",\"LEX\",\"EYW\",\"MHT\",\"CHA\",\"FSD\",\"SBN\",\"JAN\",\"LBB\",\"CAE\",\"EUG\",\"FAR\",\"ILM\",\"SHV\",\"HPN\",\"BTR\",\"TLH\",\"SBA\",\"JAC\",\"BTV\",\"SBP\",\"MFR\",\"RDM\",\"RAP\",\"MDT\",\"JNU\",\"CRP\",\"ITO\",\"ATW\",\"MFE\",\"ABE\",\"BIS\",\"GPT\",\"PIA\",\"TVC\",\"GNV\",\"AMA\",\"AGS\",\"BIL\",\"ISP\",\"FCA\",\"MOB\",\"STT\",\"GJT\",\"GRB\",\"LFT\",\"MLI\",\"CHO\",\"HRL\",\"PSC\",\"CAK\",\"FAY\",\"MSO\",\"CRW\",\"DRO\",\"MGM\",\"SGU\",\"DAB\",\"FNT\",\"OAJ\",\"MRY\",\"EVV\",\"MOT\",\"FAI\",\"EGE\",\"AEX\",\"BFL\",\"GRK\",\"MLB\",\"HHH\",\"IDA\",\"MLU\",\"ACY\",\"AVP\",\"TRI\",\"GTF\",\"BGR\",\"MTJ\",\"BMI\",\"STS\",\"RST\",\"AZO\",\"LAN\",\"FLG\",\"BRO\",\"ABI\",\"DLH\",\"ROA\",\"KTN\",\"CPR\",\"EWN\",\"CMI\",\"MBS\",\"YUM\",\"LSE\",\"HDN\",\"CWA\",\"LRD\",\"TTN\",\"SAF\",\"PHF\",\"COU\",\"FSM\",\"ACV\",\"GFK\",\"LNK\",\"LCK\",\"SJT\",\"ELM\",\"PBG\",\"BLV\",\"CLL\",\"HLN\",\"SUN\",\"SPI\",\"ACT\",\"TYR\",\"USA\",\"LCH\",\"TOL\",\"MQT\",\"SCE\",\"MHK\",\"JMS\",\"PLN\",\"TWF\",\"GTR\",\"LYH\",\"CSG\",\"DHN\",\"JLN\",\"STX\",\"RDD\",\"ROW\",\"VLD\",\"SIT\",\"CKB\",\"GRI\",\"LAW\",\"BQK\",\"IMT\",\"HYS\",\"TXK\",\"RFD\",\"ABY\",\"SHD\",\"EAU\",\"PSG\",\"PIH\",\"LBE\",\"WRG\",\"ERI\",\"PRC\",\"SLN\",\"CMX\",\"PAH\",\"SWF\",\"SUX\",\"PVU\",\"CIU\",\"PUB\",\"YAK\",\"EAR\",\"PIR\",\"SPS\",\"ATY\",\"LWB\",\"ABR\",\"BFF\",\"CDV\",\"BLI\",\"GCC\",\"LWS\",\"PAE\",\"BJI\",\"RHI\",\"BPT\",\"SCK\",\"ESC\",\"GGG\",\"BQN\",\"MKG\",\"BTM\",\"LBF\",\"GCK\",\"HIB\",\"LBL\",\"SHR\",\"APN\",\"MEI\",\"CGI\",\"SCC\",\"DVL\",\"PIB\",\"CNY\",\"HTS\",\"ORH\",\"LAR\",\"VEL\",\"BET\",\"RIW\",\"BRD\",\"DEC\",\"GUC\",\"IAG\",\"SWO\",\"BGM\",\"COD\",\"ITH\",\"DRT\",\"EKO\",\"RKS\",\"DBQ\",\"INL\",\"BRW\",\"ADQ\",\"HOB\",\"DDC\",\"ALO\",\"OME\",\"ACK\",\"OTZ\",\"CDC\",\"HVN\",\"PSM\",\"MVY\",\"OTH\",\"DIK\",\"MMH\",\"WYS\",\"AKN\",\"ADK\",\"CDB\",\"HGR\",\"CYS\",\"STC\",\"SMX\",\"DLG\",\"ALS\",\"OGD\",\"VCT\",\"IPT\",\"OWB\",\"GST\",\"BFM\",\"JST\",\"HYA\",\"UIN\",\"__unknown\"],\"type\":\"nominal\",\"name\":\"originPrevFIndex\"}}",
         "name": "originPrevFIndex",
         "type": "\"double\""
        },
        {
         "metadata": "{}",
         "name": "tailNumIndexBinIndex0",
         "type": "\"integer\""
        },
        {
         "metadata": "{}",
         "name": "tailNumIndexBinIndex1",
         "type": "\"integer\""
        },
        {
         "metadata": "{}",
         "name": "tailNumIndexBinIndex2",
         "type": "\"integer\""
        },
        {
         "metadata": "{}",
         "name": "tailNumIndexBinIndex3",
         "type": "\"integer\""
        },
        {
         "metadata": "{}",
         "name": "tailNumIndexBinIndex4",
         "type": "\"integer\""
        },
        {
         "metadata": "{}",
         "name": "tailNumIndexBinIndex5",
         "type": "\"integer\""
        },
        {
         "metadata": "{}",
         "name": "tailNumIndexBinIndex6",
         "type": "\"integer\""
        },
        {
         "metadata": "{}",
         "name": "tailNumIndexBinIndex7",
         "type": "\"integer\""
        },
        {
         "metadata": "{}",
         "name": "tailNumIndexBinIndex8",
         "type": "\"integer\""
        },
        {
         "metadata": "{}",
         "name": "tailNumIndexBinIndex9",
         "type": "\"integer\""
        },
        {
         "metadata": "{}",
         "name": "tailNumIndexBinIndex10",
         "type": "\"integer\""
        },
        {
         "metadata": "{}",
         "name": "tailNumIndexBinIndex11",
         "type": "\"integer\""
        },
        {
         "metadata": "{}",
         "name": "tailNumIndexBinIndex12",
         "type": "\"integer\""
        },
        {
         "metadata": "{}",
         "name": "opCarrierFlNumIndexBinIndex0",
         "type": "\"integer\""
        },
        {
         "metadata": "{}",
         "name": "opCarrierFlNumIndexBinIndex1",
         "type": "\"integer\""
        },
        {
         "metadata": "{}",
         "name": "opCarrierFlNumIndexBinIndex2",
         "type": "\"integer\""
        },
        {
         "metadata": "{}",
         "name": "opCarrierFlNumIndexBinIndex3",
         "type": "\"integer\""
        },
        {
         "metadata": "{}",
         "name": "opCarrierFlNumIndexBinIndex4",
         "type": "\"integer\""
        },
        {
         "metadata": "{}",
         "name": "opCarrierFlNumIndexBinIndex5",
         "type": "\"integer\""
        },
        {
         "metadata": "{}",
         "name": "opCarrierFlNumIndexBinIndex6",
         "type": "\"integer\""
        },
        {
         "metadata": "{}",
         "name": "opCarrierFlNumIndexBinIndex7",
         "type": "\"integer\""
        },
        {
         "metadata": "{}",
         "name": "opCarrierFlNumIndexBinIndex8",
         "type": "\"integer\""
        },
        {
         "metadata": "{}",
         "name": "opCarrierFlNumIndexBinIndex9",
         "type": "\"integer\""
        },
        {
         "metadata": "{}",
         "name": "opCarrierFlNumIndexBinIndex10",
         "type": "\"integer\""
        },
        {
         "metadata": "{}",
         "name": "opCarrierFlNumIndexBinIndex11",
         "type": "\"integer\""
        },
        {
         "metadata": "{}",
         "name": "opCarrierFlNumIndexBinIndex12",
         "type": "\"integer\""
        },
        {
         "metadata": "{}",
         "name": "originIndexBinIndex0",
         "type": "\"integer\""
        },
        {
         "metadata": "{}",
         "name": "originIndexBinIndex1",
         "type": "\"integer\""
        },
        {
         "metadata": "{}",
         "name": "originIndexBinIndex2",
         "type": "\"integer\""
        },
        {
         "metadata": "{}",
         "name": "originIndexBinIndex3",
         "type": "\"integer\""
        },
        {
         "metadata": "{}",
         "name": "originIndexBinIndex4",
         "type": "\"integer\""
        },
        {
         "metadata": "{}",
         "name": "originIndexBinIndex5",
         "type": "\"integer\""
        },
        {
         "metadata": "{}",
         "name": "originIndexBinIndex6",
         "type": "\"integer\""
        },
        {
         "metadata": "{}",
         "name": "originIndexBinIndex7",
         "type": "\"integer\""
        },
        {
         "metadata": "{}",
         "name": "originIndexBinIndex8",
         "type": "\"integer\""
        },
        {
         "metadata": "{}",
         "name": "destIndexBinIndex0",
         "type": "\"integer\""
        },
        {
         "metadata": "{}",
         "name": "destIndexBinIndex1",
         "type": "\"integer\""
        },
        {
         "metadata": "{}",
         "name": "destIndexBinIndex2",
         "type": "\"integer\""
        },
        {
         "metadata": "{}",
         "name": "destIndexBinIndex3",
         "type": "\"integer\""
        },
        {
         "metadata": "{}",
         "name": "destIndexBinIndex4",
         "type": "\"integer\""
        },
        {
         "metadata": "{}",
         "name": "destIndexBinIndex5",
         "type": "\"integer\""
        },
        {
         "metadata": "{}",
         "name": "destIndexBinIndex6",
         "type": "\"integer\""
        },
        {
         "metadata": "{}",
         "name": "destIndexBinIndex7",
         "type": "\"integer\""
        },
        {
         "metadata": "{}",
         "name": "destIndexBinIndex8",
         "type": "\"integer\""
        },
        {
         "metadata": "{}",
         "name": "originIsoRegionIndexBinIndex0",
         "type": "\"integer\""
        },
        {
         "metadata": "{}",
         "name": "originIsoRegionIndexBinIndex1",
         "type": "\"integer\""
        },
        {
         "metadata": "{}",
         "name": "originIsoRegionIndexBinIndex2",
         "type": "\"integer\""
        },
        {
         "metadata": "{}",
         "name": "originIsoRegionIndexBinIndex3",
         "type": "\"integer\""
        },
        {
         "metadata": "{}",
         "name": "originIsoRegionIndexBinIndex4",
         "type": "\"integer\""
        },
        {
         "metadata": "{}",
         "name": "originIsoRegionIndexBinIndex5",
         "type": "\"integer\""
        },
        {
         "metadata": "{}",
         "name": "destIsoRegionIndexBinIndex0",
         "type": "\"integer\""
        },
        {
         "metadata": "{}",
         "name": "destIsoRegionIndexBinIndex1",
         "type": "\"integer\""
        },
        {
         "metadata": "{}",
         "name": "destIsoRegionIndexBinIndex2",
         "type": "\"integer\""
        },
        {
         "metadata": "{}",
         "name": "destIsoRegionIndexBinIndex3",
         "type": "\"integer\""
        },
        {
         "metadata": "{}",
         "name": "destIsoRegionIndexBinIndex4",
         "type": "\"integer\""
        },
        {
         "metadata": "{}",
         "name": "destIsoRegionIndexBinIndex5",
         "type": "\"integer\""
        },
        {
         "metadata": "{}",
         "name": "originPrevFIndexBinIndex0",
         "type": "\"integer\""
        },
        {
         "metadata": "{}",
         "name": "originPrevFIndexBinIndex1",
         "type": "\"integer\""
        },
        {
         "metadata": "{}",
         "name": "originPrevFIndexBinIndex2",
         "type": "\"integer\""
        },
        {
         "metadata": "{}",
         "name": "originPrevFIndexBinIndex3",
         "type": "\"integer\""
        },
        {
         "metadata": "{}",
         "name": "originPrevFIndexBinIndex4",
         "type": "\"integer\""
        },
        {
         "metadata": "{}",
         "name": "originPrevFIndexBinIndex5",
         "type": "\"integer\""
        },
        {
         "metadata": "{}",
         "name": "originPrevFIndexBinIndex6",
         "type": "\"integer\""
        },
        {
         "metadata": "{}",
         "name": "originPrevFIndexBinIndex7",
         "type": "\"integer\""
        },
        {
         "metadata": "{}",
         "name": "originPrevFIndexBinIndex8",
         "type": "\"integer\""
        },
        {
         "metadata": "{}",
         "name": "scaled_array",
         "type": "{\"type\":\"array\",\"elementType\":\"double\",\"containsNull\":false}"
        },
        {
         "metadata": "{\"ml_attr\":{\"vals\":[\"0.0\",\"1.0\"],\"type\":\"nominal\",\"name\":\"label\"}}",
         "name": "label",
         "type": "\"double\""
        },
        {
         "metadata": "{\"ml_attr\":{\"attrs\":{\"numeric\":[{\"idx\":0,\"name\":\"timeBtwFlightsPlanned\"},{\"idx\":1,\"name\":\"hourlyAltimeterSetting\"},{\"idx\":2,\"name\":\"hourlyDewPointTemperature\"},{\"idx\":3,\"name\":\"hourlyDryBulbTemperature\"},{\"idx\":4,\"name\":\"hourlyPrecipitation\"},{\"idx\":5,\"name\":\"hourlyWetBulbTemperature\"},{\"idx\":6,\"name\":\"hourlyWindDirection\"},{\"idx\":7,\"name\":\"hourlyWindGustSpeed\"},{\"idx\":8,\"name\":\"hourlyWindSpeed\"},{\"idx\":9,\"name\":\"crsDepTimeSine\"},{\"idx\":10,\"name\":\"monthSine\"},{\"idx\":11,\"name\":\"dayOfWeekSine\"},{\"idx\":12,\"name\":\"originPageRank\"},{\"idx\":13,\"name\":\"destPageRank\"}],\"nominal\":[{\"vals\":[\"13\",\"6\",\"23\",\"7\",\"10\",\"20\",\"17\",\"3\",\"19\",\"16\",\"12\",\"9\",\"5\",\"4\",\"18\",\"14\",\"27\",\"2\",\"21\",\"24\",\"8\",\"1\",\"11\",\"22\",\"15\",\"26\",\"28\",\"29\",\"25\",\"30\",\"31\",\"__unknown\"],\"idx\":14,\"name\":\"dayOfMonthIndex\"},{\"vals\":[\"WN\",\"OO\",\"AA\",\"DL\",\"UA\",\"MQ\",\"YX\",\"OH\",\"9E\",\"NK\",\"AS\",\"B6\",\"YV\",\"G4\",\"F9\",\"EV\",\"HA\",\"__unknown\"],\"idx\":15,\"name\":\"opUniqueCarrierIndex\"},{\"vals\":[\"2020\",\"2019\",\"__unknown\"],\"idx\":16,\"name\":\"yearIndex\"},{\"vals\":[\"large_airport\",\"medium_airport\",\"small_airport\",\"__unknown\"],\"idx\":17,\"name\":\"originTypeIndex\"},{\"vals\":[\"large_airport\",\"medium_airport\",\"small_airport\",\"__unknown\"],\"idx\":18,\"name\":\"destTypeIndex\"},{\"vals\":[\"0.0\",\"-999.0\",\"1.0\",\"__unknown\"],\"idx\":19,\"name\":\"depDel15PrevFIndex\"},{\"vals\":[\"-999.0\",\"0.0\",\"1.0\",\"__unknown\"],\"idx\":20,\"name\":\"arrDel15PrevFIndex\"},{\"vals\":[\"US-TX\",\"US-CA\",\"US-FL\",\"US-GA\",\"US-IL\",\"US-NC\",\"US-CO\",\"US-NY\",\"US-AZ\",\"US-MI\",\"US-NV\",\"US-WA\",\"US-PA\",\"US-DC\",\"US-MN\",\"US-UT\",\"US-TN\",\"US-MO\",\"US-NJ\",\"US-MA\",\"US-MD\",\"US-OH\",\"US-HI\",\"US-LA\",\"US-KY\",\"US-OR\",\"US-IN\",\"US-SC\",\"US-WI\",\"US-VA\",\"US-AK\",\"US-OK\",\"US-AL\",\"US-NE\",\"US-ID\",\"US-IA\",\"US-MT\",\"US-AR\",\"US-NM\",\"US-CT\",\"US-ND\",\"US-SD\",\"US-KS\",\"US-MS\",\"US-WY\",\"US-RI\",\"US-ME\",\"US-NH\",\"US-WV\",\"VI-U-A\",\"US-VT\",\"PR-U-A\",\"__unknown\"],\"idx\":21,\"name\":\"originIsoRegionIndex\"},{\"vals\":[\"US-TX\",\"US-CA\",\"US-FL\",\"US-GA\",\"US-IL\",\"US-NC\",\"US-CO\",\"US-NY\",\"US-AZ\",\"US-MI\",\"US-NV\",\"US-WA\",\"US-PA\",\"US-MN\",\"US-DC\",\"US-UT\",\"US-TN\",\"US-MO\",\"US-NJ\",\"US-MA\",\"US-OH\",\"US-MD\",\"US-HI\",\"US-LA\",\"US-KY\",\"US-OR\",\"US-IN\",\"US-SC\",\"US-WI\",\"US-VA\",\"US-AK\",\"US-OK\",\"US-AL\",\"US-NE\",\"US-ID\",\"PR-U-A\",\"US-MT\",\"US-IA\",\"US-AR\",\"US-NM\",\"US-CT\",\"US-ND\",\"US-KS\",\"US-SD\",\"US-MS\",\"US-RI\",\"US-ME\",\"US-WY\",\"US-NH\",\"US-WV\",\"US-VT\",\"VI-U-A\",\"GU-U-A\",\"AS-U-A\",\"__unknown\"],\"idx\":22,\"name\":\"destIsoRegionIndex\"}]},\"num_attrs\":23}}",
         "name": "features",
         "type": "{\"type\":\"udt\",\"class\":\"org.apache.spark.ml.linalg.VectorUDT\",\"pyClass\":\"pyspark.ml.linalg.VectorUDT\",\"sqlType\":{\"type\":\"struct\",\"fields\":[{\"name\":\"type\",\"type\":\"byte\",\"nullable\":false,\"metadata\":{}},{\"name\":\"size\",\"type\":\"integer\",\"nullable\":true,\"metadata\":{}},{\"name\":\"indices\",\"type\":{\"type\":\"array\",\"elementType\":\"integer\",\"containsNull\":false},\"nullable\":true,\"metadata\":{}},{\"name\":\"values\",\"type\":{\"type\":\"array\",\"elementType\":\"double\",\"containsNull\":false},\"nullable\":true,\"metadata\":{}}]}}"
        },
        {
         "metadata": "{\"ml_attr\":{\"num_attrs\":2}}",
         "name": "rawPrediction",
         "type": "{\"type\":\"udt\",\"class\":\"org.apache.spark.ml.linalg.VectorUDT\",\"pyClass\":\"pyspark.ml.linalg.VectorUDT\",\"sqlType\":{\"type\":\"struct\",\"fields\":[{\"name\":\"type\",\"type\":\"byte\",\"nullable\":false,\"metadata\":{}},{\"name\":\"size\",\"type\":\"integer\",\"nullable\":true,\"metadata\":{}},{\"name\":\"indices\",\"type\":{\"type\":\"array\",\"elementType\":\"integer\",\"containsNull\":false},\"nullable\":true,\"metadata\":{}},{\"name\":\"values\",\"type\":{\"type\":\"array\",\"elementType\":\"double\",\"containsNull\":false},\"nullable\":true,\"metadata\":{}}]}}"
        },
        {
         "metadata": "{\"ml_attr\":{\"num_attrs\":2}}",
         "name": "probability",
         "type": "{\"type\":\"udt\",\"class\":\"org.apache.spark.ml.linalg.VectorUDT\",\"pyClass\":\"pyspark.ml.linalg.VectorUDT\",\"sqlType\":{\"type\":\"struct\",\"fields\":[{\"name\":\"type\",\"type\":\"byte\",\"nullable\":false,\"metadata\":{}},{\"name\":\"size\",\"type\":\"integer\",\"nullable\":true,\"metadata\":{}},{\"name\":\"indices\",\"type\":{\"type\":\"array\",\"elementType\":\"integer\",\"containsNull\":false},\"nullable\":true,\"metadata\":{}},{\"name\":\"values\",\"type\":{\"type\":\"array\",\"elementType\":\"double\",\"containsNull\":false},\"nullable\":true,\"metadata\":{}}]}}"
        },
        {
         "metadata": "{\"ml_attr\":{\"type\":\"nominal\",\"num_vals\":2}}",
         "name": "prediction",
         "type": "\"double\""
        }
       ],
       "type": "table"
      }
     },
     "output_type": "display_data"
    }
   ],
   "source": [
    "predictions.limit(5).display()"
   ]
  },
  {
   "cell_type": "code",
   "execution_count": 0,
   "metadata": {
    "application/vnd.databricks.v1+cell": {
     "cellMetadata": {
      "byteLimit": 2048000,
      "rowLimit": 10000
     },
     "inputWidgets": {},
     "nuid": "85e7e912-1ad5-4b1e-928a-3e37c0e53ee4",
     "showTitle": false,
     "tableResultSettingsMap": {},
     "title": ""
    }
   },
   "outputs": [],
   "source": [
    "predictions.write.parquet(f'{team_blob_url}/JD/predictions/dt_2020_best_model_predictions', mode='overwrite')"
   ]
  },
  {
   "cell_type": "code",
   "execution_count": 0,
   "metadata": {
    "application/vnd.databricks.v1+cell": {
     "cellMetadata": {},
     "inputWidgets": {},
     "nuid": "4398492b-05fc-4761-886c-0aa1a9aff1e3",
     "showTitle": false,
     "tableResultSettingsMap": {},
     "title": ""
    }
   },
   "outputs": [],
   "source": []
  }
 ],
 "metadata": {
  "application/vnd.databricks.v1+notebook": {
   "computePreferences": null,
   "dashboards": [],
   "environmentMetadata": {
    "base_environment": "",
    "client": "1"
   },
   "language": "python",
   "notebookMetadata": {
    "pythonIndentUnit": 4
   },
   "notebookName": "2_decision_tree_final",
   "widgets": {}
  },
  "language_info": {
   "name": "python"
  }
 },
 "nbformat": 4,
 "nbformat_minor": 0
}