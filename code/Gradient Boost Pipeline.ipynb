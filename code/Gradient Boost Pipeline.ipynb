{
 "cells": [
  {
   "cell_type": "markdown",
   "metadata": {
    "application/vnd.databricks.v1+cell": {
     "cellMetadata": {
      "byteLimit": 2048000,
      "rowLimit": 10000
     },
     "inputWidgets": {},
     "nuid": "c2543d43-b757-444b-aaa9-a4cb6d34e197",
     "showTitle": false,
     "tableResultSettingsMap": {},
     "title": ""
    }
   },
   "source": [
    "# Gradient Boost"
   ]
  },
  {
   "cell_type": "code",
   "execution_count": 0,
   "metadata": {
    "application/vnd.databricks.v1+cell": {
     "cellMetadata": {
      "byteLimit": 2048000,
      "rowLimit": 10000
     },
     "inputWidgets": {},
     "nuid": "20ed65b7-5410-4cdd-847e-7a7d5b8b9601",
     "showTitle": false,
     "tableResultSettingsMap": {},
     "title": ""
    }
   },
   "outputs": [],
   "source": [
    "import pyspark.pandas as ps\n",
    "from pyspark.sql.types import StructType, StructField, StringType, IntegerType, FloatType, ArrayType\n",
    "from pyspark.sql.functions import col, current_date, datediff, skewness, kurtosis, max, length, coalesce\n",
    "\n",
    "from pyspark.ml.classification import DecisionTreeClassifier, DecisionTreeClassificationModel\n",
    "from pyspark.ml.linalg import Vectors\n",
    "from pyspark.ml.feature import StringIndexer, VectorAssembler, Imputer\n",
    "from pyspark.ml.evaluation import BinaryClassificationEvaluator\n",
    "from pyspark.ml import Pipeline\n",
    "\n",
    "from sklearn.metrics import classification_report, precision_recall_fscore_support"
   ]
  },
  {
   "cell_type": "code",
   "execution_count": 0,
   "metadata": {
    "application/vnd.databricks.v1+cell": {
     "cellMetadata": {
      "byteLimit": 2048000,
      "rowLimit": 10000
     },
     "inputWidgets": {},
     "nuid": "00cf8f0e-52c1-4b99-b4a8-46f708218df7",
     "showTitle": false,
     "tableResultSettingsMap": {},
     "title": ""
    }
   },
   "outputs": [],
   "source": [
    "from pyspark.ml.classification import GBTClassifier\n",
    "from pyspark.ml.evaluation import MulticlassClassificationEvaluator\n",
    "from pyspark.ml.tuning import ParamGridBuilder, CrossValidator\n",
    "\n",
    "import numpy as np\n",
    "import time"
   ]
  },
  {
   "cell_type": "code",
   "execution_count": 0,
   "metadata": {
    "application/vnd.databricks.v1+cell": {
     "cellMetadata": {
      "byteLimit": 2048000,
      "rowLimit": 10000
     },
     "inputWidgets": {},
     "nuid": "00b5dbdf-6ed8-413e-a974-41b96390ef0f",
     "showTitle": false,
     "tableResultSettingsMap": {},
     "title": ""
    }
   },
   "outputs": [],
   "source": [
    "## Place this cell in any team notebook that needs access to the team cloud storage.\n",
    "blob_container  = \"261-final-project\"       # The name of your container created in https://portal.azure.com\n",
    "storage_account = \"ansonbquon\"  # The name of your Storage account created in https://portal.azure.com\n",
    "secret_scope    = \"final_project\"           # The name of the scope created in your local computer using the Databricks CLI\n",
    "secret_key      = \"project_key\"             # The name of the secret key created in your local computer using the Databricks CLI\n",
    "team_blob_url   = f\"wasbs://{blob_container}@{storage_account}.blob.core.windows.net\"  #points to the root of your team storage bucket\n",
    "\n",
    "# the 261 course blob storage is mounted here.\n",
    "mids261_mount_path      = \"dbfs:/mnt/mids-w261\"\n",
    "\n",
    "# SAS Token: Grant the team limited access to Azure Storage resources\n",
    "spark.conf.set(\n",
    "  f\"fs.azure.sas.{blob_container}.{storage_account}.blob.core.windows.net\",\n",
    "  dbutils.secrets.get(scope = secret_scope, key = secret_key)\n",
    ")\n",
    "\n",
    "# see what's in the blob storage root folder \n",
    "display(dbutils.fs.ls(f\"{team_blob_url}/PRD/1ymodel/\"))"
   ]
  },
  {
   "cell_type": "markdown",
   "metadata": {
    "application/vnd.databricks.v1+cell": {
     "cellMetadata": {
      "byteLimit": 2048000,
      "rowLimit": 10000
     },
     "inputWidgets": {},
     "nuid": "e9b5d74b-2613-47cd-b77d-bd2a7195e6eb",
     "showTitle": false,
     "tableResultSettingsMap": {},
     "title": ""
    }
   },
   "source": [
    "## Build Pipeline"
   ]
  },
  {
   "cell_type": "markdown",
   "metadata": {
    "application/vnd.databricks.v1+cell": {
     "cellMetadata": {
      "byteLimit": 2048000,
      "rowLimit": 10000
     },
     "inputWidgets": {},
     "nuid": "645fab69-1276-41b2-8b31-95de8abcb8d8",
     "showTitle": false,
     "tableResultSettingsMap": {},
     "title": ""
    }
   },
   "source": [
    "## Load training and testing data"
   ]
  },
  {
   "cell_type": "code",
   "execution_count": 0,
   "metadata": {
    "application/vnd.databricks.v1+cell": {
     "cellMetadata": {
      "byteLimit": 2048000,
      "rowLimit": 10000
     },
     "inputWidgets": {},
     "nuid": "72300992-9126-4e5b-a89e-8bb7f0bcb5e4",
     "showTitle": false,
     "tableResultSettingsMap": {},
     "title": ""
    }
   },
   "outputs": [],
   "source": [
    "# Use of 2015 train dataset and test dataset \n",
    "validationData = spark.read.parquet(f'{team_blob_url}/PRD/1ymodel/df_test_processed')\n",
    "trainingData = spark.read.parquet(f'{team_blob_url}/PRD/1ymodel/df_train_processed')\n",
    "\n",
    "trainingData.limit(5).display()"
   ]
  },
  {
   "cell_type": "code",
   "execution_count": 0,
   "metadata": {
    "application/vnd.databricks.v1+cell": {
     "cellMetadata": {
      "byteLimit": 2048000,
      "rowLimit": 10000
     },
     "inputWidgets": {},
     "nuid": "8a4170a5-2cf6-42bd-a8c9-28611539638b",
     "showTitle": false,
     "tableResultSettingsMap": {},
     "title": ""
    }
   },
   "outputs": [],
   "source": [
    "print(\"Training Data size: \",(trainingData.count(), len(trainingData.columns)))\n",
    "print(\"Validation Data size: \",(validationData.count(), len(validationData.columns)))"
   ]
  },
  {
   "cell_type": "markdown",
   "metadata": {
    "application/vnd.databricks.v1+cell": {
     "cellMetadata": {
      "byteLimit": 2048000,
      "rowLimit": 10000
     },
     "inputWidgets": {},
     "nuid": "306cc33f-85ce-4198-bce1-040f1b6252b6",
     "showTitle": false,
     "tableResultSettingsMap": {},
     "title": ""
    }
   },
   "source": [
    "## Baseline features"
   ]
  },
  {
   "cell_type": "code",
   "execution_count": 0,
   "metadata": {
    "application/vnd.databricks.v1+cell": {
     "cellMetadata": {
      "byteLimit": 2048000,
      "rowLimit": 10000
     },
     "inputWidgets": {},
     "nuid": "fe964e0b-1744-426c-beb4-3141275919dd",
     "showTitle": false,
     "tableResultSettingsMap": {},
     "title": ""
    }
   },
   "outputs": [
    {
     "output_type": "execute_result",
     "data": {
      "text/plain": [
       "19"
      ]
     },
     "execution_count": 6,
     "metadata": {},
     "output_type": "execute_result"
    }
   ],
   "source": [
    "label = 'depDel15'\n",
    "\n",
    "features_columns = [\n",
    "    'distance',\n",
    "    'quarterIndex',\n",
    "    'crsDepTimeSine',\n",
    "    'monthSine',\n",
    "    'dayOfWeekSine',\n",
    "    'originIndex',\n",
    "    'originTypeIndex',\n",
    "    'originPageRank',\n",
    "    'destPageRank',\n",
    "    'timeBtwFlightsPlanned',\n",
    "    'depDel15PrevFIndex',\n",
    "    'depDelayGroupPrevFIndex',\n",
    "    'depTimeBlkPrevFIndex',\n",
    "    'arrDel15PrevFIndex',\n",
    "    'arrDelayGroupPrevFIndex',\n",
    "    'arrTimeBlkPrevFIndex',\n",
    "    'originTypePrevFIndex',\n",
    "    'distancePrevF',\n",
    "    'daysToNearestHoliday'\n",
    "]\n",
    "\n",
    "len(features_columns)"
   ]
  },
  {
   "cell_type": "markdown",
   "metadata": {
    "application/vnd.databricks.v1+cell": {
     "cellMetadata": {
      "byteLimit": 2048000,
      "rowLimit": 10000
     },
     "inputWidgets": {},
     "nuid": "3a79fe3b-9f00-4347-a9af-9abdb420aa55",
     "showTitle": false,
     "tableResultSettingsMap": {},
     "title": ""
    }
   },
   "source": [
    "## Pre-process data and build pipeline"
   ]
  },
  {
   "cell_type": "code",
   "execution_count": 0,
   "metadata": {
    "application/vnd.databricks.v1+cell": {
     "cellMetadata": {
      "byteLimit": 2048000,
      "rowLimit": 10000
     },
     "inputWidgets": {},
     "nuid": "7947598c-bbdb-4993-98a6-fd688d958865",
     "showTitle": false,
     "tableResultSettingsMap": {},
     "title": ""
    }
   },
   "outputs": [],
   "source": [
    "# define pipeline - a sequence of transformations to be applied to the data\n",
    "\n",
    "# StringIndexer that will convert categorical string labels into numerical indices\n",
    "gb_label = StringIndexer(inputCol=label, outputCol='label')\n",
    "# VectorAssembler that will combine multiple feature columns into a single vector column\n",
    "gb_features = VectorAssembler(inputCols=features_columns, outputCol=\"features\")\n",
    "\n",
    "# Chain indexers and GBT in a Pipeline\n",
    "\n",
    "# specifies a sequence of transformations to be applied to the data\n",
    "pipeline = Pipeline(stages=[gb_label, gb_features])\n",
    "\n",
    "# processes the data through each stage of the pipeline, fitting the indexer to learn how to index the categorical features and preparing the assembler to combine features\n",
    "model = pipeline.fit(trainingData)\n",
    "\n",
    "# applies the fitted pipeline model to the input data to transform it according to the defined stages.\n",
    "transformed_training_data = model.transform(trainingData)\n",
    "transformed_validation_data = model.transform(validationData)"
   ]
  },
  {
   "cell_type": "markdown",
   "metadata": {
    "application/vnd.databricks.v1+cell": {
     "cellMetadata": {
      "byteLimit": 2048000,
      "rowLimit": 10000
     },
     "inputWidgets": {},
     "nuid": "831e9c7b-5fb6-4ec2-ae43-5017885c5251",
     "showTitle": false,
     "tableResultSettingsMap": {},
     "title": ""
    }
   },
   "source": [
    "## Hyperparameters"
   ]
  },
  {
   "cell_type": "code",
   "execution_count": 0,
   "metadata": {
    "application/vnd.databricks.v1+cell": {
     "cellMetadata": {
      "byteLimit": 2048000,
      "rowLimit": 10000
     },
     "inputWidgets": {},
     "nuid": "bd6c6be2-74ac-4c2a-9c4b-504c69db811b",
     "showTitle": false,
     "tableResultSettingsMap": {},
     "title": ""
    }
   },
   "outputs": [],
   "source": [
    "# GBT Hyper-parameters\n",
    "gbt_max_iterations = 10\n",
    "max_decision_tree_depth = 10\n"
   ]
  },
  {
   "cell_type": "markdown",
   "metadata": {
    "application/vnd.databricks.v1+cell": {
     "cellMetadata": {
      "byteLimit": 2048000,
      "rowLimit": 10000
     },
     "inputWidgets": {},
     "nuid": "cb922b66-102a-4c50-aedb-5211d1d39357",
     "showTitle": false,
     "tableResultSettingsMap": {},
     "title": ""
    }
   },
   "source": [
    "## Training and Testing"
   ]
  },
  {
   "cell_type": "code",
   "execution_count": 0,
   "metadata": {
    "application/vnd.databricks.v1+cell": {
     "cellMetadata": {
      "byteLimit": 2048000,
      "rowLimit": 10000
     },
     "inputWidgets": {},
     "nuid": "378fe822-0580-4218-995d-551229199e36",
     "showTitle": false,
     "tableResultSettingsMap": {},
     "title": ""
    }
   },
   "outputs": [],
   "source": [
    "# Train a GBT model.\n",
    "gbt = GBTClassifier(labelCol=\"label\", featuresCol=\"features\", maxIter=gbt_max_iterations, maxBins=320, maxDepth=max_decision_tree_depth)\n",
    "gbt_model = gbt.fit(transformed_training_data)"
   ]
  },
  {
   "cell_type": "code",
   "execution_count": 0,
   "metadata": {
    "application/vnd.databricks.v1+cell": {
     "cellMetadata": {
      "byteLimit": 2048000,
      "rowLimit": 10000
     },
     "inputWidgets": {},
     "nuid": "a3f73d99-cd8f-4e2a-a575-6400cb99c3a8",
     "showTitle": false,
     "tableResultSettingsMap": {},
     "title": ""
    }
   },
   "outputs": [],
   "source": [
    "# Test the GBT model\n",
    "predictions = gbt_model.transform(transformed_validation_data)\n",
    "result = predictions.select(\"label\",\"prediction\")\n"
   ]
  },
  {
   "cell_type": "markdown",
   "metadata": {
    "application/vnd.databricks.v1+cell": {
     "cellMetadata": {
      "byteLimit": 2048000,
      "rowLimit": 10000
     },
     "inputWidgets": {},
     "nuid": "723b3e26-b8c4-47d8-9e7c-e2f287dcce5c",
     "showTitle": false,
     "tableResultSettingsMap": {},
     "title": ""
    }
   },
   "source": [
    "## Evaluation Metrics"
   ]
  },
  {
   "cell_type": "code",
   "execution_count": 0,
   "metadata": {
    "application/vnd.databricks.v1+cell": {
     "cellMetadata": {
      "byteLimit": 2048000,
      "rowLimit": 10000
     },
     "inputWidgets": {},
     "nuid": "d0c2b494-17ed-4bbb-8831-d81b7a25e1e6",
     "showTitle": false,
     "tableResultSettingsMap": {},
     "title": ""
    }
   },
   "outputs": [
    {
     "output_type": "stream",
     "name": "stdout",
     "output_type": "stream",
     "text": [
      "Baseline performance on the validation set\nPrecision:  0.7128742857776021\nRecall:  0.74422962728752\nF-beta Score:  0.7377398199090754\n"
     ]
    }
   ],
   "source": [
    "\n",
    "predicted_labels = result.select(\"prediction\").toPandas().to_numpy().astype(int)\n",
    "true_labels = result.select(\"label\").toPandas().to_numpy().astype(int)\n",
    "\n",
    "TP = np.sum((predicted_labels == 1) & (true_labels == 1))\n",
    "FP = np.sum((predicted_labels == 1) & (true_labels == 0))\n",
    "FN = np.sum((predicted_labels == 0) & (true_labels == 1))\n",
    "\n",
    "# Calculate precision and recall\n",
    "precision = TP / (TP + FP) \n",
    "recall = TP / (TP + FN)\n",
    "\n",
    "# Calculate F-beta score\n",
    "beta = 2\n",
    "fbeta_score = (1+(beta*beta)) * (precision * recall) / ((precision * (beta*beta)) + recall)\n",
    "\n",
    "print(\"Baseline performance on the validation set\")\n",
    "print(\"Precision: \",precision)\n",
    "print(\"Recall: \", recall)\n",
    "print(\"F-beta Score: \",fbeta_score)"
   ]
  },
  {
   "cell_type": "markdown",
   "metadata": {
    "application/vnd.databricks.v1+cell": {
     "cellMetadata": {
      "byteLimit": 2048000,
      "rowLimit": 10000
     },
     "inputWidgets": {},
     "nuid": "36e3d853-ff0f-4ca9-8365-790a5a0e2b33",
     "showTitle": false,
     "tableResultSettingsMap": {},
     "title": ""
    }
   },
   "source": [
    "## Early Stopping"
   ]
  },
  {
   "cell_type": "code",
   "execution_count": 0,
   "metadata": {
    "application/vnd.databricks.v1+cell": {
     "cellMetadata": {
      "byteLimit": 2048000,
      "rowLimit": 10000
     },
     "inputWidgets": {},
     "nuid": "c47da79f-60b4-4232-81df-af898110a14e",
     "showTitle": false,
     "tableResultSettingsMap": {},
     "title": ""
    }
   },
   "outputs": [],
   "source": [
    "# set patience parameter, to avoid stop too early, if the model continue traininng result to evaluation metric worse than the last best one, early stop the training iteration\n",
    "max_patience = 3"
   ]
  },
  {
   "cell_type": "code",
   "execution_count": 0,
   "metadata": {
    "application/vnd.databricks.v1+cell": {
     "cellMetadata": {
      "byteLimit": 2048000,
      "rowLimit": 10000
     },
     "inputWidgets": {},
     "nuid": "fdf003a0-3775-46df-809d-1c46b835723f",
     "showTitle": false,
     "tableResultSettingsMap": {},
     "title": ""
    }
   },
   "outputs": [],
   "source": [
    "def get_fbeta_score(result):\n",
    "  predicted_labels = result.select(\"prediction\").toPandas().to_numpy().astype(int)\n",
    "  true_labels = result.select(\"label\").toPandas().to_numpy().astype(int)\n",
    "\n",
    "  TP = np.sum((predicted_labels == 1) & (true_labels == 1))\n",
    "  FP = np.sum((predicted_labels == 1) & (true_labels == 0))\n",
    "  FN = np.sum((predicted_labels == 0) & (true_labels == 1))\n",
    "\n",
    "  # Calculate precision and recall\n",
    "  precision = TP / (TP + FP) \n",
    "  recall = TP / (TP + FN)\n",
    "\n",
    "  # Calculate F-beta score\n",
    "  beta = 2\n",
    "  fbeta_score = (1+(beta*beta)) * (precision * recall) / ((precision * (beta*beta)) + recall)\n",
    "  return fbeta_score\n",
    "\n",
    "\n",
    "best_fbeta = 0.0\n",
    "best_iteration = 0\n",
    "\n",
    "# count extra loop the model run after getting the best result\n",
    "patience_counter = 0\n",
    "\n",
    "for idx in range(gbt_max_iterations):\n",
    "  # set number of iterations in each run\n",
    "  gbt.setMaxIter(idx+1)\n",
    "  # Train\n",
    "  gbt_model = gbt.fit(transformed_training_data)\n",
    "  # Validate\n",
    "  predictions = gbt_model.transform(transformed_validation_data)\n",
    "  # Evaluate\n",
    "  fbeta = get_fbeta_score(predictions)\n",
    "  print(\"iteration: \", idx+1, \"F-beta score: \",fbeta)\n",
    "  # Early stop\n",
    "  if fbeta > best_fbeta:\n",
    "    best_fbeta = fbeta\n",
    "    best_iteration = idx + 1\n",
    "    patience_counter = 0\n",
    "  else:\n",
    "    patience_counter += 1\n",
    "\n",
    "  if patience_counter > max_patience:\n",
    "    # early stop\n",
    "    print(\"early stop\")\n",
    "    break\n",
    "  \n",
    "print(\"best iteration: \", best_iteration, \" and F-beta score: \", best_fbeta)\n",
    "\n",
    "\n"
   ]
  },
  {
   "cell_type": "markdown",
   "metadata": {
    "application/vnd.databricks.v1+cell": {
     "cellMetadata": {
      "byteLimit": 2048000,
      "rowLimit": 10000
     },
     "inputWidgets": {},
     "nuid": "524c1a13-ba91-4320-ab13-03d36c42a607",
     "showTitle": false,
     "tableResultSettingsMap": {},
     "title": ""
    }
   },
   "source": [
    "## Features importance"
   ]
  },
  {
   "cell_type": "code",
   "execution_count": 0,
   "metadata": {
    "application/vnd.databricks.v1+cell": {
     "cellMetadata": {
      "byteLimit": 2048000,
      "rowLimit": 10000
     },
     "inputWidgets": {},
     "nuid": "01c3af4c-7442-493d-8295-2f383ce8f563",
     "showTitle": false,
     "tableResultSettingsMap": {},
     "title": ""
    }
   },
   "outputs": [
    {
     "output_type": "stream",
     "name": "stdout",
     "output_type": "stream",
     "text": [
      "distance 0.02\nquarterIndex 0.01\ncrsDepTimeSine 0.10\nmonthSine 0.04\ndayOfWeekSine 0.02\noriginIndex 0.22\noriginTypeIndex 0.00\noriginPageRank 0.00\ndestPageRank 0.02\ntimeBtwFlightsPlanned 0.12\ndepDel15PrevFIndex 0.17\ndepDelayGroupPrevFIndex 0.08\ndepTimeBlkPrevFIndex 0.03\narrDel15PrevFIndex 0.00\narrDelayGroupPrevFIndex 0.01\narrTimeBlkPrevFIndex 0.04\noriginTypePrevFIndex 0.00\ndistancePrevF 0.10\ndaysToNearestHoliday 0.02\n"
     ]
    }
   ],
   "source": [
    "feature_importances = gbt_model.featureImportances\n",
    "\n",
    "for feature, importance in zip(features_columns, feature_importances):\n",
    "  print(feature, \"{:.2f}\".format(importance))"
   ]
  },
  {
   "cell_type": "markdown",
   "metadata": {
    "application/vnd.databricks.v1+cell": {
     "cellMetadata": {
      "byteLimit": 2048000,
      "rowLimit": 10000
     },
     "inputWidgets": {},
     "nuid": "cd0752ce-17b8-4563-9ff9-e321379298ab",
     "showTitle": false,
     "tableResultSettingsMap": {},
     "title": ""
    }
   },
   "source": [
    "The top 3 features are: originIndex, depDel15PrevFIndex and timeBtwFlightsPlanned"
   ]
  },
  {
   "cell_type": "markdown",
   "metadata": {
    "application/vnd.databricks.v1+cell": {
     "cellMetadata": {
      "byteLimit": 2048000,
      "rowLimit": 10000
     },
     "inputWidgets": {},
     "nuid": "29ad410a-c5b9-4d83-a0ff-dc988751252f",
     "showTitle": false,
     "tableResultSettingsMap": {},
     "title": ""
    }
   },
   "source": [
    "## Features selections\n",
    "### 1. Baseline (baseline features)"
   ]
  },
  {
   "cell_type": "code",
   "execution_count": 0,
   "metadata": {
    "application/vnd.databricks.v1+cell": {
     "cellMetadata": {
      "byteLimit": 2048000,
      "rowLimit": 10000
     },
     "inputWidgets": {},
     "nuid": "df41fe5e-7af5-45cb-8800-e40fdf672a88",
     "showTitle": false,
     "tableResultSettingsMap": {},
     "title": ""
    }
   },
   "outputs": [
    {
     "output_type": "execute_result",
     "data": {
      "text/plain": [
       "19"
      ]
     },
     "execution_count": 35,
     "metadata": {},
     "output_type": "execute_result"
    }
   ],
   "source": [
    "label = 'depDel15'\n",
    "\n",
    "features_columns = [\n",
    "    'distance',\n",
    "    'quarterIndex',\n",
    "    'crsDepTimeSine',\n",
    "    'monthSine',\n",
    "    'dayOfWeekSine',\n",
    "    'originIndex',\n",
    "    'originTypeIndex',\n",
    "    'originPageRank',\n",
    "    'destPageRank',\n",
    "    'timeBtwFlightsPlanned',\n",
    "    'depDel15PrevFIndex',\n",
    "    'depDelayGroupPrevFIndex',\n",
    "    'depTimeBlkPrevFIndex',\n",
    "    'arrDel15PrevFIndex',\n",
    "    'arrDelayGroupPrevFIndex',\n",
    "    'arrTimeBlkPrevFIndex',\n",
    "    'originTypePrevFIndex',\n",
    "    'distancePrevF',\n",
    "    'daysToNearestHoliday'\n",
    "]\n",
    "\n",
    "len(features_columns)"
   ]
  },
  {
   "cell_type": "code",
   "execution_count": 0,
   "metadata": {
    "application/vnd.databricks.v1+cell": {
     "cellMetadata": {
      "byteLimit": 2048000,
      "rowLimit": 10000
     },
     "inputWidgets": {},
     "nuid": "bea70323-f7f6-4e01-96f8-c48958b4974b",
     "showTitle": false,
     "tableResultSettingsMap": {},
     "title": ""
    }
   },
   "outputs": [],
   "source": [
    "def evaluation_metrics(result):\n",
    "    predicted_labels = result.select(\"prediction\").toPandas().to_numpy().astype(int)\n",
    "    true_labels = result.select(\"label\").toPandas().to_numpy().astype(int)\n",
    "\n",
    "    TP = np.sum((predicted_labels == 1) & (true_labels == 1))\n",
    "    FP = np.sum((predicted_labels == 1) & (true_labels == 0))\n",
    "    FN = np.sum((predicted_labels == 0) & (true_labels == 1))\n",
    "\n",
    "    # Calculate precision and recall\n",
    "    precision = TP / (TP + FP) \n",
    "    recall = TP / (TP + FN)\n",
    "\n",
    "    # Calculate F-beta score\n",
    "    beta = 2\n",
    "    fbeta_score = (1+(beta*beta)) * (precision * recall) / ((precision * (beta*beta)) + recall)    \n",
    "\n",
    "    print(\"Baseline performance on the validation set\")\n",
    "    print(\"Precision: \",precision)\n",
    "    print(\"Recall: \", recall)\n",
    "    print(\"F-beta Score: \",fbeta_score)\n",
    "\n",
    "    return precision, recall, fbeta_score"
   ]
  },
  {
   "cell_type": "code",
   "execution_count": 0,
   "metadata": {
    "application/vnd.databricks.v1+cell": {
     "cellMetadata": {
      "byteLimit": 2048000,
      "rowLimit": 10000
     },
     "inputWidgets": {},
     "nuid": "7e5c4658-f28f-441d-b576-cbade7f48c57",
     "showTitle": false,
     "tableResultSettingsMap": {},
     "title": ""
    }
   },
   "outputs": [],
   "source": [
    "def runGBT(maxIter, maxTreeDepth):\n",
    "\n",
    "    # define pipeline - a sequence of transformations to be applied to the data\n",
    "\n",
    "    # StringIndexer that will convert categorical string labels into numerical indices\n",
    "    gb_label = StringIndexer(inputCol=label, outputCol='label')\n",
    "    # VectorAssembler that will combine multiple feature columns into a single vector column\n",
    "    gb_features = VectorAssembler(inputCols=features_columns, outputCol=\"features\")\n",
    "\n",
    "    # Chain indexers and GBT in a Pipeline\n",
    "\n",
    "    # specifies a sequence of transformations to be applied to the data\n",
    "    pipeline = Pipeline(stages=[gb_label, gb_features])\n",
    "\n",
    "    # processes the data through each stage of the pipeline, fitting the indexer to learn how to index the categorical features and preparing the assembler to combine features\n",
    "    model = pipeline.fit(trainingData)\n",
    "\n",
    "    # applies the fitted pipeline model to the input data to transform it according to the defined stages.\n",
    "    transformed_training_data = model.transform(trainingData)\n",
    "    transformed_validation_data = model.transform(validationData)\n",
    "\n",
    "    print(\"Number of features used in Training: \",len(features_columns))\n",
    "\n",
    "    # Train a GBT model.\n",
    "    start = time.time()\n",
    "\n",
    "    gbt = GBTClassifier(labelCol=\"label\", featuresCol=\"features\", maxIter=maxIter, maxBins=320, maxDepth=maxTreeDepth)\n",
    "    gbt_model = gbt.fit(transformed_training_data)\n",
    "\n",
    "    # Training dataset prediction evaluation results\n",
    "    predictions = gbt_model.transform(transformed_training_data)\n",
    "    result = predictions.select(\"label\",\"prediction\")\n",
    "    print(\"Evaluation Result - Training Data\")\n",
    "    evaluation_metrics(result)\n",
    "    print(\"\\n\")\n",
    "\n",
    "    # Test the GBT model\n",
    "    predictions = gbt_model.transform(transformed_validation_data)\n",
    "    result = predictions.select(\"label\",\"prediction\")\n",
    "    print(\"Evaluation Result - Testing Data\")\n",
    "    evaluation_metrics(result)\n",
    "\n",
    "    print(f'Time to complete: {time.time() - start} seconds.')\n",
    "    print(\"\\n\")\n",
    "\n",
    "    feature_importances = gbt_model.featureImportances\n",
    "\n",
    "    for feature, importance in zip(features_columns, feature_importances):\n",
    "        print(feature, \"{:.2f}\".format(importance))\n",
    "\n",
    "    return"
   ]
  },
  {
   "cell_type": "code",
   "execution_count": 0,
   "metadata": {
    "application/vnd.databricks.v1+cell": {
     "cellMetadata": {
      "byteLimit": 2048000,
      "rowLimit": 10000
     },
     "inputWidgets": {},
     "nuid": "9bb95981-49d2-4a61-ad48-182b961ba1f1",
     "showTitle": false,
     "tableResultSettingsMap": {},
     "title": ""
    }
   },
   "outputs": [
    {
     "output_type": "display_data",
     "data": {
      "application/vnd.jupyter.widget-view+json": {
       "model_id": "1ef20c74561541519f42ce5040aa981b",
       "version_major": 2,
       "version_minor": 0
      },
      "text/plain": [
       "Downloading artifacts:   0%|          | 0/20 [00:00<?, ?it/s]"
      ]
     },
     "metadata": {},
     "output_type": "display_data"
    },
    {
     "output_type": "display_data",
     "data": {
      "application/vnd.jupyter.widget-view+json": {
       "model_id": "e656dfd468c84e73a005a6bc74cc7176",
       "version_major": 2,
       "version_minor": 0
      },
      "text/plain": [
       "Uploading artifacts:   0%|          | 0/4 [00:00<?, ?it/s]"
      ]
     },
     "metadata": {},
     "output_type": "display_data"
    },
    {
     "output_type": "stream",
     "name": "stdout",
     "output_type": "stream",
     "text": [
      "Number of features used in Training:  19\n"
     ]
    },
    {
     "output_type": "display_data",
     "data": {
      "application/vnd.jupyter.widget-view+json": {
       "model_id": "7071c806e8a84ef4ac3664f157390b42",
       "version_major": 2,
       "version_minor": 0
      },
      "text/plain": [
       "Downloading artifacts:   0%|          | 0/20 [00:00<?, ?it/s]"
      ]
     },
     "metadata": {},
     "output_type": "display_data"
    },
    {
     "output_type": "display_data",
     "data": {
      "application/vnd.jupyter.widget-view+json": {
       "model_id": "a4c972a0921248fb9cf32823ddc28a0e",
       "version_major": 2,
       "version_minor": 0
      },
      "text/plain": [
       "Uploading artifacts:   0%|          | 0/4 [00:00<?, ?it/s]"
      ]
     },
     "metadata": {},
     "output_type": "display_data"
    },
    {
     "output_type": "stream",
     "name": "stdout",
     "output_type": "stream",
     "text": [
      "Evaluation Result - Training Data\nBaseline performance on the validation set\nPrecision:  0.6830794599852896\nRecall:  0.7582355791769162\nF-beta Score:  0.741909788758745\n\n\nEvaluation Result - Testing Data\nBaseline performance on the validation set\nPrecision:  0.7120185978974696\nRecall:  0.7487449005560225\nF-beta Score:  0.7410996368943435\nTime to complete: 59.13782739639282 seconds.\n\n\ndistance 0.01\nquarterIndex 0.00\ncrsDepTimeSine 0.16\nmonthSine 0.06\ndayOfWeekSine 0.01\noriginIndex 0.20\noriginTypeIndex 0.00\noriginPageRank 0.00\ndestPageRank 0.00\ntimeBtwFlightsPlanned 0.13\ndepDel15PrevFIndex 0.17\ndepDelayGroupPrevFIndex 0.09\ndepTimeBlkPrevFIndex 0.01\narrDel15PrevFIndex 0.00\narrDelayGroupPrevFIndex 0.00\narrTimeBlkPrevFIndex 0.03\noriginTypePrevFIndex 0.00\ndistancePrevF 0.12\ndaysToNearestHoliday 0.01\n"
     ]
    }
   ],
   "source": [
    "# GBT Hyper-parameters\n",
    "gbt_max_iterations = 10\n",
    "max_decision_tree_depth = 5\n",
    "\n",
    "runGBT(maxIter=gbt_max_iterations, maxTreeDepth=max_decision_tree_depth)\n",
    "\n",
    "\n",
    "\n"
   ]
  },
  {
   "cell_type": "markdown",
   "metadata": {
    "application/vnd.databricks.v1+cell": {
     "cellMetadata": {
      "byteLimit": 2048000,
      "rowLimit": 10000
     },
     "inputWidgets": {},
     "nuid": "d739eb3b-7bdb-4423-9e2f-fb9084901b8b",
     "showTitle": false,
     "tableResultSettingsMap": {},
     "title": ""
    }
   },
   "source": [
    "### 2. No Weather"
   ]
  },
  {
   "cell_type": "code",
   "execution_count": 0,
   "metadata": {
    "application/vnd.databricks.v1+cell": {
     "cellMetadata": {
      "byteLimit": 2048000,
      "rowLimit": 10000
     },
     "inputWidgets": {},
     "nuid": "595e7d6d-b7b3-4ece-960a-be82e9e54eab",
     "showTitle": false,
     "tableResultSettingsMap": {},
     "title": ""
    }
   },
   "outputs": [
    {
     "output_type": "execute_result",
     "data": {
      "text/plain": [
       "22"
      ]
     },
     "execution_count": 39,
     "metadata": {},
     "output_type": "execute_result"
    }
   ],
   "source": [
    "label = 'depDel15'\n",
    "\n",
    "features_columns = [\n",
    "    'distance',\n",
    "    'quarterIndex',\n",
    "    'crsDepTimeSine',\n",
    "    'monthSine',\n",
    "    'dayOfWeekSine',\n",
    "    'dayOfMonthIndex',\n",
    "    'originIndex',\n",
    "    'originTypeIndex',\n",
    "    'originPageRank',\n",
    "    'destPageRank',\n",
    "    'opCarrierFlNumBinIndex1',\n",
    "    # 'hourlyAltimeterSetting',\n",
    "    # 'hourlyDewPointTemperature',\n",
    "    # 'hourlyDryBulbTemperature',\n",
    "    # 'hourlyPrecipitation',\n",
    "    # 'hourlyPressureChange',\n",
    "    # 'hourlyPressureTendency',\n",
    "    # 'hourlyRelativeHumidity',\n",
    "    # 'hourlySeaLevelPressure',\n",
    "    # 'hourlyStationPressure',\n",
    "    # 'hourlyVisibility',\n",
    "    # 'hourlyWetBulbTemperature',\n",
    "    # 'hourlyWindDirection',\n",
    "    # 'hourlyWindGustSpeed',\n",
    "    # 'hourlyWindSpeed',\n",
    "    'daysToNearestHoliday',\n",
    "    'timeBtwFlightsPlanned',\n",
    "    'depDel15PrevFIndex',\n",
    "    'depDelayGroupPrevFIndex',\n",
    "    'depTimeBlkPrevFIndex',\n",
    "    'arrDel15PrevFIndex',\n",
    "    'arrDelayGroupPrevFIndex',\n",
    "    'arrTimeBlkPrevFIndex',\n",
    "    'originTypePrevFIndex',\n",
    "    'distancePrevF',\n",
    "    'daysToNearestHoliday'\n",
    "]\n",
    "\n",
    "len(features_columns)"
   ]
  },
  {
   "cell_type": "code",
   "execution_count": 0,
   "metadata": {
    "application/vnd.databricks.v1+cell": {
     "cellMetadata": {
      "byteLimit": 2048000,
      "rowLimit": 10000
     },
     "inputWidgets": {},
     "nuid": "76372b25-30da-4749-acd7-448958f01412",
     "showTitle": false,
     "tableResultSettingsMap": {},
     "title": ""
    }
   },
   "outputs": [
    {
     "output_type": "display_data",
     "data": {
      "application/vnd.jupyter.widget-view+json": {
       "model_id": "512d8e10b46341919f499f4b61599230",
       "version_major": 2,
       "version_minor": 0
      },
      "text/plain": [
       "Downloading artifacts:   0%|          | 0/20 [00:00<?, ?it/s]"
      ]
     },
     "metadata": {},
     "output_type": "display_data"
    },
    {
     "output_type": "display_data",
     "data": {
      "application/vnd.jupyter.widget-view+json": {
       "model_id": "3f8039cd33374fa799df6b88ceb85a64",
       "version_major": 2,
       "version_minor": 0
      },
      "text/plain": [
       "Uploading artifacts:   0%|          | 0/4 [00:00<?, ?it/s]"
      ]
     },
     "metadata": {},
     "output_type": "display_data"
    },
    {
     "output_type": "stream",
     "name": "stdout",
     "output_type": "stream",
     "text": [
      "Number of features used in Training:  22\n"
     ]
    },
    {
     "output_type": "display_data",
     "data": {
      "application/vnd.jupyter.widget-view+json": {
       "model_id": "ba41a0b2cd524d049a86eccba894c9b6",
       "version_major": 2,
       "version_minor": 0
      },
      "text/plain": [
       "Downloading artifacts:   0%|          | 0/20 [00:00<?, ?it/s]"
      ]
     },
     "metadata": {},
     "output_type": "display_data"
    },
    {
     "output_type": "display_data",
     "data": {
      "application/vnd.jupyter.widget-view+json": {
       "model_id": "74b082632b864dd999373bce493aaa90",
       "version_major": 2,
       "version_minor": 0
      },
      "text/plain": [
       "Uploading artifacts:   0%|          | 0/4 [00:00<?, ?it/s]"
      ]
     },
     "metadata": {},
     "output_type": "display_data"
    },
    {
     "output_type": "stream",
     "name": "stdout",
     "output_type": "stream",
     "text": [
      "Evaluation Result - Training Data\nBaseline performance on the validation set\nPrecision:  0.7056945674420144\nRecall:  0.7859697545918556\nF-beta Score:  0.7684861650704822\n\n\nEvaluation Result - Testing Data\nBaseline performance on the validation set\nPrecision:  0.7114411352896564\nRecall:  0.7523540344410083\nF-beta Score:  0.7437992900404384\nTime to complete: 85.96324610710144 seconds.\n\n\ndistance 0.01\nquarterIndex 0.01\ncrsDepTimeSine 0.07\nmonthSine 0.04\ndayOfWeekSine 0.01\ndayOfMonthIndex 0.14\noriginIndex 0.24\noriginTypeIndex 0.00\noriginPageRank 0.00\ndestPageRank 0.02\nopCarrierFlNumBinIndex1 0.00\ndaysToNearestHoliday 0.01\ntimeBtwFlightsPlanned 0.10\ndepDel15PrevFIndex 0.12\ndepDelayGroupPrevFIndex 0.07\ndepTimeBlkPrevFIndex 0.03\narrDel15PrevFIndex 0.00\narrDelayGroupPrevFIndex 0.01\narrTimeBlkPrevFIndex 0.03\noriginTypePrevFIndex 0.00\ndistancePrevF 0.08\ndaysToNearestHoliday 0.00\n"
     ]
    }
   ],
   "source": [
    "# GBT Hyper-parameters\n",
    "gbt_max_iterations = 10\n",
    "max_decision_tree_depth = 10\n",
    "\n",
    "runGBT(maxIter=gbt_max_iterations, maxTreeDepth=max_decision_tree_depth)"
   ]
  },
  {
   "cell_type": "markdown",
   "metadata": {
    "application/vnd.databricks.v1+cell": {
     "cellMetadata": {
      "byteLimit": 2048000,
      "rowLimit": 10000
     },
     "inputWidgets": {},
     "nuid": "fa3213f5-6a56-4296-b167-fdf39a80dfba",
     "showTitle": false,
     "tableResultSettingsMap": {},
     "title": ""
    }
   },
   "source": [
    "### 3. No Weather + No features with 0.00 importance"
   ]
  },
  {
   "cell_type": "code",
   "execution_count": 0,
   "metadata": {
    "application/vnd.databricks.v1+cell": {
     "cellMetadata": {
      "byteLimit": 2048000,
      "rowLimit": 10000
     },
     "inputWidgets": {},
     "nuid": "5a8307d0-b48c-485e-93ba-bd294612b72d",
     "showTitle": false,
     "tableResultSettingsMap": {},
     "title": ""
    }
   },
   "outputs": [
    {
     "output_type": "execute_result",
     "data": {
      "text/plain": [
       "12"
      ]
     },
     "execution_count": 41,
     "metadata": {},
     "output_type": "execute_result"
    }
   ],
   "source": [
    "label = 'depDel15'\n",
    "\n",
    "features_columns = [\n",
    "    'distance',\n",
    "    #'quarterIndex',\n",
    "    'crsDepTimeSine',\n",
    "    'monthSine',\n",
    "    #'dayOfWeekSine',\n",
    "    'dayOfMonthIndex',\n",
    "    'originIndex',\n",
    "    #'originTypeIndex',\n",
    "    #'originPageRank',\n",
    "    'destPageRank',\n",
    "    #'opCarrierFlNumBinIndex1',\n",
    "    # 'hourlyAltimeterSetting',\n",
    "    # 'hourlyDewPointTemperature',\n",
    "    # 'hourlyDryBulbTemperature',\n",
    "    # 'hourlyPrecipitation',\n",
    "    # 'hourlyPressureChange',\n",
    "    # 'hourlyPressureTendency',\n",
    "    # 'hourlyRelativeHumidity',\n",
    "    # 'hourlySeaLevelPressure',\n",
    "    # 'hourlyStationPressure',\n",
    "    # 'hourlyVisibility',\n",
    "    # 'hourlyWetBulbTemperature',\n",
    "    # 'hourlyWindDirection',\n",
    "    # 'hourlyWindGustSpeed',\n",
    "    # 'hourlyWindSpeed',\n",
    "    #'daysToNearestHoliday',\n",
    "    'timeBtwFlightsPlanned',\n",
    "    'depDel15PrevFIndex',\n",
    "    'depDelayGroupPrevFIndex',\n",
    "    'depTimeBlkPrevFIndex',\n",
    "    #'arrDel15PrevFIndex',\n",
    "    #'arrDelayGroupPrevFIndex',\n",
    "    'arrTimeBlkPrevFIndex',\n",
    "    #'originTypePrevFIndex',\n",
    "    'distancePrevF',\n",
    "    #'daysToNearestHoliday'\n",
    "]\n",
    "\n",
    "len(features_columns)\n"
   ]
  },
  {
   "cell_type": "code",
   "execution_count": 0,
   "metadata": {
    "application/vnd.databricks.v1+cell": {
     "cellMetadata": {
      "byteLimit": 2048000,
      "rowLimit": 10000
     },
     "inputWidgets": {},
     "nuid": "7f68abaa-7e5e-41ee-b9c8-26df8d1235e8",
     "showTitle": false,
     "tableResultSettingsMap": {},
     "title": ""
    }
   },
   "outputs": [
    {
     "output_type": "display_data",
     "data": {
      "application/vnd.jupyter.widget-view+json": {
       "model_id": "eb2eff782dd04ee2a165f3d682f933c2",
       "version_major": 2,
       "version_minor": 0
      },
      "text/plain": [
       "Downloading artifacts:   0%|          | 0/20 [00:00<?, ?it/s]"
      ]
     },
     "metadata": {},
     "output_type": "display_data"
    },
    {
     "output_type": "display_data",
     "data": {
      "application/vnd.jupyter.widget-view+json": {
       "model_id": "9d37cc2ebeb0440fb4ff35d5ecf92676",
       "version_major": 2,
       "version_minor": 0
      },
      "text/plain": [
       "Uploading artifacts:   0%|          | 0/4 [00:00<?, ?it/s]"
      ]
     },
     "metadata": {},
     "output_type": "display_data"
    },
    {
     "output_type": "stream",
     "name": "stdout",
     "output_type": "stream",
     "text": [
      "Number of features used in Training:  12\n"
     ]
    },
    {
     "output_type": "display_data",
     "data": {
      "application/vnd.jupyter.widget-view+json": {
       "model_id": "4c5cfcc9e15c47c9a466828aed3bce96",
       "version_major": 2,
       "version_minor": 0
      },
      "text/plain": [
       "Downloading artifacts:   0%|          | 0/20 [00:00<?, ?it/s]"
      ]
     },
     "metadata": {},
     "output_type": "display_data"
    },
    {
     "output_type": "display_data",
     "data": {
      "application/vnd.jupyter.widget-view+json": {
       "model_id": "0fe17c580e14488fa8df175ca2e9dfaa",
       "version_major": 2,
       "version_minor": 0
      },
      "text/plain": [
       "Uploading artifacts:   0%|          | 0/4 [00:00<?, ?it/s]"
      ]
     },
     "metadata": {},
     "output_type": "display_data"
    },
    {
     "output_type": "stream",
     "name": "stdout",
     "output_type": "stream",
     "text": [
      "Evaluation Result - Training Data\nBaseline performance on the validation set\nPrecision:  0.6792342198810487\nRecall:  0.7551041101518591\nF-beta Score:  0.7386038251176077\n\n\nEvaluation Result - Testing Data\nBaseline performance on the validation set\nPrecision:  0.7075958046575412\nRecall:  0.7520609851084669\nF-beta Score:  0.7427264287242947\nTime to complete: 51.4596107006073 seconds.\n\n\ndistance 0.01\ncrsDepTimeSine 0.19\nmonthSine 0.05\ndayOfMonthIndex 0.04\noriginIndex 0.18\ndestPageRank 0.00\ntimeBtwFlightsPlanned 0.09\ndepDel15PrevFIndex 0.23\ndepDelayGroupPrevFIndex 0.07\ndepTimeBlkPrevFIndex 0.01\narrTimeBlkPrevFIndex 0.03\ndistancePrevF 0.10\n"
     ]
    }
   ],
   "source": [
    "# GBT Hyper-parameters\n",
    "gbt_max_iterations = 5\n",
    "max_decision_tree_depth = 5\n",
    "\n",
    "runGBT(maxIter=gbt_max_iterations, maxTreeDepth=max_decision_tree_depth)"
   ]
  },
  {
   "cell_type": "markdown",
   "metadata": {
    "application/vnd.databricks.v1+cell": {
     "cellMetadata": {
      "byteLimit": 2048000,
      "rowLimit": 10000
     },
     "inputWidgets": {},
     "nuid": "87013022-9cfc-4fcf-a299-8b4c58984c8e",
     "showTitle": false,
     "tableResultSettingsMap": {},
     "title": ""
    }
   },
   "source": [
    "### 4. Full (All include features and experimental features from data dict) "
   ]
  },
  {
   "cell_type": "code",
   "execution_count": 0,
   "metadata": {
    "application/vnd.databricks.v1+cell": {
     "cellMetadata": {
      "byteLimit": 2048000,
      "rowLimit": 10000
     },
     "inputWidgets": {},
     "nuid": "03d9cc99-b612-4ea3-934c-c2a8ee3be302",
     "showTitle": false,
     "tableResultSettingsMap": {},
     "title": ""
    }
   },
   "outputs": [
    {
     "output_type": "execute_result",
     "data": {
      "text/plain": [
       "36"
      ]
     },
     "execution_count": 43,
     "metadata": {},
     "output_type": "execute_result"
    }
   ],
   "source": [
    "features_columns = [\n",
    "    'distance',\n",
    "    'quarterIndex',\n",
    "    'crsDepTimeSine',\n",
    "    'monthSine',\n",
    "    'dayOfWeekSine',\n",
    "    'dayOfMonthIndex',\n",
    "    'originIndex',\n",
    "    'originTypeIndex',\n",
    "    'originPageRank',\n",
    "    'destPageRank',\n",
    "    'opCarrierFlNumBinIndex1',\n",
    "    'hourlyAltimeterSetting',\n",
    "    'hourlyDewPointTemperature',\n",
    "    'hourlyDryBulbTemperature',\n",
    "    'hourlyPrecipitation',\n",
    "    'hourlyPressureChange',\n",
    "    'hourlyPressureTendency',\n",
    "    'hourlyRelativeHumidity',\n",
    "    'hourlySeaLevelPressure',\n",
    "    'hourlyStationPressure',\n",
    "    'hourlyVisibility',\n",
    "    'hourlyWetBulbTemperature',\n",
    "    'hourlyWindDirection',\n",
    "    'hourlyWindGustSpeed',\n",
    "    'hourlyWindSpeed',\n",
    "    'daysToNearestHoliday',\n",
    "    'timeBtwFlightsPlanned',\n",
    "    'depDel15PrevFIndex',\n",
    "    'depDelayGroupPrevFIndex',\n",
    "    'depTimeBlkPrevFIndex',\n",
    "    'arrDel15PrevFIndex',\n",
    "    'arrDelayGroupPrevFIndex',\n",
    "    'arrTimeBlkPrevFIndex',\n",
    "    'originTypePrevFIndex',\n",
    "    'distancePrevF',\n",
    "    'daysToNearestHoliday'\n",
    "]\n",
    "\n",
    "len(features_columns)"
   ]
  },
  {
   "cell_type": "code",
   "execution_count": 0,
   "metadata": {
    "application/vnd.databricks.v1+cell": {
     "cellMetadata": {
      "byteLimit": 2048000,
      "rowLimit": 10000
     },
     "inputWidgets": {},
     "nuid": "8a1c2b71-7086-4900-8148-588b1ab6a2d5",
     "showTitle": false,
     "tableResultSettingsMap": {},
     "title": ""
    }
   },
   "outputs": [
    {
     "output_type": "display_data",
     "data": {
      "application/vnd.jupyter.widget-view+json": {
       "model_id": "f427386513194fe9889f3a107cc6a296",
       "version_major": 2,
       "version_minor": 0
      },
      "text/plain": [
       "Downloading artifacts:   0%|          | 0/20 [00:00<?, ?it/s]"
      ]
     },
     "metadata": {},
     "output_type": "display_data"
    },
    {
     "output_type": "display_data",
     "data": {
      "application/vnd.jupyter.widget-view+json": {
       "model_id": "ef07c98337e345fb8bc79b17ece43c2e",
       "version_major": 2,
       "version_minor": 0
      },
      "text/plain": [
       "Uploading artifacts:   0%|          | 0/4 [00:00<?, ?it/s]"
      ]
     },
     "metadata": {},
     "output_type": "display_data"
    },
    {
     "output_type": "stream",
     "name": "stdout",
     "output_type": "stream",
     "text": [
      "Number of features used in Training:  36\n"
     ]
    },
    {
     "output_type": "display_data",
     "data": {
      "application/vnd.jupyter.widget-view+json": {
       "model_id": "a98a5f0d047540278398022782dc0cff",
       "version_major": 2,
       "version_minor": 0
      },
      "text/plain": [
       "Downloading artifacts:   0%|          | 0/20 [00:00<?, ?it/s]"
      ]
     },
     "metadata": {},
     "output_type": "display_data"
    },
    {
     "output_type": "display_data",
     "data": {
      "application/vnd.jupyter.widget-view+json": {
       "model_id": "e8bcb1bb52e54d4f8d7e380bf8d4f6b3",
       "version_major": 2,
       "version_minor": 0
      },
      "text/plain": [
       "Uploading artifacts:   0%|          | 0/4 [00:00<?, ?it/s]"
      ]
     },
     "metadata": {},
     "output_type": "display_data"
    },
    {
     "output_type": "stream",
     "name": "stdout",
     "output_type": "stream",
     "text": [
      "Evaluation Result - Training Data\nBaseline performance on the validation set\nPrecision:  0.702308349823226\nRecall:  0.7865913077372831\nF-beta Score:  0.7681543016296247\n\n\nEvaluation Result - Testing Data\nBaseline performance on the validation set\nPrecision:  0.7159430051627835\nRecall:  0.7705230930585867\nF-beta Score:  0.7589513255413485\nTime to complete: 71.14635181427002 seconds.\n\n\ndistance 0.02\nquarterIndex 0.00\ncrsDepTimeSine 0.09\nmonthSine 0.04\ndayOfWeekSine 0.00\ndayOfMonthIndex 0.08\noriginIndex 0.19\noriginTypeIndex 0.00\noriginPageRank 0.00\ndestPageRank 0.01\nopCarrierFlNumBinIndex1 0.00\nhourlyAltimeterSetting 0.00\nhourlyDewPointTemperature 0.01\nhourlyDryBulbTemperature 0.02\nhourlyPrecipitation 0.02\nhourlyPressureChange 0.00\nhourlyPressureTendency 0.00\nhourlyRelativeHumidity 0.01\nhourlySeaLevelPressure 0.01\nhourlyStationPressure 0.00\nhourlyVisibility 0.01\nhourlyWetBulbTemperature 0.01\nhourlyWindDirection 0.00\nhourlyWindGustSpeed 0.00\nhourlyWindSpeed 0.00\ndaysToNearestHoliday 0.00\ntimeBtwFlightsPlanned 0.10\ndepDel15PrevFIndex 0.16\ndepDelayGroupPrevFIndex 0.07\ndepTimeBlkPrevFIndex 0.02\narrDel15PrevFIndex 0.00\narrDelayGroupPrevFIndex 0.00\narrTimeBlkPrevFIndex 0.03\noriginTypePrevFIndex 0.00\ndistancePrevF 0.09\ndaysToNearestHoliday 0.00\n"
     ]
    }
   ],
   "source": [
    "# GBT Hyper-parameters\n",
    "gbt_max_iterations = 5\n",
    "max_decision_tree_depth = 10\n",
    "\n",
    "runGBT(maxIter=gbt_max_iterations, maxTreeDepth=max_decision_tree_depth)"
   ]
  },
  {
   "cell_type": "markdown",
   "metadata": {
    "application/vnd.databricks.v1+cell": {
     "cellMetadata": {
      "byteLimit": 2048000,
      "rowLimit": 10000
     },
     "inputWidgets": {},
     "nuid": "7edcc1fd-e32a-4f0a-9ada-f90d15c7fd88",
     "showTitle": false,
     "tableResultSettingsMap": {},
     "title": ""
    }
   },
   "source": [
    "\n",
    "The 0.0 importance features are:\n",
    "- quarterIndex 0.00\n",
    "- dayOfWeekSine 0.00\n",
    "- originTypeIndex 0.00\n",
    "- originPageRank 0.00\n",
    "- opCarrierFlNumBinIndex1 0.00\n",
    "- hourlyAltimeterSetting 0.00\n",
    "- hourlyPressureChange 0.00\n",
    "- hourlyPressureTendency 0.00\n",
    "- hourlyStationPressure 0.00\n",
    "- hourlyWindDirection 0.00\n",
    "- hourlyWindGustSpeed 0.00\n",
    "- hourlyWindSpeed 0.00\n",
    "- daysToNearestHoliday 0.00\n",
    "- arrDel15PrevFIndex 0.00\n",
    "- arrDelayGroupPrevFIndex 0.00\n",
    "- originTypePrevFIndex 0.00\n",
    "- daysToNearestHoliday 0.00  \n",
    "\n",
    "The top 3 important features are:\n",
    "- originIndex 0.19\n",
    "- depDel15PrevFIndex 0.16\n",
    "- timeBtwFlightsPlanned 0.10\n",
    "\n"
   ]
  },
  {
   "cell_type": "markdown",
   "metadata": {
    "application/vnd.databricks.v1+cell": {
     "cellMetadata": {
      "byteLimit": 2048000,
      "rowLimit": 10000
     },
     "inputWidgets": {},
     "nuid": "ad178dbb-b44c-4c3e-826d-312881e35a40",
     "showTitle": false,
     "tableResultSettingsMap": {},
     "title": ""
    }
   },
   "source": [
    "# Results and Discussions"
   ]
  },
  {
   "cell_type": "code",
   "execution_count": 0,
   "metadata": {
    "application/vnd.databricks.v1+cell": {
     "cellMetadata": {
      "byteLimit": 2048000,
      "rowLimit": 10000
     },
     "inputWidgets": {},
     "nuid": "c418778f-7de6-4d27-876b-7364084d203f",
     "showTitle": false,
     "tableResultSettingsMap": {},
     "title": ""
    }
   },
   "outputs": [],
   "source": [
    "display(dbutils.fs.ls(f\"{team_blob_url}/PRD/xval/\"))"
   ]
  },
  {
   "cell_type": "markdown",
   "metadata": {
    "application/vnd.databricks.v1+cell": {
     "cellMetadata": {
      "byteLimit": 2048000,
      "rowLimit": 10000
     },
     "inputWidgets": {},
     "nuid": "f6b2064d-630d-4872-81b0-13aad887838b",
     "showTitle": false,
     "tableResultSettingsMap": {},
     "title": ""
    }
   },
   "source": [
    "### Cross Validation - Find Best Hyperparameters"
   ]
  },
  {
   "cell_type": "code",
   "execution_count": 0,
   "metadata": {
    "application/vnd.databricks.v1+cell": {
     "cellMetadata": {
      "byteLimit": 2048000,
      "rowLimit": 10000
     },
     "inputWidgets": {},
     "nuid": "749af38f-9af9-4dec-8dc1-fcd775ba19df",
     "showTitle": false,
     "tableResultSettingsMap": {},
     "title": ""
    }
   },
   "outputs": [],
   "source": [
    "# 3 cross validation datasets\n",
    "df_xval1_train = spark.read.parquet(f\"{team_blob_url}/PRD/xval/df_xval1_train_processed/\")\n",
    "df_xval1_test = spark.read.parquet(f\"{team_blob_url}/PRD/xval/df_xval1_test_processed/\")\n",
    "\n",
    "df_xval2_train = spark.read.parquet(f\"{team_blob_url}/PRD/xval/df_xval2_train_processed/\")\n",
    "df_xval2_test = spark.read.parquet(f\"{team_blob_url}/PRD/xval/df_xval2_test_processed/\")\n",
    "\n",
    "df_xval3_train = spark.read.parquet(f\"{team_blob_url}/PRD/xval/df_xval3_train_processed/\")\n",
    "df_xval3_test = spark.read.parquet(f\"{team_blob_url}/PRD/xval/df_xval3_test_processed/\")\n",
    "\n"
   ]
  },
  {
   "cell_type": "code",
   "execution_count": 0,
   "metadata": {
    "application/vnd.databricks.v1+cell": {
     "cellMetadata": {
      "byteLimit": 2048000,
      "rowLimit": 10000
     },
     "inputWidgets": {},
     "nuid": "0135a3f6-7ee2-4701-bf6f-c4a5a278ca48",
     "showTitle": false,
     "tableResultSettingsMap": {},
     "title": ""
    }
   },
   "outputs": [
    {
     "output_type": "execute_result",
     "data": {
      "text/plain": [
       "36"
      ]
     },
     "execution_count": 11,
     "metadata": {},
     "output_type": "execute_result"
    }
   ],
   "source": [
    "label = 'depDel15'\n",
    "\n",
    "features_columns = [\n",
    "    'distance',\n",
    "    'quarterIndex',\n",
    "    'crsDepTimeSine',\n",
    "    'monthSine',\n",
    "    'dayOfWeekSine',\n",
    "    'dayOfMonthIndex',\n",
    "    'originIndex',\n",
    "    'originTypeIndex',\n",
    "    'originPageRank',\n",
    "    'destPageRank',\n",
    "    'opCarrierFlNumBinIndex1',\n",
    "    'hourlyAltimeterSetting',\n",
    "    'hourlyDewPointTemperature',\n",
    "    'hourlyDryBulbTemperature',\n",
    "    'hourlyPrecipitation',\n",
    "    'hourlyPressureChange',\n",
    "    'hourlyPressureTendency',\n",
    "    'hourlyRelativeHumidity',\n",
    "    'hourlySeaLevelPressure',\n",
    "    'hourlyStationPressure',\n",
    "    'hourlyVisibility',\n",
    "    'hourlyWetBulbTemperature',\n",
    "    'hourlyWindDirection',\n",
    "    'hourlyWindGustSpeed',\n",
    "    'hourlyWindSpeed',\n",
    "    'daysToNearestHoliday',\n",
    "    'timeBtwFlightsPlanned',\n",
    "    'depDel15PrevFIndex',\n",
    "    'depDelayGroupPrevFIndex',\n",
    "    'depTimeBlkPrevFIndex',\n",
    "    'arrDel15PrevFIndex',\n",
    "    'arrDelayGroupPrevFIndex',\n",
    "    'arrTimeBlkPrevFIndex',\n",
    "    'originTypePrevFIndex',\n",
    "    'distancePrevF',\n",
    "    'daysToNearestHoliday'\n",
    "]\n",
    "\n",
    "len(features_columns)"
   ]
  },
  {
   "cell_type": "code",
   "execution_count": 0,
   "metadata": {
    "application/vnd.databricks.v1+cell": {
     "cellMetadata": {
      "byteLimit": 2048000,
      "rowLimit": 10000
     },
     "inputWidgets": {},
     "nuid": "a50eed6b-ff30-4da5-a2c5-cd2092b7a852",
     "showTitle": false,
     "tableResultSettingsMap": {},
     "title": ""
    }
   },
   "outputs": [],
   "source": [
    "def crossValidateGBT(maxIter, maxTreeDepth):\n",
    "\n",
    "    # define pipeline - a sequence of transformations to be applied to the data\n",
    "\n",
    "    # StringIndexer that will convert categorical string labels into numerical indices\n",
    "    gb_label = StringIndexer(inputCol=label, outputCol='label')\n",
    "    # VectorAssembler that will combine multiple feature columns into a single vector column\n",
    "    gb_features = VectorAssembler(inputCols=features_columns, outputCol=\"features\")\n",
    "\n",
    "    # Chain indexers and GBT in a Pipeline\n",
    "\n",
    "    # specifies a sequence of transformations to be applied to the data\n",
    "    pipeline = Pipeline(stages=[gb_label, gb_features])\n",
    "\n",
    "    # Train a GBT model.\n",
    "    start = time.time()\n",
    "    \n",
    "    total_train_precision = 0\n",
    "    total_train_recall = 0\n",
    "    total_train_fbeta = 0\n",
    "\n",
    "    total_test_precision = 0\n",
    "    total_test_recall = 0\n",
    "    total_test_fbeta = 0\n",
    "\n",
    "    gbt = GBTClassifier(labelCol=\"label\", featuresCol=\"features\", maxIter=maxIter, maxBins=350, maxDepth=maxTreeDepth)\n",
    "\n",
    "    for i in range(3):\n",
    "        \n",
    "        if i == 0:\n",
    "            trainingData = df_xval1_train\n",
    "            validationData = df_xval1_test\n",
    "        elif i == 1:\n",
    "            trainingData = df_xval2_train\n",
    "            validationData = df_xval2_test\n",
    "        elif i == 2:\n",
    "            trainingData = df_xval3_train\n",
    "            validationData = df_xval3_test\n",
    "\n",
    "        # processes the data through each stage of the pipeline, fitting the indexer to learn how to index the categorical features and preparing the assembler to combine features\n",
    "        model = pipeline.fit(trainingData)\n",
    "\n",
    "        # applies the fitted pipeline model to the input data to transform it according to the defined stages.\n",
    "        transformed_training_data = model.transform(trainingData)\n",
    "        transformed_validation_data = model.transform(validationData)\n",
    "\n",
    "        \n",
    "        gbt_model = gbt.fit(transformed_training_data)\n",
    "\n",
    "        # Training dataset prediction evaluation results\n",
    "        predictions = gbt_model.transform(transformed_training_data)\n",
    "        result = predictions.select(\"label\",\"prediction\")\n",
    "        print(\"Evaluation Result - Training Data\")\n",
    "        precision, recall, fbeta = evaluation_metrics(result)\n",
    "\n",
    "        weight = 0.0\n",
    "        if i == 0:\n",
    "            weight = 0.2\n",
    "        elif i == 1:\n",
    "            weight = 0.3\n",
    "        elif i == 2:\n",
    "            weight = 0.5\n",
    "\n",
    "        total_train_precision += weight * precision\n",
    "        total_train_recall += weight * recall\n",
    "        total_train_fbeta += weight * fbeta\n",
    "\n",
    "        # Test the GBT model\n",
    "        predictions = gbt_model.transform(transformed_validation_data)\n",
    "        result = predictions.select(\"label\",\"prediction\")\n",
    "        print(\"Evaluation Result - Testing Data\")\n",
    "        precision, recall, fbeta =evaluation_metrics(result)\n",
    "        total_test_precision += weight * precision\n",
    "        total_test_recall += weight * recall\n",
    "        total_test_fbeta += weight * fbeta\n",
    "        \n",
    "        print(\"\\n\")\n",
    "\n",
    "\n",
    "    print(\"Overall Training result:\")\n",
    "    print(\"Weighted Train Precision: \", total_train_precision)\n",
    "    print(\"Weighted Train Recall: \", total_train_recall)\n",
    "    print(\"Weighted Train F-beta: \", total_train_fbeta)\n",
    "    print(\"Overall Testing result:\")\n",
    "    print(\"Weighted Test Precision: \", total_test_precision)\n",
    "    print(\"Weighted Test Recall: \", total_test_recall)\n",
    "    print(\"Weighted Test F-beta: \", total_test_fbeta)\n",
    "\n",
    "\n",
    "    print(f'Time to complete: {time.time() - start} seconds.')\n",
    "    print(\"\\n\")\n",
    "\n",
    "    #feature_importances = gbt_model.featureImportances\n",
    "\n",
    "    #for feature, importance in zip(features_columns, feature_importances):\n",
    "    #    print(feature, \"{:.2f}\".format(importance))\n",
    "\n",
    "    return"
   ]
  },
  {
   "cell_type": "code",
   "execution_count": 0,
   "metadata": {
    "application/vnd.databricks.v1+cell": {
     "cellMetadata": {
      "byteLimit": 2048000,
      "rowLimit": 10000
     },
     "inputWidgets": {},
     "nuid": "7f8050c9-79b8-488f-aa85-de5bbb24e376",
     "showTitle": false,
     "tableResultSettingsMap": {},
     "title": ""
    }
   },
   "outputs": [
    {
     "output_type": "display_data",
     "data": {
      "application/vnd.jupyter.widget-view+json": {
       "model_id": "a7d4ccd533e04a1ba8a0d4a557e1742c",
       "version_major": 2,
       "version_minor": 0
      },
      "text/plain": [
       "Downloading artifacts:   0%|          | 0/20 [00:00<?, ?it/s]"
      ]
     },
     "metadata": {},
     "output_type": "display_data"
    },
    {
     "output_type": "display_data",
     "data": {
      "application/vnd.jupyter.widget-view+json": {
       "model_id": "dd9ecc06e85e477fab5d38c24be745d6",
       "version_major": 2,
       "version_minor": 0
      },
      "text/plain": [
       "Uploading artifacts:   0%|          | 0/4 [00:00<?, ?it/s]"
      ]
     },
     "metadata": {},
     "output_type": "display_data"
    },
    {
     "output_type": "display_data",
     "data": {
      "application/vnd.jupyter.widget-view+json": {
       "model_id": "0a010e970c9b4a2c9b40b697e256fa9e",
       "version_major": 2,
       "version_minor": 0
      },
      "text/plain": [
       "Downloading artifacts:   0%|          | 0/20 [00:00<?, ?it/s]"
      ]
     },
     "metadata": {},
     "output_type": "display_data"
    },
    {
     "output_type": "display_data",
     "data": {
      "application/vnd.jupyter.widget-view+json": {
       "model_id": "dac22d112bd64f7890248e2af920d36e",
       "version_major": 2,
       "version_minor": 0
      },
      "text/plain": [
       "Uploading artifacts:   0%|          | 0/4 [00:00<?, ?it/s]"
      ]
     },
     "metadata": {},
     "output_type": "display_data"
    },
    {
     "output_type": "stream",
     "name": "stdout",
     "output_type": "stream",
     "text": [
      "Evaluation Result - Training Data\nBaseline performance on the validation set\nPrecision:  0.6864776559961768\nRecall:  0.7503637018076306\nF-beta Score:  0.7366526009722948\nEvaluation Result - Testing Data\nBaseline performance on the validation set\nPrecision:  0.7072700572917744\nRecall:  0.7572613005235046\nF-beta Score:  0.7467055758243812\n\n\n"
     ]
    },
    {
     "output_type": "display_data",
     "data": {
      "application/vnd.jupyter.widget-view+json": {
       "model_id": "13c069d8cda84bd2bfe8779e7eadffa8",
       "version_major": 2,
       "version_minor": 0
      },
      "text/plain": [
       "Downloading artifacts:   0%|          | 0/20 [00:00<?, ?it/s]"
      ]
     },
     "metadata": {},
     "output_type": "display_data"
    },
    {
     "output_type": "display_data",
     "data": {
      "application/vnd.jupyter.widget-view+json": {
       "model_id": "4fd84f03145e4ed3ad373d924f82680c",
       "version_major": 2,
       "version_minor": 0
      },
      "text/plain": [
       "Uploading artifacts:   0%|          | 0/4 [00:00<?, ?it/s]"
      ]
     },
     "metadata": {},
     "output_type": "display_data"
    },
    {
     "output_type": "display_data",
     "data": {
      "application/vnd.jupyter.widget-view+json": {
       "model_id": "e510624866914325a58597b423b2f8c2",
       "version_major": 2,
       "version_minor": 0
      },
      "text/plain": [
       "Downloading artifacts:   0%|          | 0/20 [00:00<?, ?it/s]"
      ]
     },
     "metadata": {},
     "output_type": "display_data"
    },
    {
     "output_type": "display_data",
     "data": {
      "application/vnd.jupyter.widget-view+json": {
       "model_id": "4903d7e5b23040d48251701b523ffa7f",
       "version_major": 2,
       "version_minor": 0
      },
      "text/plain": [
       "Uploading artifacts:   0%|          | 0/4 [00:00<?, ?it/s]"
      ]
     },
     "metadata": {},
     "output_type": "display_data"
    },
    {
     "output_type": "stream",
     "name": "stdout",
     "output_type": "stream",
     "text": [
      "Evaluation Result - Training Data\nBaseline performance on the validation set\nPrecision:  0.6857050312149192\nRecall:  0.7731833323160268\nF-beta Score:  0.7539465013019215\nEvaluation Result - Testing Data\nBaseline performance on the validation set\nPrecision:  0.6352416285658496\nRecall:  0.7511250125243408\nF-beta Score:  0.7246850100156266\n\n\n"
     ]
    },
    {
     "output_type": "display_data",
     "data": {
      "application/vnd.jupyter.widget-view+json": {
       "model_id": "8c479a5f9a71495e88d02165e2b36333",
       "version_major": 2,
       "version_minor": 0
      },
      "text/plain": [
       "Downloading artifacts:   0%|          | 0/20 [00:00<?, ?it/s]"
      ]
     },
     "metadata": {},
     "output_type": "display_data"
    },
    {
     "output_type": "display_data",
     "data": {
      "application/vnd.jupyter.widget-view+json": {
       "model_id": "a2bcd300502243b1b3b19f785ef5cd9e",
       "version_major": 2,
       "version_minor": 0
      },
      "text/plain": [
       "Uploading artifacts:   0%|          | 0/4 [00:00<?, ?it/s]"
      ]
     },
     "metadata": {},
     "output_type": "display_data"
    },
    {
     "output_type": "display_data",
     "data": {
      "application/vnd.jupyter.widget-view+json": {
       "model_id": "43a263bb563446728ccbf22bfa10dc59",
       "version_major": 2,
       "version_minor": 0
      },
      "text/plain": [
       "Downloading artifacts:   0%|          | 0/20 [00:00<?, ?it/s]"
      ]
     },
     "metadata": {},
     "output_type": "display_data"
    },
    {
     "output_type": "display_data",
     "data": {
      "application/vnd.jupyter.widget-view+json": {
       "model_id": "904eb6cc23d949c5a46ebcf0a84bfe27",
       "version_major": 2,
       "version_minor": 0
      },
      "text/plain": [
       "Uploading artifacts:   0%|          | 0/4 [00:00<?, ?it/s]"
      ]
     },
     "metadata": {},
     "output_type": "display_data"
    },
    {
     "output_type": "stream",
     "name": "stdout",
     "output_type": "stream",
     "text": [
      "Evaluation Result - Training Data\nBaseline performance on the validation set\nPrecision:  0.6932422108171409\nRecall:  0.7691222080577796\nF-beta Score:  0.7526457848999716\nEvaluation Result - Testing Data\nBaseline performance on the validation set\nPrecision:  0.6877060418634411\nRecall:  0.7730498397128531\nF-beta Score:  0.7543275445587702\n\n\nOverall Training result:\nWeighted Train Precision:  0.6896281459722815\nWeighted Train Recall:  0.766588844085224\nWeighted Train F-beta:  0.7498373630350212\nOverall Testing result:\nWeighted Test Precision:  0.6758795209598303\nWeighted Test Recall:  0.7633146837184297\nWeighted Test F-beta:  0.7439103904489492\nTime to complete: 351.68534231185913 seconds.\n\n\n"
     ]
    }
   ],
   "source": [
    "# Hyper-parameters\n",
    "gbt_max_iterations = 10\n",
    "max_decision_tree_depth = 5\n",
    "\n",
    "crossValidateGBT(gbt_max_iterations, max_decision_tree_depth)"
   ]
  },
  {
   "cell_type": "code",
   "execution_count": 0,
   "metadata": {
    "application/vnd.databricks.v1+cell": {
     "cellMetadata": {
      "byteLimit": 2048000,
      "rowLimit": 10000
     },
     "inputWidgets": {},
     "nuid": "6174c3d2-9010-4c18-b495-534cc8ccd42f",
     "showTitle": false,
     "tableResultSettingsMap": {},
     "title": ""
    }
   },
   "outputs": [
    {
     "output_type": "display_data",
     "data": {
      "application/vnd.jupyter.widget-view+json": {
       "model_id": "6b4506b4515a4f20a74d222f55164b85",
       "version_major": 2,
       "version_minor": 0
      },
      "text/plain": [
       "Downloading artifacts:   0%|          | 0/20 [00:00<?, ?it/s]"
      ]
     },
     "metadata": {},
     "output_type": "display_data"
    },
    {
     "output_type": "display_data",
     "data": {
      "application/vnd.jupyter.widget-view+json": {
       "model_id": "bb40d35168f446c49da882f7a648fd06",
       "version_major": 2,
       "version_minor": 0
      },
      "text/plain": [
       "Uploading artifacts:   0%|          | 0/4 [00:00<?, ?it/s]"
      ]
     },
     "metadata": {},
     "output_type": "display_data"
    },
    {
     "output_type": "display_data",
     "data": {
      "application/vnd.jupyter.widget-view+json": {
       "model_id": "a5e8a440e9e14b318a8fcfd7d3506590",
       "version_major": 2,
       "version_minor": 0
      },
      "text/plain": [
       "Downloading artifacts:   0%|          | 0/20 [00:00<?, ?it/s]"
      ]
     },
     "metadata": {},
     "output_type": "display_data"
    },
    {
     "output_type": "display_data",
     "data": {
      "application/vnd.jupyter.widget-view+json": {
       "model_id": "40cfacfa588340d8a2312d09cdabe431",
       "version_major": 2,
       "version_minor": 0
      },
      "text/plain": [
       "Uploading artifacts:   0%|          | 0/4 [00:00<?, ?it/s]"
      ]
     },
     "metadata": {},
     "output_type": "display_data"
    },
    {
     "output_type": "stream",
     "name": "stdout",
     "output_type": "stream",
     "text": [
      "Evaluation Result - Training Data\nBaseline performance on the validation set\nPrecision:  0.7061556476880716\nRecall:  0.782983066685516\nF-beta Score:  0.7663086920880231\nEvaluation Result - Testing Data\nBaseline performance on the validation set\nPrecision:  0.706994176557116\nRecall:  0.776974657418972\nF-beta Score:  0.7618917742788672\n\n\n"
     ]
    },
    {
     "output_type": "display_data",
     "data": {
      "application/vnd.jupyter.widget-view+json": {
       "model_id": "b01aa8bb5d454b27a2b74f00d969a066",
       "version_major": 2,
       "version_minor": 0
      },
      "text/plain": [
       "Downloading artifacts:   0%|          | 0/20 [00:00<?, ?it/s]"
      ]
     },
     "metadata": {},
     "output_type": "display_data"
    },
    {
     "output_type": "display_data",
     "data": {
      "application/vnd.jupyter.widget-view+json": {
       "model_id": "d828a5e8fc124017877676df4b9ae47f",
       "version_major": 2,
       "version_minor": 0
      },
      "text/plain": [
       "Uploading artifacts:   0%|          | 0/4 [00:00<?, ?it/s]"
      ]
     },
     "metadata": {},
     "output_type": "display_data"
    },
    {
     "output_type": "display_data",
     "data": {
      "application/vnd.jupyter.widget-view+json": {
       "model_id": "312c8d1d6f6e4275a4ebfb87bddbafa5",
       "version_major": 2,
       "version_minor": 0
      },
      "text/plain": [
       "Downloading artifacts:   0%|          | 0/20 [00:00<?, ?it/s]"
      ]
     },
     "metadata": {},
     "output_type": "display_data"
    },
    {
     "output_type": "display_data",
     "data": {
      "application/vnd.jupyter.widget-view+json": {
       "model_id": "75bc480c8d684c49b981f81f17730e4e",
       "version_major": 2,
       "version_minor": 0
      },
      "text/plain": [
       "Uploading artifacts:   0%|          | 0/4 [00:00<?, ?it/s]"
      ]
     },
     "metadata": {},
     "output_type": "display_data"
    },
    {
     "output_type": "stream",
     "name": "stdout",
     "output_type": "stream",
     "text": [
      "Evaluation Result - Training Data\nBaseline performance on the validation set\nPrecision:  0.7079043646922368\nRecall:  0.799428840740826\nF-beta Score:  0.7792783662627634\nEvaluation Result - Testing Data\nBaseline performance on the validation set\nPrecision:  0.6298551243069218\nRecall:  0.7670385488318602\nF-beta Score:  0.7350208138177701\n\n\n"
     ]
    },
    {
     "output_type": "display_data",
     "data": {
      "application/vnd.jupyter.widget-view+json": {
       "model_id": "3fd7b2579ddc40a584e065a22b71b839",
       "version_major": 2,
       "version_minor": 0
      },
      "text/plain": [
       "Downloading artifacts:   0%|          | 0/20 [00:00<?, ?it/s]"
      ]
     },
     "metadata": {},
     "output_type": "display_data"
    },
    {
     "output_type": "display_data",
     "data": {
      "application/vnd.jupyter.widget-view+json": {
       "model_id": "6eed147061b342a18a749946f5720262",
       "version_major": 2,
       "version_minor": 0
      },
      "text/plain": [
       "Uploading artifacts:   0%|          | 0/4 [00:00<?, ?it/s]"
      ]
     },
     "metadata": {},
     "output_type": "display_data"
    },
    {
     "output_type": "display_data",
     "data": {
      "application/vnd.jupyter.widget-view+json": {
       "model_id": "55455fe136ec4410ac627a855624e7b5",
       "version_major": 2,
       "version_minor": 0
      },
      "text/plain": [
       "Downloading artifacts:   0%|          | 0/20 [00:00<?, ?it/s]"
      ]
     },
     "metadata": {},
     "output_type": "display_data"
    },
    {
     "output_type": "display_data",
     "data": {
      "application/vnd.jupyter.widget-view+json": {
       "model_id": "413e48393309421f929cedc614f33996",
       "version_major": 2,
       "version_minor": 0
      },
      "text/plain": [
       "Uploading artifacts:   0%|          | 0/4 [00:00<?, ?it/s]"
      ]
     },
     "metadata": {},
     "output_type": "display_data"
    },
    {
     "output_type": "stream",
     "name": "stdout",
     "output_type": "stream",
     "text": [
      "Evaluation Result - Training Data\nBaseline performance on the validation set\nPrecision:  0.7122056060294744\nRecall:  0.8060669686978926\nF-beta Score:  0.7853663301963\nEvaluation Result - Testing Data\nBaseline performance on the validation set\nPrecision:  0.6895347615258741\nRecall:  0.7865475244540647\nF-beta Score:  0.7650208966400815\n\n\nOverall Training result:\nWeighted Train Precision:  0.7097052419600225\nWeighted Train Recall:  0.7994587499082972\nWeighted Train F-beta:  0.7797284133945837\nOverall Testing result:\nWeighted Test Precision:  0.6751227533664368\nWeighted Test Recall:  0.7787802583603848\nWeighted Test F-beta:  0.7553950473211453\nTime to complete: 477.05323791503906 seconds.\n\n\n"
     ]
    }
   ],
   "source": [
    "gbt_max_iterations = 10\n",
    "max_decision_tree_depth = 10\n",
    "\n",
    "crossValidateGBT(gbt_max_iterations, max_decision_tree_depth)"
   ]
  },
  {
   "cell_type": "code",
   "execution_count": 0,
   "metadata": {
    "application/vnd.databricks.v1+cell": {
     "cellMetadata": {
      "byteLimit": 2048000,
      "rowLimit": 10000
     },
     "inputWidgets": {},
     "nuid": "c7a56d1a-ba71-45ef-8f0c-e8beeb542e7e",
     "showTitle": false,
     "tableResultSettingsMap": {},
     "title": ""
    }
   },
   "outputs": [
    {
     "output_type": "display_data",
     "data": {
      "application/vnd.jupyter.widget-view+json": {
       "model_id": "a66365636f5a4e89b14604230c7b652c",
       "version_major": 2,
       "version_minor": 0
      },
      "text/plain": [
       "Downloading artifacts:   0%|          | 0/20 [00:00<?, ?it/s]"
      ]
     },
     "metadata": {},
     "output_type": "display_data"
    },
    {
     "output_type": "display_data",
     "data": {
      "application/vnd.jupyter.widget-view+json": {
       "model_id": "71edd2b33a6443d790005f22ed9f073c",
       "version_major": 2,
       "version_minor": 0
      },
      "text/plain": [
       "Uploading artifacts:   0%|          | 0/4 [00:00<?, ?it/s]"
      ]
     },
     "metadata": {},
     "output_type": "display_data"
    },
    {
     "output_type": "display_data",
     "data": {
      "application/vnd.jupyter.widget-view+json": {
       "model_id": "37eab8b35ffa4170ba6a11077090f81d",
       "version_major": 2,
       "version_minor": 0
      },
      "text/plain": [
       "Downloading artifacts:   0%|          | 0/20 [00:00<?, ?it/s]"
      ]
     },
     "metadata": {},
     "output_type": "display_data"
    },
    {
     "output_type": "display_data",
     "data": {
      "application/vnd.jupyter.widget-view+json": {
       "model_id": "a6e3fd61ce6e41cebdb340f7f0cb551f",
       "version_major": 2,
       "version_minor": 0
      },
      "text/plain": [
       "Uploading artifacts:   0%|          | 0/4 [00:00<?, ?it/s]"
      ]
     },
     "metadata": {},
     "output_type": "display_data"
    },
    {
     "output_type": "stream",
     "name": "stdout",
     "output_type": "stream",
     "text": [
      "Evaluation Result - Training Data\nBaseline performance on the validation set\nPrecision:  0.680097172692057\nRecall:  0.7449475276799384\nF-beta Score:  0.7310065682543556\nEvaluation Result - Testing Data\nBaseline performance on the validation set\nPrecision:  0.7039796782387807\nRecall:  0.754860797392221\nF-beta Score:  0.7441045571749026\n\n\n"
     ]
    },
    {
     "output_type": "display_data",
     "data": {
      "application/vnd.jupyter.widget-view+json": {
       "model_id": "3547451940d04e35830397fc1b5858d7",
       "version_major": 2,
       "version_minor": 0
      },
      "text/plain": [
       "Downloading artifacts:   0%|          | 0/20 [00:00<?, ?it/s]"
      ]
     },
     "metadata": {},
     "output_type": "display_data"
    },
    {
     "output_type": "display_data",
     "data": {
      "application/vnd.jupyter.widget-view+json": {
       "model_id": "926bd31f08424dffacda9473aff2b448",
       "version_major": 2,
       "version_minor": 0
      },
      "text/plain": [
       "Uploading artifacts:   0%|          | 0/4 [00:00<?, ?it/s]"
      ]
     },
     "metadata": {},
     "output_type": "display_data"
    },
    {
     "output_type": "display_data",
     "data": {
      "application/vnd.jupyter.widget-view+json": {
       "model_id": "55db3399ade24c3f8ed34f986391321c",
       "version_major": 2,
       "version_minor": 0
      },
      "text/plain": [
       "Downloading artifacts:   0%|          | 0/20 [00:00<?, ?it/s]"
      ]
     },
     "metadata": {},
     "output_type": "display_data"
    },
    {
     "output_type": "display_data",
     "data": {
      "application/vnd.jupyter.widget-view+json": {
       "model_id": "99938dba7d894bc2a2a2693e5381e682",
       "version_major": 2,
       "version_minor": 0
      },
      "text/plain": [
       "Uploading artifacts:   0%|          | 0/4 [00:00<?, ?it/s]"
      ]
     },
     "metadata": {},
     "output_type": "display_data"
    },
    {
     "output_type": "stream",
     "name": "stdout",
     "output_type": "stream",
     "text": [
      "Evaluation Result - Training Data\nBaseline performance on the validation set\nPrecision:  0.6778271080431317\nRecall:  0.7803458375318075\nF-beta Score:  0.7574340433946658\nEvaluation Result - Testing Data\nBaseline performance on the validation set\nPrecision:  0.6261369127135265\nRecall:  0.7677311993308735\nF-beta Score:  0.7345108179208387\n\n\n"
     ]
    },
    {
     "output_type": "display_data",
     "data": {
      "application/vnd.jupyter.widget-view+json": {
       "model_id": "0ff2bcef679a4709ab0a8f77ca2e56bb",
       "version_major": 2,
       "version_minor": 0
      },
      "text/plain": [
       "Downloading artifacts:   0%|          | 0/20 [00:00<?, ?it/s]"
      ]
     },
     "metadata": {},
     "output_type": "display_data"
    },
    {
     "output_type": "display_data",
     "data": {
      "application/vnd.jupyter.widget-view+json": {
       "model_id": "8cdda509d7f945d182be61faf6cf3570",
       "version_major": 2,
       "version_minor": 0
      },
      "text/plain": [
       "Uploading artifacts:   0%|          | 0/4 [00:00<?, ?it/s]"
      ]
     },
     "metadata": {},
     "output_type": "display_data"
    },
    {
     "output_type": "display_data",
     "data": {
      "application/vnd.jupyter.widget-view+json": {
       "model_id": "2df53e3f9b074b8ebfc8d8ea6781e833",
       "version_major": 2,
       "version_minor": 0
      },
      "text/plain": [
       "Downloading artifacts:   0%|          | 0/20 [00:00<?, ?it/s]"
      ]
     },
     "metadata": {},
     "output_type": "display_data"
    },
    {
     "output_type": "display_data",
     "data": {
      "application/vnd.jupyter.widget-view+json": {
       "model_id": "c4eef9a51e3c49aaa2e14b14d98371ed",
       "version_major": 2,
       "version_minor": 0
      },
      "text/plain": [
       "Uploading artifacts:   0%|          | 0/4 [00:00<?, ?it/s]"
      ]
     },
     "metadata": {},
     "output_type": "display_data"
    },
    {
     "output_type": "stream",
     "name": "stdout",
     "output_type": "stream",
     "text": [
      "Evaluation Result - Training Data\nBaseline performance on the validation set\nPrecision:  0.6891186841862008\nRecall:  0.7663240519255544\nF-beta Score:  0.7495293571996728\nEvaluation Result - Testing Data\nBaseline performance on the validation set\nPrecision:  0.6854733119600597\nRecall:  0.7674363646327096\nF-beta Score:  0.7495123067289631\n\n\nOverall Training result:\nWeighted Train Precision:  0.6839269090444513\nWeighted Train Recall:  0.7662552827583071\nWeighted Train F-beta:  0.7481962052691074\nOverall Testing result:\nWeighted Test Precision:  0.6713736654418438\nWeighted Test Recall:  0.7650097015940611\nWeighted Test F-beta:  0.7439303101757136\nTime to complete: 352.7487714290619 seconds.\n\n\n"
     ]
    }
   ],
   "source": [
    "gbt_max_iterations = 5\n",
    "max_decision_tree_depth = 5\n",
    "\n",
    "crossValidateGBT(gbt_max_iterations, max_decision_tree_depth)"
   ]
  },
  {
   "cell_type": "code",
   "execution_count": 0,
   "metadata": {
    "application/vnd.databricks.v1+cell": {
     "cellMetadata": {
      "byteLimit": 2048000,
      "rowLimit": 10000
     },
     "inputWidgets": {},
     "nuid": "98d81ad1-1583-4339-89fe-0f778759a366",
     "showTitle": false,
     "tableResultSettingsMap": {},
     "title": ""
    }
   },
   "outputs": [
    {
     "output_type": "display_data",
     "data": {
      "application/vnd.jupyter.widget-view+json": {
       "model_id": "c313c9c2c2884f94b960303d2720eb95",
       "version_major": 2,
       "version_minor": 0
      },
      "text/plain": [
       "Downloading artifacts:   0%|          | 0/20 [00:00<?, ?it/s]"
      ]
     },
     "metadata": {},
     "output_type": "display_data"
    },
    {
     "output_type": "display_data",
     "data": {
      "application/vnd.jupyter.widget-view+json": {
       "model_id": "f32352c4c3a64008b796e68fc8ce422f",
       "version_major": 2,
       "version_minor": 0
      },
      "text/plain": [
       "Uploading artifacts:   0%|          | 0/4 [00:00<?, ?it/s]"
      ]
     },
     "metadata": {},
     "output_type": "display_data"
    },
    {
     "output_type": "display_data",
     "data": {
      "application/vnd.jupyter.widget-view+json": {
       "model_id": "d82361ee25304396a024d5adaa265f54",
       "version_major": 2,
       "version_minor": 0
      },
      "text/plain": [
       "Downloading artifacts:   0%|          | 0/20 [00:00<?, ?it/s]"
      ]
     },
     "metadata": {},
     "output_type": "display_data"
    },
    {
     "output_type": "display_data",
     "data": {
      "application/vnd.jupyter.widget-view+json": {
       "model_id": "831cca6627ac49d7b68761a34d344c75",
       "version_major": 2,
       "version_minor": 0
      },
      "text/plain": [
       "Uploading artifacts:   0%|          | 0/4 [00:00<?, ?it/s]"
      ]
     },
     "metadata": {},
     "output_type": "display_data"
    },
    {
     "output_type": "stream",
     "name": "stdout",
     "output_type": "stream",
     "text": [
      "Evaluation Result - Training Data\nBaseline performance on the validation set\nPrecision:  0.6978459872264244\nRecall:  0.7726610539782611\nF-beta Score:  0.7564416492616676\nEvaluation Result - Testing Data\nBaseline performance on the validation set\nPrecision:  0.706881154761035\nRecall:  0.7712745697253152\nF-beta Score:  0.757474132186398\n\n\n"
     ]
    },
    {
     "output_type": "display_data",
     "data": {
      "application/vnd.jupyter.widget-view+json": {
       "model_id": "62a214d4c66a470aa1ecb86f325eeeb8",
       "version_major": 2,
       "version_minor": 0
      },
      "text/plain": [
       "Downloading artifacts:   0%|          | 0/20 [00:00<?, ?it/s]"
      ]
     },
     "metadata": {},
     "output_type": "display_data"
    },
    {
     "output_type": "display_data",
     "data": {
      "application/vnd.jupyter.widget-view+json": {
       "model_id": "56583810641f41be8389b507c7de694b",
       "version_major": 2,
       "version_minor": 0
      },
      "text/plain": [
       "Uploading artifacts:   0%|          | 0/4 [00:00<?, ?it/s]"
      ]
     },
     "metadata": {},
     "output_type": "display_data"
    },
    {
     "output_type": "display_data",
     "data": {
      "application/vnd.jupyter.widget-view+json": {
       "model_id": "5d3b8ed3c349488e8b603b49154bca88",
       "version_major": 2,
       "version_minor": 0
      },
      "text/plain": [
       "Downloading artifacts:   0%|          | 0/20 [00:00<?, ?it/s]"
      ]
     },
     "metadata": {},
     "output_type": "display_data"
    },
    {
     "output_type": "display_data",
     "data": {
      "application/vnd.jupyter.widget-view+json": {
       "model_id": "7888af49cb5446a688d0fdf07a08147c",
       "version_major": 2,
       "version_minor": 0
      },
      "text/plain": [
       "Uploading artifacts:   0%|          | 0/4 [00:00<?, ?it/s]"
      ]
     },
     "metadata": {},
     "output_type": "display_data"
    },
    {
     "output_type": "stream",
     "name": "stdout",
     "output_type": "stream",
     "text": [
      "Evaluation Result - Training Data\nBaseline performance on the validation set\nPrecision:  0.6978465986645193\nRecall:  0.7960206970184246\nF-beta Score:  0.7742365470171182\nEvaluation Result - Testing Data\nBaseline performance on the validation set\nPrecision:  0.6282552315903034\nRecall:  0.7661411525878555\nF-beta Score:  0.7339255816903784\n\n\n"
     ]
    },
    {
     "output_type": "display_data",
     "data": {
      "application/vnd.jupyter.widget-view+json": {
       "model_id": "b1c94505e9274eb49ceb03b3d760af1c",
       "version_major": 2,
       "version_minor": 0
      },
      "text/plain": [
       "Downloading artifacts:   0%|          | 0/20 [00:00<?, ?it/s]"
      ]
     },
     "metadata": {},
     "output_type": "display_data"
    },
    {
     "output_type": "display_data",
     "data": {
      "application/vnd.jupyter.widget-view+json": {
       "model_id": "599b11ff51414fa7b1f6ec9ea88a5640",
       "version_major": 2,
       "version_minor": 0
      },
      "text/plain": [
       "Uploading artifacts:   0%|          | 0/4 [00:00<?, ?it/s]"
      ]
     },
     "metadata": {},
     "output_type": "display_data"
    },
    {
     "output_type": "display_data",
     "data": {
      "application/vnd.jupyter.widget-view+json": {
       "model_id": "b5c4027ff2bf4259907dd96e57416bfe",
       "version_major": 2,
       "version_minor": 0
      },
      "text/plain": [
       "Downloading artifacts:   0%|          | 0/20 [00:00<?, ?it/s]"
      ]
     },
     "metadata": {},
     "output_type": "display_data"
    },
    {
     "output_type": "display_data",
     "data": {
      "application/vnd.jupyter.widget-view+json": {
       "model_id": "ba366a06181c473b9be2a32bbe30aca8",
       "version_major": 2,
       "version_minor": 0
      },
      "text/plain": [
       "Uploading artifacts:   0%|          | 0/4 [00:00<?, ?it/s]"
      ]
     },
     "metadata": {},
     "output_type": "display_data"
    },
    {
     "output_type": "stream",
     "name": "stdout",
     "output_type": "stream",
     "text": [
      "Evaluation Result - Training Data\nBaseline performance on the validation set\nPrecision:  0.7031351651861227\nRecall:  0.8013629320564551\nF-beta Score:  0.7795814735180001\nEvaluation Result - Testing Data\nBaseline performance on the validation set\nPrecision:  0.6877960221808802\nRecall:  0.7863214784776831\nF-beta Score:  0.7644211080072317\n\n\nOverall Training result:\nWeighted Train Precision:  0.7004907596377021\nWeighted Train Recall:  0.7940198859294072\nWeighted Train F-beta:  0.7733500307164691\nOverall Testing result:\nWeighted Test Precision:  0.6737508115197381\nWeighted Test Recall:  0.7772579989602613\nWeighted Test F-beta:  0.753883054948009\nTime to complete: 399.21109986305237 seconds.\n\n\n"
     ]
    }
   ],
   "source": [
    "gbt_max_iterations = 5\n",
    "max_decision_tree_depth = 10\n",
    "\n",
    "crossValidateGBT(gbt_max_iterations, max_decision_tree_depth)"
   ]
  },
  {
   "cell_type": "markdown",
   "metadata": {
    "application/vnd.databricks.v1+cell": {
     "cellMetadata": {
      "byteLimit": 2048000,
      "rowLimit": 10000
     },
     "inputWidgets": {},
     "nuid": "7c63d8f1-978d-4633-9c30-1163844d8e6d",
     "showTitle": false,
     "tableResultSettingsMap": {},
     "title": ""
    }
   },
   "source": [
    "Based on the cross validation results above, the best hyperparameters are: max iterations = 10 and max decision tree depth = 10"
   ]
  },
  {
   "cell_type": "markdown",
   "metadata": {
    "application/vnd.databricks.v1+cell": {
     "cellMetadata": {
      "byteLimit": 2048000,
      "rowLimit": 10000
     },
     "inputWidgets": {},
     "nuid": "55175c47-a8fe-41e9-b5a5-2af0b066da51",
     "showTitle": false,
     "tableResultSettingsMap": {},
     "title": ""
    }
   },
   "source": [
    "### 4 year Model Training"
   ]
  },
  {
   "cell_type": "code",
   "execution_count": 0,
   "metadata": {
    "application/vnd.databricks.v1+cell": {
     "cellMetadata": {
      "byteLimit": 2048000,
      "rowLimit": 10000
     },
     "inputWidgets": {},
     "nuid": "75cf034e-70bc-42c6-aba0-cc8558daf7c1",
     "showTitle": false,
     "tableResultSettingsMap": {},
     "title": ""
    }
   },
   "outputs": [],
   "source": [
    "display(dbutils.fs.ls(f\"{team_blob_url}/PRD/xval_corrected/\"))"
   ]
  },
  {
   "cell_type": "code",
   "execution_count": 0,
   "metadata": {
    "application/vnd.databricks.v1+cell": {
     "cellMetadata": {
      "byteLimit": 2048000,
      "rowLimit": 10000
     },
     "inputWidgets": {},
     "nuid": "d7bbe798-f31c-4388-82ea-118ab1c7e0d8",
     "showTitle": false,
     "tableResultSettingsMap": {},
     "title": ""
    }
   },
   "outputs": [],
   "source": [
    "# Best HyperParameters\n",
    "gbt_max_iterations = 10\n",
    "max_decision_tree_depth = 10"
   ]
  },
  {
   "cell_type": "markdown",
   "metadata": {
    "application/vnd.databricks.v1+cell": {
     "cellMetadata": {
      "byteLimit": 2048000,
      "rowLimit": 10000
     },
     "inputWidgets": {},
     "nuid": "597e1c9d-7c3a-43cf-b894-a1bea47b33d9",
     "showTitle": false,
     "tableResultSettingsMap": {},
     "title": ""
    }
   },
   "source": [
    "### Final 2019 Testing"
   ]
  },
  {
   "cell_type": "code",
   "execution_count": 0,
   "metadata": {
    "application/vnd.databricks.v1+cell": {
     "cellMetadata": {
      "byteLimit": 2048000,
      "rowLimit": 10000
     },
     "inputWidgets": {},
     "nuid": "a3d94a3b-3303-4c53-bca4-8af0ab4a3259",
     "showTitle": false,
     "tableResultSettingsMap": {},
     "title": ""
    }
   },
   "outputs": [
    {
     "output_type": "stream",
     "name": "stdout",
     "output_type": "stream",
     "text": [
      "(8068150, 148)\n(2487029, 148)\n"
     ]
    }
   ],
   "source": [
    "# final testing data\n",
    "trainingData = spark.read.parquet(f'{team_blob_url}/PRD/xval_corrected/df_xval1-3_train_processed/')\n",
    "testingData = spark.read.parquet(f'{team_blob_url}/PRD/xval_corrected/df_final_val_processed/')\n",
    "\n",
    "print((trainingData.count(), len(trainingData.columns)))\n",
    "print((testingData.count(), len(testingData.columns)))\n"
   ]
  },
  {
   "cell_type": "code",
   "execution_count": 0,
   "metadata": {
    "application/vnd.databricks.v1+cell": {
     "cellMetadata": {
      "byteLimit": 2048000,
      "rowLimit": 10000
     },
     "inputWidgets": {},
     "nuid": "bac7b1ba-741e-46ed-9244-a50c19c3ec17",
     "showTitle": false,
     "tableResultSettingsMap": {},
     "title": ""
    }
   },
   "outputs": [],
   "source": [
    "def testGBT(maxIter, maxTreeDepth):\n",
    "\n",
    "    # define pipeline - a sequence of transformations to be applied to the data\n",
    "\n",
    "    # StringIndexer that will convert categorical string labels into numerical indices\n",
    "    gb_label_test = StringIndexer(inputCol=label, outputCol='label', handleInvalid=\"keep\")\n",
    "    # VectorAssembler that will combine multiple feature columns into a single vector column\n",
    "    gb_features_test = VectorAssembler(inputCols=features_columns, outputCol=\"features\")\n",
    "\n",
    "    # Chain indexers and GBT in a Pipeline\n",
    "\n",
    "    # specifies a sequence of transformations to be applied to the data\n",
    "    pipeline_test = Pipeline(stages=[gb_label_test, gb_features_test])\n",
    "\n",
    "    # Train a GBT model.\n",
    "    start = time.time()\n",
    "    \n",
    "\n",
    "\n",
    "    gbt_test = GBTClassifier(labelCol=\"label\", featuresCol=\"features\", maxIter=maxIter, maxBins=360, maxDepth=maxTreeDepth)\n",
    "\n",
    "    \n",
    "\n",
    "    # processes the data through each stage of the pipeline, fitting the indexer to learn how to index the categorical features and preparing the assembler to combine features\n",
    "    model_test = pipeline_test.fit(trainingData)\n",
    "\n",
    "    # applies the fitted pipeline model to the input data to transform it according to the defined stages.\n",
    "    transformed_training_data = model_test.transform(trainingData)\n",
    "    transformed_testing_data = model_test.transform(testingData)\n",
    "\n",
    "        \n",
    "    gbt_model_test = gbt_test.fit(transformed_training_data)\n",
    "\n",
    "    # Training dataset prediction evaluation results\n",
    "    predictions_test = gbt_model_test.transform(transformed_training_data)\n",
    "    result = predictions_test.select(\"label\",\"prediction\")\n",
    "    print(\"Evaluation Result - Training Data\")\n",
    "    precision, recall, fbeta = evaluation_metrics(result)\n",
    "    \n",
    "    \n",
    "\n",
    "    # Test the GBT model\n",
    "    predictions = gbt_model_test.transform(transformed_testing_data)\n",
    "    result = predictions.select(\"label\",\"prediction\")\n",
    "    print(\"Evaluation Result - Testing Data\")\n",
    "    precision, recall, fbeta =evaluation_metrics(result)\n",
    "\n",
    "    print(f'Time to complete: {time.time() - start} seconds.')\n",
    "\n",
    "    feature_importances = gbt_model_test.featureImportances\n",
    "\n",
    "    for feature, importance in zip(features_columns, feature_importances):\n",
    "        print(feature, \"{:.2f}\".format(importance))\n",
    "\n",
    "    print(\"\\n\")\n"
   ]
  },
  {
   "cell_type": "code",
   "execution_count": 0,
   "metadata": {
    "application/vnd.databricks.v1+cell": {
     "cellMetadata": {
      "byteLimit": 2048000,
      "rowLimit": 10000
     },
     "inputWidgets": {},
     "nuid": "b7989358-bc5c-4faf-9693-fc59b8cd138a",
     "showTitle": false,
     "tableResultSettingsMap": {},
     "title": ""
    }
   },
   "outputs": [
    {
     "output_type": "display_data",
     "data": {
      "application/vnd.jupyter.widget-view+json": {
       "model_id": "076b87fdd18a45888dfaa124065831bc",
       "version_major": 2,
       "version_minor": 0
      },
      "text/plain": [
       "Downloading artifacts:   0%|          | 0/20 [00:00<?, ?it/s]"
      ]
     },
     "metadata": {},
     "output_type": "display_data"
    },
    {
     "output_type": "display_data",
     "data": {
      "application/vnd.jupyter.widget-view+json": {
       "model_id": "cd24a9cf296b403489377a32a9167a99",
       "version_major": 2,
       "version_minor": 0
      },
      "text/plain": [
       "Uploading artifacts:   0%|          | 0/4 [00:00<?, ?it/s]"
      ]
     },
     "metadata": {},
     "output_type": "display_data"
    },
    {
     "output_type": "display_data",
     "data": {
      "application/vnd.jupyter.widget-view+json": {
       "model_id": "90ab96c9e4654edcb826aa4ce72a9a21",
       "version_major": 2,
       "version_minor": 0
      },
      "text/plain": [
       "Downloading artifacts:   0%|          | 0/20 [00:00<?, ?it/s]"
      ]
     },
     "metadata": {},
     "output_type": "display_data"
    },
    {
     "output_type": "display_data",
     "data": {
      "application/vnd.jupyter.widget-view+json": {
       "model_id": "6ca49c9e96c349628006565f8acdd82c",
       "version_major": 2,
       "version_minor": 0
      },
      "text/plain": [
       "Uploading artifacts:   0%|          | 0/4 [00:00<?, ?it/s]"
      ]
     },
     "metadata": {},
     "output_type": "display_data"
    },
    {
     "output_type": "stream",
     "name": "stdout",
     "output_type": "stream",
     "text": [
      "Evaluation Result - Training Data\nBaseline performance on the validation set\nPrecision:  0.6981400469792437\nRecall:  0.7919810747331582\nF-beta Score:  0.7421057210241908\nEvaluation Result - Testing Data\nBaseline performance on the validation set\nPrecision:  0.6784064871192708\nRecall:  0.8059523789333003\nF-beta Score:  0.7366996414170306\nTime to complete: 452.068806886673 seconds.\ndistance 0.02\nquarterIndex 0.01\ncrsDepTimeSine 0.08\nmonthSine 0.02\ndayOfWeekSine 0.01\ndayOfMonthIndex 0.04\noriginIndex 0.17\noriginTypeIndex 0.00\noriginPageRank 0.00\ndestPageRank 0.05\nopCarrierFlNumBinIndex1 0.00\nhourlyAltimeterSetting 0.00\nhourlyDewPointTemperature 0.01\nhourlyDryBulbTemperature 0.02\nhourlyPrecipitation 0.02\nhourlyPressureChange 0.00\nhourlyPressureTendency 0.00\nhourlyRelativeHumidity 0.01\nhourlySeaLevelPressure 0.01\nhourlyStationPressure 0.00\nhourlyVisibility 0.01\nhourlyWetBulbTemperature 0.01\nhourlyWindDirection 0.00\nhourlyWindGustSpeed 0.01\nhourlyWindSpeed 0.00\ndaysToNearestHoliday 0.00\ntimeBtwFlightsPlanned 0.13\ndepDel15PrevFIndex 0.16\ndepDelayGroupPrevFIndex 0.09\ndepTimeBlkPrevFIndex 0.01\narrDel15PrevFIndex 0.00\narrDelayGroupPrevFIndex 0.01\narrTimeBlkPrevFIndex 0.01\noriginTypePrevFIndex 0.00\ndistancePrevF 0.09\ndaysToNearestHoliday 0.00\n\n\n"
     ]
    }
   ],
   "source": [
    "testGBT(maxIter=gbt_max_iterations, maxTreeDepth=max_decision_tree_depth)\n"
   ]
  }
 ],
 "metadata": {
  "application/vnd.databricks.v1+notebook": {
   "computePreferences": null,
   "dashboards": [],
   "environmentMetadata": {
    "base_environment": "",
    "client": "1"
   },
   "language": "python",
   "notebookMetadata": {
    "pythonIndentUnit": 4
   },
   "notebookName": "Gradient Boost",
   "widgets": {}
  },
  "language_info": {
   "name": "python"
  }
 },
 "nbformat": 4,
 "nbformat_minor": 0
}